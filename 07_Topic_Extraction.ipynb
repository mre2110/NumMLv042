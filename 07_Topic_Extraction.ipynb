{
 "cells": [
  {
   "cell_type": "markdown",
   "metadata": {},
   "source": [
    "# Topic Extraction, NMF"
   ]
  },
  {
   "cell_type": "markdown",
   "metadata": {},
   "source": [
    "## Überblick"
   ]
  },
  {
   "cell_type": "markdown",
   "metadata": {},
   "source": [
    "Wir betrachten Low-Rank-Matrix-Approximationen. Mit deren Hilfe versuchen wir aus einer Menge von Texten \"Themen\" zu extrahieren (\"Topic Extraction\")."
   ]
  },
  {
   "cell_type": "markdown",
   "metadata": {},
   "source": [
    "## Grundlagen"
   ]
  },
  {
   "cell_type": "markdown",
   "metadata": {},
   "source": [
    "Wir betrachten eine Menge von Texten und stellen diese zunächst in Form einer Matrix $V$ dar. Für jeden Text legen wir eine Spalte an, für jedes Wort eine Zeile und $v_{ij}$\n",
    "enthält dann die (skalierte) Häufigkeit, wie oft das $i$-te Wort im $j$-ten Text auftaucht.\n",
    "\n",
    "Um wiederkehrende Strukturen (Cluster) in den Texten zu identifizieren kann man nun versuchen, die Matrix $V \\in \\mathbb{R}^{m \\times n}$ zu zerlegen in\n",
    "\\begin{equation*} \n",
    "V = WH,\n",
    "\\quad\n",
    "W \\in \\mathbb{R}^{m \\times k},\n",
    "\\quad\n",
    "H \\in \\mathbb{R}^{k \\times n},\n",
    "\\quad\n",
    "k \\le \\min(m,n).\n",
    "\\end{equation*}\n",
    "Wenn $k\\ll \\min(m,n)$, dann können wir die Texte in $V$ mit Hilfe\n",
    "der \"Basistexte\" in den Spalten von $W$ erzeugen. Die Spalten von $W$\n",
    "stellen dann bestimmte \"Topics\" dar, die Spalten von $H$ geben an, wie\n",
    "diese Topics linear kombiniert werden, um den jeweiligen Ausgangstext zu erzeugen."
   ]
  },
  {
   "cell_type": "markdown",
   "metadata": {},
   "source": [
    "In den seltensten Fällen wird eine exakte Zerlegung $V=WH$ möglich sein. Deshalb gibt man sich mit einer approximativen Zerlegung zufrieden, d.h. man sucht\n",
    "\\begin{equation*} \n",
    "\\text{argmin}_{W,H}\\|V-WH\\|, \n",
    "\\end{equation*}\n",
    "\\begin{equation*} \n",
    "W \\in \\mathbb{R}^{m \\times k},\n",
    "\\quad\n",
    "H \\in \\mathbb{R}^{k \\times n},\n",
    "\\quad\n",
    "k \\le \\min(m,n).\n",
    "\\end{equation*}"
   ]
  },
  {
   "cell_type": "markdown",
   "metadata": {},
   "source": [
    "Je nachdem welche Matrixnorm dabei verwendet wird, erhält man unterschiedliche Ergebnisse.\n",
    "Für $\\|\\cdot\\|_2$ und $\\|\\cdot\\|_\\text{Fro}$ zeigt man, dass die Lösung dieses Problem durch TSVD gegeben ist\n",
    "(Satz von Eckart-Young-Mirsky), d.h. ist\n",
    "\\begin{equation*} \n",
    "V = \\tilde{U}\\tilde{\\Sigma} \\tilde{V}^T\n",
    "\\end{equation*}\n",
    "eine SVD von $V$ und\n",
    "\\begin{equation*} \n",
    "\\tilde{U}_k\\tilde{\\Sigma}_k \\tilde{V}_k^T\n",
    "\\end{equation*}\n",
    "eine TSVD,\n",
    "dann löst\n",
    "\\begin{equation*} \n",
    "W = \\tilde{U}_k\\tilde{\\Sigma}_k,\n",
    "\\quad\n",
    "H = \\tilde{V}_k^T\n",
    "\\end{equation*}\n",
    "bzw.\n",
    "\\begin{equation*} \n",
    "W = \\tilde{U}_k,\n",
    "\\quad\n",
    "H = \\tilde{\\Sigma}_k \\tilde{V}_k^T\n",
    "\\end{equation*}\n",
    "das Matrix-Approximationsproblem."
   ]
  },
  {
   "cell_type": "markdown",
   "metadata": {},
   "source": [
    "Dieser Zugang hat einige Nachteile:\n",
    "\n",
    "- die Lösung ist offensichtlich nicht eindeutig\n",
    "\n",
    "- die Matrix $V$ ist in der Regel sparse, die TSVD nicht mehr\n",
    "\n",
    "- für die Matrix $V$ gilt $v_{ij}\\ge 0$, für $W,H$ aus TSVD gilt dies in der Regel\n",
    "  nicht mehr, was die Interpretation der Ergebnisse erschwert"
   ]
  },
  {
   "cell_type": "markdown",
   "metadata": {},
   "source": [
    "## NMF"
   ]
  },
  {
   "cell_type": "markdown",
   "metadata": {},
   "source": [
    "Aus den oben genannten Gründen sucht man deshalb\n",
    "für $k \\le \\min(m,n)$\n",
    "eine Rang-$k$-Zerlegung von $V$ in nichtnegative Faktoren $W,H$,\n",
    "die sogenannte *Nonnegative-Matrix-Factorisation* (NMF),\n",
    "d.h.\n",
    "\\begin{equation*} \n",
    "\\text{argmin}_{W,H}\\|V-WH\\|, \n",
    "\\end{equation*}\n",
    "\\begin{equation*} \n",
    "W \\in \\mathbb{R}^{m \\times k},\n",
    "\\quad\n",
    "H \\in \\mathbb{R}^{k \\times n},\n",
    "\\quad\n",
    "w_{ij}, h_{ij}\\ge 0,\n",
    "\\end{equation*}\n",
    "Dieses Problem ist nach wie vor nicht eindeutig lösbar\n",
    "($WH = WA^{-1}AH$), außerdem gibt es dafür keinen Zugang\n",
    "aus der linearen Algebra, der analog zur TSVD für bestimmte Normen\n",
    "eine Lösung liefert. Allerdings kann man dafür sorgen, dass\n",
    "man die Sparsity der Matrizen beibehält.\n",
    "\n",
    "Approximationen werden iterativ berechnet. \n",
    "An dem folgenden Beispiel werden wir unterschiedliche Zugänge ausprobieren."
   ]
  },
  {
   "cell_type": "markdown",
   "metadata": {},
   "source": [
    "## Beispiel"
   ]
  },
  {
   "cell_type": "markdown",
   "metadata": {},
   "source": [
    "`sklearn` enthält den Datensatz `fetch_20newsgroups`, eine Sammlung von Newsgroup-Artikeln\n",
    "zu verschiedenen Themenbereichen.\n",
    "Wir laden Artikel aus mehreren Teilbereichen und versuchen daraus (ohne weitere\n",
    "Zusatzinformation, also \"unsupervised\") \"Themen\" zu extrahieren, d.h.\n",
    "Gruppen von Wörter, die in der Regel zusammen in einem Text auftauchen.\n",
    "\n",
    "Wir laden zunächst die Daten. "
   ]
  },
  {
   "cell_type": "code",
   "execution_count": 1,
   "metadata": {
    "execution": {
     "iopub.execute_input": "2021-09-24T09:32:43.457716Z",
     "iopub.status.busy": "2021-09-24T09:32:43.456742Z",
     "iopub.status.idle": "2021-09-24T09:32:44.727672Z",
     "shell.execute_reply": "2021-09-24T09:32:44.727324Z"
    },
    "tags": [
     "hide-input"
    ]
   },
   "outputs": [
    {
     "name": "stdout",
     "output_type": "stream",
     "text": [
      "\n",
      "A(>  Can anyone tell me if a bloodcount of 40 when diagnosed as hypoglycemic is\n",
      "A(>  dangerous, i.e. indicates a possible pancreatic problem?  One Dr. says no, the\n",
      "A(>  other (not his specialty) says the first is negligent and that another blood\n",
      "A(>  test should be done.  Also, what is a good diet (what has worked) for a hypo-\n",
      "A(>  glycemic?  TIA.\n",
      "A(>  \n",
      "A(>  \n",
      "A(>  Anthony Anello\n",
      "A(>  Fermilab\n",
      "A(>  Batavia, Illinois\n",
      "\n",
      "   Once you have your hypoglycemia CONFIRMED through the proper \n",
      "   channels, you might consider ther following:\n",
      "\n",
      "   1) Chelated Manganese   25-50mg/day.\n",
      "   2) Chelated Chromium    400-600mcg/day.\n",
      "   3) Increase protein through foods or supplements.\n",
      "   4) Avoid supplements/foods high in Potassium, Calcium, Zinc.\n",
      "   5) Avoid Vit C supplements in excess of 100mg.\n",
      "   6) Avoid honey and foods high in simple sugars.\n",
      "   7) Enjoy breads, cereals, grains...\n",
      "\n",
      "   Discuss the above with your health practitioner for compatibility\n",
      "   with your body chemistry and safety.\n",
      "\n",
      "   --Ron--\n",
      "\n",
      "***************\n",
      "\n",
      "\n",
      "\n",
      "***************\n",
      "I was wondering if anyone out in net-land have any opinions on MGs\n",
      "in general.  I know they are not the most reliable cars around but\n",
      "summer is approaching and they are convertibles `8^).  I'm interested\n",
      "in a 75 MG but any opinions on MGs would be appreciated.  Thanks.\n",
      "\n",
      "***************\n",
      "-*-----\n",
      "\n",
      "These effects are a very real concern in conducting studies of new\n",
      "treatments.  Researchers try to limit this kind of effect by \n",
      "performing studies that are \"blind\" in various ways.  Some of these\n",
      "are:\n",
      "\n",
      "  o  The subjects of the study do not know whether they receive a \n",
      "     placebo or the test treatment, i.e., whether they are in the\n",
      "     control group or the test group.\n",
      "\n",
      "  o  Those administering the treatment do not know which subjects \n",
      "     receive a placebo or the test treatment.\n",
      "\n",
      "  o  Those evaluating individual results do not know which subjects\n",
      "     receive a placebo or the test treatment.\n",
      "\n",
      "Obviously, at the point at which the data is analyzed, one has to \n",
      "differentiate the test group from the control group.  But the analysis\n",
      "is quasi-public: the researcher describes it and presents the data on\n",
      "which it is based so that others can verify it.  \n",
      "\n",
      "It is worth noting that in biological studies where the subjects are\n",
      "animals, such as mice, there were many cases of skewed results because\n",
      "those who performed the study did not \"blind\" themselves.  It is not\n",
      "considered so important to make mice more ignorant than they already\n",
      "are, though it is important that in all respects except the one tested,\n",
      "the control and test groups are treated alike.\n",
      "\n",
      "***************\n",
      "Ah, yes, the big chunks down in the sump. The solution is simple. Sort of\n",
      "like the advice my Aunt always gave -- never scratch your ear with anything\n",
      "except your elbow.\n"
     ]
    }
   ],
   "source": [
    "import numpy as np\n",
    "import scipy as sp\n",
    "import matplotlib.pyplot as plt\n",
    "\n",
    "seed = 17\n",
    "\n",
    "from IPython.display import Math\n",
    "%precision 5\n",
    "np.set_printoptions(precision=5)\n",
    "\n",
    "\n",
    "from sklearn.datasets import fetch_20newsgroups\n",
    "\n",
    "categories = ['rec.autos', 'sci.space','sci.med']\n",
    "remove = ('headers', 'footers', 'quotes')\n",
    "\n",
    "train = fetch_20newsgroups(subset='train', remove=remove, categories=categories)\n",
    "#test  = fetch_20newsgroups(subset='test' , remove=remove, categories=categories)\n",
    "\n",
    "print(\"\\n\\n***************\\n\".join(train.data[:5]))"
   ]
  },
  {
   "cell_type": "markdown",
   "metadata": {},
   "source": [
    "Die zugehörigen Themengruppen sind"
   ]
  },
  {
   "cell_type": "code",
   "execution_count": 2,
   "metadata": {
    "execution": {
     "iopub.execute_input": "2021-09-24T09:32:44.731158Z",
     "iopub.status.busy": "2021-09-24T09:32:44.730872Z",
     "iopub.status.idle": "2021-09-24T09:32:44.732851Z",
     "shell.execute_reply": "2021-09-24T09:32:44.732561Z"
    },
    "tags": [
     "hide-input"
    ]
   },
   "outputs": [
    {
     "data": {
      "text/plain": [
       "array(['sci.med', 'rec.autos', 'rec.autos', 'sci.med', 'rec.autos'],\n",
       "      dtype='<U9')"
      ]
     },
     "execution_count": 2,
     "metadata": {},
     "output_type": "execute_result"
    }
   ],
   "source": [
    "np.array(train.target_names)[train.target[:5]]"
   ]
  },
  {
   "cell_type": "markdown",
   "metadata": {},
   "source": [
    "Jetzt erstellen wir eine Term-Document-Matrix $V$. $v_{ij}$ ist eine (skalierte Variante)\n",
    "der relativen Häufigkeit des Wortes $i$ im Dokument $j$"
   ]
  },
  {
   "cell_type": "code",
   "execution_count": 4,
   "metadata": {
    "execution": {
     "iopub.execute_input": "2021-09-24T09:32:44.765759Z",
     "iopub.status.busy": "2021-09-24T09:32:44.765450Z",
     "iopub.status.idle": "2021-09-24T09:32:45.057029Z",
     "shell.execute_reply": "2021-09-24T09:32:45.057283Z"
    },
    "tags": [
     "hide-input"
    ]
   },
   "outputs": [
    {
     "name": "stdout",
     "output_type": "stream",
     "text": [
      " Typ = <class 'scipy.sparse.csc.csc_matrix'>\n",
      " Shape = (2000, 1781)\n",
      " Nonzeros = 64195\n"
     ]
    },
    {
     "data": {
      "image/png": "[encoded data removed]",
      "text/plain": [
       "<Figure size 432x288 with 1 Axes>"
      ]
     },
     "metadata": {
      "needs_background": "light"
     },
     "output_type": "display_data"
    }
   ],
   "source": [
    "%matplotlib inline\n",
    "from sklearn.feature_extraction.text import TfidfVectorizer\n",
    "\n",
    "max_f = 2000\n",
    "tv = TfidfVectorizer(max_df=0.95, min_df=2, max_features=max_f, stop_words='english')\n",
    "\n",
    "V = tv.fit_transform(train.data).T\n",
    "\n",
    "print(' Typ = {}\\n Shape = {}\\n Nonzeros = {}'.format(type(V), V.shape, V.nnz))\n",
    "\n",
    "plt.spy(V, marker = '.', markersize = .1);\n",
    "plt.axis('auto');"
   ]
  },
  {
   "cell_type": "markdown",
   "metadata": {},
   "source": [
    "Wir speichern uns noch die Wortliste zwischen."
   ]
  },
  {
   "cell_type": "code",
   "execution_count": 5,
   "metadata": {
    "execution": {
     "iopub.execute_input": "2021-09-24T09:32:45.061046Z",
     "iopub.status.busy": "2021-09-24T09:32:45.060708Z",
     "iopub.status.idle": "2021-09-24T09:32:45.062550Z",
     "shell.execute_reply": "2021-09-24T09:32:45.062307Z"
    },
    "tags": [
     "hide-input"
    ]
   },
   "outputs": [
    {
     "data": {
      "text/plain": [
       "array(['written', 'wrong', 'wrote', 'yeah', 'year', 'years', 'yeast',\n",
       "       'yes', 'york', 'young'], dtype='<U14')"
      ]
     },
     "execution_count": 5,
     "metadata": {},
     "output_type": "execute_result"
    }
   ],
   "source": [
    "voc = np.array(tv.get_feature_names())\n",
    "voc[-10:]"
   ]
  },
  {
   "cell_type": "markdown",
   "metadata": {},
   "source": [
    "Wir berechnen nun NMFs mit Parameter"
   ]
  },
  {
   "cell_type": "code",
   "execution_count": 6,
   "metadata": {
    "execution": {
     "iopub.execute_input": "2021-09-24T09:32:45.064816Z",
     "iopub.status.busy": "2021-09-24T09:32:45.064518Z",
     "iopub.status.idle": "2021-09-24T09:32:45.065950Z",
     "shell.execute_reply": "2021-09-24T09:32:45.066181Z"
    },
    "tags": [
     "hide-input"
    ]
   },
   "outputs": [
    {
     "name": "stdout",
     "output_type": "stream",
     "text": [
      "k = 10\n"
     ]
    }
   ],
   "source": [
    "k = 10\n",
    "print('k = {}'.format(k))"
   ]
  },
  {
   "cell_type": "markdown",
   "metadata": {},
   "source": [
    "## NMF über Gradient-Descent"
   ]
  },
  {
   "cell_type": "markdown",
   "metadata": {},
   "source": [
    "Ist $A*B$ die komponentenweise Multiplikation der Matrizen $A$, $B$, dann minimieren wir\n",
    "die Zielfunktion\n",
    "\\begin{equation*} \n",
    "l(E,F) = \\|V-(E*E)(F*F)\\|_\\text{Fro}^2. \n",
    "\\end{equation*}\n",
    "und setzen\n",
    "\\begin{equation*} \n",
    "W = E*E, \\quad H=F*F\n",
    "\\end{equation*}\n",
    "$l$ ist differenzierbar, die Nebenbedingung (Nicht-Negativität von $W,H$) ist in $l$ \"eingebaut\"."
   ]
  },
  {
   "cell_type": "code",
   "execution_count": 7,
   "metadata": {
    "execution": {
     "iopub.execute_input": "2021-09-24T09:32:45.071225Z",
     "iopub.status.busy": "2021-09-24T09:32:45.070736Z",
     "iopub.status.idle": "2021-09-24T09:32:50.503374Z",
     "shell.execute_reply": "2021-09-24T09:32:50.503015Z"
    },
    "tags": [
     "hide-input"
    ]
   },
   "outputs": [
    {
     "name": "stdout",
     "output_type": "stream",
     "text": [
      "||V - W0 H0||_Fro = 55.70933443114257\n",
      "||V - Wn Hn||_Fro = 39.81529775143771\n"
     ]
    }
   ],
   "source": [
    "import autograd.numpy as np\n",
    "from autograd import jacobian\n",
    "\n",
    "VV = np.array(V.toarray())\n",
    "\n",
    "def l(E,F):\n",
    "    return np.linalg.norm(VV - np.dot(E*E, F*F), ord='fro')**2\n",
    "\n",
    "lE = jacobian(l, 0)\n",
    "lF = jacobian(l, 1)\n",
    "\n",
    "# Startwert erzeugen und vernünftig skalieren\n",
    "m,n = VV.shape\n",
    "\n",
    "np.random.seed(seed)\n",
    "E = np.random.rand(m,k)\n",
    "F = np.random.rand(k,n)\n",
    "\n",
    "V0 = (E*E).dot(F*F)\n",
    "s = np.linalg.norm(VV, ord='fro') / np.linalg.norm(V0, ord='fro')\n",
    "sEF = s**0.25\n",
    "E *= sEF\n",
    "F *= sEF\n",
    "\n",
    "# Iteration\n",
    "nit = 100\n",
    "ga  = 1e-1\n",
    "\n",
    "# Start-Loss\n",
    "print(\"||V - W0 H0||_Fro = {}\".format(np.sqrt(l(E,F))))\n",
    "\n",
    "for it in range(nit):\n",
    "    E -= ga * lE(E,F)\n",
    "    F -= ga * lF(E,F)\n",
    "\n",
    "# End-Loss\n",
    "print(\"||V - Wn Hn||_Fro = {}\".format(np.sqrt(l(E,F))))"
   ]
  },
  {
   "cell_type": "markdown",
   "metadata": {},
   "source": [
    "Vergleicht man den letzten Wert mit $\\|V\\|_\\text{Fro}$"
   ]
  },
  {
   "cell_type": "code",
   "execution_count": 8,
   "metadata": {
    "execution": {
     "iopub.execute_input": "2021-09-24T09:32:50.506640Z",
     "iopub.status.busy": "2021-09-24T09:32:50.506028Z",
     "iopub.status.idle": "2021-09-24T09:32:50.509338Z",
     "shell.execute_reply": "2021-09-24T09:32:50.508949Z"
    },
    "tags": [
     "hide-input"
    ]
   },
   "outputs": [
    {
     "data": {
      "text/plain": [
       "41.364235759892864"
      ]
     },
     "execution_count": 8,
     "metadata": {},
     "output_type": "execute_result"
    }
   ],
   "source": [
    "np.linalg.norm(VV, ord='fro')"
   ]
  },
  {
   "cell_type": "markdown",
   "metadata": {},
   "source": [
    "so sieht man, dass die Approximation recht grob ist. Außerdem sind die Matrizen $W,H$\n",
    "nicht dünn besetzt"
   ]
  },
  {
   "cell_type": "code",
   "execution_count": 9,
   "metadata": {
    "execution": {
     "iopub.execute_input": "2021-09-24T09:32:50.511736Z",
     "iopub.status.busy": "2021-09-24T09:32:50.511360Z",
     "iopub.status.idle": "2021-09-24T09:32:50.514313Z",
     "shell.execute_reply": "2021-09-24T09:32:50.513981Z"
    },
    "tags": [
     "hide-input"
    ]
   },
   "outputs": [
    {
     "data": {
      "text/plain": [
       "((2000, 10), 20000)"
      ]
     },
     "execution_count": 9,
     "metadata": {},
     "output_type": "execute_result"
    }
   ],
   "source": [
    "W = E * E\n",
    "Ws = sp.sparse.csc_matrix(W)\n",
    "Ws.shape, Ws.nnz"
   ]
  },
  {
   "cell_type": "code",
   "execution_count": 10,
   "metadata": {
    "execution": {
     "iopub.execute_input": "2021-09-24T09:32:50.516521Z",
     "iopub.status.busy": "2021-09-24T09:32:50.516120Z",
     "iopub.status.idle": "2021-09-24T09:32:50.519573Z",
     "shell.execute_reply": "2021-09-24T09:32:50.519170Z"
    },
    "tags": [
     "hide-input"
    ]
   },
   "outputs": [
    {
     "data": {
      "text/plain": [
       "((10, 1781), 17810)"
      ]
     },
     "execution_count": 10,
     "metadata": {},
     "output_type": "execute_result"
    }
   ],
   "source": [
    "Hs = sp.sparse.csc_matrix(F * F)\n",
    "Hs.shape, Hs.nnz"
   ]
  },
  {
   "cell_type": "markdown",
   "metadata": {},
   "source": [
    "Die \"Topics\" isolieren wir jetzt, indem wir pro Spalte von $W$ die am höchsten gewichteten Worte betrachten:"
   ]
  },
  {
   "cell_type": "code",
   "execution_count": 11,
   "metadata": {
    "execution": {
     "iopub.execute_input": "2021-09-24T09:32:50.522408Z",
     "iopub.status.busy": "2021-09-24T09:32:50.522003Z",
     "iopub.status.idle": "2021-09-24T09:32:50.525401Z",
     "shell.execute_reply": "2021-09-24T09:32:50.525056Z"
    },
    "scrolled": true,
    "tags": [
     "hide-input"
    ]
   },
   "outputs": [
    {
     "name": "stdout",
     "output_type": "stream",
     "text": [
      "0 soon skepticism chastity n3jxp pitt cadre dsl\n",
      "1 live world don real way think people\n",
      "2 mail new know pain year thanks does\n",
      "3 orbit program station launch shuttle nasa space\n",
      "4 time ford ve got don problem just\n",
      "5 taste foods glutamate flavor chinese food msg\n",
      "6 fast drive auto cars speed right like\n",
      "7 ideas thinking work want methodology scientific science\n",
      "8 doctor treatment medical good patients like disease\n",
      "9 new good cars engine price dealer car\n"
     ]
    }
   ],
   "source": [
    "def topwords(v, n=7):\n",
    "    for k,vk in enumerate(v):\n",
    "        print(k, \" \".join(voc[np.argsort(vk)[-n:]]))\n",
    "    \n",
    "topwords(W.T)"
   ]
  },
  {
   "cell_type": "markdown",
   "metadata": {},
   "source": [
    "## NMF über Projected-Gradient-Descent"
   ]
  },
  {
   "cell_type": "markdown",
   "metadata": {},
   "source": [
    "Wir minimieren die differenzierbare Zielfunktion\n",
    "\\begin{equation*} \n",
    "l(W,H) = \\|V-WH\\|_\\text{Fro}^2\n",
    "\\end{equation*}\n",
    "und benutzen für die Einhaltung der Nebenbedingung \n",
    "die Projektion (bezüglich der Frobenius-Norm) auf die nichtnegativen Matrizen\n",
    "\\begin{equation*} \n",
    "\\Pi(A) = \\big( \\tilde{a}_{ij} \\big)_{ij},\n",
    "\\quad \n",
    "\\tilde{a}_{ij} = \n",
    "\\begin{cases}\n",
    "a_{ij} & a_{ij} \\geq 0\\\\\n",
    "0 & a_{ij} < 0\n",
    "\\end{cases}\n",
    "\\end{equation*}"
   ]
  },
  {
   "cell_type": "code",
   "execution_count": 12,
   "metadata": {
    "execution": {
     "iopub.execute_input": "2021-09-24T09:32:50.529752Z",
     "iopub.status.busy": "2021-09-24T09:32:50.529353Z",
     "iopub.status.idle": "2021-09-24T09:32:55.435613Z",
     "shell.execute_reply": "2021-09-24T09:32:55.435885Z"
    },
    "tags": [
     "hide-input"
    ]
   },
   "outputs": [
    {
     "name": "stdout",
     "output_type": "stream",
     "text": [
      "||V - W0 H0||_Fro = 55.53277927138428\n",
      "||V - Wn Hn||_Fro = 39.59410806906888\n"
     ]
    }
   ],
   "source": [
    "def l(W,H):\n",
    "    return np.linalg.norm(VV - np.dot(W,H), ord='fro')**2\n",
    "\n",
    "lW = jacobian(l, 0)\n",
    "lH = jacobian(l, 1)\n",
    "\n",
    "# Startwert erzeugen und vernünftig skalieren\n",
    "m,n = VV.shape\n",
    "\n",
    "np.random.seed(17)\n",
    "W = np.random.rand(m,k)\n",
    "H = np.random.rand(k,n)\n",
    "\n",
    "V0 = W.dot(H)\n",
    "s = np.linalg.norm(VV, ord='fro') / np.linalg.norm(V0, ord='fro')\n",
    "sWH = np.sqrt(s)\n",
    "W *= sWH\n",
    "H *= sWH\n",
    "\n",
    "# Iteration\n",
    "nit = 100\n",
    "ga  = 1e-1\n",
    "\n",
    "# Start-Loss\n",
    "print(\"||V - W0 H0||_Fro = {}\".format(np.sqrt(l(W,H))))\n",
    "\n",
    "for it in range(nit):\n",
    "    W -= ga * lW(W,H)\n",
    "    W[W<0] = 0\n",
    "    H -= ga * lH(W,H)\n",
    "    H[H<0] = 0\n",
    "\n",
    "# End-Loss\n",
    "print(\"||V - Wn Hn||_Fro = {}\".format(np.sqrt(l(W,H))))"
   ]
  },
  {
   "cell_type": "markdown",
   "metadata": {},
   "source": [
    "Auch hier ist die Approximation recht grob, aber $W$ und $H$ sind weniger dicht besetzt"
   ]
  },
  {
   "cell_type": "code",
   "execution_count": 13,
   "metadata": {
    "execution": {
     "iopub.execute_input": "2021-09-24T09:32:55.438372Z",
     "iopub.status.busy": "2021-09-24T09:32:55.437983Z",
     "iopub.status.idle": "2021-09-24T09:32:55.440483Z",
     "shell.execute_reply": "2021-09-24T09:32:55.440804Z"
    },
    "tags": [
     "hide-input"
    ]
   },
   "outputs": [
    {
     "data": {
      "text/plain": [
       "((2000, 10), 10260)"
      ]
     },
     "execution_count": 13,
     "metadata": {},
     "output_type": "execute_result"
    }
   ],
   "source": [
    "Ws = sp.sparse.csc_matrix(W)\n",
    "Ws.shape, Ws.nnz"
   ]
  },
  {
   "cell_type": "code",
   "execution_count": 14,
   "metadata": {
    "execution": {
     "iopub.execute_input": "2021-09-24T09:32:55.443010Z",
     "iopub.status.busy": "2021-09-24T09:32:55.442628Z",
     "iopub.status.idle": "2021-09-24T09:32:55.445398Z",
     "shell.execute_reply": "2021-09-24T09:32:55.445064Z"
    },
    "tags": [
     "hide-input"
    ]
   },
   "outputs": [
    {
     "data": {
      "text/plain": [
       "((10, 1781), 9138)"
      ]
     },
     "execution_count": 14,
     "metadata": {},
     "output_type": "execute_result"
    }
   ],
   "source": [
    "Hs = sp.sparse.csc_matrix(H)\n",
    "Hs.shape, Hs.nnz"
   ]
  },
  {
   "cell_type": "markdown",
   "metadata": {},
   "source": [
    "Als Topics erhalten wir"
   ]
  },
  {
   "cell_type": "code",
   "execution_count": 15,
   "metadata": {
    "execution": {
     "iopub.execute_input": "2021-09-24T09:32:55.447585Z",
     "iopub.status.busy": "2021-09-24T09:32:55.447206Z",
     "iopub.status.idle": "2021-09-24T09:32:55.450846Z",
     "shell.execute_reply": "2021-09-24T09:32:55.450516Z"
    },
    "tags": [
     "hide-input"
    ]
   },
   "outputs": [
    {
     "name": "stdout",
     "output_type": "stream",
     "text": [
      "0 does solid let ron want know don\n",
      "1 info advance interested mail know does thanks\n",
      "2 pitt chastity n3jxp cadre dsl shameful geb\n",
      "3 lunar station orbit launch shuttle nasa space\n",
      "4 things right way people think like just\n",
      "5 foods taste flavor glutamate chinese food msg\n",
      "6 driving auto drive speed oil engine cars\n",
      "7 time treatment patients medical disease pain doctor\n",
      "8 corn send list email article com edu\n",
      "9 said saturn new good price dealer car\n"
     ]
    }
   ],
   "source": [
    "topwords(W.T)"
   ]
  },
  {
   "cell_type": "markdown",
   "metadata": {},
   "source": [
    "## NMF aus Scikit-Learn"
   ]
  },
  {
   "cell_type": "markdown",
   "metadata": {},
   "source": [
    "In `sklearn` wird dazu\n",
    "für $\\alpha,\\gamma\\ge 0$ das regularisierte Problem\n",
    "\\begin{align*} \n",
    "\\text{argmin}_{W,H}\n",
    "\\Big( \n",
    "&\\frac{1}{2}\\|V-WH\\|_\\text{Fro}^2 \\\\\n",
    "&+ \\alpha \\gamma \n",
    "  \\big(\\sum_{i,j}{|w_{ij}|} + \\sum_{i,j}{|h_{ij}|} \\big) \\\\\n",
    "&+ \\frac{1}{2} \\alpha(1-\\gamma) (\\|W\\|_\\text{Fro}^2 + \\|H\\|_\\text{Fro}^2 )\n",
    "\\Big)\n",
    "\\end{align*}\n",
    "mit\n",
    "\\begin{equation*} \n",
    "\\\n",
    "W \\in \\mathbb{R}^{m \\times k},\n",
    "\\quad\n",
    "H \\in \\mathbb{R}^{k \\times n},\n",
    "\\quad\n",
    "w_{ij}, h_{ij}\\ge 0,\n",
    "\\quad\n",
    "k \\le \\min(m,n).\n",
    "\\end{equation*}"
   ]
  },
  {
   "cell_type": "markdown",
   "metadata": {},
   "source": [
    "Der letzte Term entspricht der Regularisierung bei Ridge-Regression, der mittlere Term ist vergleichbar mit der Regularisierung bei Lasso und sorgt für sparsity bei $W,H$. Zur näherungsweisen Lösung werden speziell angepasste Abstiegsverfahren benutzt."
   ]
  },
  {
   "cell_type": "markdown",
   "metadata": {},
   "source": [
    "Ein Blick auf die Normen zeigt, dass $WH$ eine sehr grobe Approximation von $V$ ist."
   ]
  },
  {
   "cell_type": "code",
   "execution_count": 16,
   "metadata": {
    "execution": {
     "iopub.execute_input": "2021-09-24T09:32:55.453602Z",
     "iopub.status.busy": "2021-09-24T09:32:55.453254Z",
     "iopub.status.idle": "2021-09-24T09:32:55.795844Z",
     "shell.execute_reply": "2021-09-24T09:32:55.796171Z"
    },
    "tags": [
     "hide-input"
    ]
   },
   "outputs": [
    {
     "data": {
      "text/plain": [
       "39.58844756945379"
      ]
     },
     "execution_count": 16,
     "metadata": {},
     "output_type": "execute_result"
    }
   ],
   "source": [
    "from sklearn.decomposition import NMF\n",
    "\n",
    "model = NMF(n_components=k, init='random', random_state=seed)\n",
    "\n",
    "W = model.fit_transform(V)\n",
    "H = model.components_\n",
    "\n",
    "np.linalg.norm(V-W.dot(H), ord='fro')"
   ]
  },
  {
   "cell_type": "code",
   "execution_count": 17,
   "metadata": {
    "execution": {
     "iopub.execute_input": "2021-09-24T09:32:55.798843Z",
     "iopub.status.busy": "2021-09-24T09:32:55.798334Z",
     "iopub.status.idle": "2021-09-24T09:32:55.802851Z",
     "shell.execute_reply": "2021-09-24T09:32:55.803178Z"
    },
    "scrolled": true,
    "tags": [
     "hide-input"
    ]
   },
   "outputs": [
    {
     "data": {
      "text/plain": [
       "41.364235759892864"
      ]
     },
     "execution_count": 17,
     "metadata": {},
     "output_type": "execute_result"
    }
   ],
   "source": [
    "np.linalg.norm(V.toarray(), ord='fro')"
   ]
  },
  {
   "cell_type": "markdown",
   "metadata": {},
   "source": [
    "$W$ und $H$ sind weniger dicht besetzt"
   ]
  },
  {
   "cell_type": "code",
   "execution_count": 18,
   "metadata": {
    "execution": {
     "iopub.execute_input": "2021-09-24T09:32:55.805710Z",
     "iopub.status.busy": "2021-09-24T09:32:55.805333Z",
     "iopub.status.idle": "2021-09-24T09:32:55.808099Z",
     "shell.execute_reply": "2021-09-24T09:32:55.808416Z"
    },
    "tags": [
     "hide-input"
    ]
   },
   "outputs": [
    {
     "data": {
      "text/plain": [
       "((2000, 10), 10446)"
      ]
     },
     "execution_count": 18,
     "metadata": {},
     "output_type": "execute_result"
    }
   ],
   "source": [
    "Ws = sp.sparse.csc_matrix(W)\n",
    "Ws.shape, Ws.nnz"
   ]
  },
  {
   "cell_type": "code",
   "execution_count": 19,
   "metadata": {
    "execution": {
     "iopub.execute_input": "2021-09-24T09:32:55.810653Z",
     "iopub.status.busy": "2021-09-24T09:32:55.810279Z",
     "iopub.status.idle": "2021-09-24T09:32:55.813237Z",
     "shell.execute_reply": "2021-09-24T09:32:55.812904Z"
    },
    "scrolled": true,
    "tags": [
     "hide-input"
    ]
   },
   "outputs": [
    {
     "data": {
      "text/plain": [
       "((10, 1781), 8857)"
      ]
     },
     "execution_count": 19,
     "metadata": {},
     "output_type": "execute_result"
    }
   ],
   "source": [
    "Hs = sp.sparse.csc_matrix(H)\n",
    "Hs.shape, Hs.nnz"
   ]
  },
  {
   "cell_type": "markdown",
   "metadata": {},
   "source": [
    "Als Topics erhalten wir"
   ]
  },
  {
   "cell_type": "code",
   "execution_count": 20,
   "metadata": {
    "execution": {
     "iopub.execute_input": "2021-09-24T09:32:55.815519Z",
     "iopub.status.busy": "2021-09-24T09:32:55.815145Z",
     "iopub.status.idle": "2021-09-24T09:32:55.818575Z",
     "shell.execute_reply": "2021-09-24T09:32:55.818242Z"
    },
    "tags": [
     "hide-input"
    ]
   },
   "outputs": [
    {
     "name": "stdout",
     "output_type": "stream",
     "text": [
      "0 good new price engine dealer cars car\n",
      "1 time medical cause patients disease pain doctor\n",
      "2 pitt chastity n3jxp dsl cadre shameful geb\n",
      "3 launch program sci shuttle station nasa space\n",
      "4 information spacecraft april 1993 software science data\n",
      "5 taste foods flavor glutamate chinese food msg\n",
      "6 send list corn email article com edu\n",
      "7 know right people don like think just\n",
      "8 advance info interested mail does know thanks\n",
      "9 low cost launch earth orbit lunar moon\n"
     ]
    }
   ],
   "source": [
    "topwords(W.T)"
   ]
  },
  {
   "cell_type": "markdown",
   "metadata": {},
   "source": [
    "## Zusammenfassung"
   ]
  },
  {
   "cell_type": "markdown",
   "metadata": {},
   "source": [
    "NMF erzeugt eine approximative Matrixzerlegung\n",
    "\\begin{equation*} \n",
    "V \\approx WH, \\quad W,H\\geq 0.\n",
    "\\end{equation*}\n",
    "Die Zerlegung ist nicht eindeutig und wird i.d.R. iterativ berechnet."
   ]
  }
 ],
 "metadata": {
  "hide_input": false,
  "kernelspec": {
   "display_name": "Python 3",
   "language": "python",
   "name": "python3"
  },
  "language_info": {
   "codemirror_mode": {
    "name": "ipython",
    "version": 3
   },
   "file_extension": ".py",
   "mimetype": "text/x-python",
   "name": "python",
   "nbconvert_exporter": "python",
   "pygments_lexer": "ipython3",
   "version": "3.9.6"
  },
  "nbTranslate": {
   "displayLangs": [
    "fr",
    "en"
   ],
   "hotkey": "alt-t",
   "langInMainMenu": false,
   "sourceLang": "en",
   "targetLang": "fr",
   "useGoogleTranslate": true
  }
 },
 "nbformat": 4,
 "nbformat_minor": 2
}
