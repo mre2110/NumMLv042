{
 "cells": [
  {
   "cell_type": "markdown",
   "metadata": {},
   "source": [
    "# Dimensionsreduktion"
   ]
  },
  {
   "cell_type": "markdown",
   "metadata": {},
   "source": [
    "## Überblick"
   ]
  },
  {
   "cell_type": "markdown",
   "metadata": {},
   "source": [
    "Wir betrachten Methoden, um lineare Modelle bei Regressionsproblemen zu vereinfachen\n",
    "bzw. bei hochdimensionalen Datensätzen Dimensionsreduktionen durchzuführen.\n",
    "Das wesentliche Werkzeug dazu ist die **Singulärwertzerlegung**\n",
    "\n",
    "Die Singulärwertzerlegung kommt ursprünglich aus der linearen Algebra.\n",
    "Dort zeigt man, dass jede Matrix $A\\in\\mathbb{R}^{m\\times n}$ sich in\n",
    "\\begin{equation*} \n",
    "A = U\\Sigma V^T\n",
    "\\end{equation*}\n",
    "mit\n",
    "\\begin{equation*} \n",
    "\\quad\n",
    "U\\in\\mathbb{R}^{m\\times m}, \n",
    "\\quad\n",
    "V\\in\\mathbb{R}^{n\\times n},  \n",
    "\\quad\n",
    "\\Sigma = \\text{diag}\\big(\\sigma_1, \\ldots, \\sigma_r, 0, \\ldots,0 \\big)\\in\\mathbb{R}^{m\\times n}\n",
    "\\end{equation*}\n",
    "und\n",
    "$\\sigma_1 \\ge \\ldots \\ge \\sigma_r > 0$,\n",
    "$r \\le \\min(m,n)$,\n",
    "zerlegen lässt, wobei $U,V$ orthonormal sind.\n",
    "\n",
    "Geometrisch bedeutet das, dass man immer orthonormale Basen\n",
    "$V$ im Urbild-Raum und $U$ im Bildraum finden kann, so dass sich die zu $A$ gehörige\n",
    "lineare Abbildung bezüglich dieser\n",
    "Basen als Diagonalmatrix $\\Sigma$ darstellen lässt.\n",
    "\n",
    "Die Singulärwertzerlegung stellt somit eine Verallgemeinerung der Diagonalisierbarkeit\n",
    "quadratischer Matrizen (und damit der Eigenwert- und Eigenvektor-Berechnung) dar.\n",
    "\n",
    "Andererseits kann man die Berechnung von Singulärwerten und Singulärvektoren aber auch\n",
    "als restringiertes konvexes Optimierungsproblem beschreiben. Für den ersten Spaltenvektor $v_1$  von $V$ gilt\n",
    "\\begin{equation*} \n",
    "v_1 = \\text{argmax}_{\\|v\\|_2^2=1}f(v),\n",
    "\\quad\n",
    "f(v) = \\|A v\\|_2^2,\n",
    "\\quad\n",
    "f(v_1) = \\sigma_1^2.\n",
    "\\end{equation*}\n",
    "Allgemein gilt mit $V_k = \\text{span}(v_1,\\ldots,v_k)$\n",
    "\\begin{equation*} \n",
    "v_k = \\text{argmax}_{\\|v\\|_2^2=1, v\\bot V_{k-1}}f(v),\n",
    "\\quad\n",
    "f(v) = \\|Av\\|_2^2,\n",
    "\\quad\n",
    "f(v_k) = \\sigma_{k}^2.\n",
    "\\end{equation*}\n",
    "\n",
    "Für die numerische Berechnung von Singulärwerten und -vektoren haben\n",
    "wir damit die Möglichkeit, Algorithmen aus beiden Bereichen anzuwenden.\n",
    "Welche Verfahren dabei effizienter sind, hängt stark von der konkreten Aufgabenstellung\n",
    "ab."
   ]
  },
  {
   "cell_type": "markdown",
   "metadata": {},
   "source": [
    "## Modellvereinfachung"
   ]
  },
  {
   "cell_type": "markdown",
   "metadata": {},
   "source": [
    "### Regressionsproblem"
   ]
  },
  {
   "cell_type": "markdown",
   "metadata": {},
   "source": [
    "Wir betrachten wieder das lineares Regressionsproblem aus dem letzten Abschnitt"
   ]
  },
  {
   "cell_type": "code",
   "execution_count": 1,
   "metadata": {
    "execution": {
     "iopub.execute_input": "2021-09-24T09:28:12.780405Z",
     "iopub.status.busy": "2021-09-24T09:28:12.780093Z",
     "iopub.status.idle": "2021-09-24T09:28:13.236974Z",
     "shell.execute_reply": "2021-09-24T09:28:13.236630Z"
    },
    "tags": [
     "hide-input"
    ]
   },
   "outputs": [
    {
     "data": {
      "image/png": "[encoded data removed]",
      "text/plain": [
       "<Figure size 432x288 with 1 Axes>"
      ]
     },
     "metadata": {
      "needs_background": "light"
     },
     "output_type": "display_data"
    }
   ],
   "source": [
    "import autograd.numpy as np\n",
    "from autograd import jacobian\n",
    "\n",
    "import scipy as sp\n",
    "import matplotlib.pyplot as plt\n",
    "import sympy as sy\n",
    "\n",
    "seed = 17\n",
    "\n",
    "from IPython.display import Math\n",
    "%precision 5\n",
    "np.set_printoptions(precision=4)\n",
    "\n",
    "\n",
    "m = 100\n",
    "\n",
    "delta = 1e-1\n",
    "\n",
    "h = lambda x : 5 - 7*x + 3 * x**2\n",
    "\n",
    "np.random.seed(seed)\n",
    "x = np.random.rand(m)\n",
    "y = h(x) + delta * np.random.randn(*x.shape)\n",
    "\n",
    "%matplotlib inline\n",
    "plt.plot(x, y, 'b.');"
   ]
  },
  {
   "cell_type": "markdown",
   "metadata": {},
   "source": [
    "benutzen aber als Modellfunktion\n",
    "\\begin{equation*} \n",
    "g(x,w) = w_1 + w_2\\,(x-1) + w_3(x + 1)\n",
    "\\end{equation*}\n",
    "bei unverändertem Loss\n",
    "\\begin{equation*} \n",
    "l(w) = \\frac{1}{m}\\sum_{i=1}^m l_i(w),\n",
    "\\quad\n",
    "l_i(w) = \\frac{1}{2} \\big( g(x_i,w) - y_i \\big)^2. \n",
    "\\end{equation*}\n",
    "Die Modellfunktion ist \"überparametriert\":\n",
    "\n",
    "- mit $g$ können beliebige Geraden erzeugt werden\n",
    "\n",
    "- dafür reichen aber bereits zwei Parameter"
   ]
  },
  {
   "cell_type": "markdown",
   "metadata": {},
   "source": [
    "Mit\n",
    "\\begin{equation*} \n",
    "X = \n",
    "\\begin{pmatrix}\n",
    "1 & x_1 - 1 & x_1 + 1\\\\\n",
    "\\vdots & \\vdots & \\vdots\\\\\n",
    "1 & x_m - 1 & x_m + 1\n",
    "\\end{pmatrix}\n",
    "\\in \\mathbb{R}^{m\\times 3},\n",
    "\\quad\n",
    "\\end{equation*}\n",
    "und\n",
    "\\begin{equation*} \n",
    "w = \n",
    "\\begin{pmatrix}\n",
    "w_1 \\\\ w_2 \\\\w_3\n",
    "\\end{pmatrix},\n",
    "\\quad\n",
    "y = \n",
    "\\begin{pmatrix}\n",
    "y_1\\\\\n",
    "\\vdots\\\\\n",
    "y_m\n",
    "\\end{pmatrix}\n",
    "\\in \\mathbb{R}^m\n",
    "\\end{equation*}\n",
    "können wir $l$ umschreiben zu\n",
    "\\begin{equation*} \n",
    "l(x)=\\frac{1}{2m} \\|Xw - y\\|_2^2 = \\frac{1}{2m}(Xw - y)^T (Xw - y)\n",
    "\\end{equation*}\n",
    "und erhalten\n",
    "\\begin{equation*} \n",
    "l'(w) = \\frac{1}{m}X^T(Xw - y),\n",
    "\\quad\n",
    "l''(w) = \\frac{1}{m}X^T X.\n",
    "\\end{equation*}\n",
    "Unsere Zielfunktion ist also nach wie vor quadratisch und konvex.\n",
    "\n",
    "Wir wenden jetzt nacheinander die Algorithmen aus dem letzten Abschnitt an."
   ]
  },
  {
   "cell_type": "markdown",
   "metadata": {},
   "source": [
    "### GD"
   ]
  },
  {
   "cell_type": "markdown",
   "metadata": {},
   "source": [
    "Direkte Anwendung von GD liefert folgende Ergebnisse."
   ]
  },
  {
   "cell_type": "code",
   "execution_count": 2,
   "metadata": {
    "code_folding": [
     6
    ],
    "execution": {
     "iopub.execute_input": "2021-09-24T09:28:13.263263Z",
     "iopub.status.busy": "2021-09-24T09:28:13.262936Z",
     "iopub.status.idle": "2021-09-24T09:28:13.743802Z",
     "shell.execute_reply": "2021-09-24T09:28:13.743468Z"
    },
    "tags": [
     "hide-input"
    ]
   },
   "outputs": [
    {
     "name": "stdout",
     "output_type": "stream",
     "text": [
      "w = [-0.9954 -2.5079 -1.5126], l(w) = 0.055993\n"
     ]
    },
    {
     "data": {
      "image/png": "[encoded data removed]",
      "text/plain": [
       "<Figure size 432x288 with 1 Axes>"
      ]
     },
     "metadata": {
      "needs_background": "light"
     },
     "output_type": "display_data"
    },
    {
     "data": {
      "image/png": "[encoded data removed]",
      "text/plain": [
       "<Figure size 432x288 with 1 Axes>"
      ]
     },
     "metadata": {
      "needs_background": "light"
     },
     "output_type": "display_data"
    }
   ],
   "source": [
    "npar = 3\n",
    "\n",
    "def g(x, w):\n",
    "    return w[0] + w[1] * (x - 1) + w[2] * (x - 2) \n",
    "    #return w[0] + w[1] * x + w[2] * x**2 + w[3] * x**3\n",
    "\n",
    "def l(w):\n",
    "    return ((g(x, w) - y)**2).mean()\n",
    "\n",
    "l1 = jacobian(l)\n",
    "\n",
    "def GD(w0, l1, gamma = 1.0, nit = 20):\n",
    "    ww = [w0]\n",
    "    w  = w0.copy()\n",
    "    \n",
    "    for k in range(nit):\n",
    "        w = w - gamma * l1(w)\n",
    "        ww.append(w)\n",
    "    \n",
    "    return ww\n",
    "\n",
    "\n",
    "def evalw(w, x, y):\n",
    "    # Fit\n",
    "    plt.figure(1)\n",
    "    plt.plot(x, y, '.');\n",
    "    xp = np.linspace(x.min(), x.max())\n",
    "    plt.plot(xp, g(xp, w), 'r');\n",
    "    plt.xlabel('$x$')\n",
    "    plt.ylabel('$y$', rotation=0)\n",
    "\n",
    "def evalwl(w, l, x, y):\n",
    "    # Konvergenzgeschwindigkeit\n",
    "    plt.figure(2)\n",
    "    plt.semilogy(list(map(l, w)))\n",
    "    plt.xlabel('$k$')\n",
    "    plt.ylabel('$l(w^{(k)})$', rotation=0)\n",
    "    \n",
    "\n",
    "w0 = np.zeros(npar)\n",
    "w = GD(w0, l1, gamma = 0.1, nit = 300)\n",
    "evalw(w[-1], x, y)\n",
    "evalwl(w, l, x, y)\n",
    "print(\"w = {}, l(w) = {:f}\".format(w[-1], l(w[-1])))"
   ]
  },
  {
   "cell_type": "markdown",
   "metadata": {},
   "source": [
    "Ändern wir den Startwert so erhalten wir zwar einen ähnlichen Wert für $l$, aber\n",
    "einen anderen Parametersatz $w$."
   ]
  },
  {
   "cell_type": "code",
   "execution_count": 3,
   "metadata": {
    "execution": {
     "iopub.execute_input": "2021-09-24T09:28:13.864850Z",
     "iopub.status.busy": "2021-09-24T09:28:13.863966Z",
     "iopub.status.idle": "2021-09-24T09:28:14.113663Z",
     "shell.execute_reply": "2021-09-24T09:28:14.113360Z"
    },
    "tags": [
     "hide-input"
    ]
   },
   "outputs": [
    {
     "name": "stdout",
     "output_type": "stream",
     "text": [
      "w = [-0.6512 -2.828  -1.1768], l(w) = 0.056096\n"
     ]
    },
    {
     "data": {
      "image/png": "[encoded data removed]",
      "text/plain": [
       "<Figure size 432x288 with 1 Axes>"
      ]
     },
     "metadata": {
      "needs_background": "light"
     },
     "output_type": "display_data"
    },
    {
     "data": {
      "image/png": "[encoded data removed]",
      "text/plain": [
       "<Figure size 432x288 with 1 Axes>"
      ]
     },
     "metadata": {
      "needs_background": "light"
     },
     "output_type": "display_data"
    }
   ],
   "source": [
    "w0 = np.ones(npar)\n",
    "w = GD(w0, l1, gamma = 0.1, nit = 300)\n",
    "evalw(w[-1], x, y)\n",
    "evalwl(w, l, x, y)\n",
    "print(\"w = {}, l(w) = {:f}\".format(w[-1], l(w[-1])))"
   ]
  },
  {
   "cell_type": "markdown",
   "metadata": {},
   "source": [
    "GD zeigt dabei unverändertes Konvergenzverhalten."
   ]
  },
  {
   "cell_type": "markdown",
   "metadata": {},
   "source": [
    "### Newton"
   ]
  },
  {
   "cell_type": "markdown",
   "metadata": {},
   "source": [
    "Die Iterationsvorschrift für das einfache Newton-Verfahren lautet\n",
    "\\begin{equation*} \n",
    "w^{(k+1)} = w^{(k)} -  l''\\big( w^{(k)} \\big)^{-1} l'\\big( w^{(k)} \\big).\n",
    "\\end{equation*}\n",
    "In unserem Beispiel ist \n",
    "\\begin{equation*} \n",
    "l''(w) = \\frac{1}{m}X^T X, \n",
    "\\quad\n",
    "X = \n",
    "\\begin{pmatrix}\n",
    "1 & x_1 - 1 & x_1 + 1\\\\\n",
    "\\vdots & \\vdots & \\vdots\\\\\n",
    "1 & x_m - 1 & x_m + 1\n",
    "\\end{pmatrix}.\n",
    "\\end{equation*}\n",
    "Da die Spalten von $X$ linear abhängig sind, hat $X$ keinen vollen Rang so dass die Hessematrix $l''$ singulär (nur positiv semidefinit)\n",
    "ist. Somit ist das einfache Newton-Verfahren nicht anwendbar."
   ]
  },
  {
   "cell_type": "markdown",
   "metadata": {},
   "source": [
    "Singuläre Hesse-Matrizen treten bei Optimierungsproblemen häufig auf, weshalb es eine ganze Reihe von modifizierten Newton-Varianten gibt (gedämpfte Newton-Verfahren, Quasi-Newton, Gauß-Newton, Trust-Region, siehe auch [scipy.optimize.minimize](https://docs.scipy.org/doc/scipy/reference/generated/scipy.optimize.minimize.html)), die \n",
    "dieses Problem auf unterschiedliche Art und Weise umschiffen.\n",
    "\n",
    "Wir wenden BFGS an, ein Quasi-Newton-Verfahren dass adaptiv\n",
    "spd-Näherungen $B^{(k)}$ der Hesse-Matrix benutzt. Für\n",
    "$w^{(0)}, B^{(0)}$ gegeben berechnet man\n",
    "\\begin{align*}\n",
    "B^{(k)} p^{(k)} \n",
    "&= -l'(w^{(k)}) \\\\\n",
    "w^{(k+1)} \n",
    "&= w^{(k)} + \\gamma^{(k)} p^{(k)} \\\\\n",
    "B^{(k+1)} \n",
    "&= B^{(k)} + \\frac{ y^{(k)} {y^{(k)}}^T }{ {h^{(k)}}^T y^{(k)} } \n",
    "- \\frac{ u^{(k)}{u^{(k)}}^T }{ {h^{(k)}}^T u^{(k)} }\n",
    "\\end{align*}\n",
    "mit\n",
    "\\begin{equation*} \n",
    "h^{(k)} = w^{(k+1)} - w^{(k)},\n",
    "\\quad\n",
    "y^{(k)}= l'(w^{(k+1)}) - l'(w^{(k)}),\n",
    "\\quad\n",
    "u^{(k)} = B^{(k)} h^{(k)}.\n",
    "\\end{equation*}\n",
    "$\\gamma^{(k)}$ wird dabei durch Liniensuche bestimmt."
   ]
  },
  {
   "cell_type": "markdown",
   "metadata": {},
   "source": [
    "Wir benutzen die BFGS Implementierung von [SciPy](https://www.scipy.org/) und erhalten für zwei unterschiedliche Startwerte folgende Ergebnisse."
   ]
  },
  {
   "cell_type": "code",
   "execution_count": 4,
   "metadata": {
    "execution": {
     "iopub.execute_input": "2021-09-24T09:28:14.116744Z",
     "iopub.status.busy": "2021-09-24T09:28:14.116361Z",
     "iopub.status.idle": "2021-09-24T09:28:14.261938Z",
     "shell.execute_reply": "2021-09-24T09:28:14.261637Z"
    },
    "tags": [
     "hide-input"
    ]
   },
   "outputs": [
    {
     "name": "stdout",
     "output_type": "stream",
     "text": [
      "Optimization terminated successfully.\n",
      "         Current function value: 0.055920\n",
      "         Iterations: 8\n",
      "         Function evaluations: 9\n",
      "         Gradient evaluations: 9\n",
      "w = [-1.0151 -2.532  -1.5169], l(w) = 0.055920\n"
     ]
    },
    {
     "data": {
      "image/png": "[encoded data removed]",
      "text/plain": [
       "<Figure size 432x288 with 1 Axes>"
      ]
     },
     "metadata": {
      "needs_background": "light"
     },
     "output_type": "display_data"
    }
   ],
   "source": [
    "from scipy.optimize import minimize\n",
    "\n",
    "w0 = np.zeros(npar)\n",
    "w = minimize(l, w0, method = 'BFGS', jac = l1, options={'disp': True} ).x\n",
    "evalw(w, x, y)\n",
    "print(\"w = {}, l(w) = {:f}\".format(w, l(w)))"
   ]
  },
  {
   "cell_type": "code",
   "execution_count": 5,
   "metadata": {
    "execution": {
     "iopub.execute_input": "2021-09-24T09:28:14.265478Z",
     "iopub.status.busy": "2021-09-24T09:28:14.264949Z",
     "iopub.status.idle": "2021-09-24T09:28:14.335599Z",
     "shell.execute_reply": "2021-09-24T09:28:14.335298Z"
    },
    "tags": [
     "hide-input"
    ]
   },
   "outputs": [
    {
     "name": "stdout",
     "output_type": "stream",
     "text": [
      "Optimization terminated successfully.\n",
      "         Current function value: 0.055920\n",
      "         Iterations: 7\n",
      "         Function evaluations: 8\n",
      "         Gradient evaluations: 8\n",
      "w = [-0.6817 -2.8653 -1.1836], l(w) = 0.055920\n"
     ]
    },
    {
     "data": {
      "image/png": "[encoded data removed]",
      "text/plain": [
       "<Figure size 432x288 with 1 Axes>"
      ]
     },
     "metadata": {
      "needs_background": "light"
     },
     "output_type": "display_data"
    }
   ],
   "source": [
    "w0 = np.ones(npar)\n",
    "w = minimize(l, w0, method = 'BFGS', jac = l1, options={'disp': True} ).x\n",
    "evalw(w, x, y)\n",
    "print(\"w = {}, l(w) = {:f}\".format(w, l(w)))"
   ]
  },
  {
   "cell_type": "markdown",
   "metadata": {},
   "source": [
    "Die Ergebnisse sind vergleichbar mit denen von GD, allerdings ist\n",
    "die Anzahl der Iterationen (und damit der Aufwand) deutlich geringer."
   ]
  },
  {
   "cell_type": "markdown",
   "metadata": {},
   "source": [
    "### Normalgleichungen"
   ]
  },
  {
   "cell_type": "markdown",
   "metadata": {},
   "source": [
    "Wir betrachten jetzt das Normalgleichungssystem\n",
    "\\begin{equation*} \n",
    "X^TXw = X^Ty.\n",
    "\\end{equation*}\n",
    "Da $X$ linear abhängige Spalten hat, ist $X^TX$\n",
    "positiv semidefinit, also nicht regulär. \n",
    "Wie wir oben gesehen haben, existieren aber immer Lösungen dieses\n",
    "Systems."
   ]
  },
  {
   "cell_type": "markdown",
   "metadata": {},
   "source": [
    "Wie lösen wir jetzt numerisch dieses singuläre Gleichungssystem?\n",
    "\n",
    "Direkte Verfahren (LU, Cholesky, QR) sind prinzipiell anwendbar, leiden aber oft an Stabilitätsproblemen."
   ]
  },
  {
   "cell_type": "markdown",
   "metadata": {},
   "source": [
    "Bei den iterativen Verfahren betrachten wir wieder CGLS, wenden es auf unser Beispielproblem an\n",
    "und erhalten für zwei unterschiedliche Startwerte die folgenden Ergebnisse."
   ]
  },
  {
   "cell_type": "code",
   "execution_count": 6,
   "metadata": {
    "code_folding": [],
    "execution": {
     "iopub.execute_input": "2021-09-24T09:28:14.347447Z",
     "iopub.status.busy": "2021-09-24T09:28:14.344750Z",
     "iopub.status.idle": "2021-09-24T09:28:14.406104Z",
     "shell.execute_reply": "2021-09-24T09:28:14.405810Z"
    },
    "tags": [
     "hide-input"
    ]
   },
   "outputs": [
    {
     "name": "stdout",
     "output_type": "stream",
     "text": [
      "w = [-1.0151 -2.532  -1.5169], l(w) = 0.055920\n"
     ]
    },
    {
     "data": {
      "image/png": "[encoded data removed]",
      "text/plain": [
       "<Figure size 432x288 with 1 Axes>"
      ]
     },
     "metadata": {
      "needs_background": "light"
     },
     "output_type": "display_data"
    }
   ],
   "source": [
    "def CGLS(w0, X, y, nit = 20):\n",
    "    ww = [w0]\n",
    "    w = w0.copy()\n",
    "    s = y - X.dot(w)\n",
    "    r = X.T.dot(s)\n",
    "    p = r.copy()\n",
    "    \n",
    "    rr = r.dot(r)\n",
    "    \n",
    "    for k in range(nit):\n",
    "        Xp  = X.dot(p)\n",
    "        al  = rr / Xp.dot(Xp)\n",
    "        w   = w + al * p\n",
    "        s   = s - al * Xp\n",
    "        r   = X.T.dot(s)\n",
    "        rrn = r.dot(r)\n",
    "        be  = rrn / rr\n",
    "        p   = r + be * p\n",
    "        \n",
    "        rr = rrn\n",
    "        ww.append(w)\n",
    "        \n",
    "    return(ww)\n",
    "\n",
    "\n",
    "wX = np.eye(npar)\n",
    "X = np.array([g(x, wX[k]) for k in range(npar)]).T\n",
    "\n",
    "w0 = np.zeros(npar)\n",
    "w = CGLS(w0, X, y)\n",
    "evalw(w[-1], x, y)\n",
    "print(\"w = {}, l(w) = {:f}\".format(w[-1], l(w[-1])))"
   ]
  },
  {
   "cell_type": "code",
   "execution_count": 7,
   "metadata": {
    "execution": {
     "iopub.execute_input": "2021-09-24T09:28:14.408706Z",
     "iopub.status.busy": "2021-09-24T09:28:14.408344Z",
     "iopub.status.idle": "2021-09-24T09:28:14.473617Z",
     "shell.execute_reply": "2021-09-24T09:28:14.473325Z"
    },
    "tags": [
     "hide-input"
    ]
   },
   "outputs": [
    {
     "name": "stdout",
     "output_type": "stream",
     "text": [
      "w = [-0.6817 -2.8653 -1.1836], l(w) = 0.055920\n"
     ]
    },
    {
     "data": {
      "image/png": "[encoded data removed]",
      "text/plain": [
       "<Figure size 432x288 with 1 Axes>"
      ]
     },
     "metadata": {
      "needs_background": "light"
     },
     "output_type": "display_data"
    }
   ],
   "source": [
    "w0 = np.ones(npar)\n",
    "w = CGLS(w0, X, y)\n",
    "evalw(w[-1], x, y)\n",
    "print(\"w = {}, l(w) = {:f}\".format(w[-1], l(w[-1])))"
   ]
  },
  {
   "cell_type": "markdown",
   "metadata": {},
   "source": [
    "CGLS erreicht bereits im zweiten Schritt wieder (eine) exakte Lösung der Normalgleichungen. Je nach Startwert erhält man unterschiedliche Parameter $w$, die aber die selbe Modellfunktion parametrieren."
   ]
  },
  {
   "cell_type": "markdown",
   "metadata": {},
   "source": [
    "### Pseudoinverse und Singulärwertzerlegung (SVD)"
   ]
  },
  {
   "cell_type": "markdown",
   "metadata": {},
   "source": [
    "Um diese Mehrdeutigkeiten zu beseitigen suchen wir jetzt eine Lösung $w^+$ der Normalgleichungen, die selbst möglichst kleine Norm $\\|w\\|_2$ hat, also\n",
    "\\begin{equation*} \n",
    "\\|X w -y \\|_2^2 \\to \\min\n",
    "\\quad\\text{und}\\quad\n",
    "\\|w \\|_2^2 \\to \\min.\n",
    "\\end{equation*}\n",
    "Dieses Problem hat immer eine eindeutige Lösung $w^+$. Sie hängt linear von $y$ ab,\n",
    "d.h. zu $X\\in\\mathbb{R}^{m\\times n}$ gibt es eine eindeutige Matrix $X^+\\in\\mathbb{R}^{n\\times m}$,\n",
    "die **Pseudoinverse**, mit\n",
    "\\begin{equation*} \n",
    "w^+ = X^+ y.\n",
    "\\end{equation*}\n",
    "Es gibt direkte Verfahren (über QR-Zerlegungen) um $X^+$ zu berechnen, in der Praxis\n",
    "wird $X^+$ in der Regel über die **Singulärwertzerlegung** bestimmt.\n",
    "\n",
    "Jede Matrix $X\\in\\mathbb{R}^{m\\times n}$ lässt sich zerlegen\n",
    "in\n",
    "\\begin{equation*} \n",
    "X = U\\Sigma V^T, \n",
    "\\end{equation*}\n",
    "wobei\n",
    "$U\\in\\mathbb{R}^{m\\times m}$, \n",
    "$V\\in\\mathbb{R}^{n\\times n}$ orthonormal sind und\n",
    "\\begin{equation*} \n",
    "\\Sigma = \\text{diag}\\big(\\sigma_1, \\ldots, \\sigma_r, 0, \\ldots,0 \\big)\\in\\mathbb{R}^{m\\times n},\n",
    "\\quad r \\le \\min(m,n).\n",
    "\\end{equation*}\n",
    "Dabei sind\n",
    "\\begin{equation*} \n",
    "\\sigma_1 \\ge \\ldots \\ge \\sigma_r > 0\n",
    "\\end{equation*}\n",
    "die **Singulärwerte** und $r$ der Rang von $X$."
   ]
  },
  {
   "cell_type": "markdown",
   "metadata": {},
   "source": [
    "Damit können wir jetzt das Normalgleichungssystem mit Zusatzbedingung (also $w^+ = X^+ y$) \n",
    "über das dazu äquivalente Optimierungsproblem \n",
    "\\begin{equation*} \n",
    "\\|X w -y \\|_2^2 \\to \\min\n",
    "\\quad\\text{und}\\quad\n",
    "\\|w \\|_2^2 \\to \\min\n",
    "\\end{equation*}\n",
    "ganz einfach lösen. \n",
    "Für orthonormale Matrizen $Q$ gilt $\\|Qw \\|_2 = \\|w \\|_2$, $Q^{-1}=Q^T$, und somit\n",
    "\\begin{align*} \n",
    "\\|X w -y \\|_2^2 \n",
    "&= \\|U\\Sigma V^T w -y \\|_2^2\\\\\n",
    "&= \\|\\Sigma V^T w - U^Ty \\|_2^2\\\\\n",
    "&= \\|\\Sigma \\tilde{w} - \\tilde{y} \\|_2^2\n",
    "\\end{align*}\n",
    "mit\n",
    "\\begin{equation*} \n",
    "\\tilde{w} = V^T w, \\quad \\|\\tilde{w}\\|_2^2 = \\|w\\|_2^2\n",
    "\\end{equation*}\n",
    "und $\\tilde{y} = U^Ty$. Wir müssen jetzt also die Lösung $\\tilde{w}^+$ von\n",
    "\\begin{equation*} \n",
    "\\|\\Sigma \\tilde{w} - \\tilde{y} \\|_2^2 \\to \\min\n",
    "\\quad\\text{und}\\quad\n",
    "\\|\\tilde{w} \\|_2^2 \\to \\min\n",
    "\\end{equation*}\n",
    "bestimmen und erhalten $w^+ =V\\tilde{w}^+$."
   ]
  },
  {
   "cell_type": "markdown",
   "metadata": {},
   "source": [
    "Nun ist aber\n",
    "\\begin{equation*} \n",
    "\\|\\Sigma \\tilde{w} - \\tilde{y} \\|_2^2 = \\sum_{i=1}^r (\\sigma_i \\tilde{w}_i - \\tilde{y}_i\\big)^2 + \\sum_{i=r+1}^m\\tilde{y}_i^2,\n",
    "\\end{equation*}\n",
    "so dass $\\|\\Sigma \\tilde{w} - \\tilde{y} \\|_2^2$ minimal wird für\n",
    "\\begin{equation*} \n",
    "\\tilde{w}^+_i = \\frac{\\tilde{y}_i}{\\sigma_i}, \\quad i=1,\\ldots,r.\n",
    "\\end{equation*}\n",
    "Damit sind die ersten $r$ Komponenten von $\\tilde{w}^+$ bestimmt.\n",
    "Wegen\n",
    "\\begin{equation*} \n",
    "\\|\\tilde{w}\\|_2^2 = \\sum_{i=1}^n \\tilde{w}_i^2,\n",
    "\\end{equation*}\n",
    "wird $\\|\\tilde{w}\\|_2^2$ minimal für\n",
    "\\begin{equation*} \n",
    "\\tilde{w}^+_i = 0, \\quad i=r+1,\\ldots,n.\n",
    "\\end{equation*}\n",
    "Somit ist\n",
    "\\begin{equation*} \n",
    "\\tilde{w}^+ = \\Big(\\frac{\\tilde{y}_1}{\\sigma_1}, \\ldots, \\frac{\\tilde{y}_r}{\\sigma_r}, 0, \\ldots, 0 \\Big)^T\n",
    "\\end{equation*}\n",
    "und $w^+ =V\\tilde{w}^+$. Wegen $\\tilde{y} = U^Ty$ kann man $w^+$ jetzt schreiben als\n",
    "\\begin{equation*} \n",
    "w^+ = V\\Sigma^+ U^T y, \n",
    "\\quad\n",
    "\\Sigma^+ = \\text{diag}\\Big(\\frac{1}{\\sigma_1}, \\ldots, \\frac{1}{\\sigma_r}, 0, \\ldots, 0 \\Big)\\in\\mathbb{R}^{n\\times m}.\n",
    "\\end{equation*}\n",
    "Ist also \n",
    "\\begin{equation*} \n",
    "X = U\\Sigma V^T\n",
    "\\end{equation*}\n",
    "eine Singulärwertzerlegung von $X$, dann ist die Pseudoinverse\n",
    "\\begin{equation*} \n",
    "X^+ = V\\Sigma^+ U^T\n",
    "\\end{equation*}\n",
    "und $\\Sigma^+$ ist die Pseudoinverse von $\\Sigma$."
   ]
  },
  {
   "cell_type": "markdown",
   "metadata": {},
   "source": [
    "Wie berechnet man nun numerisch eine Singulärwertzerlegung?\n",
    "Einen ersten Hinweis bekommt man durch folgende Beziehungen\n",
    "\\begin{equation*} \n",
    "X = U \\Sigma V^T\n",
    "\\quad\\Rightarrow\\quad\n",
    "X^T X = V \\Sigma^T \\Sigma V^T,\n",
    "\\quad\n",
    "X X^T = U \\Sigma \\Sigma^T U^T.\n",
    "\\end{equation*}\n",
    "Da $U,V$ orthonormal und quadratisch und $\\Sigma^T \\Sigma$, $\\Sigma \\Sigma^T$  Diagonalmatrizen sind,\n",
    "haben wir damit eine Eigenwert-/Eigenvektorzerlegung der beiden quadratischen\n",
    "symmetrischen Matrizen $X^T X$, $X X^T$,\n",
    "d.h.\n",
    "\n",
    "- $\\sigma_i^2$, $i = 1,\\ldots,r$, sind die positiven Eigenwerte von $X^T X$, $X X^T$, alle weiteren Eigenwerte sind $0$\n",
    "\n",
    "- die Spalten von $V$ sind die Eigenvektoren von $X^T X$\n",
    "\n",
    "- die Spalten von $U$ sind die Eigenvektoren von $X X^T$\n",
    "\n",
    "Damit könnte man numerisch wie folgt vorgehen:\n",
    "\n",
    "- berechne (z.B. mit QR-Iteration mit Shift) alle Eigenwerte $\\lambda_i$ und Eigenvektoren $v_i$ von $X^T X$,\n",
    "  \\begin{equation*} \n",
    "  \\lambda_1 \\ge \\ldots \\ge \\lambda_r >0, \n",
    "  \\quad \n",
    "  \\lambda_{r+1} = \\ldots = \\lambda_n = 0\n",
    "  \\end{equation*}\n",
    "\n",
    "- $\\sigma_i = \\sqrt{\\lambda_i},\\quad i = 1,\\ldots,r$\n",
    "\n",
    "- $V = \\big(v_1,\\ldots,v_n \\big)$\n",
    "\n",
    "- aus $U \\Sigma = XV$ folgt für die $i$-te Spalte der Matrizen \n",
    "  \\begin{equation*} \n",
    "  (U \\Sigma)_i = u_i \\sigma_i,\n",
    "  \\quad \n",
    "  (XV)_i = Xv_i\n",
    "  \\end{equation*}\n",
    "  somit\n",
    "  \\begin{equation*} \n",
    "  u_i  \n",
    "  = \\frac{1}{\\sigma_i}Xv_i,\n",
    "  \\quad i = 1,\\ldots,r\n",
    "  \\end{equation*}\n",
    "- ergänze $u_1,\\ldots,u_r$ zu einer Orthonormalbasis $u_1,\\ldots,u_m$ (z.B. mit modifiziertem Gram-Schmidt)\n",
    "  und setze\n",
    "  \\begin{equation*} \n",
    "  U = \\big(u_1,\\ldots,u_m \\big)\n",
    "  \\end{equation*}"
   ]
  },
  {
   "cell_type": "markdown",
   "metadata": {},
   "source": [
    "Alternativ könnte man natürlich auch über die Eigenwerte/Eigenvektoren von $XX^T$ die SVD berechnen.\n",
    "Beide Varianten sind nicht optimal (Aufwand, Kondition). \n",
    "\n",
    "Der heute gebräuchlichste Algorithmus vermeidet\n",
    "die explizite Berechnung von $X^TX$. Er basiert zunächst auf der Beobachtung, dass die Singulärwerte\n",
    "von $X$ identisch sind mit den Singulärwerten von\n",
    "\\begin{equation*} \n",
    "TXS, \\quad T,S \\text{ orthonormal.}\n",
    "\\end{equation*}\n",
    "\n",
    "Im ersten Schritt wird mit einer Folge von Householder-Transformationen von links und rechts $T,S$ so bestimmt, dass\n",
    "\\begin{equation*} \n",
    "TXS = R, \\quad R \\text{ bidiagonal,}\n",
    "\\end{equation*}\n",
    "was das Analogon zur Hessenbergtransformation bei der Eigenwertberechnung ist.\n",
    "\n",
    "Der zweite Schritt beruht auf einer angepassten QR-Iteration zur Berechnung der\n",
    "Singulärwerte (Wurzel der Eigenwerte von $R^TR$), ohne $R^TR$ explizit zu berechnen."
   ]
  },
  {
   "cell_type": "markdown",
   "metadata": {},
   "source": [
    "Wir wenden nun die Pseudoinverse an, um unser unterbestimmtes Regressionsproblem zu lösen."
   ]
  },
  {
   "cell_type": "code",
   "execution_count": 8,
   "metadata": {
    "execution": {
     "iopub.execute_input": "2021-09-24T09:28:14.476297Z",
     "iopub.status.busy": "2021-09-24T09:28:14.475884Z",
     "iopub.status.idle": "2021-09-24T09:28:14.555342Z",
     "shell.execute_reply": "2021-09-24T09:28:14.555668Z"
    },
    "tags": [
     "hide-input"
    ]
   },
   "outputs": [
    {
     "name": "stdout",
     "output_type": "stream",
     "text": [
      "w = [-1.0151 -2.532  -1.5169], l(w) = 0.055920\n"
     ]
    },
    {
     "data": {
      "image/png": "[encoded data removed]",
      "text/plain": [
       "<Figure size 432x288 with 1 Axes>"
      ]
     },
     "metadata": {
      "needs_background": "light"
     },
     "output_type": "display_data"
    }
   ],
   "source": [
    "w = np.linalg.pinv(X).dot(y)\n",
    "evalw(w, x, y)\n",
    "print(\"w = {}, l(w) = {:f}\".format(w, l(w)))"
   ]
  },
  {
   "cell_type": "markdown",
   "metadata": {},
   "source": [
    "### Abgeschnittene Singulärwertzerlegung (TSVD)"
   ]
  },
  {
   "cell_type": "markdown",
   "metadata": {},
   "source": [
    "Jede Matrix $X\\in\\mathbb{R}^{m\\times n}$ kann\n",
    "in\n",
    "\\begin{equation*} \n",
    "X = U\\Sigma V^T, \n",
    "\\end{equation*}\n",
    "$U\\in\\mathbb{R}^{m\\times m}$, \n",
    "$V\\in\\mathbb{R}^{n\\times n}$, \n",
    "\\begin{equation*} \n",
    "\\Sigma = \\text{diag}\\big(\\sigma_1, \\ldots, \\sigma_r, 0, \\ldots,0 \\big)\\in\\mathbb{R}^{m\\times n},\n",
    "\\quad\n",
    "r \\le \\min(m,n)\n",
    "\\end{equation*}\n",
    "zerlegt werden.\n",
    "\n",
    "Da in $\\Sigma$ nur die ersten $r$ Diagonalelemente ungleich $0$ sind\n",
    "folgt\n",
    "\\begin{equation*} \n",
    "X \n",
    "= U\\Sigma V^T\n",
    "= \\sum_{i=1}^r u_i \\sigma_i v_i^T\n",
    "= U_r\\Sigma_r V_r^T\n",
    "\\end{equation*}\n",
    "mit\n",
    "\\begin{align*} \n",
    "U_r \n",
    "&= \\big(u_1,\\ldots,u_r \\big) \\in \\mathbb{R}^{m\\times r}, \\\\\n",
    "\\Sigma_r \n",
    "&= \\text{diag}\\big(\\sigma_1,\\ldots,\\sigma_r \\big) \\in \\mathbb{R}^{r\\times r}, \\\\\n",
    "V_r \n",
    "&= \\big(v_1,\\ldots,v_r \\big) \\in \\mathbb{R}^{n\\times r}\n",
    "\\end{align*}\n",
    "sowie\n",
    "\\begin{equation*} \n",
    "X^+ = V_r \\Sigma_r^{-1} U_r^T.\n",
    "\\end{equation*}"
   ]
  },
  {
   "cell_type": "markdown",
   "metadata": {},
   "source": [
    "Ist $r \\ll \\min(m,n)$, so sind Matrixprodukte über $U_r\\Sigma_r V_r^T$,\n",
    "$V_r \\Sigma_r^{-1} U_r^T$ deutlich günstiger zu Berechnen als Produkte die direkt $X$, $X^+$ benutzen."
   ]
  },
  {
   "cell_type": "markdown",
   "metadata": {},
   "source": [
    "Nehmen wir nun an, dass $X\\in\\mathbb{R}^{m\\times n}$ Singulärwerte \n",
    "$\\sigma_1 \\ge \\ldots \\ge \\sigma_k \\ge \\sigma_{k+1} \\ge \\ldots \\ge \\sigma_r > 0$ mit\n",
    "\\begin{equation*} \n",
    "\\sigma_1  \\gg \\sigma_{k+1}\n",
    "\\end{equation*}\n",
    "hat. Damit erhalten wir\n",
    "\\begin{equation*} \n",
    "X \n",
    "= U\\Sigma V^T\n",
    "= \\sum_{i=1}^r u_i \\sigma_i v_i^T\n",
    "\\approx \\sum_{i=1}^k u_i \\sigma_i v_i^T\n",
    "= U_k\\Sigma_k V_k^T\n",
    "= X_k\n",
    "\\end{equation*}\n",
    "$X_k$ ist eine Rang-$k$-Approximation der Rang-$r$-Matrix $X$ (abgeschnittene Singulärwertzerlegung, TSVD), also\n",
    "eine vereinfachte Version unseres ursprünglichen linearen\n",
    "Modells, das durch $X$ repräsentiert wird.\n",
    "Wegen\n",
    "\\begin{equation*} \n",
    "X_k = U_k\\Sigma_k V_k^T\n",
    "\\end{equation*}\n",
    "ist $X_k$ für $k\\ll r$ numerisch viel effizienter zu bearbeiten als $X$."
   ]
  },
  {
   "cell_type": "markdown",
   "metadata": {},
   "source": [
    "Wir wenden nun die SVD auf unser Regressionsproblem von oben an und erhalten Singulärwerte"
   ]
  },
  {
   "cell_type": "code",
   "execution_count": 9,
   "metadata": {
    "execution": {
     "iopub.execute_input": "2021-09-24T09:28:14.558357Z",
     "iopub.status.busy": "2021-09-24T09:28:14.557777Z",
     "iopub.status.idle": "2021-09-24T09:28:14.560343Z",
     "shell.execute_reply": "2021-09-24T09:28:14.559955Z"
    },
    "tags": [
     "hide-input"
    ]
   },
   "outputs": [
    {
     "data": {
      "text/plain": [
       "array([1.8869e+01, 2.7241e+00, 9.6604e-16])"
      ]
     },
     "execution_count": 9,
     "metadata": {},
     "output_type": "execute_result"
    }
   ],
   "source": [
    "U,s,VT = np.linalg.svd(X)\n",
    "V = VT.T\n",
    "\n",
    "s"
   ]
  },
  {
   "cell_type": "markdown",
   "metadata": {},
   "source": [
    "Offensichtlich können wir hier $k = 2$, wählen d.h.  zwei Parameter reichen aus.\n",
    "Betrachten wir die zugehörigen Singulärbasen $V$"
   ]
  },
  {
   "cell_type": "code",
   "execution_count": 10,
   "metadata": {
    "execution": {
     "iopub.execute_input": "2021-09-24T09:28:14.562803Z",
     "iopub.status.busy": "2021-09-24T09:28:14.562420Z",
     "iopub.status.idle": "2021-09-24T09:28:14.564391Z",
     "shell.execute_reply": "2021-09-24T09:28:14.564055Z"
    },
    "tags": [
     "hide-input"
    ]
   },
   "outputs": [
    {
     "data": {
      "text/plain": [
       "array([[-0.5222,  0.6277,  0.5774],\n",
       "       [ 0.2825,  0.7661, -0.5774],\n",
       "       [ 0.8047,  0.1383,  0.5774]])"
      ]
     },
     "execution_count": 10,
     "metadata": {},
     "output_type": "execute_result"
    }
   ],
   "source": [
    "V"
   ]
  },
  {
   "cell_type": "markdown",
   "metadata": {},
   "source": [
    "dann sehen wir, dass Parameterkombinationen $w = s(-1,1,-1)^T$, $s\\in\\mathbb{R}$, vernachlässigbar sind.\n",
    "Durch Einschränkung auf die ersten beiden Singulärbasen kann man das Modell dann vereinfachen und wir erhalten"
   ]
  },
  {
   "cell_type": "code",
   "execution_count": 11,
   "metadata": {
    "execution": {
     "iopub.execute_input": "2021-09-24T09:28:14.574908Z",
     "iopub.status.busy": "2021-09-24T09:28:14.566554Z",
     "iopub.status.idle": "2021-09-24T09:28:14.638459Z",
     "shell.execute_reply": "2021-09-24T09:28:14.638787Z"
    },
    "tags": [
     "hide-input"
    ]
   },
   "outputs": [
    {
     "name": "stdout",
     "output_type": "stream",
     "text": [
      "w = [-1.0151 -2.532  -1.5169], l(w) = 0.055920\n"
     ]
    },
    {
     "data": {
      "image/png": "[encoded data removed]",
      "text/plain": [
       "<Figure size 432x288 with 1 Axes>"
      ]
     },
     "metadata": {
      "needs_background": "light"
     },
     "output_type": "display_data"
    }
   ],
   "source": [
    "k = 2\n",
    "Xk = X.dot(V[:,:k])\n",
    "\n",
    "wk = np.linalg.pinv(Xk).dot(y)\n",
    "\n",
    "w = V[:,:k].dot(wk)\n",
    "\n",
    "evalw(w, x, y)\n",
    "print(\"w = {}, l(w) = {:f}\".format(w, l(w)))"
   ]
  },
  {
   "cell_type": "markdown",
   "metadata": {},
   "source": [
    "Jetzt betrachten wir zu den selben Daten $x_i,y_i$ das Regressionsproblem mit Modellfunktion\n",
    "\\begin{equation*} \n",
    "g(x,w) = w_1 + w_2 \\, x + w_3 \\, x^2 + w_4 \\, x^3\n",
    "\\end{equation*}\n",
    "\n",
    "Einfache Regression liefert das folgende Ergebnis"
   ]
  },
  {
   "cell_type": "code",
   "execution_count": 12,
   "metadata": {
    "execution": {
     "iopub.execute_input": "2021-09-24T09:28:14.643317Z",
     "iopub.status.busy": "2021-09-24T09:28:14.641736Z",
     "iopub.status.idle": "2021-09-24T09:28:14.722969Z",
     "shell.execute_reply": "2021-09-24T09:28:14.723295Z"
    },
    "tags": [
     "hide-input"
    ]
   },
   "outputs": [
    {
     "name": "stdout",
     "output_type": "stream",
     "text": [
      "w = [ 4.9521 -6.5425  2.0585  0.5842], l(w) = 0.010212\n"
     ]
    },
    {
     "data": {
      "image/png": "[encoded data removed]",
      "text/plain": [
       "<Figure size 432x288 with 1 Axes>"
      ]
     },
     "metadata": {
      "needs_background": "light"
     },
     "output_type": "display_data"
    }
   ],
   "source": [
    "npar = 4\n",
    "\n",
    "def g(x, w):\n",
    "    return w[0] + w[1] * x + w[2] * x**2 + w[3] * x**3\n",
    "\n",
    "\n",
    "wX = np.eye(npar)\n",
    "X = np.array([g(x, wX[k]) for k in range(npar)]).T\n",
    "\n",
    "w = np.linalg.pinv(X).dot(y)\n",
    "\n",
    "evalw(w, x, y)\n",
    "print(\"w = {}, l(w) = {:f}\".format(w, l(w)))"
   ]
  },
  {
   "cell_type": "markdown",
   "metadata": {},
   "source": [
    "Als Singulärwerte von $X$ erhalten wir"
   ]
  },
  {
   "cell_type": "code",
   "execution_count": 13,
   "metadata": {
    "execution": {
     "iopub.execute_input": "2021-09-24T09:28:14.726559Z",
     "iopub.status.busy": "2021-09-24T09:28:14.726191Z",
     "iopub.status.idle": "2021-09-24T09:28:14.728802Z",
     "shell.execute_reply": "2021-09-24T09:28:14.729118Z"
    },
    "tags": [
     "hide-input"
    ]
   },
   "outputs": [
    {
     "data": {
      "text/plain": [
       "array([12.3789,  4.0561,  0.8277,  0.0902])"
      ]
     },
     "execution_count": 13,
     "metadata": {},
     "output_type": "execute_result"
    }
   ],
   "source": [
    "wX = np.eye(npar)\n",
    "X = np.array([g(x, wX[k]) for k in range(npar)]).T\n",
    "\n",
    "U,s,VT = np.linalg.svd(X)\n",
    "V = VT.T\n",
    "\n",
    "s"
   ]
  },
  {
   "cell_type": "markdown",
   "metadata": {},
   "source": [
    "Hier würden wir bei $k=3$ abschneiden. Die Regression auf den reduzierten Daten liefert dann"
   ]
  },
  {
   "cell_type": "code",
   "execution_count": 14,
   "metadata": {
    "execution": {
     "iopub.execute_input": "2021-09-24T09:28:14.732253Z",
     "iopub.status.busy": "2021-09-24T09:28:14.731845Z",
     "iopub.status.idle": "2021-09-24T09:28:14.816614Z",
     "shell.execute_reply": "2021-09-24T09:28:14.816941Z"
    },
    "tags": [
     "hide-input"
    ]
   },
   "outputs": [
    {
     "name": "stdout",
     "output_type": "stream",
     "text": [
      "w = [ 4.853  -5.3505 -0.8073  2.4439], l(w) = 0.011277\n"
     ]
    },
    {
     "data": {
      "image/png": "[encoded data removed]",
      "text/plain": [
       "<Figure size 432x288 with 1 Axes>"
      ]
     },
     "metadata": {
      "needs_background": "light"
     },
     "output_type": "display_data"
    }
   ],
   "source": [
    "k = 3\n",
    "Xk = X.dot(V[:,:k])\n",
    "\n",
    "wk = np.linalg.pinv(Xk).dot(y)\n",
    "\n",
    "w = V[:,:k].dot(wk)\n",
    "\n",
    "evalw(w, x, y)\n",
    "print(\"w = {}, l(w) = {:f}\".format(w, l(w)))"
   ]
  },
  {
   "cell_type": "markdown",
   "metadata": {},
   "source": [
    "## Dimensionsreduktion über Principle Component Analysis (PCA)"
   ]
  },
  {
   "cell_type": "markdown",
   "metadata": {},
   "source": [
    "### Motivation"
   ]
  },
  {
   "cell_type": "markdown",
   "metadata": {},
   "source": [
    "Oft sind die Daten in Form hochdimensionaler Vektoren\n",
    "$x_j\\in \\mathbb{R}^m$, $j=1,\\ldots,n$, also\n",
    "\\begin{equation*} \n",
    "X = (x_1,\\ldots,x_n) \\in \\mathbb{R}^{m \\times n}\n",
    "\\end{equation*}\n",
    "mit $m$ groß gegeben. Ein typische Beispiel ist die Verarbeitung\n",
    "von Bildern ($m$ ist die Anzahl der Pixel multipliziert mit der Anzahl der Farbkanäle).\n",
    "\n",
    "Die direkte Anwendung von numerischen Algorithmen ist dann meistens mit großem Rechenaufwand verbunden.\n",
    "Deshalb versucht man, die Dimension der Daten zunächst zu reduzieren\n",
    "und zwar so, dass der dadurch entstehende Informationsverlust möglichst gering ist.\n",
    "\n",
    "Wir betrachten den folgenden zweidimensionalen Beispieldatensatz"
   ]
  },
  {
   "cell_type": "code",
   "execution_count": 15,
   "metadata": {
    "execution": {
     "iopub.execute_input": "2021-09-24T09:28:14.820363Z",
     "iopub.status.busy": "2021-09-24T09:28:14.819978Z",
     "iopub.status.idle": "2021-09-24T09:28:15.123816Z",
     "shell.execute_reply": "2021-09-24T09:28:15.123517Z"
    },
    "tags": [
     "hide-input"
    ]
   },
   "outputs": [
    {
     "data": {
      "image/png": "[encoded data removed]",
      "text/plain": [
       "<Figure size 432x288 with 1 Axes>"
      ]
     },
     "metadata": {
      "needs_background": "light"
     },
     "output_type": "display_data"
    }
   ],
   "source": [
    "from sklearn.datasets import make_blobs\n",
    "\n",
    "X,y = make_blobs(n_features = 2, centers = 1, random_state = seed)\n",
    "\n",
    "np.random.seed(seed)\n",
    "T = np.random.rand(2,2)\n",
    "\n",
    "X = X.dot(T).T\n",
    "\n",
    "plt.scatter(*X, marker = '.')\n",
    "plt.axis('equal');"
   ]
  },
  {
   "cell_type": "markdown",
   "metadata": {},
   "source": [
    "Offensichtlich gibt es eine Richtung, in der die Daten\n",
    "stark variieren. Senkrecht dazu ist die Variation eher gering.\n",
    "\n",
    "Zur Datenreduktion könnte man nun eine Gerade in die Richtung\n",
    "der starken Variationen legen und die Projektionen der Daten\n",
    "auf diese Gerade betrachten.\n",
    "\n",
    "Die Projektion für einen Datenpunkt $x_i$ ist ein Skalar, also eine\n",
    "eindimensionale Größe (\"Koordinate entlang der Geraden\")\n",
    "\n",
    "Wenn diese Projektionen für die einzelnen Datenpunkte\n",
    "sich hinreichend stark unterscheiden, dann kann man z.B. ein\n",
    "Klassifikationsverfahren statt auf den zweidimensionalen\n",
    "Originaldaten ohne große Verluste auch auf den eindimensionlen\n",
    "Projektionen der Daten durchführen.\n",
    "\n",
    "Um die weiteren Betrachtungen zu vereinfachen, zentrieren\n",
    "wir den Datensatz. Den allgemeinen Fall behandeln wir im Anschluss."
   ]
  },
  {
   "cell_type": "code",
   "execution_count": 16,
   "metadata": {
    "execution": {
     "iopub.execute_input": "2021-09-24T09:28:15.135922Z",
     "iopub.status.busy": "2021-09-24T09:28:15.135167Z",
     "iopub.status.idle": "2021-09-24T09:28:15.201568Z",
     "shell.execute_reply": "2021-09-24T09:28:15.201261Z"
    },
    "tags": [
     "hide-input"
    ]
   },
   "outputs": [
    {
     "data": {
      "image/png": "[encoded data removed]",
      "text/plain": [
       "<Figure size 432x288 with 1 Axes>"
      ]
     },
     "metadata": {
      "needs_background": "light"
     },
     "output_type": "display_data"
    }
   ],
   "source": [
    "X = X - X.mean(axis=1).reshape(-1,1)\n",
    "\n",
    "U, s, VT = np.linalg.svd(X)\n",
    "v = U[: ,0]\n",
    "\n",
    "plt.scatter(*X, marker = '.')\n",
    "plt.axis('equal');\n",
    "\n",
    "plt.plot(*(np.c_[-v, v] * 2), 'g')\n",
    "\n",
    "Xi = X[:,45]\n",
    "plt.plot(*Xi, 'r.')\n",
    "\n",
    "pXi = Xi.dot(v) * v\n",
    "eXi = Xi - pXi\n",
    "\n",
    "plt.plot(*np.c_[0*pXi, pXi], 'r');\n",
    "plt.plot(*np.c_[pXi, Xi], 'r:');\n",
    "plt.plot(*np.c_[0*pXi, Xi], 'r:');"
   ]
  },
  {
   "cell_type": "markdown",
   "metadata": {},
   "source": [
    "### Mathematische Formulierung"
   ]
  },
  {
   "cell_type": "markdown",
   "metadata": {},
   "source": [
    "Gegeben ist also ein zentrierter Datensatz\n",
    "\\begin{equation*} \n",
    "x_j \\in \\mathbb{R}^m, \\quad j = 1,\\ldots,n,\n",
    "\\quad\n",
    "\\bar{X} = \\frac{1}{n} \\sum_{j=1}^n x_j = 0.\n",
    "\\end{equation*}\n",
    "Wir suchen eine Gerade\n",
    "\\begin{equation*} \n",
    "g(s) = s \\, u, \n",
    "\\quad s\\in \\mathbb{R}, \\quad u \\in \\mathbb{R}^m \\quad\\text{mit}\\quad \\|u\\|_2 = 1,\n",
    "\\end{equation*}\n",
    "so dass die Varianz \n",
    "\\begin{align*} \n",
    "V_1(u) \n",
    "&= \\frac{1}{n-1}\\sum_{j=1}^n (x_j,u)_2^2\\\\\n",
    "&= \\frac{1}{n-1}(X^T u, X^T u)_2\\\\\n",
    "%&= \\frac{1}{n-1}u^T X X^T u\\\\\n",
    "&= \\frac{1}{n-1} \\|X^T u\\|_2^2\n",
    "\\end{align*}\n",
    "der Projektionen von $x_i$ auf $u$ maximal wird.\n",
    "Mit der Singulärwertzerlegung $X = U\\Sigma V^T$ erhalten wir\n",
    "\\begin{align*} \n",
    "V_1(u) \n",
    "&= \\frac{1}{n-1} \\|V\\Sigma^T U^T u\\|_2^2\\\\\n",
    "&= \\frac{1}{n-1} \\|\\Sigma^T z\\|_2^2\\\\\n",
    "&= \\frac{1}{n-1} \\sum_{i=1}^r (\\sigma_i z_i)^2\\\\\n",
    "\\end{align*}\n",
    "mit\n",
    "\\begin{equation*} \n",
    "\\quad z =  U^T u,\n",
    "\\quad \\|z\\|_2 =  \\|u\\|_2.\n",
    "\\end{equation*}"
   ]
  },
  {
   "cell_type": "markdown",
   "metadata": {},
   "source": [
    "Wir müssen also das Problem\n",
    "\\begin{equation*} \n",
    "\\max_{z} f(z), \\quad g(z)= 0\n",
    "\\end{equation*}\n",
    "für\n",
    "\\begin{align*} \n",
    "f(z) \n",
    "&= \\sum_{i=1}^r (\\sigma_i z_i)^2 = \\|\\Sigma^T z\\|_2^2 = (\\Sigma^T z, \\Sigma^T z)_2,\n",
    "\\\\\n",
    "g(z) \n",
    "&= \\| z\\|_2^2 - 1 = (z, z)_2 - 1\n",
    "\\end{align*}\n",
    "lösen. \n",
    "Damit neben der Zielfunktion $f$ auch die Nebenbedingung $g$ differenzierbar ist benutzen wir\n",
    "nicht $\\|z\\|_2 = 1$ sondern äquivalent $\\|z\\|^2_2 = 1$.\n",
    "Beide Funktionen $f$ und $g$ sind auch konvex.\n",
    "\n",
    "Wir stellen nun die Lagrangefunktion \n",
    "\\begin{equation*} \n",
    "L(z,\\lambda) = f(z) - \\lambda g(z)\n",
    "\\end{equation*} \n",
    "auf und betrachten deren stationäre Punkte.\n",
    "Für die Ableitungen folgt nach der Produktregel\n",
    "\\begin{align*} \n",
    "\\partial_z L(z, \\lambda)(w)\n",
    "& = (\\Sigma^T w, \\Sigma^T z)_2 + (\\Sigma^T z, \\Sigma^T w)_2- \\lambda \\big((w, z)_2 + (z, w)_2\\big)\\\\\n",
    "& = 2 \\big((\\Sigma^T w, \\Sigma^T z)_2 - \\lambda (w, z)_2 \\big)\\\\\n",
    "& = 2 \\big(w^T\\Sigma \\Sigma^T z - \\lambda w^T z \\big)\n",
    "\\end{align*}\n",
    "also\n",
    "\\begin{equation*} \n",
    "\\partial_z L(z, \\lambda)\n",
    "= 2 \\big(\\Sigma \\Sigma^T z - \\lambda z \\big)\n",
    "\\end{equation*}\n",
    "bzw.\n",
    "\\begin{equation*} \n",
    "\\partial_\\lambda L(z, \\lambda)  = \\|z\\|_2^2 - 1\n",
    "\\end{equation*}"
   ]
  },
  {
   "cell_type": "markdown",
   "metadata": {},
   "source": [
    "Als notwendige Bedingung für eine Maximalstelle\n",
    "$\\hat{z}$ muss es ein $\\hat{\\lambda}\\in\\mathbb{R}$ geben mit\n",
    "\\begin{equation*} \n",
    "\\partial_z L(\\hat{z}, \\hat{\\lambda}) = 0,\n",
    "\\quad\n",
    "\\partial_\\lambda L(\\hat{z}, \\hat{\\lambda}) = 0.\n",
    "\\end{equation*}\n",
    "Für die Maximalstelle $\\hat{z}\\in\\mathbb{R}^m$ muss also\n",
    "\\begin{equation*} \n",
    "\\|\\hat{z}\\|_2 = 1,\n",
    "\\quad\n",
    "\\Sigma \\Sigma^T \\hat{z} = \\hat{\\lambda} \\hat{z}\n",
    "\\end{equation*}\n",
    "gelten, d.h. $\\hat{\\lambda}$, $\\hat{z}$ sind Eigenwert und Eigenvektor\n",
    "der Diagonalmatrix\n",
    "\\begin{equation*} \n",
    "\\Sigma \\Sigma^T = \n",
    "\\begin{pmatrix}\n",
    "\\sigma_1^2 \\\\\n",
    "& \\ddots\\\\\n",
    "&& \\sigma_r^2\\\\\n",
    "&&& 0\\\\\n",
    "&&&& \\ddots\n",
    "\\end{pmatrix},\n",
    "\\end{equation*}\n",
    "also\n",
    "\\begin{equation*} \n",
    "\\hat{z} = e_i,\n",
    "\\quad\n",
    "\\hat{\\lambda}_i = \n",
    "\\begin{cases}\n",
    "\\sigma_i^2 & i = 1,\\ldots,r \\\\\n",
    "0 & i>r\n",
    "\\end{cases},\n",
    "\\end{equation*}\n",
    "wobei $e_i$ der $i$-te Einheitsvektor ist.\n",
    "Als Wert unserer Zielfunktion $f$ erhalten wir\n",
    "\\begin{equation*} \n",
    "f(\\hat{z}) \n",
    "= \\|\\Sigma^T e_i\\|_2^2\n",
    "= \\sigma_i^2\n",
    "\\end{equation*}\n",
    "so dass das gesuchte Maximum für $i=1$ angenommen wird.\n",
    "\n"
   ]
  },
  {
   "cell_type": "markdown",
   "metadata": {},
   "source": [
    "Für unser Ausgangsproblem erhalten wir somit\n",
    "\\begin{equation*} \n",
    "\\hat{u} = U e_1= u_1,\n",
    "\\quad\n",
    "V_1(\\hat{u}) \n",
    "= \\frac{\\sigma_1^2}{n-1},\n",
    "\\quad\n",
    "X = U\\Sigma V^T,\n",
    "\\end{equation*}\n",
    "d.h. die Gerade mit maximaler Varianz der Projektionen wird vom ersten\n",
    "linken Singulärvektor $u_1$ von $X$ aufgespannt und die Varianz der Projektion\n",
    "ist durch den zugehörigen Singulärtwert $\\sigma_i$ gegeben,\n",
    "oder anders ausgedrückt, $u_1$ ist\n",
    "der Eigenvektor von $C = XX^T$\n",
    "zum größten Eigenwert \n",
    "$\\lambda_1 = \\sigma_1^2$ und\n",
    "\\begin{equation*} \n",
    "V_1(u_1) \n",
    "= \\frac{\\lambda_1}{n-1}\n",
    ".\n",
    "\\end{equation*}"
   ]
  },
  {
   "cell_type": "markdown",
   "metadata": {},
   "source": [
    "Projiziert man die Daten $X$ jetzt auf $u_1^\\bot$, so reduziert sich die Dimension auf $(m-1)\\times n$. Wendet man die selben Überlegungen erneut an, so erhält man \n",
    "als zweite Richtung mit der zweitgrößten Varianz\n",
    "\\begin{equation*} \n",
    "\\hat{u} = u_2,\n",
    "\\quad\n",
    "V_2(u_2) \n",
    "= \\frac{\\sigma_2^2}{n-1}.\n",
    "\\end{equation*}\n"
   ]
  },
  {
   "cell_type": "markdown",
   "metadata": {},
   "source": [
    "Setzt man dies nun per Induktion weiter fort, so erhält nach $r$ Schritten \n",
    "\\begin{align*} \n",
    "\\mathbb{R}^{m\\times n} \\ni X \n",
    "&= U\\Sigma V^T \n",
    "= U_r \\Sigma_r V_r^T \n",
    "= U_r \\tilde{X}, \n",
    "\\\\ \n",
    "\\tilde{X} &= \\Sigma_r V_r^T = U_r^T X\n",
    "\\in \\mathbb{R}^{r\\times n}\n",
    ".\n",
    "\\end{align*}\n",
    "Die $u_j$ heißen **Hauptkomponenten**\n",
    "oder auch **Karhunen-Loeve-Richtungen**\n",
    "zum Datensatz $X$.\n",
    "\n",
    "Die Daten $X\\in \\mathbb{R}^{m\\times n}$ werden in ein neues Orthonormalsystem der Dimension\n",
    "$r \\le m$ transformiert (Spalten von $U_r$). Die neuen Koordinaten sind die Projektionen\n",
    "$\\tilde{X}= U_r^T X$. Für die Varianzen der einzelnen Koordinaten gilt\n",
    "\\begin{equation*} \n",
    "V(\\tilde{X}_{i,\\cdot}) = \\frac{\\sigma_i^2}{n-1}, \\quad i = 1,\\ldots,r\n",
    "\\end{equation*}\n",
    "also\n",
    "\\begin{equation*} \n",
    "V(\\tilde{X}_{1,\\cdot}) \\ge V(\\tilde{X}_{2,\\cdot}) \\ge \\ldots \\ge V(\\tilde{X}_{r,\\cdot}) > 0.\n",
    "\\end{equation*}\n",
    "Außerdem gilt\n",
    "\\begin{equation*} \n",
    "V(X) \n",
    "= \\sum_{i=1}^m V(X_{i,\\cdot})\n",
    "= \\sum_{i=1}^r V(\\tilde{X}_{i,\\cdot})\n",
    "= V(\\tilde{X}),\n",
    "\\end{equation*}\n",
    "d.h. in $\\tilde{X}$ \"stecken alle Variationen von $X$\" drin, d.h. bezüglich Unterscheidungsmöglichkeiten\n",
    "der Daten haben wir keine Information verloren."
   ]
  },
  {
   "cell_type": "markdown",
   "metadata": {},
   "source": [
    "Damit liegt nun folgende Vorgehensweise zur Dimensionsreduktion nahe:\n",
    "\n",
    "- berechne $V(X)$\n",
    "\n",
    "- bestimme zu $\\varepsilon > 0$ ein\n",
    "  möglichst kleines $k$ mit \n",
    "  \\begin{equation*} \n",
    "  \\sum_{i=1}^k V(\\tilde{X}_{i,\\cdot}) \n",
    "   = \\frac{\\sum_{i=1}^k\\sigma_i^2}{n-1}\n",
    "  \\ge V(X) - \\varepsilon\n",
    "  \\end{equation*}\n",
    "  \n",
    "- benutze statt $X\\in \\mathbb{R}^{m\\times n}$ jetzt $\\tilde{X} = U_k^TX\\in \\mathbb{R}^{k\\times n}$\n",
    "\n",
    "Man nimmt dabei einen (geringen) Informationsverlust ($\\varepsilon > 0$) zugunsten einer\n",
    "Dimensionsreduktion (oft ist $k\\ll m$) in Kauf."
   ]
  },
  {
   "cell_type": "markdown",
   "metadata": {},
   "source": [
    "Bisher haben wir angenommen, dass die Daten $x_j$ zentriert sind.\n",
    "Die Verallgemeinerung ist recht einfach. Sind die Daten $x_j$ beliebig, so betrachtet\n",
    "man die zentrierten Größen\n",
    "\\begin{equation*} \n",
    "y_j = x_j - \\bar{X}, \\quad \\bar{X} = \\frac{1}{n} \\sum_{j=1}^n x_j. \n",
    "\\end{equation*}\n",
    "Man erhält Hauptrichtungen $u_j$ und Varianzen $V(Y_{i,\\cdot})$\n",
    "über die Eigenvektoren und Eigenwerte von\n",
    "\\begin{equation*} \n",
    "C = YY^T = (X - \\bar{X}) (X - \\bar{X})^T,\n",
    "\\end{equation*}\n",
    "der [Kovarianzmatrix](https://de.wikipedia.org/wiki/Kovarianzmatrix) der Originaldaten $X$.\n",
    "Die neuen Koordinaten $\\tilde{Y} = U_r^T(X - \\bar{X})$\n",
    "sind die Projektionen auf die Geraden\n",
    "\\begin{equation*} \n",
    "\\hat{g}_j = \\bar{X} + s \\, u_j,\n",
    "\\end{equation*}\n",
    "d.h. man projiziert auf affine Unterräume."
   ]
  },
  {
   "cell_type": "markdown",
   "metadata": {},
   "source": [
    "### Beispiel"
   ]
  },
  {
   "cell_type": "markdown",
   "metadata": {},
   "source": [
    "Wir betrachten den folgenden Datensatz."
   ]
  },
  {
   "cell_type": "code",
   "execution_count": 17,
   "metadata": {
    "execution": {
     "iopub.execute_input": "2021-09-24T09:28:15.211670Z",
     "iopub.status.busy": "2021-09-24T09:28:15.205398Z",
     "iopub.status.idle": "2021-09-24T09:28:15.284497Z",
     "shell.execute_reply": "2021-09-24T09:28:15.284851Z"
    },
    "tags": [
     "hide-input"
    ]
   },
   "outputs": [
    {
     "data": {
      "image/png": "[encoded data removed]",
      "text/plain": [
       "<Figure size 432x288 with 1 Axes>"
      ]
     },
     "metadata": {
      "needs_background": "light"
     },
     "output_type": "display_data"
    }
   ],
   "source": [
    "#%matplotlib notebook\n",
    "\n",
    "X,y = make_blobs(n_samples=1000, n_features=3, centers=3, cluster_std=1.0, random_state = seed)\n",
    "X = X.T\n",
    "\n",
    "from mpl_toolkits.mplot3d import Axes3D\n",
    "plt.figure()\n",
    "plt.axes(projection='3d')\n",
    "plt.plot(*X, '.')\n",
    "#plt.axis('equal');\n",
    "\n",
    "m, n = X.shape\n",
    "\n",
    "Xbar = X.mean(axis=1).reshape(-1,1)\n",
    "Y = X - Xbar\n",
    "U, s, VT = np.linalg.svd(Y)\n",
    "\n",
    "for col,u in enumerate(U):\n",
    "    plt.plot(*(np.c_[-u, u]*15 + Xbar));\n",
    "\n",
    "plt.gca().view_init(20,70)"
   ]
  },
  {
   "cell_type": "markdown",
   "metadata": {},
   "source": [
    "Die Haupkomponenten sind"
   ]
  },
  {
   "cell_type": "code",
   "execution_count": 18,
   "metadata": {
    "execution": {
     "iopub.execute_input": "2021-09-24T09:28:15.287735Z",
     "iopub.status.busy": "2021-09-24T09:28:15.287292Z",
     "iopub.status.idle": "2021-09-24T09:28:15.289416Z",
     "shell.execute_reply": "2021-09-24T09:28:15.289023Z"
    },
    "tags": [
     "hide-input"
    ]
   },
   "outputs": [
    {
     "data": {
      "text/plain": [
       "array([[-0.6248, -0.6964,  0.3531],\n",
       "       [ 0.2762, -0.6201, -0.7342],\n",
       "       [ 0.7303, -0.3612,  0.5798]])"
      ]
     },
     "execution_count": 18,
     "metadata": {},
     "output_type": "execute_result"
    }
   ],
   "source": [
    "U"
   ]
  },
  {
   "cell_type": "markdown",
   "metadata": {},
   "source": [
    "Für die Varianzen erhalten wir"
   ]
  },
  {
   "cell_type": "code",
   "execution_count": 19,
   "metadata": {
    "execution": {
     "iopub.execute_input": "2021-09-24T09:28:15.292375Z",
     "iopub.status.busy": "2021-09-24T09:28:15.291933Z",
     "iopub.status.idle": "2021-09-24T09:28:15.293909Z",
     "shell.execute_reply": "2021-09-24T09:28:15.293517Z"
    },
    "tags": [
     "hide-input"
    ]
   },
   "outputs": [
    {
     "data": {
      "text/plain": [
       "array([52.785 ,  4.4244,  1.0172])"
      ]
     },
     "execution_count": 19,
     "metadata": {},
     "output_type": "execute_result"
    }
   ],
   "source": [
    "vk = s**2 / (n-1)\n",
    "vk"
   ]
  },
  {
   "cell_type": "markdown",
   "metadata": {},
   "source": [
    "In Scikit-Learn stehen entsprechende Methoden zur Verfügung, mit denen man diese Berechnungen sehr einfach durchführen lassen kann. Wir erhalten"
   ]
  },
  {
   "cell_type": "code",
   "execution_count": 20,
   "metadata": {
    "execution": {
     "iopub.execute_input": "2021-09-24T09:28:15.297348Z",
     "iopub.status.busy": "2021-09-24T09:28:15.296946Z",
     "iopub.status.idle": "2021-09-24T09:28:15.398237Z",
     "shell.execute_reply": "2021-09-24T09:28:15.397801Z"
    },
    "tags": [
     "hide-input"
    ]
   },
   "outputs": [
    {
     "data": {
      "image/png": "[encoded data removed]",
      "text/plain": [
       "<Figure size 432x288 with 1 Axes>"
      ]
     },
     "metadata": {
      "needs_background": "light"
     },
     "output_type": "display_data"
    }
   ],
   "source": [
    "#%matplotlib notebook\n",
    "\n",
    "from sklearn.decomposition import PCA\n",
    "\n",
    "plt.figure()\n",
    "plt.axes(projection='3d')\n",
    "plt.plot(*X, '.')\n",
    "#plt.axis('equal');\n",
    "\n",
    "pca = PCA(3)\n",
    "pca.fit(X.T)\n",
    "\n",
    "for col,u in enumerate(pca.components_.T):\n",
    "    plt.plot(*(np.c_[-u, u]*15 + Xbar));\n",
    "\n",
    "plt.gca().view_init(20,70)"
   ]
  },
  {
   "cell_type": "markdown",
   "metadata": {},
   "source": [
    "mit Hauptkomponenten"
   ]
  },
  {
   "cell_type": "code",
   "execution_count": 21,
   "metadata": {
    "execution": {
     "iopub.execute_input": "2021-09-24T09:28:15.400497Z",
     "iopub.status.busy": "2021-09-24T09:28:15.399489Z",
     "iopub.status.idle": "2021-09-24T09:28:15.402242Z",
     "shell.execute_reply": "2021-09-24T09:28:15.402572Z"
    },
    "tags": [
     "hide-input"
    ]
   },
   "outputs": [
    {
     "data": {
      "text/plain": [
       "array([[-0.6248, -0.6964,  0.3531],\n",
       "       [ 0.2762, -0.6201, -0.7342],\n",
       "       [ 0.7303, -0.3612,  0.5798]])"
      ]
     },
     "execution_count": 21,
     "metadata": {},
     "output_type": "execute_result"
    }
   ],
   "source": [
    "pca.components_.T"
   ]
  },
  {
   "cell_type": "markdown",
   "metadata": {},
   "source": [
    "und Varianzen"
   ]
  },
  {
   "cell_type": "code",
   "execution_count": 22,
   "metadata": {
    "execution": {
     "iopub.execute_input": "2021-09-24T09:28:15.405231Z",
     "iopub.status.busy": "2021-09-24T09:28:15.404840Z",
     "iopub.status.idle": "2021-09-24T09:28:15.406558Z",
     "shell.execute_reply": "2021-09-24T09:28:15.406884Z"
    },
    "tags": [
     "hide-input"
    ]
   },
   "outputs": [
    {
     "data": {
      "text/plain": [
       "array([52.785 ,  4.4244,  1.0172])"
      ]
     },
     "execution_count": 22,
     "metadata": {},
     "output_type": "execute_result"
    }
   ],
   "source": [
    "pca.explained_variance_"
   ]
  },
  {
   "cell_type": "markdown",
   "metadata": {},
   "source": [
    "### PCA bei Klassifikation von Ziffern"
   ]
  },
  {
   "cell_type": "markdown",
   "metadata": {},
   "source": [
    "Wir wenden die oben erklärten Methoden auf die Klassifikation\n",
    "von handschriftlichen Ziffern an.\n",
    "\n",
    "In Scikit-Learn gibt es einen enstprechenden Datensatz mit\n",
    "8x8-Pixel Graustufenbildern."
   ]
  },
  {
   "cell_type": "code",
   "execution_count": 23,
   "metadata": {
    "code_folding": [],
    "execution": {
     "iopub.execute_input": "2021-09-24T09:28:15.413445Z",
     "iopub.status.busy": "2021-09-24T09:28:15.408209Z",
     "iopub.status.idle": "2021-09-24T09:28:16.591121Z",
     "shell.execute_reply": "2021-09-24T09:28:16.590828Z"
    },
    "tags": [
     "hide-input"
    ]
   },
   "outputs": [
    {
     "data": {
      "image/png": "[encoded data removed]",
      "text/plain": [
       "<Figure size 720x288 with 20 Axes>"
      ]
     },
     "metadata": {
      "needs_background": "light"
     },
     "output_type": "display_data"
    }
   ],
   "source": [
    "%matplotlib inline\n",
    "\n",
    "from sklearn import datasets\n",
    "from sklearn import svm\n",
    "from sklearn import metrics\n",
    "\n",
    "ds = datasets.load_digits()\n",
    "X = ds.data\n",
    "y = ds.target\n",
    "\n",
    "def digiplot(imgs, target = [], n = 10, mi = 8, pi = 8):\n",
    "    # Anzahl der Subplots\n",
    "    if imgs.ndim < 2:\n",
    "        images = imgs.copy()\n",
    "        images.shape = np.r_[1,imgs.shape]\n",
    "        ni = 1\n",
    "        m = 1\n",
    "        n = 1\n",
    "        fig, ax = plt.subplots(m, n, figsize = [n, 2.0*m])\n",
    "        ax.axis('off')\n",
    "        ax = [ax]\n",
    "    else:\n",
    "        images = imgs\n",
    "        ni = images.shape[0]\n",
    "        m = (ni -1) // n + 1\n",
    "        \n",
    "        if m==1:\n",
    "            n = ni\n",
    "        \n",
    "        fig, ax = plt.subplots(m, n, figsize = [n, 2.0*m])\n",
    "        ax = ax.flatten()\n",
    "        for axk in ax:\n",
    "            axk.axis('off')        \n",
    "\n",
    "    for k, axk in enumerate(ax[:ni]):\n",
    "        axk.matshow(images[k].reshape(mi,pi), cmap = plt.cm.gray_r)\n",
    "        axk.set_title(str(target[k]))\n",
    "\n",
    "ndigi = 20\n",
    "digiplot(X[-ndigi:], y[-ndigi:])"
   ]
  },
  {
   "cell_type": "markdown",
   "metadata": {},
   "source": [
    "Die 1797 Bilder sind in Form einer Matrix mit Spaltenvektoren der Dimension 64 abgespeichert:"
   ]
  },
  {
   "cell_type": "code",
   "execution_count": 24,
   "metadata": {
    "execution": {
     "iopub.execute_input": "2021-09-24T09:28:16.593703Z",
     "iopub.status.busy": "2021-09-24T09:28:16.593246Z",
     "iopub.status.idle": "2021-09-24T09:28:16.595598Z",
     "shell.execute_reply": "2021-09-24T09:28:16.595237Z"
    },
    "tags": [
     "hide-input"
    ]
   },
   "outputs": [
    {
     "data": {
      "text/plain": [
       "(1797, 64)"
      ]
     },
     "execution_count": 24,
     "metadata": {},
     "output_type": "execute_result"
    }
   ],
   "source": [
    "X.shape"
   ]
  },
  {
   "cell_type": "markdown",
   "metadata": {},
   "source": [
    "### Klassifikation mit k-Means-Clustering ohne PCA"
   ]
  },
  {
   "cell_type": "markdown",
   "metadata": {},
   "source": [
    "Wir lassen den Datensatz jetzt direkt mit k-Means-Clustering in 10 Klassen einteilen. Die einzelnen Daten $x_j$ haben Dimension 64. "
   ]
  },
  {
   "cell_type": "code",
   "execution_count": 25,
   "metadata": {
    "execution": {
     "iopub.execute_input": "2021-09-24T09:28:16.598766Z",
     "iopub.status.busy": "2021-09-24T09:28:16.598362Z",
     "iopub.status.idle": "2021-09-24T09:28:22.258009Z",
     "shell.execute_reply": "2021-09-24T09:28:22.257703Z"
    },
    "tags": [
     "hide-input"
    ]
   },
   "outputs": [
    {
     "data": {
      "image/png": "[encoded data removed]",
      "text/plain": [
       "<Figure size 720x144 with 10 Axes>"
      ]
     },
     "metadata": {
      "needs_background": "light"
     },
     "output_type": "display_data"
    },
    {
     "data": {
      "image/png": "[encoded data removed]",
      "text/plain": [
       "<Figure size 720x144 with 10 Axes>"
      ]
     },
     "metadata": {
      "needs_background": "light"
     },
     "output_type": "display_data"
    },
    {
     "data": {
      "image/png": "[encoded data removed]",
      "text/plain": [
       "<Figure size 720x144 with 10 Axes>"
      ]
     },
     "metadata": {
      "needs_background": "light"
     },
     "output_type": "display_data"
    },
    {
     "data": {
      "image/png": "[encoded data removed]",
      "text/plain": [
       "<Figure size 720x144 with 10 Axes>"
      ]
     },
     "metadata": {
      "needs_background": "light"
     },
     "output_type": "display_data"
    },
    {
     "data": {
      "image/png": "[encoded data removed]",
      "text/plain": [
       "<Figure size 720x144 with 10 Axes>"
      ]
     },
     "metadata": {
      "needs_background": "light"
     },
     "output_type": "display_data"
    },
    {
     "data": {
      "image/png": "[encoded data removed]",
      "text/plain": [
       "<Figure size 720x144 with 10 Axes>"
      ]
     },
     "metadata": {
      "needs_background": "light"
     },
     "output_type": "display_data"
    },
    {
     "data": {
      "image/png": "[encoded data removed]",
      "text/plain": [
       "<Figure size 720x144 with 10 Axes>"
      ]
     },
     "metadata": {
      "needs_background": "light"
     },
     "output_type": "display_data"
    },
    {
     "data": {
      "image/png": "[encoded data removed]",
      "text/plain": [
       "<Figure size 720x144 with 10 Axes>"
      ]
     },
     "metadata": {
      "needs_background": "light"
     },
     "output_type": "display_data"
    },
    {
     "data": {
      "image/png": "[encoded data removed]",
      "text/plain": [
       "<Figure size 720x144 with 10 Axes>"
      ]
     },
     "metadata": {
      "needs_background": "light"
     },
     "output_type": "display_data"
    },
    {
     "data": {
      "image/png": "[encoded data removed]",
      "text/plain": [
       "<Figure size 720x144 with 10 Axes>"
      ]
     },
     "metadata": {
      "needs_background": "light"
     },
     "output_type": "display_data"
    }
   ],
   "source": [
    "from sklearn.cluster import KMeans\n",
    "\n",
    "km = KMeans(n_clusters = 10, random_state = seed)\n",
    "yd = km.fit_predict(X)\n",
    "\n",
    "for k in range(10):\n",
    "    ii = np.argwhere(yd == k).ravel()[:10]\n",
    "    digiplot(X[ii], list(zip(yd[ii], y[ii])))"
   ]
  },
  {
   "cell_type": "markdown",
   "metadata": {},
   "source": [
    "Zur besseren Übersicht wandeln wir die Klassennummern in die (vermeintlich) erkannten Ziffern um."
   ]
  },
  {
   "cell_type": "code",
   "execution_count": 26,
   "metadata": {
    "execution": {
     "iopub.execute_input": "2021-09-24T09:28:22.262175Z",
     "iopub.status.busy": "2021-09-24T09:28:22.261884Z",
     "iopub.status.idle": "2021-09-24T09:28:23.327628Z",
     "shell.execute_reply": "2021-09-24T09:28:23.327244Z"
    },
    "tags": [
     "hide-input"
    ]
   },
   "outputs": [
    {
     "data": {
      "image/png": "[encoded data removed]",
      "text/plain": [
       "<Figure size 720x288 with 20 Axes>"
      ]
     },
     "metadata": {
      "needs_background": "light"
     },
     "output_type": "display_data"
    }
   ],
   "source": [
    "def ytrans(yd, y):\n",
    "    ydcl = np.sort(np.unique(yd))\n",
    "    \n",
    "    tt = np.zeros(ydcl.shape, dtype = np.int32)\n",
    "    for k,ydk in enumerate(ydcl):\n",
    "        ii = np.argwhere(yd == ydk).ravel()\n",
    "        u, uc = np.unique(y[ii], return_counts = True)\n",
    "        tt[k] = u[uc.argmax()]\n",
    "    \n",
    "    ttt = np.sort(np.unique(tt))\n",
    "    if ttt.shape[0] != ydcl.shape[0]:\n",
    "        print(\"**** Fehler ****\")\n",
    "        tt = np.array([], dtype = np.int32)\n",
    "    return(tt)\n",
    "\n",
    "tt = ytrans(yd, y)\n",
    "ydt = tt[yd]\n",
    "digiplot(X[-ndigi:], ydt[-ndigi:])"
   ]
  },
  {
   "cell_type": "markdown",
   "metadata": {},
   "source": [
    "Die Beurteilung des Ergebnisses erfolgt wieder mit den Standardmethoden von Scikit-Learn"
   ]
  },
  {
   "cell_type": "code",
   "execution_count": 27,
   "metadata": {
    "execution": {
     "iopub.execute_input": "2021-09-24T09:28:23.330035Z",
     "iopub.status.busy": "2021-09-24T09:28:23.329673Z",
     "iopub.status.idle": "2021-09-24T09:28:23.336259Z",
     "shell.execute_reply": "2021-09-24T09:28:23.335965Z"
    },
    "tags": [
     "hide-input"
    ]
   },
   "outputs": [
    {
     "name": "stdout",
     "output_type": "stream",
     "text": [
      "              precision    recall  f1-score   support\n",
      "\n",
      "           0       0.99      0.99      0.99       178\n",
      "           1       0.60      0.30      0.40       182\n",
      "           2       0.84      0.83      0.84       177\n",
      "           3       0.88      0.85      0.86       183\n",
      "           4       0.98      0.90      0.94       181\n",
      "           5       0.93      0.75      0.83       182\n",
      "           6       0.97      0.98      0.98       181\n",
      "           7       0.83      0.98      0.90       179\n",
      "           8       0.45      0.57      0.51       174\n",
      "           9       0.56      0.78      0.66       180\n",
      "\n",
      "    accuracy                           0.79      1797\n",
      "   macro avg       0.80      0.79      0.79      1797\n",
      "weighted avg       0.81      0.79      0.79      1797\n",
      "\n"
     ]
    }
   ],
   "source": [
    "print(metrics.classification_report(y, ydt))"
   ]
  },
  {
   "cell_type": "markdown",
   "metadata": {},
   "source": [
    "#### Klassifikation mit PCA und k-Means-Clustering "
   ]
  },
  {
   "cell_type": "markdown",
   "metadata": {},
   "source": [
    "Wir führen zunächst eine (partielle) PCA durch und schauen uns die Varianzen der\n",
    "Hauptrichtungen an"
   ]
  },
  {
   "cell_type": "code",
   "execution_count": 28,
   "metadata": {
    "execution": {
     "iopub.execute_input": "2021-09-24T09:28:23.338879Z",
     "iopub.status.busy": "2021-09-24T09:28:23.338453Z",
     "iopub.status.idle": "2021-09-24T09:28:23.347364Z",
     "shell.execute_reply": "2021-09-24T09:28:23.347044Z"
    },
    "tags": [
     "hide-input"
    ]
   },
   "outputs": [
    {
     "data": {
      "text/plain": [
       "array([179.0069, 163.7177, 141.7884, 101.1004,  69.5132,  59.1085,\n",
       "        51.8845,  44.0151,  40.311 ,  37.0118,  28.519 ,  27.3212,\n",
       "        21.9015,  21.3244,  17.6367,  16.9469,  15.8514,  15.0045,\n",
       "        12.2345,  10.8869,  10.6936,   9.5826,   9.2264,   8.6903,\n",
       "         8.3656,   7.1658,   6.9197,   6.1929,   5.8849,   5.1559,\n",
       "         4.4902,   4.2463])"
      ]
     },
     "execution_count": 28,
     "metadata": {},
     "output_type": "execute_result"
    }
   ],
   "source": [
    "from sklearn.decomposition import PCA\n",
    "\n",
    "nu = 32\n",
    "pca = PCA(nu)\n",
    "pca.fit(X)\n",
    "pca.explained_variance_"
   ]
  },
  {
   "cell_type": "markdown",
   "metadata": {},
   "source": [
    "bzw. die relativen Varianzen bezogen auf die Varianz von $X$"
   ]
  },
  {
   "cell_type": "code",
   "execution_count": 29,
   "metadata": {
    "execution": {
     "iopub.execute_input": "2021-09-24T09:28:23.350730Z",
     "iopub.status.busy": "2021-09-24T09:28:23.350314Z",
     "iopub.status.idle": "2021-09-24T09:28:23.352698Z",
     "shell.execute_reply": "2021-09-24T09:28:23.352373Z"
    },
    "tags": [
     "hide-input"
    ]
   },
   "outputs": [
    {
     "data": {
      "text/plain": [
       "array([0.1489, 0.1362, 0.1179, 0.0841, 0.0578, 0.0492, 0.0432, 0.0366,\n",
       "       0.0335, 0.0308, 0.0237, 0.0227, 0.0182, 0.0177, 0.0147, 0.0141,\n",
       "       0.0132, 0.0125, 0.0102, 0.0091, 0.0089, 0.008 , 0.0077, 0.0072,\n",
       "       0.007 , 0.006 , 0.0058, 0.0052, 0.0049, 0.0043, 0.0037, 0.0035])"
      ]
     },
     "execution_count": 29,
     "metadata": {},
     "output_type": "execute_result"
    }
   ],
   "source": [
    "pca.explained_variance_ratio_"
   ]
  },
  {
   "cell_type": "markdown",
   "metadata": {},
   "source": [
    "Die Varianzen fallen stark ab. Kumuliert erhalten wir"
   ]
  },
  {
   "cell_type": "code",
   "execution_count": 30,
   "metadata": {
    "execution": {
     "iopub.execute_input": "2021-09-24T09:28:23.355957Z",
     "iopub.status.busy": "2021-09-24T09:28:23.355505Z",
     "iopub.status.idle": "2021-09-24T09:28:23.357594Z",
     "shell.execute_reply": "2021-09-24T09:28:23.357335Z"
    },
    "tags": [
     "hide-input"
    ]
   },
   "outputs": [
    {
     "data": {
      "text/plain": [
       "array([0.1489, 0.2851, 0.403 , 0.4871, 0.545 , 0.5941, 0.6373, 0.6739,\n",
       "       0.7074, 0.7382, 0.762 , 0.7847, 0.8029, 0.8206, 0.8353, 0.8494,\n",
       "       0.8626, 0.8751, 0.8852, 0.8943, 0.9032, 0.9112, 0.9188, 0.9261,\n",
       "       0.933 , 0.939 , 0.9447, 0.9499, 0.9548, 0.9591, 0.9628, 0.9664])"
      ]
     },
     "execution_count": 30,
     "metadata": {},
     "output_type": "execute_result"
    }
   ],
   "source": [
    "varcum = pca.explained_variance_ratio_.cumsum()\n",
    "varcum"
   ]
  },
  {
   "cell_type": "markdown",
   "metadata": {},
   "source": [
    "Mehr als 90 Prozent der Varianz von $X$ erreichen wir schon mit sehr wenigen\n",
    "Hauptkomponenten"
   ]
  },
  {
   "cell_type": "code",
   "execution_count": 31,
   "metadata": {
    "execution": {
     "iopub.execute_input": "2021-09-24T09:28:23.360553Z",
     "iopub.status.busy": "2021-09-24T09:28:23.360150Z",
     "iopub.status.idle": "2021-09-24T09:28:23.362387Z",
     "shell.execute_reply": "2021-09-24T09:28:23.362115Z"
    },
    "tags": [
     "hide-input"
    ]
   },
   "outputs": [
    {
     "data": {
      "text/plain": [
       "20"
      ]
     },
     "execution_count": 31,
     "metadata": {},
     "output_type": "execute_result"
    }
   ],
   "source": [
    "n90 = np.argwhere(varcum > 0.9).min()\n",
    "n90"
   ]
  },
  {
   "cell_type": "markdown",
   "metadata": {},
   "source": [
    "Wir klassifizieren den Datensatz erneut indem wir\n",
    "    \n",
    "- zunächst mit PCA die Dimension der Daten reduzieren\n",
    "\n",
    "- dann wieder k-Means anwenden"
   ]
  },
  {
   "cell_type": "code",
   "execution_count": 32,
   "metadata": {
    "execution": {
     "iopub.execute_input": "2021-09-24T09:28:23.366720Z",
     "iopub.status.busy": "2021-09-24T09:28:23.366397Z",
     "iopub.status.idle": "2021-09-24T09:28:24.804294Z",
     "shell.execute_reply": "2021-09-24T09:28:24.803984Z"
    },
    "tags": [
     "hide-input"
    ]
   },
   "outputs": [
    {
     "data": {
      "image/png": "[encoded data removed]",
      "text/plain": [
       "<Figure size 720x288 with 20 Axes>"
      ]
     },
     "metadata": {
      "needs_background": "light"
     },
     "output_type": "display_data"
    }
   ],
   "source": [
    "from sklearn.pipeline import Pipeline\n",
    "\n",
    "km = KMeans(n_clusters = 10, random_state = seed)\n",
    "pca = PCA(n90)\n",
    "\n",
    "clf = Pipeline(steps = [('PCA', pca), ('k-Means', km)])\n",
    "\n",
    "ydpca = clf.fit_predict(X)\n",
    "\n",
    "ttpca = ytrans(ydpca, y)\n",
    "ydpcat = ttpca[ydpca]\n",
    "digiplot(X[-ndigi:], ydpcat[-ndigi:])"
   ]
  },
  {
   "cell_type": "markdown",
   "metadata": {},
   "source": [
    "Die Ergebnisse sind nur unwesentlich schlechter als im Fall ohne PCA."
   ]
  },
  {
   "cell_type": "code",
   "execution_count": 33,
   "metadata": {
    "execution": {
     "iopub.execute_input": "2021-09-24T09:28:24.807344Z",
     "iopub.status.busy": "2021-09-24T09:28:24.807021Z",
     "iopub.status.idle": "2021-09-24T09:28:24.813956Z",
     "shell.execute_reply": "2021-09-24T09:28:24.813670Z"
    },
    "tags": [
     "hide-input"
    ]
   },
   "outputs": [
    {
     "name": "stdout",
     "output_type": "stream",
     "text": [
      "              precision    recall  f1-score   support\n",
      "\n",
      "           0       0.99      0.99      0.99       178\n",
      "           1       0.61      0.30      0.40       182\n",
      "           2       0.84      0.83      0.84       177\n",
      "           3       0.87      0.85      0.86       183\n",
      "           4       0.98      0.91      0.94       181\n",
      "           5       0.92      0.75      0.82       182\n",
      "           6       0.97      0.98      0.98       181\n",
      "           7       0.82      0.98      0.89       179\n",
      "           8       0.45      0.58      0.51       174\n",
      "           9       0.57      0.77      0.66       180\n",
      "\n",
      "    accuracy                           0.79      1797\n",
      "   macro avg       0.80      0.79      0.79      1797\n",
      "weighted avg       0.80      0.79      0.79      1797\n",
      "\n"
     ]
    }
   ],
   "source": [
    "print(metrics.classification_report(y, ydpcat))"
   ]
  },
  {
   "cell_type": "markdown",
   "metadata": {},
   "source": [
    "Die Daten mit denen wir hier gearbeitet haben hatten dabei die\n",
    "reduzierte Dimension"
   ]
  },
  {
   "cell_type": "code",
   "execution_count": 34,
   "metadata": {
    "execution": {
     "iopub.execute_input": "2021-09-24T09:28:24.816831Z",
     "iopub.status.busy": "2021-09-24T09:28:24.816366Z",
     "iopub.status.idle": "2021-09-24T09:28:24.822723Z",
     "shell.execute_reply": "2021-09-24T09:28:24.822334Z"
    },
    "tags": [
     "hide-input"
    ]
   },
   "outputs": [
    {
     "data": {
      "text/plain": [
       "(1797, 20)"
      ]
     },
     "execution_count": 34,
     "metadata": {},
     "output_type": "execute_result"
    }
   ],
   "source": [
    "pca.fit_transform(X).shape"
   ]
  },
  {
   "cell_type": "markdown",
   "metadata": {},
   "source": [
    "## Zusammenfassung"
   ]
  },
  {
   "cell_type": "markdown",
   "metadata": {},
   "source": [
    "- mit SVD können lineare Modelle bzw. hochdimensionale Daten vereinfacht werden\n",
    "\n",
    "- die Berechnung von Singulärwerten und -vektoren kann mit Methoden der linearen Algebra\n",
    "oder der konvexen, restringierten Optimierung erfolgen"
   ]
  }
 ],
 "metadata": {
  "hide_input": false,
  "kernelspec": {
   "display_name": "Python 3 (ipykernel)",
   "language": "python",
   "name": "python3"
  },
  "language_info": {
   "codemirror_mode": {
    "name": "ipython",
    "version": 3
   },
   "file_extension": ".py",
   "mimetype": "text/x-python",
   "name": "python",
   "nbconvert_exporter": "python",
   "pygments_lexer": "ipython3",
   "version": "3.8.11"
  },
  "nbTranslate": {
   "displayLangs": [
    "fr",
    "en"
   ],
   "hotkey": "alt-t",
   "langInMainMenu": false,
   "sourceLang": "en",
   "targetLang": "fr",
   "useGoogleTranslate": true
  }
 },
 "nbformat": 4,
 "nbformat_minor": 2
}
