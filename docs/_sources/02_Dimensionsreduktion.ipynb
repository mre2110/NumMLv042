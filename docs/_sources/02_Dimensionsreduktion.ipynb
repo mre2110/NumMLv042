{
 "cells": [
  {
   "cell_type": "markdown",
   "metadata": {},
   "source": [
    "# Dimensionsreduktion"
   ]
  },
  {
   "cell_type": "markdown",
   "metadata": {},
   "source": [
    "## Überblick"
   ]
  },
  {
   "cell_type": "markdown",
   "metadata": {},
   "source": [
    "Wir betrachten Methoden, um lineare Modelle bei Regressionsproblemen zu vereinfachen\n",
    "bzw. bei hochdimensionalen Datensätzen Dimensionsreduktionen durchzuführen.\n",
    "Das wesentliche Werkzeug dazu ist die **Singulärwertzerlegung**\n",
    "\n",
    "Die Singulärwertzerlegung kommt ursprünglich aus der linearen Algebra.\n",
    "Dort zeigt man, dass jede Matrix $A\\in\\mathbb{R}^{m\\times n}$ sich in\n",
    "\\begin{equation*} \n",
    "A = U\\Sigma V^T\n",
    "\\end{equation*}\n",
    "mit\n",
    "\\begin{equation*} \n",
    "\\quad\n",
    "U\\in\\mathbb{R}^{m\\times m}, \n",
    "\\quad\n",
    "V\\in\\mathbb{R}^{n\\times n},  \n",
    "\\quad\n",
    "\\Sigma = \\text{diag}\\big(\\sigma_1, \\ldots, \\sigma_r, 0, \\ldots,0 \\big)\\in\\mathbb{R}^{m\\times n}\n",
    "\\end{equation*}\n",
    "und\n",
    "$\\sigma_1 \\ge \\ldots \\ge \\sigma_r > 0$,\n",
    "$r \\le \\min(m,n)$,\n",
    "zerlegen lässt, wobei $U,V$ orthonormal sind.\n",
    "\n",
    "Geometrisch bedeutet das, dass man immer orthonormale Basen\n",
    "$V$ im Urbild-Raum und $U$ im Bildraum finden kann, so dass sich die zu $A$ gehörige\n",
    "lineare Abbildung bezüglich dieser\n",
    "Basen als Diagonalmatrix $\\Sigma$ darstellen lässt.\n",
    "\n",
    "Die Singulärwertzerlegung stellt somit eine Verallgemeinerung der Diagonalisierbarkeit\n",
    "quadratischer Matrizen (und damit der Eigenwert- und Eigenvektor-Berechnung) dar.\n",
    "\n",
    "Andererseits kann man die Berechnung von Singulärwerten und Singulärvektoren aber auch\n",
    "als restringiertes konvexes Optimierungsproblem beschreiben. Für den ersten Spaltenvektor $v_1$  von $V$ gilt\n",
    "\\begin{equation*} \n",
    "v_1 = \\text{argmax}_{\\|v\\|_2^2=1}f(v) = \\text{argmax}_{\\|v\\|_2^2 \\leq 1}f(v),\n",
    "\\quad\n",
    "f(v) = \\|A v\\|_2^2,\n",
    "\\quad\n",
    "f(v_1) = \\sigma_1^2.\n",
    "\\end{equation*}\n",
    "Allgemein gilt mit $V_k = \\text{span}(v_1,\\ldots,v_k)$\n",
    "\\begin{equation*} \n",
    "v_k = \\text{argmax}_{\\|v\\|_2^2=1, v\\bot V_{k-1}}f(v) = \\text{argmax}_{\\|v\\|_2^2\\leq 1, v\\bot V_{k-1}}f(v),\n",
    "\\quad\n",
    "f(v) = \\|Av\\|_2^2,\n",
    "\\quad\n",
    "f(v_k) = \\sigma_{k}^2.\n",
    "\\end{equation*}\n",
    "\n",
    "Für die numerische Berechnung von Singulärwerten und -vektoren haben\n",
    "wir damit die Möglichkeit, Algorithmen aus beiden Bereichen anzuwenden.\n",
    "Welche Verfahren dabei effizienter sind, hängt stark von der konkreten Aufgabenstellung\n",
    "ab."
   ]
  },
  {
   "cell_type": "markdown",
   "metadata": {},
   "source": [
    "## Modellvereinfachung"
   ]
  },
  {
   "cell_type": "markdown",
   "metadata": {},
   "source": [
    "### Regressionsproblem"
   ]
  },
  {
   "cell_type": "markdown",
   "metadata": {},
   "source": [
    "Wir betrachten wieder das lineares Regressionsproblem aus dem letzten Abschnitt"
   ]
  },
  {
   "cell_type": "code",
   "execution_count": 1,
   "metadata": {
    "execution": {
     "iopub.execute_input": "2021-09-24T09:28:12.780405Z",
     "iopub.status.busy": "2021-09-24T09:28:12.780093Z",
     "iopub.status.idle": "2021-09-24T09:28:13.236974Z",
     "shell.execute_reply": "2021-09-24T09:28:13.236630Z"
    },
    "tags": [
     "hide-input"
    ]
   },
   "outputs": [
    {
     "data": {
      "image/png": "[encoded data removed]",
      "text/plain": [
       "<Figure size 432x288 with 1 Axes>"
      ]
     },
     "metadata": {
      "needs_background": "light"
     },
     "output_type": "display_data"
    }
   ],
   "source": [
    "import autograd.numpy as np\n",
    "from autograd import jacobian\n",
    "\n",
    "import scipy as sp\n",
    "import matplotlib.pyplot as plt\n",
    "import sympy as sy\n",
    "\n",
    "seed = 17\n",
    "\n",
    "from IPython.display import Math\n",
    "%precision 5\n",
    "np.set_printoptions(precision=4)\n",
    "\n",
    "\n",
    "m = 100\n",
    "\n",
    "delta = 1e-1\n",
    "\n",
    "h = lambda x : 5 - 7*x + 3 * x**2\n",
    "\n",
    "np.random.seed(seed)\n",
    "x = np.random.rand(m)\n",
    "y = h(x) + delta * np.random.randn(*x.shape)\n",
    "\n",
    "%matplotlib inline\n",
    "plt.plot(x, y, 'b.');"
   ]
  },
  {
   "cell_type": "markdown",
   "metadata": {},
   "source": [
    "benutzen aber als Modellfunktion\n",
    "\\begin{equation*} \n",
    "g(x,w) = w_1 + w_2\\,(x-1) + w_3(x + 1)\n",
    "\\end{equation*}\n",
    "bei unverändertem Loss\n",
    "\\begin{equation*} \n",
    "l(w) = \\frac{1}{m}\\sum_{i=1}^m l_i(w),\n",
    "\\quad\n",
    "l_i(w) = \\frac{1}{2} \\big( g(x_i,w) - y_i \\big)^2. \n",
    "\\end{equation*}\n",
    "Die Modellfunktion ist \"überparametriert\":\n",
    "\n",
    "- mit $g$ können beliebige Geraden erzeugt werden\n",
    "\n",
    "- dafür reichen aber bereits zwei Parameter"
   ]
  },
  {
   "cell_type": "markdown",
   "metadata": {},
   "source": [
    "Mit\n",
    "\\begin{equation*} \n",
    "X = \n",
    "\\begin{pmatrix}\n",
    "1 & x_1 - 1 & x_1 + 1\\\\\n",
    "\\vdots & \\vdots & \\vdots\\\\\n",
    "1 & x_m - 1 & x_m + 1\n",
    "\\end{pmatrix}\n",
    "\\in \\mathbb{R}^{m\\times 3},\n",
    "\\quad\n",
    "\\end{equation*}\n",
    "und\n",
    "\\begin{equation*} \n",
    "w = \n",
    "\\begin{pmatrix}\n",
    "w_1 \\\\ w_2 \\\\w_3\n",
    "\\end{pmatrix},\n",
    "\\quad\n",
    "y = \n",
    "\\begin{pmatrix}\n",
    "y_1\\\\\n",
    "\\vdots\\\\\n",
    "y_m\n",
    "\\end{pmatrix}\n",
    "\\in \\mathbb{R}^m\n",
    "\\end{equation*}\n",
    "können wir $l$ umschreiben zu\n",
    "\\begin{equation*} \n",
    "l(x)=\\frac{1}{2m} \\|Xw - y\\|_2^2 = \\frac{1}{2m}(Xw - y)^T (Xw - y)\n",
    "\\end{equation*}\n",
    "und erhalten\n",
    "\\begin{equation*} \n",
    "l'(w) = \\frac{1}{m}X^T(Xw - y),\n",
    "\\quad\n",
    "l''(w) = \\frac{1}{m}X^T X.\n",
    "\\end{equation*}\n",
    "Unsere Zielfunktion ist also nach wie vor quadratisch und konvex.\n",
    "\n",
    "Wir wenden jetzt nacheinander die Algorithmen aus dem letzten Abschnitt an."
   ]
  },
  {
   "cell_type": "markdown",
   "metadata": {},
   "source": [
    "### GD"
   ]
  },
  {
   "cell_type": "markdown",
   "metadata": {},
   "source": [
    "Direkte Anwendung von GD liefert folgende Ergebnisse."
   ]
  },
  {
   "cell_type": "code",
   "execution_count": 2,
   "metadata": {
    "code_folding": [
     6,
     22,
     31
    ],
    "execution": {
     "iopub.execute_input": "2021-09-24T09:28:13.263263Z",
     "iopub.status.busy": "2021-09-24T09:28:13.262936Z",
     "iopub.status.idle": "2021-09-24T09:28:13.743802Z",
     "shell.execute_reply": "2021-09-24T09:28:13.743468Z"
    },
    "tags": [
     "hide-input"
    ]
   },
   "outputs": [
    {
     "name": "stdout",
     "output_type": "stream",
     "text": [
      "w = [-0.9954 -2.5079 -1.5126], l(w) = 0.055993\n"
     ]
    },
    {
     "data": {
      "image/png": "[encoded data removed]",
      "text/plain": [
       "<Figure size 432x288 with 1 Axes>"
      ]
     },
     "metadata": {
      "needs_background": "light"
     },
     "output_type": "display_data"
    },
    {
     "data": {
      "image/png": "[encoded data removed]",
      "text/plain": [
       "<Figure size 432x288 with 1 Axes>"
      ]
     },
     "metadata": {
      "needs_background": "light"
     },
     "output_type": "display_data"
    }
   ],
   "source": [
    "npar = 3\n",
    "\n",
    "def g(x, w):\n",
    "    return w[0] + w[1] * (x - 1) + w[2] * (x - 2) \n",
    "    #return w[0] + w[1] * x + w[2] * x**2 + w[3] * x**3\n",
    "\n",
    "def l(w):\n",
    "    return ((g(x, w) - y)**2).mean()\n",
    "\n",
    "l1 = jacobian(l)\n",
    "\n",
    "def GD(w0, l1, gamma = 1.0, nit = 20):\n",
    "    ww = [w0]\n",
    "    w  = w0.copy()\n",
    "    \n",
    "    for k in range(nit):\n",
    "        w = w - gamma * l1(w)\n",
    "        ww.append(w)\n",
    "    \n",
    "    return ww\n",
    "\n",
    "\n",
    "def evalw(w, x, y):\n",
    "    # Fit\n",
    "    plt.figure(1)\n",
    "    plt.plot(x, y, '.');\n",
    "    xp = np.linspace(x.min(), x.max())\n",
    "    plt.plot(xp, g(xp, w), 'r');\n",
    "    plt.xlabel('$x$')\n",
    "    plt.ylabel('$y$', rotation=0)\n",
    "\n",
    "def evalwl(w, l, x, y):\n",
    "    # Konvergenzgeschwindigkeit\n",
    "    plt.figure(2)\n",
    "    plt.semilogy(list(map(l, w)))\n",
    "    plt.xlabel('$k$')\n",
    "    plt.ylabel('$l(w^{(k)})$', rotation=0)\n",
    "    \n",
    "\n",
    "w0 = np.zeros(npar)\n",
    "w = GD(w0, l1, gamma = 0.1, nit = 300)\n",
    "evalw(w[-1], x, y)\n",
    "evalwl(w, l, x, y)\n",
    "print(\"w = {}, l(w) = {:f}\".format(w[-1], l(w[-1])))"
   ]
  },
  {
   "cell_type": "markdown",
   "metadata": {},
   "source": [
    "Ändern wir den Startwert so erhalten wir zwar einen ähnlichen Wert für $l$, aber\n",
    "einen anderen Parametersatz $w$."
   ]
  },
  {
   "cell_type": "code",
   "execution_count": 3,
   "metadata": {
    "execution": {
     "iopub.execute_input": "2021-09-24T09:28:13.864850Z",
     "iopub.status.busy": "2021-09-24T09:28:13.863966Z",
     "iopub.status.idle": "2021-09-24T09:28:14.113663Z",
     "shell.execute_reply": "2021-09-24T09:28:14.113360Z"
    },
    "tags": [
     "hide-input"
    ]
   },
   "outputs": [
    {
     "name": "stdout",
     "output_type": "stream",
     "text": [
      "w = [-0.6512 -2.828  -1.1768], l(w) = 0.056096\n"
     ]
    },
    {
     "data": {
      "image/png": "[encoded data removed]",
      "text/plain": [
       "<Figure size 432x288 with 1 Axes>"
      ]
     },
     "metadata": {
      "needs_background": "light"
     },
     "output_type": "display_data"
    },
    {
     "data": {
      "image/png": "[encoded data removed]",
      "text/plain": [
       "<Figure size 432x288 with 1 Axes>"
      ]
     },
     "metadata": {
      "needs_background": "light"
     },
     "output_type": "display_data"
    }
   ],
   "source": [
    "w0 = np.ones(npar)\n",
    "w = GD(w0, l1, gamma = 0.1, nit = 300)\n",
    "evalw(w[-1], x, y)\n",
    "evalwl(w, l, x, y)\n",
    "print(\"w = {}, l(w) = {:f}\".format(w[-1], l(w[-1])))"
   ]
  },
  {
   "cell_type": "markdown",
   "metadata": {},
   "source": [
    "GD zeigt dabei unverändertes Konvergenzverhalten."
   ]
  },
  {
   "cell_type": "markdown",
   "metadata": {},
   "source": [
    "### Newton"
   ]
  },
  {
   "cell_type": "markdown",
   "metadata": {},
   "source": [
    "Die Iterationsvorschrift für das einfache Newton-Verfahren lautet\n",
    "\\begin{equation*} \n",
    "w^{(k+1)} = w^{(k)} -  l''\\big( w^{(k)} \\big)^{-1} l'\\big( w^{(k)} \\big).\n",
    "\\end{equation*}\n",
    "In unserem Beispiel ist \n",
    "\\begin{equation*} \n",
    "l''(w) = \\frac{1}{m}X^T X, \n",
    "\\quad\n",
    "X = \n",
    "\\begin{pmatrix}\n",
    "1 & x_1 - 1 & x_1 + 1\\\\\n",
    "\\vdots & \\vdots & \\vdots\\\\\n",
    "1 & x_m - 1 & x_m + 1\n",
    "\\end{pmatrix}.\n",
    "\\end{equation*}\n",
    "Da die Spalten von $X$ linear abhängig sind, hat $X$ keinen vollen Rang so dass die Hessematrix $l''$ singulär (nur positiv semidefinit)\n",
    "ist. Somit ist das einfache Newton-Verfahren nicht anwendbar."
   ]
  },
  {
   "cell_type": "markdown",
   "metadata": {},
   "source": [
    "Singuläre Hesse-Matrizen treten bei Optimierungsproblemen häufig auf, weshalb es eine ganze Reihe von modifizierten Newton-Varianten gibt (gedämpfte Newton-Verfahren, Quasi-Newton, Gauß-Newton, Trust-Region, siehe auch [scipy.optimize.minimize](https://docs.scipy.org/doc/scipy/reference/generated/scipy.optimize.minimize.html)), die \n",
    "dieses Problem auf unterschiedliche Art und Weise umschiffen.\n",
    "\n",
    "Wir wenden BFGS an, ein Quasi-Newton-Verfahren dass adaptiv\n",
    "spd-Näherungen $B^{(k)}$ der Hesse-Matrix benutzt. Für\n",
    "$w^{(0)}, B^{(0)}$ gegeben berechnet man\n",
    "\\begin{align*}\n",
    "B^{(k)} p^{(k)} \n",
    "&= -l'(w^{(k)}) \\\\\n",
    "w^{(k+1)} \n",
    "&= w^{(k)} + \\gamma^{(k)} p^{(k)} \\\\\n",
    "B^{(k+1)} \n",
    "&= B^{(k)} + \\frac{ y^{(k)} {y^{(k)}}^T }{ {h^{(k)}}^T y^{(k)} } \n",
    "- \\frac{ u^{(k)}{u^{(k)}}^T }{ {h^{(k)}}^T u^{(k)} }\n",
    "\\end{align*}\n",
    "mit\n",
    "\\begin{equation*} \n",
    "h^{(k)} = w^{(k+1)} - w^{(k)},\n",
    "\\quad\n",
    "y^{(k)}= l'(w^{(k+1)}) - l'(w^{(k)}),\n",
    "\\quad\n",
    "u^{(k)} = B^{(k)} h^{(k)}.\n",
    "\\end{equation*}\n",
    "$\\gamma^{(k)}$ wird dabei durch Liniensuche bestimmt."
   ]
  },
  {
   "cell_type": "markdown",
   "metadata": {},
   "source": [
    "Wir benutzen die BFGS Implementierung von [SciPy](https://www.scipy.org/) und erhalten für zwei unterschiedliche Startwerte folgende Ergebnisse."
   ]
  },
  {
   "cell_type": "code",
   "execution_count": 4,
   "metadata": {
    "execution": {
     "iopub.execute_input": "2021-09-24T09:28:14.116744Z",
     "iopub.status.busy": "2021-09-24T09:28:14.116361Z",
     "iopub.status.idle": "2021-09-24T09:28:14.261938Z",
     "shell.execute_reply": "2021-09-24T09:28:14.261637Z"
    },
    "tags": [
     "hide-input"
    ]
   },
   "outputs": [
    {
     "name": "stdout",
     "output_type": "stream",
     "text": [
      "Optimization terminated successfully.\n",
      "         Current function value: 0.055920\n",
      "         Iterations: 8\n",
      "         Function evaluations: 9\n",
      "         Gradient evaluations: 9\n",
      "w = [-1.0151 -2.532  -1.5169], l(w) = 0.055920\n"
     ]
    },
    {
     "data": {
      "image/png": "[encoded data removed]",
      "text/plain": [
       "<Figure size 432x288 with 1 Axes>"
      ]
     },
     "metadata": {
      "needs_background": "light"
     },
     "output_type": "display_data"
    }
   ],
   "source": [
    "from scipy.optimize import minimize\n",
    "\n",
    "w0 = np.zeros(npar)\n",
    "w = minimize(l, w0, method = 'BFGS', jac = l1, options={'disp': True} ).x\n",
    "evalw(w, x, y)\n",
    "print(\"w = {}, l(w) = {:f}\".format(w, l(w)))"
   ]
  },
  {
   "cell_type": "code",
   "execution_count": 5,
   "metadata": {
    "execution": {
     "iopub.execute_input": "2021-09-24T09:28:14.265478Z",
     "iopub.status.busy": "2021-09-24T09:28:14.264949Z",
     "iopub.status.idle": "2021-09-24T09:28:14.335599Z",
     "shell.execute_reply": "2021-09-24T09:28:14.335298Z"
    },
    "tags": [
     "hide-input"
    ]
   },
   "outputs": [
    {
     "name": "stdout",
     "output_type": "stream",
     "text": [
      "Optimization terminated successfully.\n",
      "         Current function value: 0.055920\n",
      "         Iterations: 7\n",
      "         Function evaluations: 8\n",
      "         Gradient evaluations: 8\n",
      "w = [-0.6817 -2.8653 -1.1836], l(w) = 0.055920\n"
     ]
    },
    {
     "data": {
      "image/png": "[encoded data removed]",
      "text/plain": [
       "<Figure size 432x288 with 1 Axes>"
      ]
     },
     "metadata": {
      "needs_background": "light"
     },
     "output_type": "display_data"
    }
   ],
   "source": [
    "w0 = np.ones(npar)\n",
    "w = minimize(l, w0, method = 'BFGS', jac = l1, options={'disp': True} ).x\n",
    "evalw(w, x, y)\n",
    "print(\"w = {}, l(w) = {:f}\".format(w, l(w)))"
   ]
  },
  {
   "cell_type": "markdown",
   "metadata": {},
   "source": [
    "Die Ergebnisse sind vergleichbar mit denen von GD, allerdings ist\n",
    "die Anzahl der Iterationen (und damit der Aufwand) deutlich geringer."
   ]
  },
  {
   "cell_type": "markdown",
   "metadata": {},
   "source": [
    "### Normalgleichungen"
   ]
  },
  {
   "cell_type": "markdown",
   "metadata": {},
   "source": [
    "Wir betrachten jetzt das Normalgleichungssystem\n",
    "\\begin{equation*} \n",
    "X^TXw = X^Ty.\n",
    "\\end{equation*}\n",
    "Da $X$ linear abhängige Spalten hat, ist $X^TX$\n",
    "positiv semidefinit, also nicht regulär. \n",
    "Wie wir oben gesehen haben, existieren aber immer Lösungen dieses\n",
    "Systems."
   ]
  },
  {
   "cell_type": "markdown",
   "metadata": {},
   "source": [
    "Wie lösen wir jetzt numerisch dieses singuläre Gleichungssystem?\n",
    "\n",
    "Direkte Verfahren (LU, Cholesky, QR) sind prinzipiell anwendbar, leiden aber oft an Stabilitätsproblemen."
   ]
  },
  {
   "cell_type": "markdown",
   "metadata": {},
   "source": [
    "Bei den iterativen Verfahren betrachten wir wieder CGLS, wenden es auf unser Beispielproblem an\n",
    "und erhalten für zwei unterschiedliche Startwerte die folgenden Ergebnisse."
   ]
  },
  {
   "cell_type": "code",
   "execution_count": 6,
   "metadata": {
    "code_folding": [],
    "execution": {
     "iopub.execute_input": "2021-09-24T09:28:14.347447Z",
     "iopub.status.busy": "2021-09-24T09:28:14.344750Z",
     "iopub.status.idle": "2021-09-24T09:28:14.406104Z",
     "shell.execute_reply": "2021-09-24T09:28:14.405810Z"
    },
    "tags": [
     "hide-input"
    ]
   },
   "outputs": [
    {
     "name": "stdout",
     "output_type": "stream",
     "text": [
      "w = [-1.0151 -2.532  -1.5169], l(w) = 0.055920\n"
     ]
    },
    {
     "data": {
      "image/png": "[encoded data removed]",
      "text/plain": [
       "<Figure size 432x288 with 1 Axes>"
      ]
     },
     "metadata": {
      "needs_background": "light"
     },
     "output_type": "display_data"
    }
   ],
   "source": [
    "def CGLS(w0, X, y, nit = 20):\n",
    "    ww = [w0]\n",
    "    w = w0.copy()\n",
    "    s = y - X.dot(w)\n",
    "    r = X.T.dot(s)\n",
    "    p = r.copy()\n",
    "    \n",
    "    rr = r.dot(r)\n",
    "    \n",
    "    for k in range(nit):\n",
    "        Xp  = X.dot(p)\n",
    "        al  = rr / Xp.dot(Xp)\n",
    "        w   = w + al * p\n",
    "        s   = s - al * Xp\n",
    "        r   = X.T.dot(s)\n",
    "        rrn = r.dot(r)\n",
    "        be  = rrn / rr\n",
    "        p   = r + be * p\n",
    "        \n",
    "        rr = rrn\n",
    "        ww.append(w)\n",
    "        \n",
    "    return(ww)\n",
    "\n",
    "\n",
    "wX = np.eye(npar)\n",
    "X = np.array([g(x, wX[k]) for k in range(npar)]).T\n",
    "\n",
    "w0 = np.zeros(npar)\n",
    "w = CGLS(w0, X, y)\n",
    "evalw(w[-1], x, y)\n",
    "print(\"w = {}, l(w) = {:f}\".format(w[-1], l(w[-1])))"
   ]
  },
  {
   "cell_type": "code",
   "execution_count": 7,
   "metadata": {
    "execution": {
     "iopub.execute_input": "2021-09-24T09:28:14.408706Z",
     "iopub.status.busy": "2021-09-24T09:28:14.408344Z",
     "iopub.status.idle": "2021-09-24T09:28:14.473617Z",
     "shell.execute_reply": "2021-09-24T09:28:14.473325Z"
    },
    "tags": [
     "hide-input"
    ]
   },
   "outputs": [
    {
     "name": "stdout",
     "output_type": "stream",
     "text": [
      "w = [-0.6817 -2.8653 -1.1836], l(w) = 0.055920\n"
     ]
    },
    {
     "data": {
      "image/png": "[encoded data removed]",
      "text/plain": [
       "<Figure size 432x288 with 1 Axes>"
      ]
     },
     "metadata": {
      "needs_background": "light"
     },
     "output_type": "display_data"
    }
   ],
   "source": [
    "w0 = np.ones(npar)\n",
    "w = CGLS(w0, X, y)\n",
    "evalw(w[-1], x, y)\n",
    "print(\"w = {}, l(w) = {:f}\".format(w[-1], l(w[-1])))"
   ]
  },
  {
   "cell_type": "markdown",
   "metadata": {},
   "source": [
    "CGLS erreicht bereits im zweiten Schritt wieder (eine) exakte Lösung der Normalgleichungen. Je nach Startwert erhält man unterschiedliche Parameter $w$, die aber die selbe Modellfunktion parametrieren."
   ]
  },
  {
   "cell_type": "markdown",
   "metadata": {},
   "source": [
    "### Pseudoinverse und Singulärwertzerlegung (SVD)"
   ]
  },
  {
   "cell_type": "markdown",
   "metadata": {},
   "source": [
    "Um diese Mehrdeutigkeiten zu beseitigen suchen wir jetzt eine Lösung $w^+$ der Normalgleichungen, die selbst möglichst kleine Norm $\\|w\\|_2$ hat, also\n",
    "\\begin{equation*} \n",
    "\\|X w -y \\|_2^2 \\to \\min\n",
    "\\quad\\text{und}\\quad\n",
    "\\|w \\|_2^2 \\to \\min.\n",
    "\\end{equation*}\n",
    "Dieses Problem hat immer eine eindeutige Lösung $w^+$. Sie hängt linear von $y$ ab,\n",
    "d.h. zu $X\\in\\mathbb{R}^{m\\times n}$ gibt es eine eindeutige Matrix $X^+\\in\\mathbb{R}^{n\\times m}$,\n",
    "die **Pseudoinverse**, mit\n",
    "\\begin{equation*} \n",
    "w^+ = X^+ y.\n",
    "\\end{equation*}\n",
    "Es gibt direkte Verfahren (über QR-Zerlegungen) um $X^+$ zu berechnen, in der Praxis\n",
    "wird $X^+$ in der Regel über die **Singulärwertzerlegung** bestimmt.\n",
    "\n",
    "Jede Matrix $X\\in\\mathbb{R}^{m\\times n}$ lässt sich zerlegen\n",
    "in\n",
    "\\begin{equation*} \n",
    "X = U\\Sigma V^T, \n",
    "\\end{equation*}\n",
    "wobei\n",
    "$U\\in\\mathbb{R}^{m\\times m}$, \n",
    "$V\\in\\mathbb{R}^{n\\times n}$ orthonormal sind und\n",
    "\\begin{equation*} \n",
    "\\Sigma = \\text{diag}\\big(\\sigma_1, \\ldots, \\sigma_r, 0, \\ldots,0 \\big)\\in\\mathbb{R}^{m\\times n},\n",
    "\\quad r \\le \\min(m,n).\n",
    "\\end{equation*}\n",
    "Dabei sind\n",
    "\\begin{equation*} \n",
    "\\sigma_1 \\ge \\ldots \\ge \\sigma_r > 0\n",
    "\\end{equation*}\n",
    "die **Singulärwerte** und $r$ der Rang von $X$."
   ]
  },
  {
   "cell_type": "markdown",
   "metadata": {},
   "source": [
    "Damit können wir jetzt das Normalgleichungssystem mit Zusatzbedingung (also $w^+ = X^+ y$) \n",
    "über das dazu äquivalente Optimierungsproblem \n",
    "\\begin{equation*} \n",
    "\\|X w -y \\|_2^2 \\to \\min\n",
    "\\quad\\text{und}\\quad\n",
    "\\|w \\|_2^2 \\to \\min\n",
    "\\end{equation*}\n",
    "ganz einfach lösen. \n",
    "Für orthonormale Matrizen $Q$ gilt $\\|Qw \\|_2 = \\|w \\|_2$, $Q^{-1}=Q^T$, und somit\n",
    "\\begin{align*} \n",
    "\\|X w -y \\|_2^2 \n",
    "&= \\|U\\Sigma V^T w -y \\|_2^2\\\\\n",
    "&= \\|\\Sigma V^T w - U^Ty \\|_2^2\\\\\n",
    "&= \\|\\Sigma \\tilde{w} - \\tilde{y} \\|_2^2\n",
    "\\end{align*}\n",
    "mit\n",
    "\\begin{equation*} \n",
    "\\tilde{w} = V^T w, \\quad \\|\\tilde{w}\\|_2^2 = \\|w\\|_2^2\n",
    "\\end{equation*}\n",
    "und $\\tilde{y} = U^Ty$. Wir müssen jetzt also die Lösung $\\tilde{w}^+$ von\n",
    "\\begin{equation*} \n",
    "\\|\\Sigma \\tilde{w} - \\tilde{y} \\|_2^2 \\to \\min\n",
    "\\quad\\text{und}\\quad\n",
    "\\|\\tilde{w} \\|_2^2 \\to \\min\n",
    "\\end{equation*}\n",
    "bestimmen und erhalten $w^+ =V\\tilde{w}^+$."
   ]
  },
  {
   "cell_type": "markdown",
   "metadata": {},
   "source": [
    "Nun ist aber\n",
    "\\begin{equation*} \n",
    "\\|\\Sigma \\tilde{w} - \\tilde{y} \\|_2^2 = \\sum_{i=1}^r (\\sigma_i \\tilde{w}_i - \\tilde{y}_i\\big)^2 + \\sum_{i=r+1}^m\\tilde{y}_i^2,\n",
    "\\end{equation*}\n",
    "so dass $\\|\\Sigma \\tilde{w} - \\tilde{y} \\|_2^2$ minimal wird für\n",
    "\\begin{equation*} \n",
    "\\tilde{w}^+_i = \\frac{\\tilde{y}_i}{\\sigma_i}, \\quad i=1,\\ldots,r.\n",
    "\\end{equation*}\n",
    "Damit sind die ersten $r$ Komponenten von $\\tilde{w}^+$ bestimmt.\n",
    "Wegen\n",
    "\\begin{equation*} \n",
    "\\|\\tilde{w}\\|_2^2 = \\sum_{i=1}^n \\tilde{w}_i^2,\n",
    "\\end{equation*}\n",
    "wird $\\|\\tilde{w}\\|_2^2$ minimal für\n",
    "\\begin{equation*} \n",
    "\\tilde{w}^+_i = 0, \\quad i=r+1,\\ldots,n.\n",
    "\\end{equation*}\n",
    "Somit ist\n",
    "\\begin{equation*} \n",
    "\\tilde{w}^+ = \\Big(\\frac{\\tilde{y}_1}{\\sigma_1}, \\ldots, \\frac{\\tilde{y}_r}{\\sigma_r}, 0, \\ldots, 0 \\Big)^T\n",
    "\\end{equation*}\n",
    "und $w^+ =V\\tilde{w}^+$. Wegen $\\tilde{y} = U^Ty$ kann man $w^+$ jetzt schreiben als\n",
    "\\begin{equation*} \n",
    "w^+ = V\\Sigma^+ U^T y, \n",
    "\\quad\n",
    "\\Sigma^+ = \\text{diag}\\Big(\\frac{1}{\\sigma_1}, \\ldots, \\frac{1}{\\sigma_r}, 0, \\ldots, 0 \\Big)\\in\\mathbb{R}^{n\\times m}.\n",
    "\\end{equation*}\n",
    "Ist also \n",
    "\\begin{equation*} \n",
    "X = U\\Sigma V^T\n",
    "\\end{equation*}\n",
    "eine Singulärwertzerlegung von $X$, dann ist die Pseudoinverse\n",
    "\\begin{equation*} \n",
    "X^+ = V\\Sigma^+ U^T\n",
    "\\end{equation*}\n",
    "und $\\Sigma^+$ ist die Pseudoinverse von $\\Sigma$."
   ]
  },
  {
   "cell_type": "markdown",
   "metadata": {},
   "source": [
    "Wie berechnet man nun numerisch eine Singulärwertzerlegung?\n",
    "Einen ersten Hinweis bekommt man durch folgende Beziehungen\n",
    "\\begin{equation*} \n",
    "X = U \\Sigma V^T\n",
    "\\quad\\Rightarrow\\quad\n",
    "X^T X = V \\Sigma^T \\Sigma V^T,\n",
    "\\quad\n",
    "X X^T = U \\Sigma \\Sigma^T U^T.\n",
    "\\end{equation*}\n",
    "Da $U,V$ orthonormal und quadratisch und $\\Sigma^T \\Sigma$, $\\Sigma \\Sigma^T$  Diagonalmatrizen sind,\n",
    "haben wir damit eine Eigenwert-/Eigenvektorzerlegung der beiden quadratischen\n",
    "symmetrischen Matrizen $X^T X$, $X X^T$,\n",
    "d.h.\n",
    "\n",
    "- $\\sigma_i^2$, $i = 1,\\ldots,r$, sind die positiven Eigenwerte von $X^T X$, $X X^T$, alle weiteren Eigenwerte sind $0$\n",
    "\n",
    "- die Spalten von $V$ sind die Eigenvektoren von $X^T X$\n",
    "\n",
    "- die Spalten von $U$ sind die Eigenvektoren von $X X^T$\n",
    "\n",
    "Damit könnte man numerisch wie folgt vorgehen:\n",
    "\n",
    "- berechne (z.B. mit QR-Iteration mit Shift) alle Eigenwerte $\\lambda_i$ und Eigenvektoren $v_i$ von $X^T X$,\n",
    "  \\begin{equation*} \n",
    "  \\lambda_1 \\ge \\ldots \\ge \\lambda_r >0, \n",
    "  \\quad \n",
    "  \\lambda_{r+1} = \\ldots = \\lambda_n = 0\n",
    "  \\end{equation*}\n",
    "\n",
    "- $\\sigma_i = \\sqrt{\\lambda_i},\\quad i = 1,\\ldots,r$\n",
    "\n",
    "- $V = \\big(v_1,\\ldots,v_n \\big)$\n",
    "\n",
    "- aus $U \\Sigma = XV$ folgt für die $i$-te Spalte der Matrizen \n",
    "  \\begin{equation*} \n",
    "  (U \\Sigma)_i = u_i \\sigma_i,\n",
    "  \\quad \n",
    "  (XV)_i = Xv_i\n",
    "  \\end{equation*}\n",
    "  somit\n",
    "  \\begin{equation*} \n",
    "  u_i  \n",
    "  = \\frac{1}{\\sigma_i}Xv_i,\n",
    "  \\quad i = 1,\\ldots,r\n",
    "  \\end{equation*}\n",
    "- ergänze $u_1,\\ldots,u_r$ zu einer Orthonormalbasis $u_1,\\ldots,u_m$ (z.B. mit modifiziertem Gram-Schmidt)\n",
    "  und setze\n",
    "  \\begin{equation*} \n",
    "  U = \\big(u_1,\\ldots,u_m \\big)\n",
    "  \\end{equation*}"
   ]
  },
  {
   "cell_type": "markdown",
   "metadata": {},
   "source": [
    "Alternativ könnte man natürlich auch über die Eigenwerte/Eigenvektoren von $XX^T$ die SVD berechnen.\n",
    "Beide Varianten sind nicht optimal (Aufwand, Kondition). \n",
    "\n",
    "Der heute gebräuchlichste Algorithmus vermeidet\n",
    "die explizite Berechnung von $X^TX$. Er basiert zunächst auf der Beobachtung, dass die Singulärwerte\n",
    "von $X$ identisch sind mit den Singulärwerten von\n",
    "\\begin{equation*} \n",
    "TXS, \\quad T,S \\text{ orthonormal.}\n",
    "\\end{equation*}\n",
    "\n",
    "Im ersten Schritt wird mit einer Folge von Householder-Transformationen von links und rechts $T,S$ so bestimmt, dass\n",
    "\\begin{equation*} \n",
    "TXS = R, \\quad R \\text{ bidiagonal,}\n",
    "\\end{equation*}\n",
    "was das Analogon zur Hessenbergtransformation bei der Eigenwertberechnung ist.\n",
    "\n",
    "Der zweite Schritt beruht auf einer angepassten QR-Iteration zur Berechnung der\n",
    "Singulärwerte (Wurzel der Eigenwerte von $R^TR$), ohne $R^TR$ explizit zu berechnen."
   ]
  },
  {
   "cell_type": "markdown",
   "metadata": {},
   "source": [
    "Wir wenden nun die Pseudoinverse an, um unser unterbestimmtes Regressionsproblem zu lösen."
   ]
  },
  {
   "cell_type": "code",
   "execution_count": 8,
   "metadata": {
    "execution": {
     "iopub.execute_input": "2021-09-24T09:28:14.476297Z",
     "iopub.status.busy": "2021-09-24T09:28:14.475884Z",
     "iopub.status.idle": "2021-09-24T09:28:14.555342Z",
     "shell.execute_reply": "2021-09-24T09:28:14.555668Z"
    },
    "tags": [
     "hide-input"
    ]
   },
   "outputs": [
    {
     "name": "stdout",
     "output_type": "stream",
     "text": [
      "w = [-1.0151 -2.532  -1.5169], l(w) = 0.055920\n"
     ]
    },
    {
     "data": {
      "image/png": "[encoded data removed]",
      "text/plain": [
       "<Figure size 432x288 with 1 Axes>"
      ]
     },
     "metadata": {
      "needs_background": "light"
     },
     "output_type": "display_data"
    }
   ],
   "source": [
    "w = np.linalg.pinv(X).dot(y)\n",
    "evalw(w, x, y)\n",
    "print(\"w = {}, l(w) = {:f}\".format(w, l(w)))"
   ]
  },
  {
   "cell_type": "markdown",
   "metadata": {},
   "source": [
    "### Abgeschnittene Singulärwertzerlegung (TSVD)"
   ]
  },
  {
   "cell_type": "markdown",
   "metadata": {},
   "source": [
    "Jede Matrix $X\\in\\mathbb{R}^{m\\times n}$ kann\n",
    "in\n",
    "\\begin{equation*} \n",
    "X = U\\Sigma V^T, \n",
    "\\end{equation*}\n",
    "$U\\in\\mathbb{R}^{m\\times m}$, \n",
    "$V\\in\\mathbb{R}^{n\\times n}$, \n",
    "\\begin{equation*} \n",
    "\\Sigma = \\text{diag}\\big(\\sigma_1, \\ldots, \\sigma_r, 0, \\ldots,0 \\big)\\in\\mathbb{R}^{m\\times n},\n",
    "\\quad\n",
    "r \\le \\min(m,n)\n",
    "\\end{equation*}\n",
    "zerlegt werden.\n",
    "\n",
    "Da in $\\Sigma$ nur die ersten $r$ Diagonalelemente ungleich $0$ sind\n",
    "folgt\n",
    "\\begin{equation*} \n",
    "X \n",
    "= U\\Sigma V^T\n",
    "= \\sum_{i=1}^r u_i \\sigma_i v_i^T\n",
    "= U_r\\Sigma_r V_r^T\n",
    "\\end{equation*}\n",
    "mit\n",
    "\\begin{align*} \n",
    "U_r \n",
    "&= \\big(u_1,\\ldots,u_r \\big) \\in \\mathbb{R}^{m\\times r}, \\\\\n",
    "\\Sigma_r \n",
    "&= \\text{diag}\\big(\\sigma_1,\\ldots,\\sigma_r \\big) \\in \\mathbb{R}^{r\\times r}, \\\\\n",
    "V_r \n",
    "&= \\big(v_1,\\ldots,v_r \\big) \\in \\mathbb{R}^{n\\times r}\n",
    "\\end{align*}\n",
    "sowie\n",
    "\\begin{equation*} \n",
    "X^+ = V_r \\Sigma_r^{-1} U_r^T.\n",
    "\\end{equation*}"
   ]
  },
  {
   "cell_type": "markdown",
   "metadata": {},
   "source": [
    "Ist $r \\ll \\min(m,n)$, so sind Matrixprodukte über $U_r\\Sigma_r V_r^T$,\n",
    "$V_r \\Sigma_r^{-1} U_r^T$ deutlich günstiger zu Berechnen als Produkte die direkt $X$, $X^+$ benutzen."
   ]
  },
  {
   "cell_type": "markdown",
   "metadata": {},
   "source": [
    "Nehmen wir nun an, dass $X\\in\\mathbb{R}^{m\\times n}$ Singulärwerte \n",
    "$\\sigma_1 \\ge \\ldots \\ge \\sigma_k \\ge \\sigma_{k+1} \\ge \\ldots \\ge \\sigma_r > 0$ mit\n",
    "\\begin{equation*} \n",
    "\\sigma_1  \\gg \\sigma_{k+1}\n",
    "\\end{equation*}\n",
    "hat. Damit erhalten wir\n",
    "\\begin{equation*} \n",
    "X \n",
    "= U\\Sigma V^T\n",
    "= \\sum_{i=1}^r u_i \\sigma_i v_i^T\n",
    "\\approx \\sum_{i=1}^k u_i \\sigma_i v_i^T\n",
    "= U_k\\Sigma_k V_k^T\n",
    "= X_k\n",
    "\\end{equation*}\n",
    "$X_k$ ist eine Rang-$k$-Approximation der Rang-$r$-Matrix $X$ (abgeschnittene Singulärwertzerlegung, TSVD), also\n",
    "eine vereinfachte Version unseres ursprünglichen linearen\n",
    "Modells, das durch $X$ repräsentiert wird.\n",
    "Wegen\n",
    "\\begin{equation*} \n",
    "X_k = U_k\\Sigma_k V_k^T\n",
    "\\end{equation*}\n",
    "ist $X_k$ für $k\\ll r$ numerisch viel effizienter zu bearbeiten als $X$."
   ]
  },
  {
   "cell_type": "markdown",
   "metadata": {},
   "source": [
    "Wir wenden nun die SVD auf unser Regressionsproblem von oben an und erhalten Singulärwerte"
   ]
  },
  {
   "cell_type": "code",
   "execution_count": 9,
   "metadata": {
    "execution": {
     "iopub.execute_input": "2021-09-24T09:28:14.558357Z",
     "iopub.status.busy": "2021-09-24T09:28:14.557777Z",
     "iopub.status.idle": "2021-09-24T09:28:14.560343Z",
     "shell.execute_reply": "2021-09-24T09:28:14.559955Z"
    },
    "tags": [
     "hide-input"
    ]
   },
   "outputs": [
    {
     "data": {
      "text/plain": [
       "array([1.8869e+01, 2.7241e+00, 9.2795e-16])"
      ]
     },
     "execution_count": 9,
     "metadata": {},
     "output_type": "execute_result"
    }
   ],
   "source": [
    "U,s,VT = np.linalg.svd(X)\n",
    "V = VT.T\n",
    "\n",
    "s"
   ]
  },
  {
   "cell_type": "markdown",
   "metadata": {},
   "source": [
    "Offensichtlich können wir hier $k = 2$, wählen d.h.  zwei Parameter reichen aus.\n",
    "Betrachten wir die zugehörigen Singulärbasen $V$"
   ]
  },
  {
   "cell_type": "code",
   "execution_count": 10,
   "metadata": {
    "execution": {
     "iopub.execute_input": "2021-09-24T09:28:14.562803Z",
     "iopub.status.busy": "2021-09-24T09:28:14.562420Z",
     "iopub.status.idle": "2021-09-24T09:28:14.564391Z",
     "shell.execute_reply": "2021-09-24T09:28:14.564055Z"
    },
    "tags": [
     "hide-input"
    ]
   },
   "outputs": [
    {
     "data": {
      "text/plain": [
       "array([[-0.5222,  0.6277, -0.5774],\n",
       "       [ 0.2825,  0.7661,  0.5774],\n",
       "       [ 0.8047,  0.1383, -0.5774]])"
      ]
     },
     "execution_count": 10,
     "metadata": {},
     "output_type": "execute_result"
    }
   ],
   "source": [
    "V"
   ]
  },
  {
   "cell_type": "markdown",
   "metadata": {},
   "source": [
    "dann sehen wir, dass Parameterkombinationen $w = s(-1,1,-1)^T$, $s\\in\\mathbb{R}$, vernachlässigbar sind.\n",
    "Durch Einschränkung auf die ersten beiden Singulärbasen kann man das Modell dann vereinfachen und wir erhalten"
   ]
  },
  {
   "cell_type": "code",
   "execution_count": 11,
   "metadata": {
    "execution": {
     "iopub.execute_input": "2021-09-24T09:28:14.574908Z",
     "iopub.status.busy": "2021-09-24T09:28:14.566554Z",
     "iopub.status.idle": "2021-09-24T09:28:14.638459Z",
     "shell.execute_reply": "2021-09-24T09:28:14.638787Z"
    },
    "tags": [
     "hide-input"
    ]
   },
   "outputs": [
    {
     "name": "stdout",
     "output_type": "stream",
     "text": [
      "w = [-1.0151 -2.532  -1.5169], l(w) = 0.055920\n"
     ]
    },
    {
     "data": {
      "image/png": "[encoded data removed]",
      "text/plain": [
       "<Figure size 432x288 with 1 Axes>"
      ]
     },
     "metadata": {
      "needs_background": "light"
     },
     "output_type": "display_data"
    }
   ],
   "source": [
    "k = 2\n",
    "Xk = X.dot(V[:,:k])\n",
    "\n",
    "wk = np.linalg.pinv(Xk).dot(y)\n",
    "\n",
    "w = V[:,:k].dot(wk)\n",
    "\n",
    "evalw(w, x, y)\n",
    "print(\"w = {}, l(w) = {:f}\".format(w, l(w)))"
   ]
  },
  {
   "cell_type": "markdown",
   "metadata": {},
   "source": [
    "Jetzt betrachten wir zu den selben Daten $x_i,y_i$ das Regressionsproblem mit Modellfunktion\n",
    "\\begin{equation*} \n",
    "g(x,w) = w_1 + w_2 \\, x + w_3 \\, x^2 + w_4 \\, x^3\n",
    "\\end{equation*}\n",
    "\n",
    "Einfache Regression liefert das folgende Ergebnis"
   ]
  },
  {
   "cell_type": "code",
   "execution_count": 12,
   "metadata": {
    "execution": {
     "iopub.execute_input": "2021-09-24T09:28:14.643317Z",
     "iopub.status.busy": "2021-09-24T09:28:14.641736Z",
     "iopub.status.idle": "2021-09-24T09:28:14.722969Z",
     "shell.execute_reply": "2021-09-24T09:28:14.723295Z"
    },
    "tags": [
     "hide-input"
    ]
   },
   "outputs": [
    {
     "name": "stdout",
     "output_type": "stream",
     "text": [
      "w = [ 4.9521 -6.5425  2.0585  0.5842], l(w) = 0.010212\n"
     ]
    },
    {
     "data": {
      "image/png": "[encoded data removed]",
      "text/plain": [
       "<Figure size 432x288 with 1 Axes>"
      ]
     },
     "metadata": {
      "needs_background": "light"
     },
     "output_type": "display_data"
    }
   ],
   "source": [
    "npar = 4\n",
    "\n",
    "def g(x, w):\n",
    "    return w[0] + w[1] * x + w[2] * x**2 + w[3] * x**3\n",
    "\n",
    "\n",
    "wX = np.eye(npar)\n",
    "X = np.array([g(x, wX[k]) for k in range(npar)]).T\n",
    "\n",
    "w = np.linalg.pinv(X).dot(y)\n",
    "\n",
    "evalw(w, x, y)\n",
    "print(\"w = {}, l(w) = {:f}\".format(w, l(w)))"
   ]
  },
  {
   "cell_type": "markdown",
   "metadata": {},
   "source": [
    "Als Singulärwerte von $X$ erhalten wir"
   ]
  },
  {
   "cell_type": "code",
   "execution_count": 13,
   "metadata": {
    "execution": {
     "iopub.execute_input": "2021-09-24T09:28:14.726559Z",
     "iopub.status.busy": "2021-09-24T09:28:14.726191Z",
     "iopub.status.idle": "2021-09-24T09:28:14.728802Z",
     "shell.execute_reply": "2021-09-24T09:28:14.729118Z"
    },
    "tags": [
     "hide-input"
    ]
   },
   "outputs": [
    {
     "data": {
      "text/plain": [
       "array([12.3789,  4.0561,  0.8277,  0.0902])"
      ]
     },
     "execution_count": 13,
     "metadata": {},
     "output_type": "execute_result"
    }
   ],
   "source": [
    "wX = np.eye(npar)\n",
    "X = np.array([g(x, wX[k]) for k in range(npar)]).T\n",
    "\n",
    "U,s,VT = np.linalg.svd(X)\n",
    "V = VT.T\n",
    "\n",
    "s"
   ]
  },
  {
   "cell_type": "markdown",
   "metadata": {},
   "source": [
    "Hier würden wir bei $k=3$ abschneiden. Die Regression auf den reduzierten Daten liefert dann"
   ]
  },
  {
   "cell_type": "code",
   "execution_count": 14,
   "metadata": {
    "execution": {
     "iopub.execute_input": "2021-09-24T09:28:14.732253Z",
     "iopub.status.busy": "2021-09-24T09:28:14.731845Z",
     "iopub.status.idle": "2021-09-24T09:28:14.816614Z",
     "shell.execute_reply": "2021-09-24T09:28:14.816941Z"
    },
    "tags": [
     "hide-input"
    ]
   },
   "outputs": [
    {
     "name": "stdout",
     "output_type": "stream",
     "text": [
      "w = [ 4.853  -5.3505 -0.8073  2.4439], l(w) = 0.011277\n"
     ]
    },
    {
     "data": {
      "image/png": "[encoded data removed]",
      "text/plain": [
       "<Figure size 432x288 with 1 Axes>"
      ]
     },
     "metadata": {
      "needs_background": "light"
     },
     "output_type": "display_data"
    }
   ],
   "source": [
    "k = 3\n",
    "Xk = X.dot(V[:,:k])\n",
    "\n",
    "wk = np.linalg.pinv(Xk).dot(y)\n",
    "\n",
    "w = V[:,:k].dot(wk)\n",
    "\n",
    "evalw(w, x, y)\n",
    "print(\"w = {}, l(w) = {:f}\".format(w, l(w)))"
   ]
  },
  {
   "cell_type": "markdown",
   "metadata": {},
   "source": [
    "## Dimensionsreduktion über Principle Component Analysis (PCA)"
   ]
  },
  {
   "cell_type": "markdown",
   "metadata": {},
   "source": [
    "### Motivation"
   ]
  },
  {
   "cell_type": "markdown",
   "metadata": {},
   "source": [
    "Oft sind die Daten in Form hochdimensionaler Vektoren\n",
    "$x_j\\in \\mathbb{R}^m$, $j=1,\\ldots,n$, also\n",
    "\\begin{equation*} \n",
    "X = (x_1,\\ldots,x_n) \\in \\mathbb{R}^{m \\times n}\n",
    "\\end{equation*}\n",
    "mit $m$ groß gegeben. Ein typische Beispiel ist die Verarbeitung\n",
    "von Bildern ($m$ ist die Anzahl der Pixel multipliziert mit der Anzahl der Farbkanäle).\n",
    "\n",
    "Die direkte Anwendung von numerischen Algorithmen ist dann meistens mit großem Rechenaufwand verbunden.\n",
    "Deshalb versucht man, die Dimension der Daten zunächst zu reduzieren\n",
    "und zwar so, dass der dadurch entstehende Informationsverlust möglichst gering ist.\n",
    "\n",
    "Wir betrachten den folgenden zweidimensionalen Beispieldatensatz"
   ]
  },
  {
   "cell_type": "code",
   "execution_count": 15,
   "metadata": {
    "execution": {
     "iopub.execute_input": "2021-09-24T09:28:14.820363Z",
     "iopub.status.busy": "2021-09-24T09:28:14.819978Z",
     "iopub.status.idle": "2021-09-24T09:28:15.123816Z",
     "shell.execute_reply": "2021-09-24T09:28:15.123517Z"
    },
    "tags": [
     "hide-input"
    ]
   },
   "outputs": [
    {
     "data": {
      "image/png": "[encoded data removed]",
      "text/plain": [
       "<Figure size 432x288 with 1 Axes>"
      ]
     },
     "metadata": {
      "needs_background": "light"
     },
     "output_type": "display_data"
    }
   ],
   "source": [
    "from sklearn.datasets import make_blobs\n",
    "\n",
    "X,y = make_blobs(n_features = 2, centers = 1, random_state = seed)\n",
    "\n",
    "np.random.seed(seed)\n",
    "T = np.random.rand(2,2)\n",
    "\n",
    "X = X.dot(T).T\n",
    "\n",
    "plt.scatter(*X, marker = '.')\n",
    "plt.axis('equal');"
   ]
  },
  {
   "cell_type": "markdown",
   "metadata": {},
   "source": [
    "Offensichtlich gibt es eine Richtung, in der die Daten\n",
    "stark variieren. Senkrecht dazu ist die Variation eher gering.\n",
    "\n",
    "Zur Datenreduktion könnte man nun eine Gerade in die Richtung\n",
    "der starken Variationen legen und die Projektionen der Daten\n",
    "auf diese Gerade betrachten.\n",
    "\n",
    "Die Projektion für einen Datenpunkt $x_i$ ist ein Skalar, also eine\n",
    "eindimensionale Größe (\"Koordinate entlang der Geraden\")\n",
    "\n",
    "Wenn diese Projektionen für die einzelnen Datenpunkte\n",
    "sich hinreichend stark unterscheiden, dann kann man z.B. ein\n",
    "Klassifikationsverfahren statt auf den zweidimensionalen\n",
    "Originaldaten ohne große Verluste auch auf den eindimensionlen\n",
    "Projektionen der Daten durchführen.\n",
    "\n",
    "Um die weiteren Betrachtungen zu vereinfachen, zentrieren\n",
    "wir den Datensatz. Den allgemeinen Fall behandeln wir im Anschluss."
   ]
  },
  {
   "cell_type": "code",
   "execution_count": 16,
   "metadata": {
    "execution": {
     "iopub.execute_input": "2021-09-24T09:28:15.135922Z",
     "iopub.status.busy": "2021-09-24T09:28:15.135167Z",
     "iopub.status.idle": "2021-09-24T09:28:15.201568Z",
     "shell.execute_reply": "2021-09-24T09:28:15.201261Z"
    },
    "tags": [
     "hide-input"
    ]
   },
   "outputs": [
    {
     "data": {
      "image/png": "[encoded data removed]",
      "text/plain": [
       "<Figure size 432x288 with 1 Axes>"
      ]
     },
     "metadata": {
      "needs_background": "light"
     },
     "output_type": "display_data"
    }
   ],
   "source": [
    "X = X - X.mean(axis=1).reshape(-1,1)\n",
    "\n",
    "U, s, VT = np.linalg.svd(X)\n",
    "v = U[: ,0]\n",
    "\n",
    "plt.scatter(*X, marker = '.')\n",
    "plt.axis('equal');\n",
    "\n",
    "plt.plot(*(np.c_[-v, v] * 2), 'g')\n",
    "\n",
    "Xi = X[:,45]\n",
    "plt.plot(*Xi, 'r.')\n",
    "\n",
    "pXi = Xi.dot(v) * v\n",
    "eXi = Xi - pXi\n",
    "\n",
    "plt.plot(*np.c_[0*pXi, pXi], 'r');\n",
    "plt.plot(*np.c_[pXi, Xi], 'r:');\n",
    "plt.plot(*np.c_[0*pXi, Xi], 'r:');"
   ]
  },
  {
   "cell_type": "markdown",
   "metadata": {},
   "source": [
    "### Mathematische Formulierung"
   ]
  },
  {
   "cell_type": "markdown",
   "metadata": {},
   "source": [
    "Gegeben ist also ein zentrierter Datensatz\n",
    "\\begin{equation*} \n",
    "x_j \\in \\mathbb{R}^m, \\quad j = 1,\\ldots,n,\n",
    "\\quad\n",
    "\\bar{X} = \\frac{1}{n} \\sum_{j=1}^n x_j = 0.\n",
    "\\end{equation*}\n",
    "Wir suchen eine Gerade\n",
    "\\begin{equation*} \n",
    "g(s) = s \\, u, \n",
    "\\quad s\\in \\mathbb{R}, \\quad u \\in \\mathbb{R}^m \\quad\\text{mit}\\quad \\|u\\|_2 = 1,\n",
    "\\end{equation*}\n",
    "so dass die Varianz \n",
    "\\begin{align*} \n",
    "V_1(u) \n",
    "&= \\frac{1}{n-1}\\sum_{j=1}^n (x_j,u)_2^2\\\\\n",
    "&= \\frac{1}{n-1}(X^T u, X^T u)_2\\\\\n",
    "%&= \\frac{1}{n-1}u^T X X^T u\\\\\n",
    "&= \\frac{1}{n-1} \\|X^T u\\|_2^2\n",
    "\\end{align*}\n",
    "der Projektionen von $x_i$ auf $u$ maximal wird.\n",
    "Mit der Singulärwertzerlegung $X = U\\Sigma V^T$ erhalten wir\n",
    "\\begin{align*} \n",
    "V_1(u) \n",
    "&= \\frac{1}{n-1} \\|V\\Sigma^T U^T u\\|_2^2\\\\\n",
    "&= \\frac{1}{n-1} \\|\\Sigma^T z\\|_2^2\\\\\n",
    "&= \\frac{1}{n-1} \\sum_{i=1}^r (\\sigma_i z)^2\\\\\n",
    "\\end{align*}\n",
    "mit\n",
    "\\begin{equation*} \n",
    "\\quad z =  U^T u,\n",
    "\\quad \\|z\\|_2 =  \\|u\\|_2.\n",
    "\\end{equation*}"
   ]
  },
  {
   "cell_type": "markdown",
   "metadata": {},
   "source": [
    "Wir müssen also das Problem\n",
    "\\begin{equation*} \n",
    "\\max_{z} f(z), \\quad g(z)= 0\n",
    "\\end{equation*}\n",
    "für\n",
    "\\begin{align*} \n",
    "f(z) \n",
    "&= \\sum_{i=1}^r (\\sigma_i z_i)^2 = \\|\\Sigma^T z\\|_2^2 = (\\Sigma^T z, \\Sigma^T z)_2,\n",
    "\\\\\n",
    "g(z) \n",
    "&= \\| z\\|_2^2 - 1 = (z, z)_2 - 1\n",
    "\\end{align*}\n",
    "lösen. \n",
    "Damit neben der Zielfunktion $f$ auch die Nebenbedingung $g$ differenzierbar ist benutzen wir\n",
    "nicht $\\|z\\|_2 = 1$ sondern äquivalent $\\|z\\|^2_2 = 1$.\n",
    "Beide Funktionen $f$ und $g$ sind auch konvex.\n",
    "\n",
    "Wir stellen nun die Lagrangefunktion \n",
    "\\begin{equation*} \n",
    "L(z,\\lambda) = f(z) - \\lambda g(z)\n",
    "\\end{equation*} \n",
    "auf und betrachten deren stationäre Punkte.\n",
    "Für die Ableitungen folgt nach der Produktregel\n",
    "\\begin{align*} \n",
    "\\partial_z L(z, \\lambda)(w)\n",
    "& = (\\Sigma^T w, \\Sigma^T z)_2 + (\\Sigma^T z, \\Sigma^T w)_2- \\lambda \\big((w, z)_2 + (z, w)_2\\big)\\\\\n",
    "& = 2 \\big((\\Sigma^T w, \\Sigma^T z)_2 - \\lambda (w, z)_2 \\big)\\\\\n",
    "& = 2 \\big(w^T\\Sigma \\Sigma^T z - \\lambda w^T z \\big)\n",
    "\\end{align*}\n",
    "also\n",
    "\\begin{equation*} \n",
    "\\partial_z L(z, \\lambda)\n",
    "= 2 \\big(\\Sigma \\Sigma^T z - \\lambda z \\big)\n",
    "\\end{equation*}\n",
    "bzw.\n",
    "\\begin{equation*} \n",
    "\\partial_\\lambda L(z, \\lambda)  = \\|z\\|_2^2 - 1\n",
    "\\end{equation*}"
   ]
  },
  {
   "cell_type": "markdown",
   "metadata": {},
   "source": [
    "Als notwendige Bedingung für eine Maximalstelle\n",
    "$\\hat{z}$ muss es ein $\\hat{\\lambda}\\in\\mathbb{R}$ geben mit\n",
    "\\begin{equation*} \n",
    "\\partial_z L(\\hat{z}, \\hat{\\lambda}) = 0,\n",
    "\\quad\n",
    "\\partial_\\lambda L(\\hat{z}, \\hat{\\lambda}) = 0.\n",
    "\\end{equation*}\n",
    "Für die Maximalstelle $\\hat{z}\\in\\mathbb{R}^m$ muss also\n",
    "\\begin{equation*} \n",
    "\\|\\hat{z}\\|_2 = 1,\n",
    "\\quad\n",
    "\\Sigma \\Sigma^T \\hat{z} = \\hat{\\lambda} \\hat{z}\n",
    "\\end{equation*}\n",
    "gelten, d.h. $\\hat{\\lambda}$, $\\hat{z}$ sind Eigenwert und Eigenvektor\n",
    "der Diagonalmatrix\n",
    "\\begin{equation*} \n",
    "\\Sigma \\Sigma^T = \n",
    "\\begin{pmatrix}\n",
    "\\sigma_1^2 \\\\\n",
    "& \\ddots\\\\\n",
    "&& \\sigma_r^2\\\\\n",
    "&&& 0\\\\\n",
    "&&&& \\ddots\n",
    "\\end{pmatrix},\n",
    "\\end{equation*}\n",
    "also\n",
    "\\begin{equation*} \n",
    "\\hat{z} = e_i,\n",
    "\\quad\n",
    "\\hat{\\lambda}_i = \n",
    "\\begin{cases}\n",
    "\\sigma_i^2 & i = 1,\\ldots,r \\\\\n",
    "0 & i>r\n",
    "\\end{cases},\n",
    "\\end{equation*}\n",
    "wobei $e_i$ der $i$-te Einheitsvektor ist.\n",
    "Als Wert unserer Zielfunktion $f$ erhalten wir\n",
    "\\begin{equation*} \n",
    "f(\\hat{z}) \n",
    "= \\|\\Sigma^T e_i\\|_2^2\n",
    "= \\sigma_i^2\n",
    "\\end{equation*}\n",
    "so dass das gesuchte Maximum für $i=1$ angenommen wird.\n",
    "\n"
   ]
  },
  {
   "cell_type": "markdown",
   "metadata": {},
   "source": [
    "Für unser Ausgangsproblem erhalten wir somit\n",
    "\\begin{equation*} \n",
    "\\hat{u} = U e_1= u_1,\n",
    "\\quad\n",
    "V_1(\\hat{u}) \n",
    "= \\frac{\\sigma_1^2}{n-1},\n",
    "\\quad\n",
    "X = U\\Sigma V^T,\n",
    "\\end{equation*}\n",
    "d.h. die Gerade mit maximaler Varianz der Projektionen wird vom ersten\n",
    "linken Singulärvektor $u_1$ von $X$ aufgespannt und die Varianz der Projektion\n",
    "ist durch den zugehörigen Singulärwert $\\sigma_i$ gegeben,\n",
    "oder anders ausgedrückt, $u_1$ ist\n",
    "der Eigenvektor von $C = XX^T$\n",
    "zum größten Eigenwert \n",
    "$\\lambda_1 = \\sigma_1^2$ und\n",
    "\\begin{equation*} \n",
    "V_1(u_1) \n",
    "= \\frac{\\lambda_1}{n-1}\n",
    ".\n",
    "\\end{equation*}"
   ]
  },
  {
   "cell_type": "markdown",
   "metadata": {},
   "source": [
    "Projiziert man die Daten $X$ jetzt auf $u_1^\\bot$, so reduziert sich die Dimension auf $(m-1)\\times n$. Wendet man die selben Überlegungen erneut an, so erhält man \n",
    "als zweite Richtung mit der zweitgrößten Varianz\n",
    "\\begin{equation*} \n",
    "\\hat{u} = u_2,\n",
    "\\quad\n",
    "V_2(u_2) \n",
    "= \\frac{\\sigma_2^2}{n-1}.\n",
    "\\end{equation*}\n"
   ]
  },
  {
   "cell_type": "markdown",
   "metadata": {},
   "source": [
    "Setzt man dies nun per Induktion weiter fort, so erhält nach $r$ Schritten \n",
    "\\begin{align*} \n",
    "\\mathbb{R}^{m\\times n} \\ni X \n",
    "&= U\\Sigma V^T \n",
    "= U_r \\Sigma_r V_r^T \n",
    "= U_r \\tilde{X}, \n",
    "\\\\ \n",
    "\\tilde{X} &= \\Sigma_r V_r^T = U_r^T X\n",
    "\\in \\mathbb{R}^{r\\times n}\n",
    ".\n",
    "\\end{align*}\n",
    "Die $u_j$ heißen **Hauptkomponenten**\n",
    "oder auch **Karhunen-Loeve-Richtungen**\n",
    "zum Datensatz $X$.\n",
    "\n",
    "Die Daten $X\\in \\mathbb{R}^{m\\times n}$ werden in ein neues Orthonormalsystem der Dimension\n",
    "$r \\le m$ transformiert (Spalten von $U_r$). Die neuen Koordinaten sind die Projektionen\n",
    "$\\tilde{X}= U_r^T X$. Für die Varianzen der einzelnen Koordinaten gilt\n",
    "\\begin{equation*} \n",
    "V(\\tilde{X}_{i,\\cdot}) = \\frac{\\sigma_i^2}{n-1}, \\quad i = 1,\\ldots,r\n",
    "\\end{equation*}\n",
    "also\n",
    "\\begin{equation*} \n",
    "V(\\tilde{X}_{1,\\cdot}) \\ge V(\\tilde{X}_{2,\\cdot}) \\ge \\ldots \\ge V(\\tilde{X}_{r,\\cdot}) > 0.\n",
    "\\end{equation*}\n",
    "Außerdem gilt\n",
    "\\begin{equation*} \n",
    "V(X) \n",
    "= \\sum_{i=1}^m V(X_{i,\\cdot})\n",
    "= \\sum_{i=1}^r V(\\tilde{X}_{i,\\cdot})\n",
    "= V(\\tilde{X}),\n",
    "\\end{equation*}\n",
    "d.h. in $\\tilde{X}$ \"stecken alle Variationen von $X$\" drin, d.h. bezüglich Unterscheidungsmöglichkeiten\n",
    "der Daten haben wir keine Information verloren."
   ]
  },
  {
   "cell_type": "markdown",
   "metadata": {},
   "source": [
    "Damit liegt nun folgende Vorgehensweise zur Dimensionsreduktion nahe:\n",
    "\n",
    "- berechne $V(X)$\n",
    "\n",
    "- bestimme zu $\\varepsilon > 0$ ein\n",
    "  möglichst kleines $k$ mit \n",
    "  \\begin{equation*} \n",
    "  \\sum_{i=1}^k V(\\tilde{X}_{i,\\cdot}) \n",
    "   = \\frac{\\sum_{i=1}^k\\sigma_i^2}{n-1}\n",
    "  \\ge V(X) - \\varepsilon\n",
    "  \\end{equation*}\n",
    "  \n",
    "- benutze statt $X\\in \\mathbb{R}^{m\\times n}$ jetzt $\\tilde{X} = U_k^TX\\in \\mathbb{R}^{k\\times n}$\n",
    "\n",
    "Man nimmt dabei einen (geringen) Informationsverlust ($\\varepsilon > 0$) zugunsten einer\n",
    "Dimensionsreduktion (oft ist $k\\ll m$) in Kauf."
   ]
  },
  {
   "cell_type": "markdown",
   "metadata": {},
   "source": [
    "Bisher haben wir angenommen, dass die Daten $x_j$ zentriert sind.\n",
    "Die Verallgemeinerung ist recht einfach. Sind die Daten $x_j$ beliebig, so betrachtet\n",
    "man die zentrierten Größen\n",
    "\\begin{equation*} \n",
    "y_j = x_j - \\bar{X}, \\quad \\bar{X} = \\frac{1}{n} \\sum_{j=1}^n x_j. \n",
    "\\end{equation*}\n",
    "Man erhält Hauptrichtungen $u_j$ und Varianzen $V(Y_{i,\\cdot})$\n",
    "über die Eigenvektoren und Eigenwerte von\n",
    "\\begin{equation*} \n",
    "C = YY^T = (X - \\bar{X}) (X - \\bar{X})^T,\n",
    "\\end{equation*}\n",
    "der [Kovarianzmatrix](https://de.wikipedia.org/wiki/Kovarianzmatrix) der Originaldaten $X$.\n",
    "Die neuen Koordinaten $\\tilde{Y} = U_r^T(X - \\bar{X})$\n",
    "sind die Projektionen auf die Geraden\n",
    "\\begin{equation*} \n",
    "\\hat{g}_j = \\bar{X} + s \\, u_j,\n",
    "\\end{equation*}\n",
    "d.h. man projiziert auf affine Unterräume."
   ]
  },
  {
   "cell_type": "markdown",
   "metadata": {},
   "source": [
    "### Beispiel"
   ]
  },
  {
   "cell_type": "markdown",
   "metadata": {},
   "source": [
    "Wir betrachten den folgenden Datensatz."
   ]
  },
  {
   "cell_type": "code",
   "execution_count": 17,
   "metadata": {
    "code_folding": [
     17
    ],
    "execution": {
     "iopub.execute_input": "2021-09-24T09:28:15.211670Z",
     "iopub.status.busy": "2021-09-24T09:28:15.205398Z",
     "iopub.status.idle": "2021-09-24T09:28:15.284497Z",
     "shell.execute_reply": "2021-09-24T09:28:15.284851Z"
    },
    "tags": [
     "hide-input"
    ]
   },
   "outputs": [
    {
     "data": {
      "application/javascript": [
       "/* Put everything inside the global mpl namespace */\n",
       "/* global mpl */\n",
       "window.mpl = {};\n",
       "\n",
       "mpl.get_websocket_type = function () {\n",
       "    if (typeof WebSocket !== 'undefined') {\n",
       "        return WebSocket;\n",
       "    } else if (typeof MozWebSocket !== 'undefined') {\n",
       "        return MozWebSocket;\n",
       "    } else {\n",
       "        alert(\n",
       "            'Your browser does not have WebSocket support. ' +\n",
       "                'Please try Chrome, Safari or Firefox ≥ 6. ' +\n",
       "                'Firefox 4 and 5 are also supported but you ' +\n",
       "                'have to enable WebSockets in about:config.'\n",
       "        );\n",
       "    }\n",
       "};\n",
       "\n",
       "mpl.figure = function (figure_id, websocket, ondownload, parent_element) {\n",
       "    this.id = figure_id;\n",
       "\n",
       "    this.ws = websocket;\n",
       "\n",
       "    this.supports_binary = this.ws.binaryType !== undefined;\n",
       "\n",
       "    if (!this.supports_binary) {\n",
       "        var warnings = document.getElementById('mpl-warnings');\n",
       "        if (warnings) {\n",
       "            warnings.style.display = 'block';\n",
       "            warnings.textContent =\n",
       "                'This browser does not support binary websocket messages. ' +\n",
       "                'Performance may be slow.';\n",
       "        }\n",
       "    }\n",
       "\n",
       "    this.imageObj = new Image();\n",
       "\n",
       "    this.context = undefined;\n",
       "    this.message = undefined;\n",
       "    this.canvas = undefined;\n",
       "    this.rubberband_canvas = undefined;\n",
       "    this.rubberband_context = undefined;\n",
       "    this.format_dropdown = undefined;\n",
       "\n",
       "    this.image_mode = 'full';\n",
       "\n",
       "    this.root = document.createElement('div');\n",
       "    this.root.setAttribute('style', 'display: inline-block');\n",
       "    this._root_extra_style(this.root);\n",
       "\n",
       "    parent_element.appendChild(this.root);\n",
       "\n",
       "    this._init_header(this);\n",
       "    this._init_canvas(this);\n",
       "    this._init_toolbar(this);\n",
       "\n",
       "    var fig = this;\n",
       "\n",
       "    this.waiting = false;\n",
       "\n",
       "    this.ws.onopen = function () {\n",
       "        fig.send_message('supports_binary', { value: fig.supports_binary });\n",
       "        fig.send_message('send_image_mode', {});\n",
       "        if (fig.ratio !== 1) {\n",
       "            fig.send_message('set_dpi_ratio', { dpi_ratio: fig.ratio });\n",
       "        }\n",
       "        fig.send_message('refresh', {});\n",
       "    };\n",
       "\n",
       "    this.imageObj.onload = function () {\n",
       "        if (fig.image_mode === 'full') {\n",
       "            // Full images could contain transparency (where diff images\n",
       "            // almost always do), so we need to clear the canvas so that\n",
       "            // there is no ghosting.\n",
       "            fig.context.clearRect(0, 0, fig.canvas.width, fig.canvas.height);\n",
       "        }\n",
       "        fig.context.drawImage(fig.imageObj, 0, 0);\n",
       "    };\n",
       "\n",
       "    this.imageObj.onunload = function () {\n",
       "        fig.ws.close();\n",
       "    };\n",
       "\n",
       "    this.ws.onmessage = this._make_on_message_function(this);\n",
       "\n",
       "    this.ondownload = ondownload;\n",
       "};\n",
       "\n",
       "mpl.figure.prototype._init_header = function () {\n",
       "    var titlebar = document.createElement('div');\n",
       "    titlebar.classList =\n",
       "        'ui-dialog-titlebar ui-widget-header ui-corner-all ui-helper-clearfix';\n",
       "    var titletext = document.createElement('div');\n",
       "    titletext.classList = 'ui-dialog-title';\n",
       "    titletext.setAttribute(\n",
       "        'style',\n",
       "        'width: 100%; text-align: center; padding: 3px;'\n",
       "    );\n",
       "    titlebar.appendChild(titletext);\n",
       "    this.root.appendChild(titlebar);\n",
       "    this.header = titletext;\n",
       "};\n",
       "\n",
       "mpl.figure.prototype._canvas_extra_style = function (_canvas_div) {};\n",
       "\n",
       "mpl.figure.prototype._root_extra_style = function (_canvas_div) {};\n",
       "\n",
       "mpl.figure.prototype._init_canvas = function () {\n",
       "    var fig = this;\n",
       "\n",
       "    var canvas_div = (this.canvas_div = document.createElement('div'));\n",
       "    canvas_div.setAttribute(\n",
       "        'style',\n",
       "        'border: 1px solid #ddd;' +\n",
       "            'box-sizing: content-box;' +\n",
       "            'clear: both;' +\n",
       "            'min-height: 1px;' +\n",
       "            'min-width: 1px;' +\n",
       "            'outline: 0;' +\n",
       "            'overflow: hidden;' +\n",
       "            'position: relative;' +\n",
       "            'resize: both;'\n",
       "    );\n",
       "\n",
       "    function on_keyboard_event_closure(name) {\n",
       "        return function (event) {\n",
       "            return fig.key_event(event, name);\n",
       "        };\n",
       "    }\n",
       "\n",
       "    canvas_div.addEventListener(\n",
       "        'keydown',\n",
       "        on_keyboard_event_closure('key_press')\n",
       "    );\n",
       "    canvas_div.addEventListener(\n",
       "        'keyup',\n",
       "        on_keyboard_event_closure('key_release')\n",
       "    );\n",
       "\n",
       "    this._canvas_extra_style(canvas_div);\n",
       "    this.root.appendChild(canvas_div);\n",
       "\n",
       "    var canvas = (this.canvas = document.createElement('canvas'));\n",
       "    canvas.classList.add('mpl-canvas');\n",
       "    canvas.setAttribute('style', 'box-sizing: content-box;');\n",
       "\n",
       "    this.context = canvas.getContext('2d');\n",
       "\n",
       "    var backingStore =\n",
       "        this.context.backingStorePixelRatio ||\n",
       "        this.context.webkitBackingStorePixelRatio ||\n",
       "        this.context.mozBackingStorePixelRatio ||\n",
       "        this.context.msBackingStorePixelRatio ||\n",
       "        this.context.oBackingStorePixelRatio ||\n",
       "        this.context.backingStorePixelRatio ||\n",
       "        1;\n",
       "\n",
       "    this.ratio = (window.devicePixelRatio || 1) / backingStore;\n",
       "\n",
       "    var rubberband_canvas = (this.rubberband_canvas = document.createElement(\n",
       "        'canvas'\n",
       "    ));\n",
       "    rubberband_canvas.setAttribute(\n",
       "        'style',\n",
       "        'box-sizing: content-box; position: absolute; left: 0; top: 0; z-index: 1;'\n",
       "    );\n",
       "\n",
       "    // Apply a ponyfill if ResizeObserver is not implemented by browser.\n",
       "    if (this.ResizeObserver === undefined) {\n",
       "        if (window.ResizeObserver !== undefined) {\n",
       "            this.ResizeObserver = window.ResizeObserver;\n",
       "        } else {\n",
       "            var obs = _JSXTOOLS_RESIZE_OBSERVER({});\n",
       "            this.ResizeObserver = obs.ResizeObserver;\n",
       "        }\n",
       "    }\n",
       "\n",
       "    this.resizeObserverInstance = new this.ResizeObserver(function (entries) {\n",
       "        var nentries = entries.length;\n",
       "        for (var i = 0; i < nentries; i++) {\n",
       "            var entry = entries[i];\n",
       "            var width, height;\n",
       "            if (entry.contentBoxSize) {\n",
       "                if (entry.contentBoxSize instanceof Array) {\n",
       "                    // Chrome 84 implements new version of spec.\n",
       "                    width = entry.contentBoxSize[0].inlineSize;\n",
       "                    height = entry.contentBoxSize[0].blockSize;\n",
       "                } else {\n",
       "                    // Firefox implements old version of spec.\n",
       "                    width = entry.contentBoxSize.inlineSize;\n",
       "                    height = entry.contentBoxSize.blockSize;\n",
       "                }\n",
       "            } else {\n",
       "                // Chrome <84 implements even older version of spec.\n",
       "                width = entry.contentRect.width;\n",
       "                height = entry.contentRect.height;\n",
       "            }\n",
       "\n",
       "            // Keep the size of the canvas and rubber band canvas in sync with\n",
       "            // the canvas container.\n",
       "            if (entry.devicePixelContentBoxSize) {\n",
       "                // Chrome 84 implements new version of spec.\n",
       "                canvas.setAttribute(\n",
       "                    'width',\n",
       "                    entry.devicePixelContentBoxSize[0].inlineSize\n",
       "                );\n",
       "                canvas.setAttribute(\n",
       "                    'height',\n",
       "                    entry.devicePixelContentBoxSize[0].blockSize\n",
       "                );\n",
       "            } else {\n",
       "                canvas.setAttribute('width', width * fig.ratio);\n",
       "                canvas.setAttribute('height', height * fig.ratio);\n",
       "            }\n",
       "            canvas.setAttribute(\n",
       "                'style',\n",
       "                'width: ' + width + 'px; height: ' + height + 'px;'\n",
       "            );\n",
       "\n",
       "            rubberband_canvas.setAttribute('width', width);\n",
       "            rubberband_canvas.setAttribute('height', height);\n",
       "\n",
       "            // And update the size in Python. We ignore the initial 0/0 size\n",
       "            // that occurs as the element is placed into the DOM, which should\n",
       "            // otherwise not happen due to the minimum size styling.\n",
       "            if (fig.ws.readyState == 1 && width != 0 && height != 0) {\n",
       "                fig.request_resize(width, height);\n",
       "            }\n",
       "        }\n",
       "    });\n",
       "    this.resizeObserverInstance.observe(canvas_div);\n",
       "\n",
       "    function on_mouse_event_closure(name) {\n",
       "        return function (event) {\n",
       "            return fig.mouse_event(event, name);\n",
       "        };\n",
       "    }\n",
       "\n",
       "    rubberband_canvas.addEventListener(\n",
       "        'mousedown',\n",
       "        on_mouse_event_closure('button_press')\n",
       "    );\n",
       "    rubberband_canvas.addEventListener(\n",
       "        'mouseup',\n",
       "        on_mouse_event_closure('button_release')\n",
       "    );\n",
       "    rubberband_canvas.addEventListener(\n",
       "        'dblclick',\n",
       "        on_mouse_event_closure('dblclick')\n",
       "    );\n",
       "    // Throttle sequential mouse events to 1 every 20ms.\n",
       "    rubberband_canvas.addEventListener(\n",
       "        'mousemove',\n",
       "        on_mouse_event_closure('motion_notify')\n",
       "    );\n",
       "\n",
       "    rubberband_canvas.addEventListener(\n",
       "        'mouseenter',\n",
       "        on_mouse_event_closure('figure_enter')\n",
       "    );\n",
       "    rubberband_canvas.addEventListener(\n",
       "        'mouseleave',\n",
       "        on_mouse_event_closure('figure_leave')\n",
       "    );\n",
       "\n",
       "    canvas_div.addEventListener('wheel', function (event) {\n",
       "        if (event.deltaY < 0) {\n",
       "            event.step = 1;\n",
       "        } else {\n",
       "            event.step = -1;\n",
       "        }\n",
       "        on_mouse_event_closure('scroll')(event);\n",
       "    });\n",
       "\n",
       "    canvas_div.appendChild(canvas);\n",
       "    canvas_div.appendChild(rubberband_canvas);\n",
       "\n",
       "    this.rubberband_context = rubberband_canvas.getContext('2d');\n",
       "    this.rubberband_context.strokeStyle = '#000000';\n",
       "\n",
       "    this._resize_canvas = function (width, height, forward) {\n",
       "        if (forward) {\n",
       "            canvas_div.style.width = width + 'px';\n",
       "            canvas_div.style.height = height + 'px';\n",
       "        }\n",
       "    };\n",
       "\n",
       "    // Disable right mouse context menu.\n",
       "    this.rubberband_canvas.addEventListener('contextmenu', function (_e) {\n",
       "        event.preventDefault();\n",
       "        return false;\n",
       "    });\n",
       "\n",
       "    function set_focus() {\n",
       "        canvas.focus();\n",
       "        canvas_div.focus();\n",
       "    }\n",
       "\n",
       "    window.setTimeout(set_focus, 100);\n",
       "};\n",
       "\n",
       "mpl.figure.prototype._init_toolbar = function () {\n",
       "    var fig = this;\n",
       "\n",
       "    var toolbar = document.createElement('div');\n",
       "    toolbar.classList = 'mpl-toolbar';\n",
       "    this.root.appendChild(toolbar);\n",
       "\n",
       "    function on_click_closure(name) {\n",
       "        return function (_event) {\n",
       "            return fig.toolbar_button_onclick(name);\n",
       "        };\n",
       "    }\n",
       "\n",
       "    function on_mouseover_closure(tooltip) {\n",
       "        return function (event) {\n",
       "            if (!event.currentTarget.disabled) {\n",
       "                return fig.toolbar_button_onmouseover(tooltip);\n",
       "            }\n",
       "        };\n",
       "    }\n",
       "\n",
       "    fig.buttons = {};\n",
       "    var buttonGroup = document.createElement('div');\n",
       "    buttonGroup.classList = 'mpl-button-group';\n",
       "    for (var toolbar_ind in mpl.toolbar_items) {\n",
       "        var name = mpl.toolbar_items[toolbar_ind][0];\n",
       "        var tooltip = mpl.toolbar_items[toolbar_ind][1];\n",
       "        var image = mpl.toolbar_items[toolbar_ind][2];\n",
       "        var method_name = mpl.toolbar_items[toolbar_ind][3];\n",
       "\n",
       "        if (!name) {\n",
       "            /* Instead of a spacer, we start a new button group. */\n",
       "            if (buttonGroup.hasChildNodes()) {\n",
       "                toolbar.appendChild(buttonGroup);\n",
       "            }\n",
       "            buttonGroup = document.createElement('div');\n",
       "            buttonGroup.classList = 'mpl-button-group';\n",
       "            continue;\n",
       "        }\n",
       "\n",
       "        var button = (fig.buttons[name] = document.createElement('button'));\n",
       "        button.classList = 'mpl-widget';\n",
       "        button.setAttribute('role', 'button');\n",
       "        button.setAttribute('aria-disabled', 'false');\n",
       "        button.addEventListener('click', on_click_closure(method_name));\n",
       "        button.addEventListener('mouseover', on_mouseover_closure(tooltip));\n",
       "\n",
       "        var icon_img = document.createElement('img');\n",
       "        icon_img.src = '_images/' + image + '.png';\n",
       "        icon_img.srcset = '_images/' + image + '_large.png 2x';\n",
       "        icon_img.alt = tooltip;\n",
       "        button.appendChild(icon_img);\n",
       "\n",
       "        buttonGroup.appendChild(button);\n",
       "    }\n",
       "\n",
       "    if (buttonGroup.hasChildNodes()) {\n",
       "        toolbar.appendChild(buttonGroup);\n",
       "    }\n",
       "\n",
       "    var fmt_picker = document.createElement('select');\n",
       "    fmt_picker.classList = 'mpl-widget';\n",
       "    toolbar.appendChild(fmt_picker);\n",
       "    this.format_dropdown = fmt_picker;\n",
       "\n",
       "    for (var ind in mpl.extensions) {\n",
       "        var fmt = mpl.extensions[ind];\n",
       "        var option = document.createElement('option');\n",
       "        option.selected = fmt === mpl.default_extension;\n",
       "        option.innerHTML = fmt;\n",
       "        fmt_picker.appendChild(option);\n",
       "    }\n",
       "\n",
       "    var status_bar = document.createElement('span');\n",
       "    status_bar.classList = 'mpl-message';\n",
       "    toolbar.appendChild(status_bar);\n",
       "    this.message = status_bar;\n",
       "};\n",
       "\n",
       "mpl.figure.prototype.request_resize = function (x_pixels, y_pixels) {\n",
       "    // Request matplotlib to resize the figure. Matplotlib will then trigger a resize in the client,\n",
       "    // which will in turn request a refresh of the image.\n",
       "    this.send_message('resize', { width: x_pixels, height: y_pixels });\n",
       "};\n",
       "\n",
       "mpl.figure.prototype.send_message = function (type, properties) {\n",
       "    properties['type'] = type;\n",
       "    properties['figure_id'] = this.id;\n",
       "    this.ws.send(JSON.stringify(properties));\n",
       "};\n",
       "\n",
       "mpl.figure.prototype.send_draw_message = function () {\n",
       "    if (!this.waiting) {\n",
       "        this.waiting = true;\n",
       "        this.ws.send(JSON.stringify({ type: 'draw', figure_id: this.id }));\n",
       "    }\n",
       "};\n",
       "\n",
       "mpl.figure.prototype.handle_save = function (fig, _msg) {\n",
       "    var format_dropdown = fig.format_dropdown;\n",
       "    var format = format_dropdown.options[format_dropdown.selectedIndex].value;\n",
       "    fig.ondownload(fig, format);\n",
       "};\n",
       "\n",
       "mpl.figure.prototype.handle_resize = function (fig, msg) {\n",
       "    var size = msg['size'];\n",
       "    if (size[0] !== fig.canvas.width || size[1] !== fig.canvas.height) {\n",
       "        fig._resize_canvas(size[0], size[1], msg['forward']);\n",
       "        fig.send_message('refresh', {});\n",
       "    }\n",
       "};\n",
       "\n",
       "mpl.figure.prototype.handle_rubberband = function (fig, msg) {\n",
       "    var x0 = msg['x0'] / fig.ratio;\n",
       "    var y0 = (fig.canvas.height - msg['y0']) / fig.ratio;\n",
       "    var x1 = msg['x1'] / fig.ratio;\n",
       "    var y1 = (fig.canvas.height - msg['y1']) / fig.ratio;\n",
       "    x0 = Math.floor(x0) + 0.5;\n",
       "    y0 = Math.floor(y0) + 0.5;\n",
       "    x1 = Math.floor(x1) + 0.5;\n",
       "    y1 = Math.floor(y1) + 0.5;\n",
       "    var min_x = Math.min(x0, x1);\n",
       "    var min_y = Math.min(y0, y1);\n",
       "    var width = Math.abs(x1 - x0);\n",
       "    var height = Math.abs(y1 - y0);\n",
       "\n",
       "    fig.rubberband_context.clearRect(\n",
       "        0,\n",
       "        0,\n",
       "        fig.canvas.width / fig.ratio,\n",
       "        fig.canvas.height / fig.ratio\n",
       "    );\n",
       "\n",
       "    fig.rubberband_context.strokeRect(min_x, min_y, width, height);\n",
       "};\n",
       "\n",
       "mpl.figure.prototype.handle_figure_label = function (fig, msg) {\n",
       "    // Updates the figure title.\n",
       "    fig.header.textContent = msg['label'];\n",
       "};\n",
       "\n",
       "mpl.figure.prototype.handle_cursor = function (fig, msg) {\n",
       "    var cursor = msg['cursor'];\n",
       "    switch (cursor) {\n",
       "        case 0:\n",
       "            cursor = 'pointer';\n",
       "            break;\n",
       "        case 1:\n",
       "            cursor = 'default';\n",
       "            break;\n",
       "        case 2:\n",
       "            cursor = 'crosshair';\n",
       "            break;\n",
       "        case 3:\n",
       "            cursor = 'move';\n",
       "            break;\n",
       "    }\n",
       "    fig.rubberband_canvas.style.cursor = cursor;\n",
       "};\n",
       "\n",
       "mpl.figure.prototype.handle_message = function (fig, msg) {\n",
       "    fig.message.textContent = msg['message'];\n",
       "};\n",
       "\n",
       "mpl.figure.prototype.handle_draw = function (fig, _msg) {\n",
       "    // Request the server to send over a new figure.\n",
       "    fig.send_draw_message();\n",
       "};\n",
       "\n",
       "mpl.figure.prototype.handle_image_mode = function (fig, msg) {\n",
       "    fig.image_mode = msg['mode'];\n",
       "};\n",
       "\n",
       "mpl.figure.prototype.handle_history_buttons = function (fig, msg) {\n",
       "    for (var key in msg) {\n",
       "        if (!(key in fig.buttons)) {\n",
       "            continue;\n",
       "        }\n",
       "        fig.buttons[key].disabled = !msg[key];\n",
       "        fig.buttons[key].setAttribute('aria-disabled', !msg[key]);\n",
       "    }\n",
       "};\n",
       "\n",
       "mpl.figure.prototype.handle_navigate_mode = function (fig, msg) {\n",
       "    if (msg['mode'] === 'PAN') {\n",
       "        fig.buttons['Pan'].classList.add('active');\n",
       "        fig.buttons['Zoom'].classList.remove('active');\n",
       "    } else if (msg['mode'] === 'ZOOM') {\n",
       "        fig.buttons['Pan'].classList.remove('active');\n",
       "        fig.buttons['Zoom'].classList.add('active');\n",
       "    } else {\n",
       "        fig.buttons['Pan'].classList.remove('active');\n",
       "        fig.buttons['Zoom'].classList.remove('active');\n",
       "    }\n",
       "};\n",
       "\n",
       "mpl.figure.prototype.updated_canvas_event = function () {\n",
       "    // Called whenever the canvas gets updated.\n",
       "    this.send_message('ack', {});\n",
       "};\n",
       "\n",
       "// A function to construct a web socket function for onmessage handling.\n",
       "// Called in the figure constructor.\n",
       "mpl.figure.prototype._make_on_message_function = function (fig) {\n",
       "    return function socket_on_message(evt) {\n",
       "        if (evt.data instanceof Blob) {\n",
       "            var img = evt.data;\n",
       "            if (img.type !== 'image/png') {\n",
       "                /* FIXME: We get \"Resource interpreted as Image but\n",
       "                 * transferred with MIME type text/plain:\" errors on\n",
       "                 * Chrome.  But how to set the MIME type?  It doesn't seem\n",
       "                 * to be part of the websocket stream */\n",
       "                img.type = 'image/png';\n",
       "            }\n",
       "\n",
       "            /* Free the memory for the previous frames */\n",
       "            if (fig.imageObj.src) {\n",
       "                (window.URL || window.webkitURL).revokeObjectURL(\n",
       "                    fig.imageObj.src\n",
       "                );\n",
       "            }\n",
       "\n",
       "            fig.imageObj.src = (window.URL || window.webkitURL).createObjectURL(\n",
       "                img\n",
       "            );\n",
       "            fig.updated_canvas_event();\n",
       "            fig.waiting = false;\n",
       "            return;\n",
       "        } else if (\n",
       "            typeof evt.data === 'string' &&\n",
       "            evt.data.slice(0, 21) === 'data:image/png;base64'\n",
       "        ) {\n",
       "            fig.imageObj.src = evt.data;\n",
       "            fig.updated_canvas_event();\n",
       "            fig.waiting = false;\n",
       "            return;\n",
       "        }\n",
       "\n",
       "        var msg = JSON.parse(evt.data);\n",
       "        var msg_type = msg['type'];\n",
       "\n",
       "        // Call the  \"handle_{type}\" callback, which takes\n",
       "        // the figure and JSON message as its only arguments.\n",
       "        try {\n",
       "            var callback = fig['handle_' + msg_type];\n",
       "        } catch (e) {\n",
       "            console.log(\n",
       "                \"No handler for the '\" + msg_type + \"' message type: \",\n",
       "                msg\n",
       "            );\n",
       "            return;\n",
       "        }\n",
       "\n",
       "        if (callback) {\n",
       "            try {\n",
       "                // console.log(\"Handling '\" + msg_type + \"' message: \", msg);\n",
       "                callback(fig, msg);\n",
       "            } catch (e) {\n",
       "                console.log(\n",
       "                    \"Exception inside the 'handler_\" + msg_type + \"' callback:\",\n",
       "                    e,\n",
       "                    e.stack,\n",
       "                    msg\n",
       "                );\n",
       "            }\n",
       "        }\n",
       "    };\n",
       "};\n",
       "\n",
       "// from http://stackoverflow.com/questions/1114465/getting-mouse-location-in-canvas\n",
       "mpl.findpos = function (e) {\n",
       "    //this section is from http://www.quirksmode.org/js/events_properties.html\n",
       "    var targ;\n",
       "    if (!e) {\n",
       "        e = window.event;\n",
       "    }\n",
       "    if (e.target) {\n",
       "        targ = e.target;\n",
       "    } else if (e.srcElement) {\n",
       "        targ = e.srcElement;\n",
       "    }\n",
       "    if (targ.nodeType === 3) {\n",
       "        // defeat Safari bug\n",
       "        targ = targ.parentNode;\n",
       "    }\n",
       "\n",
       "    // pageX,Y are the mouse positions relative to the document\n",
       "    var boundingRect = targ.getBoundingClientRect();\n",
       "    var x = e.pageX - (boundingRect.left + document.body.scrollLeft);\n",
       "    var y = e.pageY - (boundingRect.top + document.body.scrollTop);\n",
       "\n",
       "    return { x: x, y: y };\n",
       "};\n",
       "\n",
       "/*\n",
       " * return a copy of an object with only non-object keys\n",
       " * we need this to avoid circular references\n",
       " * http://stackoverflow.com/a/24161582/3208463\n",
       " */\n",
       "function simpleKeys(original) {\n",
       "    return Object.keys(original).reduce(function (obj, key) {\n",
       "        if (typeof original[key] !== 'object') {\n",
       "            obj[key] = original[key];\n",
       "        }\n",
       "        return obj;\n",
       "    }, {});\n",
       "}\n",
       "\n",
       "mpl.figure.prototype.mouse_event = function (event, name) {\n",
       "    var canvas_pos = mpl.findpos(event);\n",
       "\n",
       "    if (name === 'button_press') {\n",
       "        this.canvas.focus();\n",
       "        this.canvas_div.focus();\n",
       "    }\n",
       "\n",
       "    var x = canvas_pos.x * this.ratio;\n",
       "    var y = canvas_pos.y * this.ratio;\n",
       "\n",
       "    this.send_message(name, {\n",
       "        x: x,\n",
       "        y: y,\n",
       "        button: event.button,\n",
       "        step: event.step,\n",
       "        guiEvent: simpleKeys(event),\n",
       "    });\n",
       "\n",
       "    /* This prevents the web browser from automatically changing to\n",
       "     * the text insertion cursor when the button is pressed.  We want\n",
       "     * to control all of the cursor setting manually through the\n",
       "     * 'cursor' event from matplotlib */\n",
       "    event.preventDefault();\n",
       "    return false;\n",
       "};\n",
       "\n",
       "mpl.figure.prototype._key_event_extra = function (_event, _name) {\n",
       "    // Handle any extra behaviour associated with a key event\n",
       "};\n",
       "\n",
       "mpl.figure.prototype.key_event = function (event, name) {\n",
       "    // Prevent repeat events\n",
       "    if (name === 'key_press') {\n",
       "        if (event.key === this._key) {\n",
       "            return;\n",
       "        } else {\n",
       "            this._key = event.key;\n",
       "        }\n",
       "    }\n",
       "    if (name === 'key_release') {\n",
       "        this._key = null;\n",
       "    }\n",
       "\n",
       "    var value = '';\n",
       "    if (event.ctrlKey && event.key !== 'Control') {\n",
       "        value += 'ctrl+';\n",
       "    }\n",
       "    else if (event.altKey && event.key !== 'Alt') {\n",
       "        value += 'alt+';\n",
       "    }\n",
       "    else if (event.shiftKey && event.key !== 'Shift') {\n",
       "        value += 'shift+';\n",
       "    }\n",
       "\n",
       "    value += 'k' + event.key;\n",
       "\n",
       "    this._key_event_extra(event, name);\n",
       "\n",
       "    this.send_message(name, { key: value, guiEvent: simpleKeys(event) });\n",
       "    return false;\n",
       "};\n",
       "\n",
       "mpl.figure.prototype.toolbar_button_onclick = function (name) {\n",
       "    if (name === 'download') {\n",
       "        this.handle_save(this, null);\n",
       "    } else {\n",
       "        this.send_message('toolbar_button', { name: name });\n",
       "    }\n",
       "};\n",
       "\n",
       "mpl.figure.prototype.toolbar_button_onmouseover = function (tooltip) {\n",
       "    this.message.textContent = tooltip;\n",
       "};\n",
       "\n",
       "///////////////// REMAINING CONTENT GENERATED BY embed_js.py /////////////////\n",
       "// prettier-ignore\n",
       "var _JSXTOOLS_RESIZE_OBSERVER=function(A){var t,i=new WeakMap,n=new WeakMap,a=new WeakMap,r=new WeakMap,o=new Set;function s(e){if(!(this instanceof s))throw new TypeError(\"Constructor requires 'new' operator\");i.set(this,e)}function h(){throw new TypeError(\"Function is not a constructor\")}function c(e,t,i,n){e=0 in arguments?Number(arguments[0]):0,t=1 in arguments?Number(arguments[1]):0,i=2 in arguments?Number(arguments[2]):0,n=3 in arguments?Number(arguments[3]):0,this.right=(this.x=this.left=e)+(this.width=i),this.bottom=(this.y=this.top=t)+(this.height=n),Object.freeze(this)}function d(){t=requestAnimationFrame(d);var s=new WeakMap,p=new Set;o.forEach((function(t){r.get(t).forEach((function(i){var r=t instanceof window.SVGElement,o=a.get(t),d=r?0:parseFloat(o.paddingTop),f=r?0:parseFloat(o.paddingRight),l=r?0:parseFloat(o.paddingBottom),u=r?0:parseFloat(o.paddingLeft),g=r?0:parseFloat(o.borderTopWidth),m=r?0:parseFloat(o.borderRightWidth),w=r?0:parseFloat(o.borderBottomWidth),b=u+f,F=d+l,v=(r?0:parseFloat(o.borderLeftWidth))+m,W=g+w,y=r?0:t.offsetHeight-W-t.clientHeight,E=r?0:t.offsetWidth-v-t.clientWidth,R=b+v,z=F+W,M=r?t.width:parseFloat(o.width)-R-E,O=r?t.height:parseFloat(o.height)-z-y;if(n.has(t)){var k=n.get(t);if(k[0]===M&&k[1]===O)return}n.set(t,[M,O]);var S=Object.create(h.prototype);S.target=t,S.contentRect=new c(u,d,M,O),s.has(i)||(s.set(i,[]),p.add(i)),s.get(i).push(S)}))})),p.forEach((function(e){i.get(e).call(e,s.get(e),e)}))}return s.prototype.observe=function(i){if(i instanceof window.Element){r.has(i)||(r.set(i,new Set),o.add(i),a.set(i,window.getComputedStyle(i)));var n=r.get(i);n.has(this)||n.add(this),cancelAnimationFrame(t),t=requestAnimationFrame(d)}},s.prototype.unobserve=function(i){if(i instanceof window.Element&&r.has(i)){var n=r.get(i);n.has(this)&&(n.delete(this),n.size||(r.delete(i),o.delete(i))),n.size||r.delete(i),o.size||cancelAnimationFrame(t)}},A.DOMRectReadOnly=c,A.ResizeObserver=s,A.ResizeObserverEntry=h,A}; // eslint-disable-line\n",
       "mpl.toolbar_items = [[\"Home\", \"Reset original view\", \"fa fa-home icon-home\", \"home\"], [\"Back\", \"Back to previous view\", \"fa fa-arrow-left icon-arrow-left\", \"back\"], [\"Forward\", \"Forward to next view\", \"fa fa-arrow-right icon-arrow-right\", \"forward\"], [\"\", \"\", \"\", \"\"], [\"Pan\", \"Left button pans, Right button zooms\\nx/y fixes axis, CTRL fixes aspect\", \"fa fa-arrows icon-move\", \"pan\"], [\"Zoom\", \"Zoom to rectangle\\nx/y fixes axis, CTRL fixes aspect\", \"fa fa-square-o icon-check-empty\", \"zoom\"], [\"\", \"\", \"\", \"\"], [\"Download\", \"Download plot\", \"fa fa-floppy-o icon-save\", \"download\"]];\n",
       "\n",
       "mpl.extensions = [\"eps\", \"jpeg\", \"pgf\", \"pdf\", \"png\", \"ps\", \"raw\", \"svg\", \"tif\"];\n",
       "\n",
       "mpl.default_extension = \"png\";/* global mpl */\n",
       "\n",
       "var comm_websocket_adapter = function (comm) {\n",
       "    // Create a \"websocket\"-like object which calls the given IPython comm\n",
       "    // object with the appropriate methods. Currently this is a non binary\n",
       "    // socket, so there is still some room for performance tuning.\n",
       "    var ws = {};\n",
       "\n",
       "    ws.binaryType = comm.kernel.ws.binaryType;\n",
       "    ws.readyState = comm.kernel.ws.readyState;\n",
       "    function updateReadyState(_event) {\n",
       "        if (comm.kernel.ws) {\n",
       "            ws.readyState = comm.kernel.ws.readyState;\n",
       "        } else {\n",
       "            ws.readyState = 3; // Closed state.\n",
       "        }\n",
       "    }\n",
       "    comm.kernel.ws.addEventListener('open', updateReadyState);\n",
       "    comm.kernel.ws.addEventListener('close', updateReadyState);\n",
       "    comm.kernel.ws.addEventListener('error', updateReadyState);\n",
       "\n",
       "    ws.close = function () {\n",
       "        comm.close();\n",
       "    };\n",
       "    ws.send = function (m) {\n",
       "        //console.log('sending', m);\n",
       "        comm.send(m);\n",
       "    };\n",
       "    // Register the callback with on_msg.\n",
       "    comm.on_msg(function (msg) {\n",
       "        //console.log('receiving', msg['content']['data'], msg);\n",
       "        var data = msg['content']['data'];\n",
       "        if (data['blob'] !== undefined) {\n",
       "            data = {\n",
       "                data: new Blob(msg['buffers'], { type: data['blob'] }),\n",
       "            };\n",
       "        }\n",
       "        // Pass the mpl event to the overridden (by mpl) onmessage function.\n",
       "        ws.onmessage(data);\n",
       "    });\n",
       "    return ws;\n",
       "};\n",
       "\n",
       "mpl.mpl_figure_comm = function (comm, msg) {\n",
       "    // This is the function which gets called when the mpl process\n",
       "    // starts-up an IPython Comm through the \"matplotlib\" channel.\n",
       "\n",
       "    var id = msg.content.data.id;\n",
       "    // Get hold of the div created by the display call when the Comm\n",
       "    // socket was opened in Python.\n",
       "    var element = document.getElementById(id);\n",
       "    var ws_proxy = comm_websocket_adapter(comm);\n",
       "\n",
       "    function ondownload(figure, _format) {\n",
       "        window.open(figure.canvas.toDataURL());\n",
       "    }\n",
       "\n",
       "    var fig = new mpl.figure(id, ws_proxy, ondownload, element);\n",
       "\n",
       "    // Call onopen now - mpl needs it, as it is assuming we've passed it a real\n",
       "    // web socket which is closed, not our websocket->open comm proxy.\n",
       "    ws_proxy.onopen();\n",
       "\n",
       "    fig.parent_element = element;\n",
       "    fig.cell_info = mpl.find_output_cell(\"<div id='\" + id + \"'></div>\");\n",
       "    if (!fig.cell_info) {\n",
       "        console.error('Failed to find cell for figure', id, fig);\n",
       "        return;\n",
       "    }\n",
       "    fig.cell_info[0].output_area.element.on(\n",
       "        'cleared',\n",
       "        { fig: fig },\n",
       "        fig._remove_fig_handler\n",
       "    );\n",
       "};\n",
       "\n",
       "mpl.figure.prototype.handle_close = function (fig, msg) {\n",
       "    var width = fig.canvas.width / fig.ratio;\n",
       "    fig.cell_info[0].output_area.element.off(\n",
       "        'cleared',\n",
       "        fig._remove_fig_handler\n",
       "    );\n",
       "    fig.resizeObserverInstance.unobserve(fig.canvas_div);\n",
       "\n",
       "    // Update the output cell to use the data from the current canvas.\n",
       "    fig.push_to_output();\n",
       "    var dataURL = fig.canvas.toDataURL();\n",
       "    // Re-enable the keyboard manager in IPython - without this line, in FF,\n",
       "    // the notebook keyboard shortcuts fail.\n",
       "    IPython.keyboard_manager.enable();\n",
       "    fig.parent_element.innerHTML =\n",
       "        '<img src=\"' + dataURL + '\" width=\"' + width + '\">';\n",
       "    fig.close_ws(fig, msg);\n",
       "};\n",
       "\n",
       "mpl.figure.prototype.close_ws = function (fig, msg) {\n",
       "    fig.send_message('closing', msg);\n",
       "    // fig.ws.close()\n",
       "};\n",
       "\n",
       "mpl.figure.prototype.push_to_output = function (_remove_interactive) {\n",
       "    // Turn the data on the canvas into data in the output cell.\n",
       "    var width = this.canvas.width / this.ratio;\n",
       "    var dataURL = this.canvas.toDataURL();\n",
       "    this.cell_info[1]['text/html'] =\n",
       "        '<img src=\"' + dataURL + '\" width=\"' + width + '\">';\n",
       "};\n",
       "\n",
       "mpl.figure.prototype.updated_canvas_event = function () {\n",
       "    // Tell IPython that the notebook contents must change.\n",
       "    IPython.notebook.set_dirty(true);\n",
       "    this.send_message('ack', {});\n",
       "    var fig = this;\n",
       "    // Wait a second, then push the new image to the DOM so\n",
       "    // that it is saved nicely (might be nice to debounce this).\n",
       "    setTimeout(function () {\n",
       "        fig.push_to_output();\n",
       "    }, 1000);\n",
       "};\n",
       "\n",
       "mpl.figure.prototype._init_toolbar = function () {\n",
       "    var fig = this;\n",
       "\n",
       "    var toolbar = document.createElement('div');\n",
       "    toolbar.classList = 'btn-toolbar';\n",
       "    this.root.appendChild(toolbar);\n",
       "\n",
       "    function on_click_closure(name) {\n",
       "        return function (_event) {\n",
       "            return fig.toolbar_button_onclick(name);\n",
       "        };\n",
       "    }\n",
       "\n",
       "    function on_mouseover_closure(tooltip) {\n",
       "        return function (event) {\n",
       "            if (!event.currentTarget.disabled) {\n",
       "                return fig.toolbar_button_onmouseover(tooltip);\n",
       "            }\n",
       "        };\n",
       "    }\n",
       "\n",
       "    fig.buttons = {};\n",
       "    var buttonGroup = document.createElement('div');\n",
       "    buttonGroup.classList = 'btn-group';\n",
       "    var button;\n",
       "    for (var toolbar_ind in mpl.toolbar_items) {\n",
       "        var name = mpl.toolbar_items[toolbar_ind][0];\n",
       "        var tooltip = mpl.toolbar_items[toolbar_ind][1];\n",
       "        var image = mpl.toolbar_items[toolbar_ind][2];\n",
       "        var method_name = mpl.toolbar_items[toolbar_ind][3];\n",
       "\n",
       "        if (!name) {\n",
       "            /* Instead of a spacer, we start a new button group. */\n",
       "            if (buttonGroup.hasChildNodes()) {\n",
       "                toolbar.appendChild(buttonGroup);\n",
       "            }\n",
       "            buttonGroup = document.createElement('div');\n",
       "            buttonGroup.classList = 'btn-group';\n",
       "            continue;\n",
       "        }\n",
       "\n",
       "        button = fig.buttons[name] = document.createElement('button');\n",
       "        button.classList = 'btn btn-default';\n",
       "        button.href = '#';\n",
       "        button.title = name;\n",
       "        button.innerHTML = '<i class=\"fa ' + image + ' fa-lg\"></i>';\n",
       "        button.addEventListener('click', on_click_closure(method_name));\n",
       "        button.addEventListener('mouseover', on_mouseover_closure(tooltip));\n",
       "        buttonGroup.appendChild(button);\n",
       "    }\n",
       "\n",
       "    if (buttonGroup.hasChildNodes()) {\n",
       "        toolbar.appendChild(buttonGroup);\n",
       "    }\n",
       "\n",
       "    // Add the status bar.\n",
       "    var status_bar = document.createElement('span');\n",
       "    status_bar.classList = 'mpl-message pull-right';\n",
       "    toolbar.appendChild(status_bar);\n",
       "    this.message = status_bar;\n",
       "\n",
       "    // Add the close button to the window.\n",
       "    var buttongrp = document.createElement('div');\n",
       "    buttongrp.classList = 'btn-group inline pull-right';\n",
       "    button = document.createElement('button');\n",
       "    button.classList = 'btn btn-mini btn-primary';\n",
       "    button.href = '#';\n",
       "    button.title = 'Stop Interaction';\n",
       "    button.innerHTML = '<i class=\"fa fa-power-off icon-remove icon-large\"></i>';\n",
       "    button.addEventListener('click', function (_evt) {\n",
       "        fig.handle_close(fig, {});\n",
       "    });\n",
       "    button.addEventListener(\n",
       "        'mouseover',\n",
       "        on_mouseover_closure('Stop Interaction')\n",
       "    );\n",
       "    buttongrp.appendChild(button);\n",
       "    var titlebar = this.root.querySelector('.ui-dialog-titlebar');\n",
       "    titlebar.insertBefore(buttongrp, titlebar.firstChild);\n",
       "};\n",
       "\n",
       "mpl.figure.prototype._remove_fig_handler = function (event) {\n",
       "    var fig = event.data.fig;\n",
       "    if (event.target !== this) {\n",
       "        // Ignore bubbled events from children.\n",
       "        return;\n",
       "    }\n",
       "    fig.close_ws(fig, {});\n",
       "};\n",
       "\n",
       "mpl.figure.prototype._root_extra_style = function (el) {\n",
       "    el.style.boxSizing = 'content-box'; // override notebook setting of border-box.\n",
       "};\n",
       "\n",
       "mpl.figure.prototype._canvas_extra_style = function (el) {\n",
       "    // this is important to make the div 'focusable\n",
       "    el.setAttribute('tabindex', 0);\n",
       "    // reach out to IPython and tell the keyboard manager to turn it's self\n",
       "    // off when our div gets focus\n",
       "\n",
       "    // location in version 3\n",
       "    if (IPython.notebook.keyboard_manager) {\n",
       "        IPython.notebook.keyboard_manager.register_events(el);\n",
       "    } else {\n",
       "        // location in version 2\n",
       "        IPython.keyboard_manager.register_events(el);\n",
       "    }\n",
       "};\n",
       "\n",
       "mpl.figure.prototype._key_event_extra = function (event, _name) {\n",
       "    var manager = IPython.notebook.keyboard_manager;\n",
       "    if (!manager) {\n",
       "        manager = IPython.keyboard_manager;\n",
       "    }\n",
       "\n",
       "    // Check for shift+enter\n",
       "    if (event.shiftKey && event.which === 13) {\n",
       "        this.canvas_div.blur();\n",
       "        // select the cell after this one\n",
       "        var index = IPython.notebook.find_cell_index(this.cell_info[0]);\n",
       "        IPython.notebook.select(index + 1);\n",
       "    }\n",
       "};\n",
       "\n",
       "mpl.figure.prototype.handle_save = function (fig, _msg) {\n",
       "    fig.ondownload(fig, null);\n",
       "};\n",
       "\n",
       "mpl.find_output_cell = function (html_output) {\n",
       "    // Return the cell and output element which can be found *uniquely* in the notebook.\n",
       "    // Note - this is a bit hacky, but it is done because the \"notebook_saving.Notebook\"\n",
       "    // IPython event is triggered only after the cells have been serialised, which for\n",
       "    // our purposes (turning an active figure into a static one), is too late.\n",
       "    var cells = IPython.notebook.get_cells();\n",
       "    var ncells = cells.length;\n",
       "    for (var i = 0; i < ncells; i++) {\n",
       "        var cell = cells[i];\n",
       "        if (cell.cell_type === 'code') {\n",
       "            for (var j = 0; j < cell.output_area.outputs.length; j++) {\n",
       "                var data = cell.output_area.outputs[j];\n",
       "                if (data.data) {\n",
       "                    // IPython >= 3 moved mimebundle to data attribute of output\n",
       "                    data = data.data;\n",
       "                }\n",
       "                if (data['text/html'] === html_output) {\n",
       "                    return [cell, data, j];\n",
       "                }\n",
       "            }\n",
       "        }\n",
       "    }\n",
       "};\n",
       "\n",
       "// Register the function which deals with the matplotlib target/channel.\n",
       "// The kernel may be null if the page has been refreshed.\n",
       "if (IPython.notebook.kernel !== null) {\n",
       "    IPython.notebook.kernel.comm_manager.register_target(\n",
       "        'matplotlib',\n",
       "        mpl.mpl_figure_comm\n",
       "    );\n",
       "}\n"
      ],
      "text/plain": [
       "<IPython.core.display.Javascript object>"
      ]
     },
     "metadata": {},
     "output_type": "display_data"
    },
    {
     "data": {
      "text/html": [
       "<img src=\"data:image/png;base64,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\" width=\"640\">"
      ],
      "text/plain": [
       "<IPython.core.display.HTML object>"
      ]
     },
     "metadata": {},
     "output_type": "display_data"
    }
   ],
   "source": [
    "%matplotlib notebook\n",
    "\n",
    "X,y = make_blobs(n_samples=1000, n_features=3, centers=3, cluster_std=1.0, random_state = seed)\n",
    "X = X.T\n",
    "\n",
    "from mpl_toolkits.mplot3d import Axes3D\n",
    "plt.figure()\n",
    "plt.axes(projection='3d')\n",
    "plt.plot(*X, '.')\n",
    "#plt.axis('equal');\n",
    "\n",
    "m, n = X.shape\n",
    "\n",
    "Xbar = X.mean(axis=1).reshape(-1,1)\n",
    "Y = X - Xbar\n",
    "U, s, VT = np.linalg.svd(Y)\n",
    "\n",
    "for col,u in enumerate(U):\n",
    "    plt.plot(*(np.c_[-u, u]*15 + Xbar));\n",
    "\n",
    "plt.gca().view_init(20,70)"
   ]
  },
  {
   "cell_type": "markdown",
   "metadata": {},
   "source": [
    "Die Hauptkomponenten sind"
   ]
  },
  {
   "cell_type": "code",
   "execution_count": 18,
   "metadata": {
    "execution": {
     "iopub.execute_input": "2021-09-24T09:28:15.287735Z",
     "iopub.status.busy": "2021-09-24T09:28:15.287292Z",
     "iopub.status.idle": "2021-09-24T09:28:15.289416Z",
     "shell.execute_reply": "2021-09-24T09:28:15.289023Z"
    },
    "tags": [
     "hide-input"
    ]
   },
   "outputs": [
    {
     "data": {
      "text/plain": [
       "array([[-0.6248, -0.6964,  0.3531],\n",
       "       [ 0.2762, -0.6201, -0.7342],\n",
       "       [ 0.7303, -0.3612,  0.5798]])"
      ]
     },
     "execution_count": 18,
     "metadata": {},
     "output_type": "execute_result"
    }
   ],
   "source": [
    "%matplotlib inline\n",
    "\n",
    "U"
   ]
  },
  {
   "cell_type": "markdown",
   "metadata": {},
   "source": [
    "Für die Varianzen erhalten wir"
   ]
  },
  {
   "cell_type": "code",
   "execution_count": 19,
   "metadata": {
    "execution": {
     "iopub.execute_input": "2021-09-24T09:28:15.292375Z",
     "iopub.status.busy": "2021-09-24T09:28:15.291933Z",
     "iopub.status.idle": "2021-09-24T09:28:15.293909Z",
     "shell.execute_reply": "2021-09-24T09:28:15.293517Z"
    },
    "tags": [
     "hide-input"
    ]
   },
   "outputs": [
    {
     "data": {
      "text/plain": [
       "array([52.785 ,  4.4244,  1.0172])"
      ]
     },
     "execution_count": 19,
     "metadata": {},
     "output_type": "execute_result"
    }
   ],
   "source": [
    "vk = s**2 / (n-1)\n",
    "vk"
   ]
  },
  {
   "cell_type": "markdown",
   "metadata": {},
   "source": [
    "In Scikit-Learn stehen entsprechende Methoden zur Verfügung, mit denen man diese Berechnungen sehr einfach durchführen lassen kann. Wir erhalten"
   ]
  },
  {
   "cell_type": "code",
   "execution_count": 20,
   "metadata": {
    "execution": {
     "iopub.execute_input": "2021-09-24T09:28:15.297348Z",
     "iopub.status.busy": "2021-09-24T09:28:15.296946Z",
     "iopub.status.idle": "2021-09-24T09:28:15.398237Z",
     "shell.execute_reply": "2021-09-24T09:28:15.397801Z"
    },
    "tags": [
     "hide-input"
    ]
   },
   "outputs": [
    {
     "data": {
      "application/javascript": [
       "/* Put everything inside the global mpl namespace */\n",
       "/* global mpl */\n",
       "window.mpl = {};\n",
       "\n",
       "mpl.get_websocket_type = function () {\n",
       "    if (typeof WebSocket !== 'undefined') {\n",
       "        return WebSocket;\n",
       "    } else if (typeof MozWebSocket !== 'undefined') {\n",
       "        return MozWebSocket;\n",
       "    } else {\n",
       "        alert(\n",
       "            'Your browser does not have WebSocket support. ' +\n",
       "                'Please try Chrome, Safari or Firefox ≥ 6. ' +\n",
       "                'Firefox 4 and 5 are also supported but you ' +\n",
       "                'have to enable WebSockets in about:config.'\n",
       "        );\n",
       "    }\n",
       "};\n",
       "\n",
       "mpl.figure = function (figure_id, websocket, ondownload, parent_element) {\n",
       "    this.id = figure_id;\n",
       "\n",
       "    this.ws = websocket;\n",
       "\n",
       "    this.supports_binary = this.ws.binaryType !== undefined;\n",
       "\n",
       "    if (!this.supports_binary) {\n",
       "        var warnings = document.getElementById('mpl-warnings');\n",
       "        if (warnings) {\n",
       "            warnings.style.display = 'block';\n",
       "            warnings.textContent =\n",
       "                'This browser does not support binary websocket messages. ' +\n",
       "                'Performance may be slow.';\n",
       "        }\n",
       "    }\n",
       "\n",
       "    this.imageObj = new Image();\n",
       "\n",
       "    this.context = undefined;\n",
       "    this.message = undefined;\n",
       "    this.canvas = undefined;\n",
       "    this.rubberband_canvas = undefined;\n",
       "    this.rubberband_context = undefined;\n",
       "    this.format_dropdown = undefined;\n",
       "\n",
       "    this.image_mode = 'full';\n",
       "\n",
       "    this.root = document.createElement('div');\n",
       "    this.root.setAttribute('style', 'display: inline-block');\n",
       "    this._root_extra_style(this.root);\n",
       "\n",
       "    parent_element.appendChild(this.root);\n",
       "\n",
       "    this._init_header(this);\n",
       "    this._init_canvas(this);\n",
       "    this._init_toolbar(this);\n",
       "\n",
       "    var fig = this;\n",
       "\n",
       "    this.waiting = false;\n",
       "\n",
       "    this.ws.onopen = function () {\n",
       "        fig.send_message('supports_binary', { value: fig.supports_binary });\n",
       "        fig.send_message('send_image_mode', {});\n",
       "        if (fig.ratio !== 1) {\n",
       "            fig.send_message('set_dpi_ratio', { dpi_ratio: fig.ratio });\n",
       "        }\n",
       "        fig.send_message('refresh', {});\n",
       "    };\n",
       "\n",
       "    this.imageObj.onload = function () {\n",
       "        if (fig.image_mode === 'full') {\n",
       "            // Full images could contain transparency (where diff images\n",
       "            // almost always do), so we need to clear the canvas so that\n",
       "            // there is no ghosting.\n",
       "            fig.context.clearRect(0, 0, fig.canvas.width, fig.canvas.height);\n",
       "        }\n",
       "        fig.context.drawImage(fig.imageObj, 0, 0);\n",
       "    };\n",
       "\n",
       "    this.imageObj.onunload = function () {\n",
       "        fig.ws.close();\n",
       "    };\n",
       "\n",
       "    this.ws.onmessage = this._make_on_message_function(this);\n",
       "\n",
       "    this.ondownload = ondownload;\n",
       "};\n",
       "\n",
       "mpl.figure.prototype._init_header = function () {\n",
       "    var titlebar = document.createElement('div');\n",
       "    titlebar.classList =\n",
       "        'ui-dialog-titlebar ui-widget-header ui-corner-all ui-helper-clearfix';\n",
       "    var titletext = document.createElement('div');\n",
       "    titletext.classList = 'ui-dialog-title';\n",
       "    titletext.setAttribute(\n",
       "        'style',\n",
       "        'width: 100%; text-align: center; padding: 3px;'\n",
       "    );\n",
       "    titlebar.appendChild(titletext);\n",
       "    this.root.appendChild(titlebar);\n",
       "    this.header = titletext;\n",
       "};\n",
       "\n",
       "mpl.figure.prototype._canvas_extra_style = function (_canvas_div) {};\n",
       "\n",
       "mpl.figure.prototype._root_extra_style = function (_canvas_div) {};\n",
       "\n",
       "mpl.figure.prototype._init_canvas = function () {\n",
       "    var fig = this;\n",
       "\n",
       "    var canvas_div = (this.canvas_div = document.createElement('div'));\n",
       "    canvas_div.setAttribute(\n",
       "        'style',\n",
       "        'border: 1px solid #ddd;' +\n",
       "            'box-sizing: content-box;' +\n",
       "            'clear: both;' +\n",
       "            'min-height: 1px;' +\n",
       "            'min-width: 1px;' +\n",
       "            'outline: 0;' +\n",
       "            'overflow: hidden;' +\n",
       "            'position: relative;' +\n",
       "            'resize: both;'\n",
       "    );\n",
       "\n",
       "    function on_keyboard_event_closure(name) {\n",
       "        return function (event) {\n",
       "            return fig.key_event(event, name);\n",
       "        };\n",
       "    }\n",
       "\n",
       "    canvas_div.addEventListener(\n",
       "        'keydown',\n",
       "        on_keyboard_event_closure('key_press')\n",
       "    );\n",
       "    canvas_div.addEventListener(\n",
       "        'keyup',\n",
       "        on_keyboard_event_closure('key_release')\n",
       "    );\n",
       "\n",
       "    this._canvas_extra_style(canvas_div);\n",
       "    this.root.appendChild(canvas_div);\n",
       "\n",
       "    var canvas = (this.canvas = document.createElement('canvas'));\n",
       "    canvas.classList.add('mpl-canvas');\n",
       "    canvas.setAttribute('style', 'box-sizing: content-box;');\n",
       "\n",
       "    this.context = canvas.getContext('2d');\n",
       "\n",
       "    var backingStore =\n",
       "        this.context.backingStorePixelRatio ||\n",
       "        this.context.webkitBackingStorePixelRatio ||\n",
       "        this.context.mozBackingStorePixelRatio ||\n",
       "        this.context.msBackingStorePixelRatio ||\n",
       "        this.context.oBackingStorePixelRatio ||\n",
       "        this.context.backingStorePixelRatio ||\n",
       "        1;\n",
       "\n",
       "    this.ratio = (window.devicePixelRatio || 1) / backingStore;\n",
       "\n",
       "    var rubberband_canvas = (this.rubberband_canvas = document.createElement(\n",
       "        'canvas'\n",
       "    ));\n",
       "    rubberband_canvas.setAttribute(\n",
       "        'style',\n",
       "        'box-sizing: content-box; position: absolute; left: 0; top: 0; z-index: 1;'\n",
       "    );\n",
       "\n",
       "    // Apply a ponyfill if ResizeObserver is not implemented by browser.\n",
       "    if (this.ResizeObserver === undefined) {\n",
       "        if (window.ResizeObserver !== undefined) {\n",
       "            this.ResizeObserver = window.ResizeObserver;\n",
       "        } else {\n",
       "            var obs = _JSXTOOLS_RESIZE_OBSERVER({});\n",
       "            this.ResizeObserver = obs.ResizeObserver;\n",
       "        }\n",
       "    }\n",
       "\n",
       "    this.resizeObserverInstance = new this.ResizeObserver(function (entries) {\n",
       "        var nentries = entries.length;\n",
       "        for (var i = 0; i < nentries; i++) {\n",
       "            var entry = entries[i];\n",
       "            var width, height;\n",
       "            if (entry.contentBoxSize) {\n",
       "                if (entry.contentBoxSize instanceof Array) {\n",
       "                    // Chrome 84 implements new version of spec.\n",
       "                    width = entry.contentBoxSize[0].inlineSize;\n",
       "                    height = entry.contentBoxSize[0].blockSize;\n",
       "                } else {\n",
       "                    // Firefox implements old version of spec.\n",
       "                    width = entry.contentBoxSize.inlineSize;\n",
       "                    height = entry.contentBoxSize.blockSize;\n",
       "                }\n",
       "            } else {\n",
       "                // Chrome <84 implements even older version of spec.\n",
       "                width = entry.contentRect.width;\n",
       "                height = entry.contentRect.height;\n",
       "            }\n",
       "\n",
       "            // Keep the size of the canvas and rubber band canvas in sync with\n",
       "            // the canvas container.\n",
       "            if (entry.devicePixelContentBoxSize) {\n",
       "                // Chrome 84 implements new version of spec.\n",
       "                canvas.setAttribute(\n",
       "                    'width',\n",
       "                    entry.devicePixelContentBoxSize[0].inlineSize\n",
       "                );\n",
       "                canvas.setAttribute(\n",
       "                    'height',\n",
       "                    entry.devicePixelContentBoxSize[0].blockSize\n",
       "                );\n",
       "            } else {\n",
       "                canvas.setAttribute('width', width * fig.ratio);\n",
       "                canvas.setAttribute('height', height * fig.ratio);\n",
       "            }\n",
       "            canvas.setAttribute(\n",
       "                'style',\n",
       "                'width: ' + width + 'px; height: ' + height + 'px;'\n",
       "            );\n",
       "\n",
       "            rubberband_canvas.setAttribute('width', width);\n",
       "            rubberband_canvas.setAttribute('height', height);\n",
       "\n",
       "            // And update the size in Python. We ignore the initial 0/0 size\n",
       "            // that occurs as the element is placed into the DOM, which should\n",
       "            // otherwise not happen due to the minimum size styling.\n",
       "            if (fig.ws.readyState == 1 && width != 0 && height != 0) {\n",
       "                fig.request_resize(width, height);\n",
       "            }\n",
       "        }\n",
       "    });\n",
       "    this.resizeObserverInstance.observe(canvas_div);\n",
       "\n",
       "    function on_mouse_event_closure(name) {\n",
       "        return function (event) {\n",
       "            return fig.mouse_event(event, name);\n",
       "        };\n",
       "    }\n",
       "\n",
       "    rubberband_canvas.addEventListener(\n",
       "        'mousedown',\n",
       "        on_mouse_event_closure('button_press')\n",
       "    );\n",
       "    rubberband_canvas.addEventListener(\n",
       "        'mouseup',\n",
       "        on_mouse_event_closure('button_release')\n",
       "    );\n",
       "    rubberband_canvas.addEventListener(\n",
       "        'dblclick',\n",
       "        on_mouse_event_closure('dblclick')\n",
       "    );\n",
       "    // Throttle sequential mouse events to 1 every 20ms.\n",
       "    rubberband_canvas.addEventListener(\n",
       "        'mousemove',\n",
       "        on_mouse_event_closure('motion_notify')\n",
       "    );\n",
       "\n",
       "    rubberband_canvas.addEventListener(\n",
       "        'mouseenter',\n",
       "        on_mouse_event_closure('figure_enter')\n",
       "    );\n",
       "    rubberband_canvas.addEventListener(\n",
       "        'mouseleave',\n",
       "        on_mouse_event_closure('figure_leave')\n",
       "    );\n",
       "\n",
       "    canvas_div.addEventListener('wheel', function (event) {\n",
       "        if (event.deltaY < 0) {\n",
       "            event.step = 1;\n",
       "        } else {\n",
       "            event.step = -1;\n",
       "        }\n",
       "        on_mouse_event_closure('scroll')(event);\n",
       "    });\n",
       "\n",
       "    canvas_div.appendChild(canvas);\n",
       "    canvas_div.appendChild(rubberband_canvas);\n",
       "\n",
       "    this.rubberband_context = rubberband_canvas.getContext('2d');\n",
       "    this.rubberband_context.strokeStyle = '#000000';\n",
       "\n",
       "    this._resize_canvas = function (width, height, forward) {\n",
       "        if (forward) {\n",
       "            canvas_div.style.width = width + 'px';\n",
       "            canvas_div.style.height = height + 'px';\n",
       "        }\n",
       "    };\n",
       "\n",
       "    // Disable right mouse context menu.\n",
       "    this.rubberband_canvas.addEventListener('contextmenu', function (_e) {\n",
       "        event.preventDefault();\n",
       "        return false;\n",
       "    });\n",
       "\n",
       "    function set_focus() {\n",
       "        canvas.focus();\n",
       "        canvas_div.focus();\n",
       "    }\n",
       "\n",
       "    window.setTimeout(set_focus, 100);\n",
       "};\n",
       "\n",
       "mpl.figure.prototype._init_toolbar = function () {\n",
       "    var fig = this;\n",
       "\n",
       "    var toolbar = document.createElement('div');\n",
       "    toolbar.classList = 'mpl-toolbar';\n",
       "    this.root.appendChild(toolbar);\n",
       "\n",
       "    function on_click_closure(name) {\n",
       "        return function (_event) {\n",
       "            return fig.toolbar_button_onclick(name);\n",
       "        };\n",
       "    }\n",
       "\n",
       "    function on_mouseover_closure(tooltip) {\n",
       "        return function (event) {\n",
       "            if (!event.currentTarget.disabled) {\n",
       "                return fig.toolbar_button_onmouseover(tooltip);\n",
       "            }\n",
       "        };\n",
       "    }\n",
       "\n",
       "    fig.buttons = {};\n",
       "    var buttonGroup = document.createElement('div');\n",
       "    buttonGroup.classList = 'mpl-button-group';\n",
       "    for (var toolbar_ind in mpl.toolbar_items) {\n",
       "        var name = mpl.toolbar_items[toolbar_ind][0];\n",
       "        var tooltip = mpl.toolbar_items[toolbar_ind][1];\n",
       "        var image = mpl.toolbar_items[toolbar_ind][2];\n",
       "        var method_name = mpl.toolbar_items[toolbar_ind][3];\n",
       "\n",
       "        if (!name) {\n",
       "            /* Instead of a spacer, we start a new button group. */\n",
       "            if (buttonGroup.hasChildNodes()) {\n",
       "                toolbar.appendChild(buttonGroup);\n",
       "            }\n",
       "            buttonGroup = document.createElement('div');\n",
       "            buttonGroup.classList = 'mpl-button-group';\n",
       "            continue;\n",
       "        }\n",
       "\n",
       "        var button = (fig.buttons[name] = document.createElement('button'));\n",
       "        button.classList = 'mpl-widget';\n",
       "        button.setAttribute('role', 'button');\n",
       "        button.setAttribute('aria-disabled', 'false');\n",
       "        button.addEventListener('click', on_click_closure(method_name));\n",
       "        button.addEventListener('mouseover', on_mouseover_closure(tooltip));\n",
       "\n",
       "        var icon_img = document.createElement('img');\n",
       "        icon_img.src = '_images/' + image + '.png';\n",
       "        icon_img.srcset = '_images/' + image + '_large.png 2x';\n",
       "        icon_img.alt = tooltip;\n",
       "        button.appendChild(icon_img);\n",
       "\n",
       "        buttonGroup.appendChild(button);\n",
       "    }\n",
       "\n",
       "    if (buttonGroup.hasChildNodes()) {\n",
       "        toolbar.appendChild(buttonGroup);\n",
       "    }\n",
       "\n",
       "    var fmt_picker = document.createElement('select');\n",
       "    fmt_picker.classList = 'mpl-widget';\n",
       "    toolbar.appendChild(fmt_picker);\n",
       "    this.format_dropdown = fmt_picker;\n",
       "\n",
       "    for (var ind in mpl.extensions) {\n",
       "        var fmt = mpl.extensions[ind];\n",
       "        var option = document.createElement('option');\n",
       "        option.selected = fmt === mpl.default_extension;\n",
       "        option.innerHTML = fmt;\n",
       "        fmt_picker.appendChild(option);\n",
       "    }\n",
       "\n",
       "    var status_bar = document.createElement('span');\n",
       "    status_bar.classList = 'mpl-message';\n",
       "    toolbar.appendChild(status_bar);\n",
       "    this.message = status_bar;\n",
       "};\n",
       "\n",
       "mpl.figure.prototype.request_resize = function (x_pixels, y_pixels) {\n",
       "    // Request matplotlib to resize the figure. Matplotlib will then trigger a resize in the client,\n",
       "    // which will in turn request a refresh of the image.\n",
       "    this.send_message('resize', { width: x_pixels, height: y_pixels });\n",
       "};\n",
       "\n",
       "mpl.figure.prototype.send_message = function (type, properties) {\n",
       "    properties['type'] = type;\n",
       "    properties['figure_id'] = this.id;\n",
       "    this.ws.send(JSON.stringify(properties));\n",
       "};\n",
       "\n",
       "mpl.figure.prototype.send_draw_message = function () {\n",
       "    if (!this.waiting) {\n",
       "        this.waiting = true;\n",
       "        this.ws.send(JSON.stringify({ type: 'draw', figure_id: this.id }));\n",
       "    }\n",
       "};\n",
       "\n",
       "mpl.figure.prototype.handle_save = function (fig, _msg) {\n",
       "    var format_dropdown = fig.format_dropdown;\n",
       "    var format = format_dropdown.options[format_dropdown.selectedIndex].value;\n",
       "    fig.ondownload(fig, format);\n",
       "};\n",
       "\n",
       "mpl.figure.prototype.handle_resize = function (fig, msg) {\n",
       "    var size = msg['size'];\n",
       "    if (size[0] !== fig.canvas.width || size[1] !== fig.canvas.height) {\n",
       "        fig._resize_canvas(size[0], size[1], msg['forward']);\n",
       "        fig.send_message('refresh', {});\n",
       "    }\n",
       "};\n",
       "\n",
       "mpl.figure.prototype.handle_rubberband = function (fig, msg) {\n",
       "    var x0 = msg['x0'] / fig.ratio;\n",
       "    var y0 = (fig.canvas.height - msg['y0']) / fig.ratio;\n",
       "    var x1 = msg['x1'] / fig.ratio;\n",
       "    var y1 = (fig.canvas.height - msg['y1']) / fig.ratio;\n",
       "    x0 = Math.floor(x0) + 0.5;\n",
       "    y0 = Math.floor(y0) + 0.5;\n",
       "    x1 = Math.floor(x1) + 0.5;\n",
       "    y1 = Math.floor(y1) + 0.5;\n",
       "    var min_x = Math.min(x0, x1);\n",
       "    var min_y = Math.min(y0, y1);\n",
       "    var width = Math.abs(x1 - x0);\n",
       "    var height = Math.abs(y1 - y0);\n",
       "\n",
       "    fig.rubberband_context.clearRect(\n",
       "        0,\n",
       "        0,\n",
       "        fig.canvas.width / fig.ratio,\n",
       "        fig.canvas.height / fig.ratio\n",
       "    );\n",
       "\n",
       "    fig.rubberband_context.strokeRect(min_x, min_y, width, height);\n",
       "};\n",
       "\n",
       "mpl.figure.prototype.handle_figure_label = function (fig, msg) {\n",
       "    // Updates the figure title.\n",
       "    fig.header.textContent = msg['label'];\n",
       "};\n",
       "\n",
       "mpl.figure.prototype.handle_cursor = function (fig, msg) {\n",
       "    var cursor = msg['cursor'];\n",
       "    switch (cursor) {\n",
       "        case 0:\n",
       "            cursor = 'pointer';\n",
       "            break;\n",
       "        case 1:\n",
       "            cursor = 'default';\n",
       "            break;\n",
       "        case 2:\n",
       "            cursor = 'crosshair';\n",
       "            break;\n",
       "        case 3:\n",
       "            cursor = 'move';\n",
       "            break;\n",
       "    }\n",
       "    fig.rubberband_canvas.style.cursor = cursor;\n",
       "};\n",
       "\n",
       "mpl.figure.prototype.handle_message = function (fig, msg) {\n",
       "    fig.message.textContent = msg['message'];\n",
       "};\n",
       "\n",
       "mpl.figure.prototype.handle_draw = function (fig, _msg) {\n",
       "    // Request the server to send over a new figure.\n",
       "    fig.send_draw_message();\n",
       "};\n",
       "\n",
       "mpl.figure.prototype.handle_image_mode = function (fig, msg) {\n",
       "    fig.image_mode = msg['mode'];\n",
       "};\n",
       "\n",
       "mpl.figure.prototype.handle_history_buttons = function (fig, msg) {\n",
       "    for (var key in msg) {\n",
       "        if (!(key in fig.buttons)) {\n",
       "            continue;\n",
       "        }\n",
       "        fig.buttons[key].disabled = !msg[key];\n",
       "        fig.buttons[key].setAttribute('aria-disabled', !msg[key]);\n",
       "    }\n",
       "};\n",
       "\n",
       "mpl.figure.prototype.handle_navigate_mode = function (fig, msg) {\n",
       "    if (msg['mode'] === 'PAN') {\n",
       "        fig.buttons['Pan'].classList.add('active');\n",
       "        fig.buttons['Zoom'].classList.remove('active');\n",
       "    } else if (msg['mode'] === 'ZOOM') {\n",
       "        fig.buttons['Pan'].classList.remove('active');\n",
       "        fig.buttons['Zoom'].classList.add('active');\n",
       "    } else {\n",
       "        fig.buttons['Pan'].classList.remove('active');\n",
       "        fig.buttons['Zoom'].classList.remove('active');\n",
       "    }\n",
       "};\n",
       "\n",
       "mpl.figure.prototype.updated_canvas_event = function () {\n",
       "    // Called whenever the canvas gets updated.\n",
       "    this.send_message('ack', {});\n",
       "};\n",
       "\n",
       "// A function to construct a web socket function for onmessage handling.\n",
       "// Called in the figure constructor.\n",
       "mpl.figure.prototype._make_on_message_function = function (fig) {\n",
       "    return function socket_on_message(evt) {\n",
       "        if (evt.data instanceof Blob) {\n",
       "            var img = evt.data;\n",
       "            if (img.type !== 'image/png') {\n",
       "                /* FIXME: We get \"Resource interpreted as Image but\n",
       "                 * transferred with MIME type text/plain:\" errors on\n",
       "                 * Chrome.  But how to set the MIME type?  It doesn't seem\n",
       "                 * to be part of the websocket stream */\n",
       "                img.type = 'image/png';\n",
       "            }\n",
       "\n",
       "            /* Free the memory for the previous frames */\n",
       "            if (fig.imageObj.src) {\n",
       "                (window.URL || window.webkitURL).revokeObjectURL(\n",
       "                    fig.imageObj.src\n",
       "                );\n",
       "            }\n",
       "\n",
       "            fig.imageObj.src = (window.URL || window.webkitURL).createObjectURL(\n",
       "                img\n",
       "            );\n",
       "            fig.updated_canvas_event();\n",
       "            fig.waiting = false;\n",
       "            return;\n",
       "        } else if (\n",
       "            typeof evt.data === 'string' &&\n",
       "            evt.data.slice(0, 21) === 'data:image/png;base64'\n",
       "        ) {\n",
       "            fig.imageObj.src = evt.data;\n",
       "            fig.updated_canvas_event();\n",
       "            fig.waiting = false;\n",
       "            return;\n",
       "        }\n",
       "\n",
       "        var msg = JSON.parse(evt.data);\n",
       "        var msg_type = msg['type'];\n",
       "\n",
       "        // Call the  \"handle_{type}\" callback, which takes\n",
       "        // the figure and JSON message as its only arguments.\n",
       "        try {\n",
       "            var callback = fig['handle_' + msg_type];\n",
       "        } catch (e) {\n",
       "            console.log(\n",
       "                \"No handler for the '\" + msg_type + \"' message type: \",\n",
       "                msg\n",
       "            );\n",
       "            return;\n",
       "        }\n",
       "\n",
       "        if (callback) {\n",
       "            try {\n",
       "                // console.log(\"Handling '\" + msg_type + \"' message: \", msg);\n",
       "                callback(fig, msg);\n",
       "            } catch (e) {\n",
       "                console.log(\n",
       "                    \"Exception inside the 'handler_\" + msg_type + \"' callback:\",\n",
       "                    e,\n",
       "                    e.stack,\n",
       "                    msg\n",
       "                );\n",
       "            }\n",
       "        }\n",
       "    };\n",
       "};\n",
       "\n",
       "// from http://stackoverflow.com/questions/1114465/getting-mouse-location-in-canvas\n",
       "mpl.findpos = function (e) {\n",
       "    //this section is from http://www.quirksmode.org/js/events_properties.html\n",
       "    var targ;\n",
       "    if (!e) {\n",
       "        e = window.event;\n",
       "    }\n",
       "    if (e.target) {\n",
       "        targ = e.target;\n",
       "    } else if (e.srcElement) {\n",
       "        targ = e.srcElement;\n",
       "    }\n",
       "    if (targ.nodeType === 3) {\n",
       "        // defeat Safari bug\n",
       "        targ = targ.parentNode;\n",
       "    }\n",
       "\n",
       "    // pageX,Y are the mouse positions relative to the document\n",
       "    var boundingRect = targ.getBoundingClientRect();\n",
       "    var x = e.pageX - (boundingRect.left + document.body.scrollLeft);\n",
       "    var y = e.pageY - (boundingRect.top + document.body.scrollTop);\n",
       "\n",
       "    return { x: x, y: y };\n",
       "};\n",
       "\n",
       "/*\n",
       " * return a copy of an object with only non-object keys\n",
       " * we need this to avoid circular references\n",
       " * http://stackoverflow.com/a/24161582/3208463\n",
       " */\n",
       "function simpleKeys(original) {\n",
       "    return Object.keys(original).reduce(function (obj, key) {\n",
       "        if (typeof original[key] !== 'object') {\n",
       "            obj[key] = original[key];\n",
       "        }\n",
       "        return obj;\n",
       "    }, {});\n",
       "}\n",
       "\n",
       "mpl.figure.prototype.mouse_event = function (event, name) {\n",
       "    var canvas_pos = mpl.findpos(event);\n",
       "\n",
       "    if (name === 'button_press') {\n",
       "        this.canvas.focus();\n",
       "        this.canvas_div.focus();\n",
       "    }\n",
       "\n",
       "    var x = canvas_pos.x * this.ratio;\n",
       "    var y = canvas_pos.y * this.ratio;\n",
       "\n",
       "    this.send_message(name, {\n",
       "        x: x,\n",
       "        y: y,\n",
       "        button: event.button,\n",
       "        step: event.step,\n",
       "        guiEvent: simpleKeys(event),\n",
       "    });\n",
       "\n",
       "    /* This prevents the web browser from automatically changing to\n",
       "     * the text insertion cursor when the button is pressed.  We want\n",
       "     * to control all of the cursor setting manually through the\n",
       "     * 'cursor' event from matplotlib */\n",
       "    event.preventDefault();\n",
       "    return false;\n",
       "};\n",
       "\n",
       "mpl.figure.prototype._key_event_extra = function (_event, _name) {\n",
       "    // Handle any extra behaviour associated with a key event\n",
       "};\n",
       "\n",
       "mpl.figure.prototype.key_event = function (event, name) {\n",
       "    // Prevent repeat events\n",
       "    if (name === 'key_press') {\n",
       "        if (event.key === this._key) {\n",
       "            return;\n",
       "        } else {\n",
       "            this._key = event.key;\n",
       "        }\n",
       "    }\n",
       "    if (name === 'key_release') {\n",
       "        this._key = null;\n",
       "    }\n",
       "\n",
       "    var value = '';\n",
       "    if (event.ctrlKey && event.key !== 'Control') {\n",
       "        value += 'ctrl+';\n",
       "    }\n",
       "    else if (event.altKey && event.key !== 'Alt') {\n",
       "        value += 'alt+';\n",
       "    }\n",
       "    else if (event.shiftKey && event.key !== 'Shift') {\n",
       "        value += 'shift+';\n",
       "    }\n",
       "\n",
       "    value += 'k' + event.key;\n",
       "\n",
       "    this._key_event_extra(event, name);\n",
       "\n",
       "    this.send_message(name, { key: value, guiEvent: simpleKeys(event) });\n",
       "    return false;\n",
       "};\n",
       "\n",
       "mpl.figure.prototype.toolbar_button_onclick = function (name) {\n",
       "    if (name === 'download') {\n",
       "        this.handle_save(this, null);\n",
       "    } else {\n",
       "        this.send_message('toolbar_button', { name: name });\n",
       "    }\n",
       "};\n",
       "\n",
       "mpl.figure.prototype.toolbar_button_onmouseover = function (tooltip) {\n",
       "    this.message.textContent = tooltip;\n",
       "};\n",
       "\n",
       "///////////////// REMAINING CONTENT GENERATED BY embed_js.py /////////////////\n",
       "// prettier-ignore\n",
       "var _JSXTOOLS_RESIZE_OBSERVER=function(A){var t,i=new WeakMap,n=new WeakMap,a=new WeakMap,r=new WeakMap,o=new Set;function s(e){if(!(this instanceof s))throw new TypeError(\"Constructor requires 'new' operator\");i.set(this,e)}function h(){throw new TypeError(\"Function is not a constructor\")}function c(e,t,i,n){e=0 in arguments?Number(arguments[0]):0,t=1 in arguments?Number(arguments[1]):0,i=2 in arguments?Number(arguments[2]):0,n=3 in arguments?Number(arguments[3]):0,this.right=(this.x=this.left=e)+(this.width=i),this.bottom=(this.y=this.top=t)+(this.height=n),Object.freeze(this)}function d(){t=requestAnimationFrame(d);var s=new WeakMap,p=new Set;o.forEach((function(t){r.get(t).forEach((function(i){var r=t instanceof window.SVGElement,o=a.get(t),d=r?0:parseFloat(o.paddingTop),f=r?0:parseFloat(o.paddingRight),l=r?0:parseFloat(o.paddingBottom),u=r?0:parseFloat(o.paddingLeft),g=r?0:parseFloat(o.borderTopWidth),m=r?0:parseFloat(o.borderRightWidth),w=r?0:parseFloat(o.borderBottomWidth),b=u+f,F=d+l,v=(r?0:parseFloat(o.borderLeftWidth))+m,W=g+w,y=r?0:t.offsetHeight-W-t.clientHeight,E=r?0:t.offsetWidth-v-t.clientWidth,R=b+v,z=F+W,M=r?t.width:parseFloat(o.width)-R-E,O=r?t.height:parseFloat(o.height)-z-y;if(n.has(t)){var k=n.get(t);if(k[0]===M&&k[1]===O)return}n.set(t,[M,O]);var S=Object.create(h.prototype);S.target=t,S.contentRect=new c(u,d,M,O),s.has(i)||(s.set(i,[]),p.add(i)),s.get(i).push(S)}))})),p.forEach((function(e){i.get(e).call(e,s.get(e),e)}))}return s.prototype.observe=function(i){if(i instanceof window.Element){r.has(i)||(r.set(i,new Set),o.add(i),a.set(i,window.getComputedStyle(i)));var n=r.get(i);n.has(this)||n.add(this),cancelAnimationFrame(t),t=requestAnimationFrame(d)}},s.prototype.unobserve=function(i){if(i instanceof window.Element&&r.has(i)){var n=r.get(i);n.has(this)&&(n.delete(this),n.size||(r.delete(i),o.delete(i))),n.size||r.delete(i),o.size||cancelAnimationFrame(t)}},A.DOMRectReadOnly=c,A.ResizeObserver=s,A.ResizeObserverEntry=h,A}; // eslint-disable-line\n",
       "mpl.toolbar_items = [[\"Home\", \"Reset original view\", \"fa fa-home icon-home\", \"home\"], [\"Back\", \"Back to previous view\", \"fa fa-arrow-left icon-arrow-left\", \"back\"], [\"Forward\", \"Forward to next view\", \"fa fa-arrow-right icon-arrow-right\", \"forward\"], [\"\", \"\", \"\", \"\"], [\"Pan\", \"Left button pans, Right button zooms\\nx/y fixes axis, CTRL fixes aspect\", \"fa fa-arrows icon-move\", \"pan\"], [\"Zoom\", \"Zoom to rectangle\\nx/y fixes axis, CTRL fixes aspect\", \"fa fa-square-o icon-check-empty\", \"zoom\"], [\"\", \"\", \"\", \"\"], [\"Download\", \"Download plot\", \"fa fa-floppy-o icon-save\", \"download\"]];\n",
       "\n",
       "mpl.extensions = [\"eps\", \"jpeg\", \"pgf\", \"pdf\", \"png\", \"ps\", \"raw\", \"svg\", \"tif\"];\n",
       "\n",
       "mpl.default_extension = \"png\";/* global mpl */\n",
       "\n",
       "var comm_websocket_adapter = function (comm) {\n",
       "    // Create a \"websocket\"-like object which calls the given IPython comm\n",
       "    // object with the appropriate methods. Currently this is a non binary\n",
       "    // socket, so there is still some room for performance tuning.\n",
       "    var ws = {};\n",
       "\n",
       "    ws.binaryType = comm.kernel.ws.binaryType;\n",
       "    ws.readyState = comm.kernel.ws.readyState;\n",
       "    function updateReadyState(_event) {\n",
       "        if (comm.kernel.ws) {\n",
       "            ws.readyState = comm.kernel.ws.readyState;\n",
       "        } else {\n",
       "            ws.readyState = 3; // Closed state.\n",
       "        }\n",
       "    }\n",
       "    comm.kernel.ws.addEventListener('open', updateReadyState);\n",
       "    comm.kernel.ws.addEventListener('close', updateReadyState);\n",
       "    comm.kernel.ws.addEventListener('error', updateReadyState);\n",
       "\n",
       "    ws.close = function () {\n",
       "        comm.close();\n",
       "    };\n",
       "    ws.send = function (m) {\n",
       "        //console.log('sending', m);\n",
       "        comm.send(m);\n",
       "    };\n",
       "    // Register the callback with on_msg.\n",
       "    comm.on_msg(function (msg) {\n",
       "        //console.log('receiving', msg['content']['data'], msg);\n",
       "        var data = msg['content']['data'];\n",
       "        if (data['blob'] !== undefined) {\n",
       "            data = {\n",
       "                data: new Blob(msg['buffers'], { type: data['blob'] }),\n",
       "            };\n",
       "        }\n",
       "        // Pass the mpl event to the overridden (by mpl) onmessage function.\n",
       "        ws.onmessage(data);\n",
       "    });\n",
       "    return ws;\n",
       "};\n",
       "\n",
       "mpl.mpl_figure_comm = function (comm, msg) {\n",
       "    // This is the function which gets called when the mpl process\n",
       "    // starts-up an IPython Comm through the \"matplotlib\" channel.\n",
       "\n",
       "    var id = msg.content.data.id;\n",
       "    // Get hold of the div created by the display call when the Comm\n",
       "    // socket was opened in Python.\n",
       "    var element = document.getElementById(id);\n",
       "    var ws_proxy = comm_websocket_adapter(comm);\n",
       "\n",
       "    function ondownload(figure, _format) {\n",
       "        window.open(figure.canvas.toDataURL());\n",
       "    }\n",
       "\n",
       "    var fig = new mpl.figure(id, ws_proxy, ondownload, element);\n",
       "\n",
       "    // Call onopen now - mpl needs it, as it is assuming we've passed it a real\n",
       "    // web socket which is closed, not our websocket->open comm proxy.\n",
       "    ws_proxy.onopen();\n",
       "\n",
       "    fig.parent_element = element;\n",
       "    fig.cell_info = mpl.find_output_cell(\"<div id='\" + id + \"'></div>\");\n",
       "    if (!fig.cell_info) {\n",
       "        console.error('Failed to find cell for figure', id, fig);\n",
       "        return;\n",
       "    }\n",
       "    fig.cell_info[0].output_area.element.on(\n",
       "        'cleared',\n",
       "        { fig: fig },\n",
       "        fig._remove_fig_handler\n",
       "    );\n",
       "};\n",
       "\n",
       "mpl.figure.prototype.handle_close = function (fig, msg) {\n",
       "    var width = fig.canvas.width / fig.ratio;\n",
       "    fig.cell_info[0].output_area.element.off(\n",
       "        'cleared',\n",
       "        fig._remove_fig_handler\n",
       "    );\n",
       "    fig.resizeObserverInstance.unobserve(fig.canvas_div);\n",
       "\n",
       "    // Update the output cell to use the data from the current canvas.\n",
       "    fig.push_to_output();\n",
       "    var dataURL = fig.canvas.toDataURL();\n",
       "    // Re-enable the keyboard manager in IPython - without this line, in FF,\n",
       "    // the notebook keyboard shortcuts fail.\n",
       "    IPython.keyboard_manager.enable();\n",
       "    fig.parent_element.innerHTML =\n",
       "        '<img src=\"' + dataURL + '\" width=\"' + width + '\">';\n",
       "    fig.close_ws(fig, msg);\n",
       "};\n",
       "\n",
       "mpl.figure.prototype.close_ws = function (fig, msg) {\n",
       "    fig.send_message('closing', msg);\n",
       "    // fig.ws.close()\n",
       "};\n",
       "\n",
       "mpl.figure.prototype.push_to_output = function (_remove_interactive) {\n",
       "    // Turn the data on the canvas into data in the output cell.\n",
       "    var width = this.canvas.width / this.ratio;\n",
       "    var dataURL = this.canvas.toDataURL();\n",
       "    this.cell_info[1]['text/html'] =\n",
       "        '<img src=\"' + dataURL + '\" width=\"' + width + '\">';\n",
       "};\n",
       "\n",
       "mpl.figure.prototype.updated_canvas_event = function () {\n",
       "    // Tell IPython that the notebook contents must change.\n",
       "    IPython.notebook.set_dirty(true);\n",
       "    this.send_message('ack', {});\n",
       "    var fig = this;\n",
       "    // Wait a second, then push the new image to the DOM so\n",
       "    // that it is saved nicely (might be nice to debounce this).\n",
       "    setTimeout(function () {\n",
       "        fig.push_to_output();\n",
       "    }, 1000);\n",
       "};\n",
       "\n",
       "mpl.figure.prototype._init_toolbar = function () {\n",
       "    var fig = this;\n",
       "\n",
       "    var toolbar = document.createElement('div');\n",
       "    toolbar.classList = 'btn-toolbar';\n",
       "    this.root.appendChild(toolbar);\n",
       "\n",
       "    function on_click_closure(name) {\n",
       "        return function (_event) {\n",
       "            return fig.toolbar_button_onclick(name);\n",
       "        };\n",
       "    }\n",
       "\n",
       "    function on_mouseover_closure(tooltip) {\n",
       "        return function (event) {\n",
       "            if (!event.currentTarget.disabled) {\n",
       "                return fig.toolbar_button_onmouseover(tooltip);\n",
       "            }\n",
       "        };\n",
       "    }\n",
       "\n",
       "    fig.buttons = {};\n",
       "    var buttonGroup = document.createElement('div');\n",
       "    buttonGroup.classList = 'btn-group';\n",
       "    var button;\n",
       "    for (var toolbar_ind in mpl.toolbar_items) {\n",
       "        var name = mpl.toolbar_items[toolbar_ind][0];\n",
       "        var tooltip = mpl.toolbar_items[toolbar_ind][1];\n",
       "        var image = mpl.toolbar_items[toolbar_ind][2];\n",
       "        var method_name = mpl.toolbar_items[toolbar_ind][3];\n",
       "\n",
       "        if (!name) {\n",
       "            /* Instead of a spacer, we start a new button group. */\n",
       "            if (buttonGroup.hasChildNodes()) {\n",
       "                toolbar.appendChild(buttonGroup);\n",
       "            }\n",
       "            buttonGroup = document.createElement('div');\n",
       "            buttonGroup.classList = 'btn-group';\n",
       "            continue;\n",
       "        }\n",
       "\n",
       "        button = fig.buttons[name] = document.createElement('button');\n",
       "        button.classList = 'btn btn-default';\n",
       "        button.href = '#';\n",
       "        button.title = name;\n",
       "        button.innerHTML = '<i class=\"fa ' + image + ' fa-lg\"></i>';\n",
       "        button.addEventListener('click', on_click_closure(method_name));\n",
       "        button.addEventListener('mouseover', on_mouseover_closure(tooltip));\n",
       "        buttonGroup.appendChild(button);\n",
       "    }\n",
       "\n",
       "    if (buttonGroup.hasChildNodes()) {\n",
       "        toolbar.appendChild(buttonGroup);\n",
       "    }\n",
       "\n",
       "    // Add the status bar.\n",
       "    var status_bar = document.createElement('span');\n",
       "    status_bar.classList = 'mpl-message pull-right';\n",
       "    toolbar.appendChild(status_bar);\n",
       "    this.message = status_bar;\n",
       "\n",
       "    // Add the close button to the window.\n",
       "    var buttongrp = document.createElement('div');\n",
       "    buttongrp.classList = 'btn-group inline pull-right';\n",
       "    button = document.createElement('button');\n",
       "    button.classList = 'btn btn-mini btn-primary';\n",
       "    button.href = '#';\n",
       "    button.title = 'Stop Interaction';\n",
       "    button.innerHTML = '<i class=\"fa fa-power-off icon-remove icon-large\"></i>';\n",
       "    button.addEventListener('click', function (_evt) {\n",
       "        fig.handle_close(fig, {});\n",
       "    });\n",
       "    button.addEventListener(\n",
       "        'mouseover',\n",
       "        on_mouseover_closure('Stop Interaction')\n",
       "    );\n",
       "    buttongrp.appendChild(button);\n",
       "    var titlebar = this.root.querySelector('.ui-dialog-titlebar');\n",
       "    titlebar.insertBefore(buttongrp, titlebar.firstChild);\n",
       "};\n",
       "\n",
       "mpl.figure.prototype._remove_fig_handler = function (event) {\n",
       "    var fig = event.data.fig;\n",
       "    if (event.target !== this) {\n",
       "        // Ignore bubbled events from children.\n",
       "        return;\n",
       "    }\n",
       "    fig.close_ws(fig, {});\n",
       "};\n",
       "\n",
       "mpl.figure.prototype._root_extra_style = function (el) {\n",
       "    el.style.boxSizing = 'content-box'; // override notebook setting of border-box.\n",
       "};\n",
       "\n",
       "mpl.figure.prototype._canvas_extra_style = function (el) {\n",
       "    // this is important to make the div 'focusable\n",
       "    el.setAttribute('tabindex', 0);\n",
       "    // reach out to IPython and tell the keyboard manager to turn it's self\n",
       "    // off when our div gets focus\n",
       "\n",
       "    // location in version 3\n",
       "    if (IPython.notebook.keyboard_manager) {\n",
       "        IPython.notebook.keyboard_manager.register_events(el);\n",
       "    } else {\n",
       "        // location in version 2\n",
       "        IPython.keyboard_manager.register_events(el);\n",
       "    }\n",
       "};\n",
       "\n",
       "mpl.figure.prototype._key_event_extra = function (event, _name) {\n",
       "    var manager = IPython.notebook.keyboard_manager;\n",
       "    if (!manager) {\n",
       "        manager = IPython.keyboard_manager;\n",
       "    }\n",
       "\n",
       "    // Check for shift+enter\n",
       "    if (event.shiftKey && event.which === 13) {\n",
       "        this.canvas_div.blur();\n",
       "        // select the cell after this one\n",
       "        var index = IPython.notebook.find_cell_index(this.cell_info[0]);\n",
       "        IPython.notebook.select(index + 1);\n",
       "    }\n",
       "};\n",
       "\n",
       "mpl.figure.prototype.handle_save = function (fig, _msg) {\n",
       "    fig.ondownload(fig, null);\n",
       "};\n",
       "\n",
       "mpl.find_output_cell = function (html_output) {\n",
       "    // Return the cell and output element which can be found *uniquely* in the notebook.\n",
       "    // Note - this is a bit hacky, but it is done because the \"notebook_saving.Notebook\"\n",
       "    // IPython event is triggered only after the cells have been serialised, which for\n",
       "    // our purposes (turning an active figure into a static one), is too late.\n",
       "    var cells = IPython.notebook.get_cells();\n",
       "    var ncells = cells.length;\n",
       "    for (var i = 0; i < ncells; i++) {\n",
       "        var cell = cells[i];\n",
       "        if (cell.cell_type === 'code') {\n",
       "            for (var j = 0; j < cell.output_area.outputs.length; j++) {\n",
       "                var data = cell.output_area.outputs[j];\n",
       "                if (data.data) {\n",
       "                    // IPython >= 3 moved mimebundle to data attribute of output\n",
       "                    data = data.data;\n",
       "                }\n",
       "                if (data['text/html'] === html_output) {\n",
       "                    return [cell, data, j];\n",
       "                }\n",
       "            }\n",
       "        }\n",
       "    }\n",
       "};\n",
       "\n",
       "// Register the function which deals with the matplotlib target/channel.\n",
       "// The kernel may be null if the page has been refreshed.\n",
       "if (IPython.notebook.kernel !== null) {\n",
       "    IPython.notebook.kernel.comm_manager.register_target(\n",
       "        'matplotlib',\n",
       "        mpl.mpl_figure_comm\n",
       "    );\n",
       "}\n"
      ],
      "text/plain": [
       "<IPython.core.display.Javascript object>"
      ]
     },
     "metadata": {},
     "output_type": "display_data"
    },
    {
     "data": {
      "text/html": [
       "<img src=\"data:image/png;base64,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\" width=\"640\">"
      ],
      "text/plain": [
       "<IPython.core.display.HTML object>"
      ]
     },
     "metadata": {},
     "output_type": "display_data"
    }
   ],
   "source": [
    "%matplotlib notebook\n",
    "\n",
    "from sklearn.decomposition import PCA\n",
    "\n",
    "plt.figure()\n",
    "plt.axes(projection='3d')\n",
    "plt.plot(*X, '.')\n",
    "#plt.axis('equal');\n",
    "\n",
    "pca = PCA(3)\n",
    "pca.fit(X.T)\n",
    "\n",
    "for col,u in enumerate(pca.components_.T):\n",
    "    plt.plot(*(np.c_[-u, u]*15 + Xbar));\n",
    "\n",
    "plt.gca().view_init(20,70)"
   ]
  },
  {
   "cell_type": "markdown",
   "metadata": {},
   "source": [
    "mit Hauptkomponenten"
   ]
  },
  {
   "cell_type": "code",
   "execution_count": 21,
   "metadata": {
    "execution": {
     "iopub.execute_input": "2021-09-24T09:28:15.400497Z",
     "iopub.status.busy": "2021-09-24T09:28:15.399489Z",
     "iopub.status.idle": "2021-09-24T09:28:15.402242Z",
     "shell.execute_reply": "2021-09-24T09:28:15.402572Z"
    },
    "tags": [
     "hide-input"
    ]
   },
   "outputs": [
    {
     "data": {
      "text/plain": [
       "array([[-0.6248, -0.6964,  0.3531],\n",
       "       [ 0.2762, -0.6201, -0.7342],\n",
       "       [ 0.7303, -0.3612,  0.5798]])"
      ]
     },
     "execution_count": 21,
     "metadata": {},
     "output_type": "execute_result"
    }
   ],
   "source": [
    "%matplotlib inline\n",
    "\n",
    "pca.components_.T"
   ]
  },
  {
   "cell_type": "markdown",
   "metadata": {},
   "source": [
    "und Varianzen"
   ]
  },
  {
   "cell_type": "code",
   "execution_count": 22,
   "metadata": {
    "execution": {
     "iopub.execute_input": "2021-09-24T09:28:15.405231Z",
     "iopub.status.busy": "2021-09-24T09:28:15.404840Z",
     "iopub.status.idle": "2021-09-24T09:28:15.406558Z",
     "shell.execute_reply": "2021-09-24T09:28:15.406884Z"
    },
    "tags": [
     "hide-input"
    ]
   },
   "outputs": [
    {
     "data": {
      "text/plain": [
       "array([52.785 ,  4.4244,  1.0172])"
      ]
     },
     "execution_count": 22,
     "metadata": {},
     "output_type": "execute_result"
    }
   ],
   "source": [
    "pca.explained_variance_"
   ]
  },
  {
   "cell_type": "markdown",
   "metadata": {},
   "source": [
    "### PCA bei Klassifikation von Ziffern"
   ]
  },
  {
   "cell_type": "markdown",
   "metadata": {},
   "source": [
    "Wir wenden die oben erklärten Methoden auf die Klassifikation\n",
    "von handschriftlichen Ziffern an.\n",
    "\n",
    "In Scikit-Learn gibt es einen entsprechenden Datensatz mit\n",
    "8x8-Pixel Graustufenbildern."
   ]
  },
  {
   "cell_type": "code",
   "execution_count": 23,
   "metadata": {
    "code_folding": [
     10
    ],
    "execution": {
     "iopub.execute_input": "2021-09-24T09:28:15.413445Z",
     "iopub.status.busy": "2021-09-24T09:28:15.408209Z",
     "iopub.status.idle": "2021-09-24T09:28:16.591121Z",
     "shell.execute_reply": "2021-09-24T09:28:16.590828Z"
    },
    "tags": [
     "hide-input"
    ]
   },
   "outputs": [
    {
     "data": {
      "image/png": "[encoded data removed]",
      "text/plain": [
       "<Figure size 720x288 with 20 Axes>"
      ]
     },
     "metadata": {
      "needs_background": "light"
     },
     "output_type": "display_data"
    }
   ],
   "source": [
    "%matplotlib inline\n",
    "\n",
    "from sklearn import datasets\n",
    "from sklearn import svm\n",
    "from sklearn import metrics\n",
    "\n",
    "ds = datasets.load_digits()\n",
    "X = ds.data\n",
    "y = ds.target\n",
    "\n",
    "def digiplot(imgs, target = [], n = 10, mi = 8, pi = 8):\n",
    "    # Anzahl der Subplots\n",
    "    if imgs.ndim < 2:\n",
    "        images = imgs.copy()\n",
    "        images.shape = np.r_[1,imgs.shape]\n",
    "        ni = 1\n",
    "        m = 1\n",
    "        n = 1\n",
    "        fig, ax = plt.subplots(m, n, figsize = [n, 2.0*m])\n",
    "        ax.axis('off')\n",
    "        ax = [ax]\n",
    "    else:\n",
    "        images = imgs\n",
    "        ni = images.shape[0]\n",
    "        m = (ni -1) // n + 1\n",
    "        \n",
    "        if m==1:\n",
    "            n = ni\n",
    "        \n",
    "        fig, ax = plt.subplots(m, n, figsize = [n, 2.0*m])\n",
    "        ax = ax.flatten()\n",
    "        for axk in ax:\n",
    "            axk.axis('off')        \n",
    "\n",
    "    for k, axk in enumerate(ax[:ni]):\n",
    "        axk.matshow(images[k].reshape(mi,pi), cmap = plt.cm.gray_r)\n",
    "        axk.set_title(str(target[k]))\n",
    "\n",
    "ndigi = 20\n",
    "digiplot(X[-ndigi:], y[-ndigi:])"
   ]
  },
  {
   "cell_type": "markdown",
   "metadata": {},
   "source": [
    "Die 1797 Bilder sind in Form einer Matrix mit Spaltenvektoren der Dimension 64 abgespeichert:"
   ]
  },
  {
   "cell_type": "code",
   "execution_count": 24,
   "metadata": {
    "execution": {
     "iopub.execute_input": "2021-09-24T09:28:16.593703Z",
     "iopub.status.busy": "2021-09-24T09:28:16.593246Z",
     "iopub.status.idle": "2021-09-24T09:28:16.595598Z",
     "shell.execute_reply": "2021-09-24T09:28:16.595237Z"
    },
    "tags": [
     "hide-input"
    ]
   },
   "outputs": [
    {
     "data": {
      "text/plain": [
       "(1797, 64)"
      ]
     },
     "execution_count": 24,
     "metadata": {},
     "output_type": "execute_result"
    }
   ],
   "source": [
    "X.shape"
   ]
  },
  {
   "cell_type": "markdown",
   "metadata": {},
   "source": [
    "### Klassifikation mit k-Means-Clustering ohne PCA"
   ]
  },
  {
   "cell_type": "markdown",
   "metadata": {},
   "source": [
    "Wir lassen den Datensatz jetzt direkt mit k-Means-Clustering in 10 Klassen einteilen. Die einzelnen Daten $x_j$ haben Dimension 64. "
   ]
  },
  {
   "cell_type": "code",
   "execution_count": 25,
   "metadata": {
    "execution": {
     "iopub.execute_input": "2021-09-24T09:28:16.598766Z",
     "iopub.status.busy": "2021-09-24T09:28:16.598362Z",
     "iopub.status.idle": "2021-09-24T09:28:22.258009Z",
     "shell.execute_reply": "2021-09-24T09:28:22.257703Z"
    },
    "tags": [
     "hide-input"
    ]
   },
   "outputs": [
    {
     "data": {
      "image/png": "[encoded data removed]",
      "text/plain": [
       "<Figure size 720x144 with 10 Axes>"
      ]
     },
     "metadata": {
      "needs_background": "light"
     },
     "output_type": "display_data"
    },
    {
     "data": {
      "image/png": "[encoded data removed]",
      "text/plain": [
       "<Figure size 720x144 with 10 Axes>"
      ]
     },
     "metadata": {
      "needs_background": "light"
     },
     "output_type": "display_data"
    },
    {
     "data": {
      "image/png": "[encoded data removed]",
      "text/plain": [
       "<Figure size 720x144 with 10 Axes>"
      ]
     },
     "metadata": {
      "needs_background": "light"
     },
     "output_type": "display_data"
    },
    {
     "data": {
      "image/png": "[encoded data removed]",
      "text/plain": [
       "<Figure size 720x144 with 10 Axes>"
      ]
     },
     "metadata": {
      "needs_background": "light"
     },
     "output_type": "display_data"
    },
    {
     "data": {
      "image/png": "[encoded data removed]",
      "text/plain": [
       "<Figure size 720x144 with 10 Axes>"
      ]
     },
     "metadata": {
      "needs_background": "light"
     },
     "output_type": "display_data"
    },
    {
     "data": {
      "image/png": "[encoded data removed]",
      "text/plain": [
       "<Figure size 720x144 with 10 Axes>"
      ]
     },
     "metadata": {
      "needs_background": "light"
     },
     "output_type": "display_data"
    },
    {
     "data": {
      "image/png": "[encoded data removed]",
      "text/plain": [
       "<Figure size 720x144 with 10 Axes>"
      ]
     },
     "metadata": {
      "needs_background": "light"
     },
     "output_type": "display_data"
    },
    {
     "data": {
      "image/png": "[encoded data removed]",
      "text/plain": [
       "<Figure size 720x144 with 10 Axes>"
      ]
     },
     "metadata": {
      "needs_background": "light"
     },
     "output_type": "display_data"
    },
    {
     "data": {
      "image/png": "[encoded data removed]",
      "text/plain": [
       "<Figure size 720x144 with 10 Axes>"
      ]
     },
     "metadata": {
      "needs_background": "light"
     },
     "output_type": "display_data"
    },
    {
     "data": {
      "image/png": "[encoded data removed]",
      "text/plain": [
       "<Figure size 720x144 with 10 Axes>"
      ]
     },
     "metadata": {
      "needs_background": "light"
     },
     "output_type": "display_data"
    }
   ],
   "source": [
    "from sklearn.cluster import KMeans\n",
    "\n",
    "km = KMeans(n_clusters = 10, random_state = seed)\n",
    "yd = km.fit_predict(X)\n",
    "\n",
    "for k in range(10):\n",
    "    ii = np.argwhere(yd == k).ravel()[:10]\n",
    "    digiplot(X[ii], list(zip(yd[ii], y[ii])))"
   ]
  },
  {
   "cell_type": "markdown",
   "metadata": {},
   "source": [
    "Zur besseren Übersicht wandeln wir die Klassennummern in die (vermeintlich) erkannten Ziffern um."
   ]
  },
  {
   "cell_type": "code",
   "execution_count": 26,
   "metadata": {
    "code_folding": [
     0
    ],
    "execution": {
     "iopub.execute_input": "2021-09-24T09:28:22.262175Z",
     "iopub.status.busy": "2021-09-24T09:28:22.261884Z",
     "iopub.status.idle": "2021-09-24T09:28:23.327628Z",
     "shell.execute_reply": "2021-09-24T09:28:23.327244Z"
    },
    "tags": [
     "hide-input"
    ]
   },
   "outputs": [
    {
     "data": {
      "image/png": "[encoded data removed]",
      "text/plain": [
       "<Figure size 720x288 with 20 Axes>"
      ]
     },
     "metadata": {
      "needs_background": "light"
     },
     "output_type": "display_data"
    }
   ],
   "source": [
    "def ytrans(yd, y):\n",
    "    ydcl = np.sort(np.unique(yd))\n",
    "    \n",
    "    tt = np.zeros(ydcl.shape, dtype = np.int32)\n",
    "    for k,ydk in enumerate(ydcl):\n",
    "        ii = np.argwhere(yd == ydk).ravel()\n",
    "        u, uc = np.unique(y[ii], return_counts = True)\n",
    "        tt[k] = u[uc.argmax()]\n",
    "    \n",
    "    ttt = np.sort(np.unique(tt))\n",
    "    if ttt.shape[0] != ydcl.shape[0]:\n",
    "        print(\"**** Fehler ****\")\n",
    "        tt = np.array([], dtype = np.int32)\n",
    "    return(tt)\n",
    "\n",
    "tt = ytrans(yd, y)\n",
    "ydt = tt[yd]\n",
    "digiplot(X[-ndigi:], ydt[-ndigi:])"
   ]
  },
  {
   "cell_type": "markdown",
   "metadata": {},
   "source": [
    "Die Beurteilung des Ergebnisses erfolgt wieder mit den Standardmethoden von Scikit-Learn"
   ]
  },
  {
   "cell_type": "code",
   "execution_count": 27,
   "metadata": {
    "execution": {
     "iopub.execute_input": "2021-09-24T09:28:23.330035Z",
     "iopub.status.busy": "2021-09-24T09:28:23.329673Z",
     "iopub.status.idle": "2021-09-24T09:28:23.336259Z",
     "shell.execute_reply": "2021-09-24T09:28:23.335965Z"
    },
    "tags": [
     "hide-input"
    ]
   },
   "outputs": [
    {
     "name": "stdout",
     "output_type": "stream",
     "text": [
      "              precision    recall  f1-score   support\n",
      "\n",
      "           0       0.99      0.99      0.99       178\n",
      "           1       0.60      0.30      0.40       182\n",
      "           2       0.84      0.83      0.84       177\n",
      "           3       0.88      0.85      0.86       183\n",
      "           4       0.98      0.90      0.94       181\n",
      "           5       0.93      0.75      0.83       182\n",
      "           6       0.97      0.98      0.98       181\n",
      "           7       0.83      0.98      0.90       179\n",
      "           8       0.45      0.57      0.51       174\n",
      "           9       0.56      0.78      0.66       180\n",
      "\n",
      "    accuracy                           0.79      1797\n",
      "   macro avg       0.80      0.79      0.79      1797\n",
      "weighted avg       0.81      0.79      0.79      1797\n",
      "\n"
     ]
    }
   ],
   "source": [
    "print(metrics.classification_report(y, ydt))"
   ]
  },
  {
   "cell_type": "markdown",
   "metadata": {},
   "source": [
    "#### Klassifikation mit PCA und k-Means-Clustering "
   ]
  },
  {
   "cell_type": "markdown",
   "metadata": {},
   "source": [
    "Wir führen zunächst eine (partielle) PCA durch und schauen uns die Varianzen der\n",
    "Hauptrichtungen an"
   ]
  },
  {
   "cell_type": "code",
   "execution_count": 28,
   "metadata": {
    "execution": {
     "iopub.execute_input": "2021-09-24T09:28:23.338879Z",
     "iopub.status.busy": "2021-09-24T09:28:23.338453Z",
     "iopub.status.idle": "2021-09-24T09:28:23.347364Z",
     "shell.execute_reply": "2021-09-24T09:28:23.347044Z"
    },
    "tags": [
     "hide-input"
    ]
   },
   "outputs": [
    {
     "data": {
      "text/plain": [
       "array([179.0069, 163.7177, 141.7884, 101.1004,  69.5132,  59.1085,\n",
       "        51.8845,  44.0151,  40.311 ,  37.0118,  28.519 ,  27.3212,\n",
       "        21.9015,  21.3244,  17.6367,  16.9469,  15.8514,  15.0045,\n",
       "        12.2345,  10.8869,  10.6936,   9.5826,   9.2264,   8.6903,\n",
       "         8.3656,   7.1658,   6.9197,   6.1929,   5.8849,   5.1559,\n",
       "         4.4902,   4.2463])"
      ]
     },
     "execution_count": 28,
     "metadata": {},
     "output_type": "execute_result"
    }
   ],
   "source": [
    "from sklearn.decomposition import PCA\n",
    "\n",
    "nu = 32\n",
    "pca = PCA(nu)\n",
    "pca.fit(X)\n",
    "pca.explained_variance_"
   ]
  },
  {
   "cell_type": "markdown",
   "metadata": {},
   "source": [
    "bzw. die relativen Varianzen bezogen auf die Varianz von $X$"
   ]
  },
  {
   "cell_type": "code",
   "execution_count": 29,
   "metadata": {
    "execution": {
     "iopub.execute_input": "2021-09-24T09:28:23.350730Z",
     "iopub.status.busy": "2021-09-24T09:28:23.350314Z",
     "iopub.status.idle": "2021-09-24T09:28:23.352698Z",
     "shell.execute_reply": "2021-09-24T09:28:23.352373Z"
    },
    "tags": [
     "hide-input"
    ]
   },
   "outputs": [
    {
     "data": {
      "text/plain": [
       "array([0.1489, 0.1362, 0.1179, 0.0841, 0.0578, 0.0492, 0.0432, 0.0366,\n",
       "       0.0335, 0.0308, 0.0237, 0.0227, 0.0182, 0.0177, 0.0147, 0.0141,\n",
       "       0.0132, 0.0125, 0.0102, 0.0091, 0.0089, 0.008 , 0.0077, 0.0072,\n",
       "       0.007 , 0.006 , 0.0058, 0.0052, 0.0049, 0.0043, 0.0037, 0.0035])"
      ]
     },
     "execution_count": 29,
     "metadata": {},
     "output_type": "execute_result"
    }
   ],
   "source": [
    "pca.explained_variance_ratio_"
   ]
  },
  {
   "cell_type": "markdown",
   "metadata": {},
   "source": [
    "Die Varianzen fallen stark ab. Kumuliert erhalten wir"
   ]
  },
  {
   "cell_type": "code",
   "execution_count": 30,
   "metadata": {
    "execution": {
     "iopub.execute_input": "2021-09-24T09:28:23.355957Z",
     "iopub.status.busy": "2021-09-24T09:28:23.355505Z",
     "iopub.status.idle": "2021-09-24T09:28:23.357594Z",
     "shell.execute_reply": "2021-09-24T09:28:23.357335Z"
    },
    "tags": [
     "hide-input"
    ]
   },
   "outputs": [
    {
     "data": {
      "text/plain": [
       "array([0.1489, 0.2851, 0.403 , 0.4871, 0.545 , 0.5941, 0.6373, 0.6739,\n",
       "       0.7074, 0.7382, 0.762 , 0.7847, 0.8029, 0.8206, 0.8353, 0.8494,\n",
       "       0.8626, 0.8751, 0.8852, 0.8943, 0.9032, 0.9112, 0.9188, 0.9261,\n",
       "       0.933 , 0.939 , 0.9447, 0.9499, 0.9548, 0.9591, 0.9628, 0.9664])"
      ]
     },
     "execution_count": 30,
     "metadata": {},
     "output_type": "execute_result"
    }
   ],
   "source": [
    "varcum = pca.explained_variance_ratio_.cumsum()\n",
    "varcum"
   ]
  },
  {
   "cell_type": "markdown",
   "metadata": {},
   "source": [
    "Mehr als 90 Prozent der Varianz von $X$ erreichen wir schon mit sehr wenigen\n",
    "Hauptkomponenten"
   ]
  },
  {
   "cell_type": "code",
   "execution_count": 31,
   "metadata": {
    "execution": {
     "iopub.execute_input": "2021-09-24T09:28:23.360553Z",
     "iopub.status.busy": "2021-09-24T09:28:23.360150Z",
     "iopub.status.idle": "2021-09-24T09:28:23.362387Z",
     "shell.execute_reply": "2021-09-24T09:28:23.362115Z"
    },
    "tags": [
     "hide-input"
    ]
   },
   "outputs": [
    {
     "data": {
      "text/plain": [
       "20"
      ]
     },
     "execution_count": 31,
     "metadata": {},
     "output_type": "execute_result"
    }
   ],
   "source": [
    "n90 = np.argwhere(varcum > 0.9).min()\n",
    "n90"
   ]
  },
  {
   "cell_type": "markdown",
   "metadata": {},
   "source": [
    "Wir klassifizieren den Datensatz erneut indem wir\n",
    "    \n",
    "- zunächst mit PCA die Dimension der Daten reduzieren\n",
    "\n",
    "- dann wieder k-Means anwenden"
   ]
  },
  {
   "cell_type": "code",
   "execution_count": 32,
   "metadata": {
    "execution": {
     "iopub.execute_input": "2021-09-24T09:28:23.366720Z",
     "iopub.status.busy": "2021-09-24T09:28:23.366397Z",
     "iopub.status.idle": "2021-09-24T09:28:24.804294Z",
     "shell.execute_reply": "2021-09-24T09:28:24.803984Z"
    },
    "tags": [
     "hide-input"
    ]
   },
   "outputs": [
    {
     "data": {
      "image/png": "[encoded data removed]",
      "text/plain": [
       "<Figure size 720x288 with 20 Axes>"
      ]
     },
     "metadata": {
      "needs_background": "light"
     },
     "output_type": "display_data"
    }
   ],
   "source": [
    "from sklearn.pipeline import Pipeline\n",
    "\n",
    "km = KMeans(n_clusters = 10, random_state = seed)\n",
    "pca = PCA(n90)\n",
    "\n",
    "clf = Pipeline(steps = [('PCA', pca), ('k-Means', km)])\n",
    "\n",
    "ydpca = clf.fit_predict(X)\n",
    "\n",
    "ttpca = ytrans(ydpca, y)\n",
    "ydpcat = ttpca[ydpca]\n",
    "digiplot(X[-ndigi:], ydpcat[-ndigi:])"
   ]
  },
  {
   "cell_type": "markdown",
   "metadata": {},
   "source": [
    "Die Ergebnisse sind nur unwesentlich schlechter als im Fall ohne PCA."
   ]
  },
  {
   "cell_type": "code",
   "execution_count": 33,
   "metadata": {
    "execution": {
     "iopub.execute_input": "2021-09-24T09:28:24.807344Z",
     "iopub.status.busy": "2021-09-24T09:28:24.807021Z",
     "iopub.status.idle": "2021-09-24T09:28:24.813956Z",
     "shell.execute_reply": "2021-09-24T09:28:24.813670Z"
    },
    "tags": [
     "hide-input"
    ]
   },
   "outputs": [
    {
     "name": "stdout",
     "output_type": "stream",
     "text": [
      "              precision    recall  f1-score   support\n",
      "\n",
      "           0       0.99      0.99      0.99       178\n",
      "           1       0.61      0.30      0.40       182\n",
      "           2       0.84      0.83      0.84       177\n",
      "           3       0.87      0.85      0.86       183\n",
      "           4       0.98      0.91      0.94       181\n",
      "           5       0.92      0.75      0.82       182\n",
      "           6       0.97      0.98      0.98       181\n",
      "           7       0.82      0.98      0.89       179\n",
      "           8       0.45      0.58      0.51       174\n",
      "           9       0.57      0.77      0.66       180\n",
      "\n",
      "    accuracy                           0.79      1797\n",
      "   macro avg       0.80      0.79      0.79      1797\n",
      "weighted avg       0.80      0.79      0.79      1797\n",
      "\n"
     ]
    }
   ],
   "source": [
    "print(metrics.classification_report(y, ydpcat))"
   ]
  },
  {
   "cell_type": "markdown",
   "metadata": {},
   "source": [
    "Die Daten mit denen wir hier gearbeitet haben hatten dabei die\n",
    "reduzierte Dimension"
   ]
  },
  {
   "cell_type": "code",
   "execution_count": 34,
   "metadata": {
    "execution": {
     "iopub.execute_input": "2021-09-24T09:28:24.816831Z",
     "iopub.status.busy": "2021-09-24T09:28:24.816366Z",
     "iopub.status.idle": "2021-09-24T09:28:24.822723Z",
     "shell.execute_reply": "2021-09-24T09:28:24.822334Z"
    },
    "tags": [
     "hide-input"
    ]
   },
   "outputs": [
    {
     "data": {
      "text/plain": [
       "(1797, 20)"
      ]
     },
     "execution_count": 34,
     "metadata": {},
     "output_type": "execute_result"
    }
   ],
   "source": [
    "pca.fit_transform(X).shape"
   ]
  },
  {
   "cell_type": "markdown",
   "metadata": {},
   "source": [
    "## Zusammenfassung"
   ]
  },
  {
   "cell_type": "markdown",
   "metadata": {},
   "source": [
    "- mit SVD können lineare Modelle bzw. hochdimensionale Daten vereinfacht werden\n",
    "\n",
    "- die Berechnung von Singulärwerten und -vektoren kann mit Methoden der linearen Algebra\n",
    "oder der konvexen, restringierten Optimierung erfolgen"
   ]
  }
 ],
 "metadata": {
  "hide_input": false,
  "kernelspec": {
   "display_name": "Python 3",
   "language": "python",
   "name": "python3"
  },
  "language_info": {
   "codemirror_mode": {
    "name": "ipython",
    "version": 3
   },
   "file_extension": ".py",
   "mimetype": "text/x-python",
   "name": "python",
   "nbconvert_exporter": "python",
   "pygments_lexer": "ipython3",
   "version": "3.9.6"
  },
  "nbTranslate": {
   "displayLangs": [
    "fr",
    "en"
   ],
   "hotkey": "alt-t",
   "langInMainMenu": false,
   "sourceLang": "en",
   "targetLang": "fr",
   "useGoogleTranslate": true
  }
 },
 "nbformat": 4,
 "nbformat_minor": 2
}
