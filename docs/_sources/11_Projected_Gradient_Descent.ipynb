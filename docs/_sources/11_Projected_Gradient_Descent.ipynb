{
 "cells": [
  {
   "cell_type": "markdown",
   "metadata": {},
   "source": [
    "# Projected Gradient-Descent"
   ]
  },
  {
   "cell_type": "markdown",
   "metadata": {
    "heading_collapsed": true
   },
   "source": [
    "## Überblick"
   ]
  },
  {
   "cell_type": "markdown",
   "metadata": {
    "hidden": true
   },
   "source": [
    "Bisher haben wir Gradient-Descent für nicht restringierte \n",
    "Optimierungsprobleme untersucht.\n",
    "In diesem Abschnitt modifizieren wir Gradient-Descent so, dass wir es auch auf eine\n",
    "bestimmte Klasse von restringierten Optimierungsproblemen anwenden können. Dazu \n",
    "kombinieren wir Gradient-Descent mit einer geeigneten Projektion auf\n",
    "die zulässige Parametermenge $X\\subset\\mathbb{R}^d$."
   ]
  },
  {
   "cell_type": "markdown",
   "metadata": {
    "heading_collapsed": true
   },
   "source": [
    "## Grundlagen"
   ]
  },
  {
   "cell_type": "markdown",
   "metadata": {
    "hidden": true
   },
   "source": [
    "In den Beispielen oben haben wir bereits Projected-Gradient-Descent benutzt, um  für $f\\in C^1(\\mathbb{R}^d)$  restringierte Optimierungsproblem näherungsweise zu lösen:\n",
    "  \\begin{align*}\n",
    "  x_\\ast  &= \\mathrm{argmin}_{x\\in X}f(x), \\quad X\\subset\\mathbb{R}^d\\\\\n",
    "  y_{t+1} &= x_{t} - \\gamma_{t} f'(x_{t})\\\\\n",
    "  x_{t+1} &= \\mathrm{argmin}_{x\\in X}\\|x - y_{t+1}\\|\n",
    "  \\end{align*}\n",
    "  \n",
    "Ist $x_{t+1}$ überhaupt wohldefiniert (Existenz, Eindeutigkeit)?"
   ]
  },
  {
   "cell_type": "markdown",
   "metadata": {
    "hidden": true
   },
   "source": [
    "**Satz:** Ist $V$ eine Hilbert-Raum, $\\emptyset \\neq X\\subset V$ konvex und abgeschlossen, dann existiert genau ein $y\\in X$ (die Projektion von $x$ auf $X$) mit\n",
    "  \\begin{equation*} \n",
    "  \\|x - y\\| = \\inf_{z\\in X}\\|z - y\\|. \n",
    "  \\end{equation*}\n",
    "  Für $x\\in V$ ist $y\\in X$ die zugehörige Projektion, genau dann wenn\n",
    "  \\begin{equation*} \n",
    "  (x-y, z-y) \\leq 0 \\quad \\forall z\\in X.\n",
    "  \\end{equation*}"
   ]
  },
  {
   "cell_type": "markdown",
   "metadata": {
    "hidden": true
   },
   "source": [
    "**Beweis:**\n",
    "\n",
    "- Existenz von $y$:\n",
    "  \n",
    "  - sei $y_i\\in X$ eine Folge mit\n",
    "      \\begin{equation*} \n",
    "      \\lim_{i\\to\\infty}\\|x - y_i\\| = \\inf_{z\\in X}\\|x - z\\| =:d\n",
    "      \\end{equation*}\n",
    "    \n",
    "  - wegen $\\|v\\|^2 = (v,v)$ gilt die Parallelogrammgleichung\n",
    "      \\begin{equation*} \n",
    "      \\|u+v\\|^{2} + \\|u-v\\|^{2} = 2\\big(\\|u\\|^{2}+\\|v\\|^{2}\\big)\n",
    "      \\end{equation*}\n",
    "    also\n",
    "      \\begin{equation*} \n",
    "      \\|u-v\\|^{2}=2\\big(\\|u\\|^{2}+\\|v\\|^{2}\\big)-\\|u+v\\|^{2}\n",
    "      \\end{equation*}\n",
    "      \n",
    "  - setzen wir nun\n",
    "      \\begin{equation*} \n",
    "      u = y_i -x, \\quad v = y_j - x\n",
    "      \\end{equation*}\n",
    "    dann folgt\n",
    "      \\begin{equation*} \n",
    "      \\|y_{i}-y_{j}\\|^{2}=\n",
    "      2\\big(\\|y_{i}-x\\|^{2}+\\|y_{j}-x\\|^{2}\\big)-\\|y_{i}+y_{j}-2 x\\|^{2}\n",
    "      \\end{equation*}\n",
    "      \n",
    "  - wegen\n",
    "      \\begin{equation*} \n",
    "        \\|y_{i}+y_{j}-2 x\\|^{2} \n",
    "        =4\\big\\|\\underbrace{\\frac{y_{i}+y_{j}}{2}}_{\\in X}-x\\big\\|^2 \\geq 4 d^{2}\n",
    "      \\end{equation*}\n",
    "    gilt\n",
    "      \\begin{equation*} \n",
    "        \\|y_{i}-y_{j}\\|^{2}  \\leq 2\\big(\\|y_{i}-x\\|^{2}+\\|y_{j}-x\\|^{2}\\big)-4 d^{2}\n",
    "      \\end{equation*}\n",
    "      \n",
    "  - andererseits gibt es für alle $\\varepsilon > 0$ ein $N_\\varepsilon \\in  \\mathbb{N}$ mit\n",
    "      \\begin{equation*} \n",
    "      \\|y_{k}-x\\|^{2}  \\leq d^2 + \\varepsilon  \\quad \\forall k\\geq N_\\varepsilon \n",
    "      \\end{equation*}\n",
    "    und somit\n",
    "      \\begin{equation*} \n",
    "        \\|y_{i}-y_{j}\\|^{2}  \n",
    "        \\leq 2\\big(d^2 + \\varepsilon + d^2 + \\varepsilon \\big)-4 d^{2}\n",
    "        = 4 \\varepsilon\n",
    "        \\quad \\forall i,j\\geq N_\\varepsilon \n",
    "      \\end{equation*}\n",
    "      \n",
    "  - damit ist $y_i$ eine Cauchy-Folge\n",
    "    \n",
    "  - da $V$ vollständig ist gibt es ein $y\\in V$ mit $y_i \\xrightarrow{i\\to\\infty}y$\n",
    "    \n",
    "  - wegen $y_i \\in X$, $X$ abgeschlossen, ist dann auch $y\\in X$\n",
    "    \n",
    "- Eindeutigkeit von $y$:\n",
    "  \n",
    "  - für $y, \\tilde{y} \\in X$ gelte\n",
    "      \\begin{equation*} \n",
    "      d = \\inf_{z\\in X}\\|z - x\\| = \\|y - x\\| = \\|\\tilde{y} - x\\|\n",
    "      \\end{equation*}    \n",
    "    \n",
    "  - da $X$ konvex ist gilt\n",
    "      \\begin{equation*} \n",
    "      \\bar{y} = \\frac{y + \\tilde{y}}{2} \\in X \n",
    "      \\end{equation*}\n",
    "    und mit der Parallelogrammgleichung folgt\n",
    "      \\begin{equation*} \n",
    "        \\begin{aligned}\n",
    "        \\|\\bar{y} - x\\|^2 \n",
    "        &=\\big\\|\\frac{y+\\tilde{y}}{2}-x\\big\\|^{2} \\\\\n",
    "        &=\\frac{1}{4} \\| \\underbrace{y-x}_{u}+\\underbrace{\\tilde{y}-x}_{v} \\|^{2} \\\\\n",
    "        &=\\frac{1}{4}\\|u+v\\|^{2} \\\\\n",
    "        &=\\frac{1}{2}(\\|u\\|^{2}+\\|v\\|^{2})-\\frac{1}{4}\\|u-v\\|^{2} \\\\\n",
    "        &=\\frac{1}{2}(\\|y-x\\|^{2}+\\|\\tilde{y}-x\\|^{2})-\\frac{1}{4}\\|y-\\tilde{y}\\|^{2} \\\\\n",
    "        &=d^{2}-\\frac{1}{4}\\|y-\\tilde{y}\\|^{2}\n",
    "        \\end{aligned}\n",
    "      \\end{equation*}\n",
    "   \n",
    "  - für $y \\neq \\tilde{y}$ ist\n",
    "      \\begin{equation*} \n",
    "      \\|\\bar{y} - x\\|^2 < d^2\n",
    "      \\end{equation*}\n",
    "    was ein Widerspruch zu $d = \\inf_{z\\in X}\\|z - x\\|$ ist    \n",
    "\n",
    "- Ungleichung:\n",
    "  \n",
    "  - es sei $y\\in X$ der eindeutige Minimierer und $d = \\|y - x\\| = \\inf_{z\\in X}\\|z - x\\|$:\n",
    "    \n",
    "    - da $X$ konvex ist gilt für alle $z\\in X$ und alle $\\lambda \\in (0,1)$\n",
    "        \\begin{equation*} \n",
    "        (1-\\lambda)y + \\lambda z = y + \\lambda(z-y) \\in X\n",
    "        \\end{equation*}\n",
    "      \n",
    "    - damit folgt\n",
    "        \\begin{align*}\n",
    "        \\|y - x\\|^2 = d^2\n",
    "        & \\leq \\|y + \\lambda(z-y) - x\\|^2 \\\\\n",
    "        & = \\|y - x\\|^2 +  \\lambda^2\\|z - y\\|^2 + 2  \\lambda(y-x, z-y)\n",
    "        \\end{align*}\n",
    "      also\n",
    "        \\begin{equation*} \n",
    "        2  \\lambda(x-y, z-y) \\leq \\lambda^2\\|z - y\\|^2\n",
    "        \\end{equation*}\n",
    "      und wegen $\\lambda > 0$\n",
    "        \\begin{equation*} \n",
    "        (x-y, z-y) \\leq \\frac{\\lambda}{2}\\|z - y\\|^2\n",
    "        \\end{equation*}\n",
    "        \n",
    "    - durch Grenzübergang $\\lambda \\downarrow 0$ erhalten wir schließlich\n",
    "        \\begin{equation*} \n",
    "        (x-y, z-y) \\leq 0 \\quad \\forall z\\in X\n",
    "        \\end{equation*}\n",
    "        \n",
    "  - es sei nun $y\\in X$ mit $(x-y, z-y) \\leq 0 \\ \\forall z\\in X$:\n",
    "    \n",
    "    - für $z\\in X$, $z\\neq y$, folgt dann\n",
    "        \\begin{align*} \n",
    "        \\|x - z\\|^2\n",
    "        &= \\|x - y  +  y - z\\|^2\\\\\n",
    "        &= \\|x - y\\|^2  +  \\underbrace{\\|y - z\\|^2}_{> 0} \n",
    "        \\:\\underbrace{- 2(x-y, z-y)}_{\\geq 0} \\\\\n",
    "        &> \\|x - y\\|^2\n",
    "        \\end{align*}\n",
    "        \n",
    "    - somit ist $y$ Minimierer von $\\|x - z\\|$, $z\\in X$\n",
    "        \n",
    "$\\square$"
   ]
  },
  {
   "cell_type": "markdown",
   "metadata": {
    "hidden": true
   },
   "source": [
    "Mit diesem Ergebnis machen die folgenden Definitionen Sinn.\n",
    "\n",
    "\n",
    "**Definition:** Ist $V$ eine Hilbert-Raum, $\\emptyset \\neq X\\subset V$ konvex und abgeschlossen, dann ist\n",
    "  \\begin{equation*} \n",
    "  d_X:V\\to \\mathbb{R}, \\quad d_X(x) = \\inf_{z\\in X}\\|z - x\\|\n",
    "  \\end{equation*}\n",
    "  der *Abstand* von $x$ zu $X$ und\n",
    "  \\begin{equation*} \n",
    "  \\Pi_X:V\\to X, \\quad \\Pi_X(x) = \\mathrm{argmin}_{z\\in X}\\|z - x\\|\n",
    "  \\end{equation*}\n",
    "  die *Projektion* von $x$ auf $X$."
   ]
  },
  {
   "cell_type": "markdown",
   "metadata": {
    "hidden": true
   },
   "source": [
    "**Bemerkung:**\n",
    "\n",
    "- wir lassen bei $d,\\Pi$ den Index $X$ weg\n",
    "  \n",
    "- $\\Pi$ ist wohldefiniert, wenn $V$ vollständig und die Norm auf $V$ strikt konvex ist\n",
    "  \n",
    "- wird die Norm von einem Skalarprodukt induziert, dann ist sie immer strikt konvex \n",
    "  \n",
    "- ist dies nicht der Fall, kann man einfache Gegenbeispiele konstruieren"
   ]
  },
  {
   "cell_type": "markdown",
   "metadata": {
    "hidden": true
   },
   "source": [
    "**Beispiel:**\n",
    "\n",
    "  - betrachte\n",
    "      \\begin{equation*} \n",
    "      V = \\mathbb{R}^2, \n",
    "      \\quad \\|x\\|_\\infty = \\max(|x_1|,|x_2|),\n",
    "      \\end{equation*}\n",
    "\n",
    "  - $(V, \\|\\cdot\\|_\\infty)$ ist ein Banachraum, also ein vollständiger\n",
    "      normierter Vektorraum\n",
    "      \n",
    "  - für die konvexe Menge\n",
    "      \\begin{equation*} \n",
    "      X = [-1,1]\\times[-1,1]\n",
    "      \\end{equation*}\n",
    "    und den Punkt $x = (2,0)^T$ erhalten wir\n",
    "      \\begin{equation*} \n",
    "      d(x) = \\inf_{z\\in X}\\|z - x\\|_\\infty = \\inf_{z\\in X} \\max(|z_1 - 2|,|z_2|)\n",
    "      \\end{equation*}\n",
    "    \n",
    "  - wegen $z_1 \\in [-1,1]$ ist für alle $z\\in X$ \n",
    "      \\begin{equation*} \n",
    "      |z_1 - 2|\\geq 1,\n",
    "      \\end{equation*}\n",
    "    s.d. $d(x) \\geq 1$\n",
    "    \n",
    "  - andererseits gilt für alle $z$ mit $z_1=1$ und $z_2 \\in [-1,1]$\n",
    "      \\begin{equation*} \n",
    "      \\|z - x\\|_\\infty = \\max(|z_1 - 2|,|z_2|) = 1,\n",
    "      \\end{equation*}\n",
    "    der minimale Abstand $d(x)=1$ wird also für alle diese $z$ angenommen\n",
    "   \n",
    "  - $d(x)$ ist also nach wie vor wohldefiniert, $\\Pi(x)$ wegen der\n",
    "    fehlenden Eindeutigkeit dagegen nicht"
   ]
  },
  {
   "cell_type": "markdown",
   "metadata": {
    "hidden": true
   },
   "source": [
    "Jetzt betrachten wir einige wichtige Eigenschaften von $d$ und $\\Pi$.\n",
    "\n",
    "\n",
    "**Lemma:** Sind $V,X,d,\\Pi$ wie oben definiert, dann gilt:\n",
    "\n",
    "- $d:V\\to \\mathbb{R}$ ist konvex\n",
    "  \n",
    "- $\\big(y - \\Pi(y), x - \\Pi(y) \\big) \\leq 0 \\quad \\forall x\\in X, \\ \\forall y\\in V$\n",
    "  \n",
    "- $\\|\\Pi(y) - \\Pi(x)\\| \\leq \\|y-x\\| \\quad \\forall x,y \\in V$\n",
    "  \n",
    "- $\\|x - \\Pi(y)\\|^2 + \\|y - \\Pi(y) \\|^2 \\leq \\|y-x\\|^2 \\quad \\forall x\\in X, \\ \\forall y\\in V$"
   ]
  },
  {
   "cell_type": "markdown",
   "metadata": {
    "hidden": true
   },
   "source": [
    "**Beweis:**\n",
    "\n",
    "- Teil 1:\n",
    "  \n",
    "  - $x,y\\in V$, $\\bar{x} = \\Pi(x)$, $\\bar{y} = \\Pi(y)$\n",
    "    \n",
    "  - $\\bar{x}, \\bar{y}\\in X$ und da $X$ konvex ist gilt \n",
    "      \\begin{equation*} \n",
    "      \\bar{z} = (1-\\lambda)\\bar{x} + \\lambda \\bar{y} \\in X \\quad \\forall \\lambda \\in [0,1]\n",
    "      \\end{equation*}\n",
    "      \n",
    "  - mit $u=(1-\\lambda)x + \\lambda y$ folgt\n",
    "      \\begin{align*}\n",
    "      d\\big((1-\\lambda)x + \\lambda y\\big)\n",
    "      & = \\inf_{z\\in X} \\|z - u\\| \\\\\n",
    "      & \\leq \\|u - \\bar{z}\\| \\\\\n",
    "      & = \\|(1-\\lambda)x + \\lambda y - (1-\\lambda)\\bar{x} - \\lambda \\bar{y}\\| \\\\\n",
    "      & = \\|(1-\\lambda)(x-\\bar{x}) + \\lambda (y-\\bar{y})\\| \\\\\n",
    "      & \\leq (1-\\lambda)\\|x-\\bar{x}\\| + \\lambda \\|y-\\bar{y}\\| \\\\\n",
    "      & = (1-\\lambda) d(x) + \\lambda d(y)\n",
    "      \\end{align*}\n",
    "\n",
    "- Teil 2:\n",
    "  \n",
    "  - nach dem Satz von oben gilt für $y\\in V$\n",
    "      \\begin{equation*} \n",
    "      \\bar{y} \\in X, \\quad \\|y-\\bar{y}\\|=\\inf _{x \\in X}\\|y-x\\| \n",
    "      \\quad \\Leftrightarrow \\quad\n",
    "      (y-\\bar{y}, x-\\bar{y}) \\leq 0 \\quad \\forall x \\in X\n",
    "      \\end{equation*}\n",
    "\n",
    "  - mit $\\bar{y}=\\Pi(y)$ folgt die Behauptung\n",
    "    \n",
    "- Teil 3:\n",
    "  \n",
    "  - es sei wieder $x,y\\in V$, $\\bar{x} = \\Pi(x)$, $\\bar{y} = \\Pi(y)$    \n",
    "    \n",
    "  - nach Teil 2 gilt\n",
    "      \\begin{equation*} \n",
    "      (x-\\bar{x}, z-\\bar{x}) \\leq 0,\n",
    "      \\quad\n",
    "      (y-\\bar{y}, z-\\bar{y}) \\leq 0 \n",
    "      \\quad \n",
    "      \\forall z \\in X\n",
    "      \\end{equation*}\n",
    "    \n",
    "  - mit $z = \\bar{y}$ folgt aus der ersten Ungleichung\n",
    "      \\begin{equation*} \n",
    "      (x-\\bar{x}, \\bar{y}-\\bar{x}) \\leq 0\n",
    "      \\quad\\Rightarrow\\quad\n",
    "      (\\bar{x}-x, \\bar{x}-\\bar{y}) \\leq 0\n",
    "      \\end{equation*}\n",
    "    und analog mit $z = \\bar{x}$ in der zweiten Ungleichung\n",
    "      \\begin{equation*} \n",
    "      (y-\\bar{y}, \\bar{x}-\\bar{y}) \\leq 0\n",
    "      \\end{equation*}\n",
    "    \n",
    "  - Addition der beiden Ungleichungen liefert\n",
    "      \\begin{equation*} \n",
    "      (\\bar{x}-x + y-\\bar{y}, \\bar{x}-\\bar{y}) \\leq 0\n",
    "      \\end{equation*}\n",
    "    also\n",
    "      \\begin{equation*} \n",
    "      -(x-y, \\bar{x}-\\bar{y}) + \\|\\bar{x}-\\bar{y}\\|^2 \\leq 0\n",
    "      \\end{equation*}\n",
    "      \n",
    "  - mit Cauchy-Schwarz folgt\n",
    "      \\begin{equation*} \n",
    "      \\|\\bar{x}-\\bar{y}\\|^2 \n",
    "      \\leq (x-y, \\bar{x}-\\bar{y})\n",
    "      \\leq \\|x-y\\| \\ \\|\\bar{x}-\\bar{y}\\|\n",
    "      \\end{equation*}\n",
    "    und somit\n",
    "      \\begin{equation*} \n",
    "      \\|\\bar{x}-\\bar{y}\\| \\leq \\|x-y\\|\n",
    "      \\end{equation*}\n",
    "      \n",
    "- Teil 4:\n",
    "  \n",
    "  - $\\forall v,w \\in V$ gilt\n",
    "      \\begin{equation*} \n",
    "      \\|v-w\\|^2 = (v-w, v-w) = \\|v\\|^2 + \\|w\\|^2 - 2(v,w)\n",
    "      \\end{equation*}\n",
    "    also\n",
    "      \\begin{equation*} \n",
    "      \\|v\\|^2 + \\|w\\|^2 - \\|v-w\\|^2 =  2(v,w)\n",
    "      \\end{equation*}\n",
    "      \n",
    "  - mit $v = x-\\bar{y}$, $w = y-\\bar{y}$ folgt\n",
    "      \\begin{equation*} \n",
    "      \\|x-\\bar{y}\\|^2 + \\|y-\\bar{y}\\|^2 - \\|x-y\\|^2\n",
    "      = 2(x-\\bar{y}, y-\\bar{y})\n",
    "      \\leq 0\n",
    "      \\end{equation*}\n",
    "      \n",
    "$\\square$"
   ]
  },
  {
   "cell_type": "markdown",
   "metadata": {
    "heading_collapsed": true
   },
   "source": [
    "## Konvergenz"
   ]
  },
  {
   "cell_type": "markdown",
   "metadata": {
    "hidden": true
   },
   "source": [
    "Wir werden jetzt analog zum einfachen Gradientenverfahren Konvergenzaussagen unter verschiedenen Voraussetzungen an $f$ beweisen. Dabei werden wir sehen, dass die asymptotischen Aussagen sich nicht verändern, d.h. die Projektion auf abgeschlossene konvexe Mengen hat keinen negativen Einfluss."
   ]
  },
  {
   "cell_type": "markdown",
   "metadata": {
    "hidden": true
   },
   "source": [
    "### Vorüberlegungen"
   ]
  },
  {
   "cell_type": "markdown",
   "metadata": {
    "hidden": true
   },
   "source": [
    "Für $f\\in C^1(\\mathbb{R}^d)$, $X\\subset\\mathbb{R}^d$ \n",
    "  konvex und abgeschlossen, \n",
    "  wenden wir auf das  restringierte Optimierungsproblem\n",
    "  \\begin{equation*} \n",
    "  x_\\ast  = \\mathrm{argmin}_{x\\in X}f(x)\n",
    "  \\end{equation*}\n",
    "  Projected-Gradient-Descent\n",
    "  \\begin{equation*} \n",
    "  y_{t+1} = x_{t} - \\gamma f'(x_{t}),\n",
    "  \\quad\n",
    "  x_{t+1} = \\Pi(y_{t+1})\n",
    "  \\end{equation*}\n",
    "  mit konstanter Schrittweite $\\gamma$ an, wobei $\\Pi$ die\n",
    "  Projektion in $\\mathbb{R}^d$ auf $X$ bezüglich $(\\cdot,\\cdot)_2$ ist.\n",
    "Wegen $y_{t+1} = x_t - \\gamma f'_t$  gilt\n",
    "  \\begin{equation*} \n",
    "  \\|y_{t+1}-x_{*}\\|_{2}^{2} \n",
    "  =\\|x_{t}-x_{*}\\|_{2}^{2}+\\gamma^{2}\\|f_{t}^{\\prime}\\|_{2}^{2}-2\n",
    "  \\gamma f_{t}^{\\prime}(x_{t}-x_{*})\n",
    "  \\end{equation*}\n",
    "  und somit\n",
    "  \\begin{equation*} \n",
    "  f'_{t}\\left(x_{t}-x_{*}\\right) \n",
    "  =\\frac{1}{2 \\gamma}\\left(\\gamma^{2}\\left\\|f_{t}^{\\prime}\\right\\|_{2}^{2}\n",
    "  +\\left\\|x_{t}-x_{*}\\right\\|_{2}^{2}-\\left\\|y_{t+1}-x_{*}\\right\\|_{2}^{2}\\right).\n",
    "  \\end{equation*}\n",
    "Der einzige Unterschied zu Gradient-Descent ist $y_{t+1}$ statt $x_{t+1}$\n",
    "  im letzten Term auf der rechten Seite.\n",
    "  \n",
    "Um diesen Term zu bearbeiten, greifen wir auf die Eigenschaften \n",
    "der Projektion $\\Pi$ zurück.\n",
    "Für $\\Pi$ gilt\n",
    "  \\begin{equation*} \n",
    "  \\|\\Pi(y) - \\Pi(x)\\| \\leq \\|y-x\\| \\quad \\forall x,y \\in V\n",
    "  \\end{equation*}\n",
    "bzw.\n",
    "  \\begin{equation*} \n",
    "  \\Pi(x_\\ast) = x_\\ast\n",
    "  \\end{equation*}\n",
    "und somit\n",
    "  \\begin{equation*} \n",
    "  \\|x_{t+1}-x_{*}\\|_{2}\n",
    "   = \\|\\Pi(y_{t+1}) - \\Pi(x_\\ast)\\|_2\n",
    "  \\leq  \\|y_{t+1}-x_{*}\\|_{2},\n",
    "  \\end{equation*}\n",
    "bzw.\n",
    "  \\begin{equation*} \n",
    "  f'_{t}\\left(x_{t}-x_{*}\\right) \n",
    "  \\leq\\frac{1}{2 \\gamma}\\left(\\gamma^{2}\\left\\|f_{t}^{\\prime}\\right\\|_{2}^{2}\n",
    "  +\\left\\|x_{t}-x_{*}\\right\\|_{2}^{2}-\\left\\|x_{t+1}-x_{*}\\right\\|_{2}^{2}\\right).\n",
    "  \\end{equation*}\n",
    "Wir erhalten also fast das selbe Ergebnis wie bei Gradient-Descent, nur\n",
    "  dass jetzt das \"$=$\" durch \"$\\leq$\" ersetzt wurde."
   ]
  },
  {
   "cell_type": "markdown",
   "metadata": {
    "hidden": true
   },
   "source": [
    "Ist $f$ konvex, dann gilt\n",
    "  \\begin{equation*} \n",
    "  f(y) \\geq f(x) + f'(x)(y-x)\n",
    "  \\end{equation*}\n",
    "und mit $y=x_\\ast$, $x=x_t$\n",
    "  \\begin{equation*} \n",
    "  f_\\ast \\geq f_t + f'_t (x_\\ast-x_t)\n",
    "  \\end{equation*}\n",
    "bzw.\n",
    "  \\begin{align*}\n",
    "  0  \\leq f_t - f_\\ast\n",
    "  & \\leq f'_t(x_t - x_\\ast)\\\\\n",
    "  & = \\frac{1}{2 \\gamma}\\left(\\gamma^{2}\\left\\|f_{t}^{\\prime}\\right\\|_{2}^{2}\n",
    "  +\\left\\|x_{t}-x_{*}\\right\\|_{2}^{2}-\\left\\|y_{t+1}-x_{*}\\right\\|_{2}^{2}\\right)\\\\\n",
    "  & \\leq\\frac{1}{2 \\gamma}\\left(\\gamma^{2}\\left\\|f_{t}^{\\prime}\\right\\|_{2}^{2}\n",
    "  +\\left\\|x_{t}-x_{*}\\right\\|_{2}^{2}-\\left\\|x_{t+1}-x_{*}\\right\\|_{2}^{2}\\right).\n",
    "  \\end{align*}"
   ]
  },
  {
   "cell_type": "markdown",
   "metadata": {
    "hidden": true
   },
   "source": [
    "### Lipschitz-Stetigkeit"
   ]
  },
  {
   "cell_type": "markdown",
   "metadata": {
    "hidden": true
   },
   "source": [
    "$f\\in C^1(\\mathbb{R}^d)$ sei konvex und zusätzlich Lipschitz-Stetigkeit \n",
    "  mit Konstante $L_f$, also\n",
    "  \\begin{equation*} \n",
    "  \\|f(y) - f(x)\\| \\leq L_f \\|y - x\\| \n",
    "  \\end{equation*}\n",
    "was äquivalent ist zu\n",
    "  \\begin{equation*} \n",
    "  \\|f'(x)\\| \\leq L_f .\n",
    "  \\end{equation*}"
   ]
  },
  {
   "cell_type": "markdown",
   "metadata": {
    "hidden": true
   },
   "source": [
    "Wie bei Gradient-Descent folgt\n",
    "  \\begin{align*}\n",
    "  \\sum_{t=0}^{T-1} (f_t - f_\\ast)\n",
    "  &\\leq \n",
    "  \\sum_{t=0}^{T-1} f'_t(x_t - x_\\ast)\\\\\n",
    "  &\\leq \\frac{\\gamma}{2}T L_f^2 \n",
    "  + \\frac{1}{2\\gamma} \n",
    "  \\big( \n",
    "  \\underbrace{\\|x_{0}-x_{*}\\|_{2}^{2}}_{e_0^2}\n",
    "  -\n",
    "  \\underbrace{\\|x_{T}-x_{*}\\|_{2}^{2}}_{\\geq 0}\n",
    "  \\big)\\\\\n",
    "  &\\leq \\frac{\\gamma T L_f^2}{2} + \\frac{e_0^2}{2\\gamma}.\n",
    "  \\end{align*}\n",
    "  \n",
    "\n",
    "**Satz:** $f:\\mathbb{R}^d\\to \\mathbb{R}$, konvex, $C^1$, L-stetig mit Konstante $L_f$\n",
    "  und es existiere $x_\\ast = \\mathrm{argmin}_{x\\in\\mathbb{R}^d}f(x)$.\n",
    "  Mit $\\gamma = \\frac{c}{T^\\omega}$, $\\omega\\in(0,1)$, gilt\n",
    "  \\begin{align*} \n",
    "  \\min_{t=0,\\ldots,T-1}(f_t - f_\\ast)\n",
    "  &\\leq \\frac{1}{T} \\sum_{t=0}^{T-1} (f_t - f_\\ast)\\\\\n",
    "  &= \\mathcal{O}\\Big(\\big(\\frac{1}{T}\\big)^{\\min(\\omega,1-\\omega)}\\Big)\n",
    "  \\quad \n",
    "  \\text{für}\n",
    "  \\quad\n",
    "  T\\to\\infty.\n",
    "  \\end{align*}\n",
    "  Die optimale Ordnung ist $\\frac{1}{2}$ für $\\omega=\\frac{1}{2}$.\n",
    "  Mit $e_0 = \\|x_0 - x_\\ast\\|$, $\\gamma = \\frac{e_0}{L_f\\sqrt{T}}$ gilt außerdem\n",
    "  \\begin{equation*} \n",
    "  \\min_{t=0,\\ldots,T-1}(f_t - f_\\ast)\n",
    "  \\leq \\frac{1}{T} \\sum_{t=0}^{T-1} (f_t - f_\\ast)\n",
    "  \\leq \\frac{L_f e_0}{\\sqrt{T}}.\n",
    "  \\end{equation*}  "
   ]
  },
  {
   "cell_type": "markdown",
   "metadata": {
    "hidden": true
   },
   "source": [
    "### $L$-Glattheit"
   ]
  },
  {
   "cell_type": "markdown",
   "metadata": {
    "hidden": true
   },
   "source": [
    "Wir leiten zuerst eine neue Version des Descent-Lemmas her.\n",
    "Dazu starten wir mit der $L$-Glattheit von $f$\n",
    "  \\begin{equation*} \n",
    "  f_{t+1} \\leq f_{t}+f_{t}^{\\prime}(x_{t+1}-x_{t})+\\frac{L}{2}\\|x_{t+1}-   x_{t}\\|_{2}^{2}\n",
    "  \\end{equation*}\n",
    "benutzen\n",
    "  \\begin{equation*} \n",
    "  y_{t+1} = x_t - \\gamma f'_t\n",
    "  \\end{equation*}\n",
    "bzw.\n",
    "  \\begin{equation*} \n",
    "  f'_t = \\frac{1}{\\gamma}(x_t - y_{t+1})\n",
    "  \\end{equation*}\n",
    "und erhalten\n",
    "  \\begin{equation*} \n",
    "  f_{t+1} \n",
    "  \\leq f_{t}\n",
    "    - \\frac{1}{\\gamma}\n",
    "    (\\underbrace{y_{t+1} - x_t}_u)^T\n",
    "    (\\underbrace{x_{t+1} - x_t}_v) \n",
    "    + \\frac{L}{2}\\|x_{t+1}-   x_{t}\\|_{2}^{2}.\n",
    "  \\end{equation*}"
   ]
  },
  {
   "cell_type": "markdown",
   "metadata": {
    "hidden": true
   },
   "source": [
    "Wegen $2u^Tv = 2(u,v)_2 = \\|u\\|_2^2 + \\|v\\|_2^2 - \\|u-v\\|_2^2$ folgt\n",
    "  \\begin{align*}\n",
    "  f_{t+1} \n",
    "  & \\leq f_{t}\n",
    "    - \\frac{1}{2 \\gamma}\n",
    "    \\big(\n",
    "    \\|y_{t+1}-x_{t}\\|_{2}^{2}\n",
    "    + \\|x_{t+1}-x_{t}\\|_{2}^{2}\n",
    "    - \\|y_{t+1}-x_{t+1}\\|_{2}^{2}\n",
    "    \\big)      \n",
    "    +\\frac{L}{2}\\|x_{t+1}-x_{t}\\|_{2}^{2} \\\\\n",
    "  &= f_{t}\n",
    "      -\\frac{1}{2 \\gamma}\n",
    "      \\big(\n",
    "      \\gamma^{2}\\|f_{t}^{\\prime}\\|_{2}^{2}\n",
    "      +\\|x_{t+1}-x_{t}\\|_{2}^{2}\n",
    "      -\\|y_{t+1}-x_{t+1}\\|_{2}^{2}\n",
    "      \\big) \n",
    "      +\\frac{L}{2}\\|x_{t+1}-x_{t}\\|_{2}^{2} \\\\\n",
    "  &= f_{t}\n",
    "      -\\frac{\\gamma}{2}\\|f'_{t}\\|_{2}^{2} \n",
    "      +\\frac{1}{2 \\gamma}\\|y_{t+1}-x_{t+1}\\|_{2}^{2} \n",
    "      +\\frac{1}{2}\\big(L-\\frac{1}{\\gamma}\\big)\\|x_{t+1}-x_{t}\\|_{2}^{2}.\n",
    "  \\end{align*}\n",
    "  \n",
    "Für $0<\\gamma \\leq \\frac{1}{L}$ ist $L-\\frac{1}{\\gamma}\\leq 0$ und wir erhalten das folgende Ergebnis.\n",
    "\n",
    "\n",
    "**Descent-Lemma:** Ist $f:\\mathbb{R}^d\\to \\mathbb{R}$ $L$-glatt und\n",
    "  $0 < \\gamma \\leq \\frac{1}{L}$, dann gilt für Projected-Gradient-Descent\n",
    "  \\begin{equation*} \n",
    "  f_{t+1} \n",
    "  \\leq\n",
    "  f_{t}\n",
    "      -\\frac{\\gamma}{2}\\|f'_{t}\\|_{2}^{2} \n",
    "      +\\frac{1}{2 \\gamma}\\|y_{t+1}-x_{t+1}\\|_{2}^{2} .\n",
    "  \\end{equation*}"
   ]
  },
  {
   "cell_type": "markdown",
   "metadata": {
    "hidden": true
   },
   "source": [
    "**Bemerkung:**\n",
    "\n",
    "- bei Gradient-Descent war\n",
    "    \\begin{equation*} \n",
    "    f_{t+1} \n",
    "    \\leq f_{t}-\\beta\\|f_{t}^{\\prime}\\|_2^{2},\n",
    "    \\quad\n",
    "    \\beta = \\gamma\\big(1-\\frac{\\gamma L}{2}\\big),\n",
    "    \\end{equation*}\n",
    "  so dass die $f_t$ bei $0<\\gamma < 2/L$ monoton fallend waren\n",
    "    \n",
    "- bei Projected-Gradient-Descent haben wir auf der rechten Seite den\n",
    "  nicht-negativen Zusatzterm\n",
    "    \\begin{equation*} \n",
    "    \\frac{1}{2 \\gamma}\\|y_{t+1}-x_{t+1}\\|_{2}^{2}, \n",
    "    \\end{equation*}\n",
    "  so dass wir zunächst nichts über die Monotonie der $f_t$ aussagen können\n",
    "    \n",
    "- man kann aber trotzdem zeigen, dass die $f_t$ auch hier \n",
    "  (wenn $\\gamma$ kurz genug ist) monoton fallen (Übung)"
   ]
  },
  {
   "cell_type": "markdown",
   "metadata": {
    "hidden": true
   },
   "source": [
    "Aus den Vorüberlegungen wissen wir ($f$ konvex)\n",
    "  \\begin{align*}\n",
    "  0  \\leq f_t - f_\\ast\n",
    "  & \\leq f'_t(x_t - x_\\ast)\\\\\n",
    "  & = \\frac{1}{2 \\gamma}(\\gamma^{2}\\|f_{t}^{\\prime}\\|_{2}^{2}\n",
    "  +\\|x_{t}-x_{*}\\|_{2}^{2}-\\|y_{t+1}-x_{*}\\|_{2}^{2}).\n",
    "  \\end{align*}\n",
    "\n",
    "Laut Descent-Lemma ist\n",
    "  \\begin{equation*} \n",
    "  \\|f'_{t}\\|_{2}^{2} \n",
    "  \\leq \\frac{2}{\\gamma}\n",
    "  \\big(\n",
    "  f_{t} - f_{t+1} \n",
    "      +\\frac{1}{2 \\gamma}\\|y_{t+1}-x_{t+1}\\|_{2}^{2}\n",
    "  \\big)\n",
    "  \\end{equation*}\n",
    "und oben eingesetzt folgt\n",
    "  \\begin{equation*} \n",
    "  f_t - f_\\ast\n",
    "  \\leq \n",
    "  f_{t} - f_{t+1} \n",
    "  +\\frac{1}{2 \\gamma}\n",
    "  \\big(\n",
    "  \\|y_{t+1}-x_{t+1}\\|_{2}^{2} + \\|x_{t}-x_{*}\\|_{2}^{2}-\\|y_{t+1}-x_{*}\\|_{2}^{2}\n",
    "  \\big).\n",
    "  \\end{equation*}\n",
    "  \n",
    "Wegen der Eigenschaft\n",
    "  \\begin{equation*} \n",
    "  \\|x - \\Pi(y)\\|^2 + \\|y - \\Pi(y) \\|^2 \\leq \\|y-x\\|^2 \n",
    "  \\quad \\forall x\\in X, \\ \\forall y\\in V\\end{equation*}\n",
    "der Projektion $\\Pi$ und $x_\\ast \\in X$ folgt\n",
    "mit $y = y_{t+1}$, $x=x_\\ast$\n",
    "  \\begin{align*}\n",
    "  \\|y_{t+1}-x_{t+1}\\|_{2}^2\n",
    "  &= \\|y_{t+1} - \\Pi(y_{t+1})\\|_2^2 \\\\\n",
    "  &\\leq \\|y_{t+1} - x_\\ast\\|_2^2  - \\|x_\\ast - \\Pi(y_{t+1})\\|_2^2 \\\\\n",
    "  &  =  \\|y_{t+1} - x_\\ast\\|_2^2  - \\|x_{t+1} - x_\\ast\\|_2^2 \n",
    "  \\end{align*}\n",
    "so dass\n",
    "  \\begin{equation*} \n",
    "  f_t - f_\\ast\n",
    "  \\leq \n",
    "  f_{t} - f_{t+1} \n",
    "  +\\frac{1}{2 \\gamma}\n",
    "  \\big(\n",
    "  \\|x_{t}-x_{*}\\|_{2}^{2}-\\|x_{t+1}-x_{*}\\|_{2}^{2}\n",
    "  \\big).\n",
    "  \\end{equation*}\n",
    "\n",
    "Durch Summation erhalten wir\n",
    "  \\begin{equation*} \n",
    "  \\sum_{t=0}^{T-1}(f_t - f_\\ast)\n",
    "  \\leq\n",
    "  f_0 - f_T   \n",
    "  +\\frac{1}{2 \\gamma}\n",
    "  \\big(\n",
    "  \\|x_{0}-x_{*}\\|_{2}^{2}-\\|x_{T}-x_{*}\\|_{2}^{2}\n",
    "  \\big).\n",
    "  \\end{equation*}\n",
    "  \n",
    "Benutzen wir jetzt noch\n",
    "  \\begin{equation*} \n",
    "  f_0 - f_T = (f_0 - f_\\ast) - (f_T - f_\\ast),\n",
    "  \\quad\n",
    "  \\|x_{T}-x_{*}\\|_{2}^{2} \\geq 0,\n",
    "  \\end{equation*}\n",
    "dann ist\n",
    "  \\begin{equation*} \n",
    "  \\sum_{t=1}^{T}(f_t - f_\\ast)\n",
    "  \\leq \\frac{1}{2 \\gamma} \\|x_{0}-x_{*}\\|_{2}^{2}.\n",
    "  \\end{equation*}  \n",
    "  \n",
    "Nach dem Descent-Lemma und der daran anschließenden Bemerkung gilt\n",
    "  $f_{t+1} \\leq f_t$ und somit\n",
    "  \\begin{equation*} \n",
    "  f_T - f_\\ast\n",
    "  \\leq\\frac{1}{T}\\sum_{t=1}^{T}(f_t - f_\\ast)\n",
    "  \\leq \\frac{1}{2 \\gamma T} \\|x_{0}-x_{*}\\|_{2}^{2}.\n",
    "  \\end{equation*}"
   ]
  },
  {
   "cell_type": "markdown",
   "metadata": {
    "hidden": true
   },
   "source": [
    "**Satz:** $f:\\mathbb{R}^d\\to \\mathbb{R}$, konvex, $L$-glatt mit Konstante $L$\n",
    "  und es existiere $x_\\ast = \\mathrm{argmin}_{x\\in X}f(x)$. \n",
    "Ist  $0 < \\gamma \\leq \\frac{1}{L}$ dann gilt für Projected-Gradient-Descent\n",
    "  \\begin{equation*} \n",
    "  f_{T}-f_\\ast \n",
    "  \\leq \\frac{1}{2 \\gamma T} \\|x_{0}-x_{*}\\|_{2}^{2}\n",
    "  = \\mathcal{O}\\big( \\frac{1}{T} \\big)\n",
    "  \\quad \\text{für}\\quad  T\\to\\infty .\n",
    "  \\end{equation*}"
   ]
  },
  {
   "cell_type": "markdown",
   "metadata": {
    "hidden": true
   },
   "source": [
    "### $\\mu$-Konvexität"
   ]
  },
  {
   "cell_type": "markdown",
   "metadata": {
    "hidden": true
   },
   "source": [
    "Ist $f$ $\\mu$-konvex mit $\\mu\\geq 0$, dann gilt\n",
    "  \\begin{equation*} \n",
    "  f_\\ast \\geq f_t + f'_t(x_\\ast-x_t) + \\frac{\\mu}{2} \\|x_\\ast-x_t\\|_2^2\n",
    "  \\end{equation*}\n",
    "bzw.\n",
    "  \\begin{equation*} \n",
    "  f_t - f_\\ast \\leq f'_t(x_t - x_\\ast)   - \\frac{\\mu}{2} \\|x_t - x_\\ast\\|_2^2.\n",
    "  \\end{equation*}\n",
    "Aus den Vorüberlegungen wissen wir\n",
    "  \\begin{equation*} \n",
    "  f'_{t}\\left(x_{t}-x_{*}\\right) \n",
    "  =\\frac{1}{2 \\gamma}\\left(\\gamma^{2}\\left\\|f_{t}^{\\prime}\\right\\|_{2}^{2}\n",
    "  +\\left\\|x_{t}-x_{*}\\right\\|_{2}^{2}-\\left\\|y_{t+1}-x_{*}\\right\\|_{2}^{2}\\right).\n",
    "  \\end{equation*}\n",
    "Wegen\n",
    "  \\begin{equation*} \n",
    "  \\|x - \\Pi(y)\\|^2 + \\|y - \\Pi(y)\\|^2 \\leq \\|x - y\\|^2\n",
    "  \\quad\n",
    "  \\forall x\\in X\n",
    "  \\quad \n",
    "  \\forall y\\in V\n",
    "  \\end{equation*}\n",
    "folgt mit $y = y_{t+1}$, $x=x_\\ast$, $\\Pi(y_{t+1})=x_{t+1}$\n",
    "  \\begin{equation*} \n",
    "  \\|x_\\ast - x_{t+1}\\|_{2}^2 + \\|y_{t+1} - x_{t+1}\\|_{2}^2\n",
    "  \\leq  \\|x_\\ast -  y_{t+1}\\|_{2}^2,\n",
    "  \\end{equation*}\n",
    "also\n",
    "  \\begin{equation*} \n",
    "  - \\|y_{t+1} - x_\\ast\\|_{2}^2 \n",
    "  \\leq - \\|x_{t+1} - x_\\ast\\|_{2}^2 - \\|y_{t+1} - x_{t+1}\\|_{2}^2.\n",
    "  \\end{equation*}"
   ]
  },
  {
   "cell_type": "markdown",
   "metadata": {
    "hidden": true
   },
   "source": [
    "Oben eingesetzt erhalten wir nun\n",
    "  \\begin{align*}\n",
    "  f_t - f_\\ast \n",
    "  &\\leq f'_t(x_t - x_\\ast) - \\frac{\\mu}{2} \\|x_t - x_\\ast\\|_2^2\\\\\n",
    "  &\\leq \\frac{1}{2 \\gamma}\n",
    "    \\big(\n",
    "    \\gamma^{2} \\|f'_{t}\\|_{2}^{2}  \n",
    "    + \\|x_{t}-x_{*}\\|_{2}^{2}\n",
    "    - \\|x_{t+1}-x_{*}\\|_{2}^{2}\n",
    "    - \\|y_{t+1} - x_{t+1}\\|_{2}^2\n",
    "    \\big)\n",
    "    \\\\\n",
    "    &\\quad - \\frac{\\mu}{2} \\|x_t - x_\\ast\\|_2^2,\n",
    "  \\end{align*}\n",
    "also\n",
    "  \\begin{align*} \n",
    "  2\\gamma (f_t - f_\\ast)\n",
    "  & \\leq\n",
    "  \\gamma^{2} \\|f'_{t}\\|_{2}^{2}  \n",
    "    + (1-\\gamma\\mu)\\|x_{t}-x_{*}\\|_{2}^{2}\n",
    "    \\\\\n",
    "    &\\quad\n",
    "    - \\|x_{t+1}-x_{*}\\|_{2}^{2}\n",
    "    - \\|y_{t+1} - x_{t+1}\\|_{2}^2\n",
    "  \\end{align*}\n",
    "bzw.\n",
    "  \\begin{align*} \n",
    "  \\|x_{t+1}-x_{*}\\|_{2}^{2}\n",
    "  &\\leq\n",
    "  2\\gamma (f_\\ast - f_t)\n",
    "  + \\gamma^{2} \\|f'_{t}\\|_{2}^{2}\n",
    "  - \\|y_{t+1} - x_{t+1}\\|_{2}^2\n",
    "  \\\\\n",
    "  &\\quad\n",
    "  + (1-\\gamma\\mu)\\|x_{t}-x_{*}\\|_{2}^{2}.\n",
    "  \\end{align*}"
   ]
  },
  {
   "cell_type": "markdown",
   "metadata": {
    "hidden": true
   },
   "source": [
    "Die ersten drei Terme auf der rechten Seite schätzen wir wieder mit dem Descent-Lemma ab.\n",
    "Wegen\n",
    "  \\begin{equation*} \n",
    "  f_{t+1} \n",
    "  \\leq\n",
    "  f_{t}\n",
    "      -\\frac{\\gamma}{2}\\|f'_{t}\\|_{2}^{2} \n",
    "      +\\frac{1}{2 \\gamma}\\|y_{t+1}-x_{t+1}\\|_{2}^{2} \n",
    "  \\end{equation*}\n",
    "ist\n",
    "  \\begin{equation*} \n",
    "  f_\\ast - f_t\n",
    "  \\leq\n",
    "  f_{t+1} - f_t\n",
    "  \\leq\n",
    "  -\\frac{\\gamma}{2}\\|f'_{t}\\|_{2}^{2} \n",
    "      +\\frac{1}{2 \\gamma}\\|y_{t+1}-x_{t+1}\\|_{2}^{2} \n",
    "  \\end{equation*}\n",
    "und somit\n",
    "  \\begin{equation*} \n",
    "  \\|x_{t+1}-x_{*}\\|_{2}^{2}\n",
    "  \\leq (1-\\gamma\\mu)\\|x_{t}-x_{*}\\|_{2}^{2}.\n",
    "  \\end{equation*}\n",
    "  \n",
    "Analog zu Gradient-Descent haben wir damit folgendes Ergebnis gezeigt.\n",
    "\n",
    "\n",
    "**Satz:** $f:\\mathbb{R}^d\\to \\mathbb{R}$, $\\mu$-konvex mit $\\mu>0$, $L$-glatt \n",
    "mit Konstante $L$ und es existiere $x_\\ast = \\mathrm{argmin}_{x\\in X}f(x)$.\n",
    "Für  $0 < \\gamma \\leq \\frac{1}{L}$ folgt\n",
    "  \\begin{equation*} \n",
    "  \\|x_{t+1}-x_{*}\\|_{2}^2 \\leq \\rho \\|x_{t}-x_{*}\\|_{2}^2\n",
    "  \\end{equation*}\n",
    "und\n",
    "  \\begin{equation*} \n",
    "  f_T - f_\\ast \\leq \\frac{L}{2} \\rho^T \\|x_{0}-x_{*}\\|_{2}^2\n",
    "  \\end{equation*}\n",
    "mit\n",
    "  \\begin{equation*} \n",
    "  \\rho = 1-\\gamma\\mu \\in [0,1) .\n",
    "  \\end{equation*}"
   ]
  },
  {
   "cell_type": "markdown",
   "metadata": {},
   "source": [
    "## Projektionsoperatoren"
   ]
  },
  {
   "cell_type": "markdown",
   "metadata": {},
   "source": [
    "In den vorherigen Abschnitten haben wir gesehen, dass wir für Projected-Gradient-Descent\n",
    "exakt die selben asymptotischen Resultate erhalten wie bei gewöhnlichem Gradient-Descent.\n",
    "Das sieht zunächst sehr angenehm aus,\n",
    "für den praktischen Einsatz muss man allerdings bedenken, dass in jedem\n",
    "Schritt eine Projektion\n",
    "  \\begin{equation*} \n",
    "  x_{t+1} = \\Pi_X(y_{t+1}),\n",
    "  \\quad \\Pi_X(x) = \\mathrm{argmin}_{z\\in X}\\|z - x\\|\n",
    "  \\end{equation*}\n",
    "auf die abgeschlossene, konvexe Menge $X$ zu berechnen ist.\n",
    "  \n",
    "Das Berechnen von $\\Pi(x)$ ist also selbst ein restringiertes konvexes\n",
    "  Optimierungsproblem mit einer  \"einfachen\" konvexen Zielfunktion\n",
    "  $x\\to\\|z - x\\|$.\n",
    "Für allgemeine abgeschlossene und konvexe Menge $X$ kann die Lösung\n",
    "  dieses Problems extrem schwierig werden, für spezielle $X$, die in der Praxis häufig auftauchen, kann\n",
    "  man $\\Pi_X$ dagegen explizit angeben.\n",
    "  \n",
    "Wir untersuchen einige $X\\subset \\mathbb{R}^d$ nun genauer. \n",
    "Dabei betrachten wir jeweils Projektionen bezüglich des euklidischen\n",
    "Skalarprodukts $(\\cdot,\\cdot)_2$."
   ]
  },
  {
   "cell_type": "markdown",
   "metadata": {},
   "source": [
    "### Kugel in der 2-Norm"
   ]
  },
  {
   "cell_type": "markdown",
   "metadata": {},
   "source": [
    "- wir betrachten\n",
    "\\begin{equation*} \n",
    "X \n",
    "= \\bar{B}_r(0)_{\\|\\cdot\\|_2}\n",
    "= \\big\\{ x \\ \\big| \\ x\\in\\mathbb{R}^d,\\ \\|x\\|_2\\leq r \\big\\}\n",
    "\\end{equation*}\n",
    "\n",
    "- $X$ ist offensichtlich konvex und abgeschlossen\n",
    "\n",
    "- die Projektion auf $X$ ist\n",
    "\\begin{equation*} \n",
    "\\Pi_X(x) =\n",
    "\\begin{cases}\n",
    "x & \\|x\\|_2 \\leq  r \\\\\n",
    "\\frac{x}{\\|x\\|_2} r & \\|x\\|_2 > r \n",
    "\\end{cases}\n",
    "\\end{equation*}\n",
    "\n",
    "- mit $\\bar{x} = \\Pi_X(x)$ ist zu zeigen, dass\n",
    "\\begin{equation*} \n",
    "(x - \\bar{x}, z - \\bar{x})_2 \\leq 0 \\quad \\forall z \\in X\n",
    "\\end{equation*}\n",
    "\n",
    "- für $x\\in X$ ist $\\bar{x}=x$, also\n",
    "\\begin{equation*} \n",
    "(x - \\bar{x}, z - \\bar{x})_2 \n",
    "= (x - x, z - x)_2 \n",
    "= 0 \\quad \\forall z \\in X\n",
    "\\end{equation*}\n",
    "\n",
    "- für $x\\notin X$, also $\\|x\\|_2>r$, ist $\\bar{x}=\\frac{x}{\\|x\\|_2} r$ und somit\n",
    "\\begin{align*}\n",
    "(x - \\bar{x}, z - \\bar{x})_2 \n",
    "&   =  \\big( x - \\frac{x}{\\|x\\|_2} r, z - \\frac{x}{\\|x\\|_2} r \\big)_2 \\\\\n",
    "&   =  (x,z)_2 + r^2 - \\big( x , \\frac{x}{\\|x\\|_2} r \\big)_2 - \\big(\\frac{x}{\\|x\\|_2} r , z\\big)_2 \\\\\n",
    "&   =  (x,z)_2 + r^2 - \\|x\\|_2 r - \\frac{r}{\\|x\\|_2} (x, z)_2 \\\\\n",
    "&   =  \\big(\\underbrace{1 - \\frac{r}{\\|x\\|_2}}_{>0}\\big)(x,z)_2 + r^2 - r \\|x\\|_2 \\\\\n",
    "& \\leq \\big(1 - \\frac{r}{\\|x\\|_2}\\big)\\|x\\|_2 \\underbrace{\\|z\\|_2}_{\\leq r} + r^2 - r \\|x\\|_2 \\\\\n",
    "& \\leq r \\|x\\|_2 -  r^2 + r^2 - r \\|x\\|_2\\\\\n",
    "&   =  0\n",
    "\\end{align*}"
   ]
  },
  {
   "cell_type": "markdown",
   "metadata": {},
   "source": [
    "### Nicht negativer Kegel"
   ]
  },
  {
   "cell_type": "markdown",
   "metadata": {},
   "source": [
    "- der Kegel\n",
    "    \\begin{equation*} \n",
    "    X\n",
    "    = \\big\\{ x \\ \\big| \\ x\\in\\mathbb{R}^d,\\ x_i \\geq 0, \\  i=1,\\ldots,d \\big\\}\n",
    "    \\end{equation*}\n",
    "  ist konvex und abgeschlossen\n",
    "\n",
    "- die Projektion auf $X$ ist definiert durch\n",
    "    \\begin{equation*} \n",
    "    \\bar{x} = \\Pi_X(x),\n",
    "    \\quad\n",
    "    \\bar{x}_i\n",
    "    =\n",
    "    \\begin{cases}\n",
    "    x_i & x_i \\geq 0 \\\\\n",
    "     0  & x_i < 0\n",
    "    \\end{cases}\n",
    "    \\end{equation*}\n",
    "\n",
    "- für $z\\in X$ folgt dann\n",
    "    \\begin{align*}\n",
    "    (x - \\bar{x}, z - \\bar{x})_2 \n",
    "    &   =  \\sum_{i=1}^d (x_i - \\bar{x}_i) (z_i - \\bar{x}_i) \\\\\n",
    "    &   =  \\sum_{x_i<0} \\underbrace{x_i}_{<0}\\ \\underbrace{z_i}_{\\geq 0} \\\\\n",
    "    & \\leq  0\n",
    "    \\end{align*}"
   ]
  },
  {
   "cell_type": "markdown",
   "metadata": {},
   "source": [
    "### Kugel in der 1-Norm"
   ]
  },
  {
   "cell_type": "markdown",
   "metadata": {},
   "source": [
    "- wir betrachten\n",
    "  \\begin{equation*} \n",
    "  X_r \n",
    "  = B_r(0)_{\\|\\cdot\\|_1}\n",
    "  = \\big\\{ x \\ \\big| \\ x\\in\\mathbb{R}^d,\\ \\|x\\|_1 = \\sum_{i=1}^d |x_i|\\leq r \\big\\}\n",
    "  \\end{equation*}\n",
    "\n",
    "- $X_r$ ist damit konvex und abgeschlossen und die Projektion $\\Pi$ auf $X_r$ \n",
    "  bezüglich der Norm $\\|\\cdot\\|_2$ ist wohldefiniert:\n",
    "  \\begin{equation*} \n",
    "  \\Pi(v) = \\mathrm{argmin}_{\\|y\\|_1\\leq r} \\|v - y\\|_2\n",
    "  \\end{equation*}"
   ]
  },
  {
   "cell_type": "markdown",
   "metadata": {},
   "source": [
    "- wegen $\\Pi(v) = v$ für $\\|v\\|_1\\leq r$ reicht es, wenn wir ab jetzt Vektoren\n",
    "  \\begin{equation*} \n",
    "  v\\in\\mathbb{R}^d,\n",
    "  \\quad\n",
    "  \\|v\\|_1 > r\n",
    "  \\end{equation*}\n",
    "  betrachten"
   ]
  },
  {
   "cell_type": "markdown",
   "metadata": {},
   "source": [
    "- für diese gilt $\\|\\Pi(v)\\|_1 = r$, d.h. die Projektion liegt auf dem Rand von $X_r$:\n",
    "\n",
    "  - Annahme: $\\|\\Pi(v)\\|_1 < r$\n",
    "  \n",
    "  - wegen $\\|v\\|_1 > r > \\|\\Pi(v)\\|_1$ gilt \n",
    "      \\begin{equation*} \n",
    "      \\lambda = \\frac{r - \\|\\Pi(v)\\|_1}{\\|v\\|_1 -\\|\\Pi(v)\\|_1} \\in (0,1)\n",
    "      \\end{equation*}  \n",
    "\n",
    "  - für\n",
    "      \\begin{equation*} \n",
    "      x = (1-\\lambda) \\Pi(v) + \\lambda v \n",
    "      \\end{equation*}\n",
    "    erhalten wir\n",
    "      \\begin{align*}\n",
    "      \\|x\\|_1\n",
    "      &\\leq (1-\\lambda) \\|\\Pi(v)\\|_1 + \\lambda \\|v\\|_1 \\\\\n",
    "      & = \\|\\Pi(v)\\|_1 + \\lambda \\big(\\|v\\|_1 -\\|\\Pi(v)\\|_1\\big)\\\\\n",
    "      & = \\|\\Pi(v)\\|_1 + \\frac{r - \\|\\Pi(v)\\|_1}{\\|v\\|_1 -\\|\\Pi(v)\\|_1} \\big(\\|v\\|_1 -\\|\\Pi(v)\\|_1\\big)\\\\\n",
    "      & = r\n",
    "      \\end{align*}\n",
    "  \n",
    "  - andererseits gilt\n",
    "      \\begin{equation*} \n",
    "      x - v = (1-\\lambda)\\big(\\Pi(v)-v\\big), \\quad \\lambda\\in(0,1) \n",
    "      \\end{equation*}\n",
    "    und somit\n",
    "      \\begin{equation*} \n",
    "      \\|x - v\\|_2 = (1-\\lambda) \\|\\Pi(v)-v\\|_2 < \\|\\Pi(v)-v\\|_2,\n",
    "      \\end{equation*}\n",
    "    was ein Widerspruch zu\n",
    "      \\begin{equation*} \n",
    "      \\Pi(v) = \\mathrm{argmin}_{\\|y\\|_1\\leq r} \\|v - y\\|_2\n",
    "      \\end{equation*}\n",
    "    ist"
   ]
  },
  {
   "cell_type": "markdown",
   "metadata": {},
   "source": [
    "- wir werden jetzt die Menge der zu betrachtenden Vektoren $v$ weiter einschränken\n",
    "\n",
    "- ist $L:\\mathbb{R}^d\\to\\mathbb{R}^d$ eine lineare Abbildung mit\n",
    "  \\begin{equation*} \n",
    "  \\|Lw\\|_1 = \\|w\\|_1,\n",
    "  \\quad\n",
    "  \\|Lw\\|_2 = \\|w\\|_2\n",
    "  \\quad \\forall w\\in \\mathbb{R}^d\n",
    "  \\end{equation*}\n",
    "  dann ist $L$ umkehrbar und es gilt für $x = \\Pi(w)$\n",
    "  \\begin{equation*} \n",
    "  Lx = \\Pi(Lw)\n",
    "  \\end{equation*}\n",
    "  bzw.\n",
    "  \\begin{equation*} \n",
    "  x = L^{-1}\\Pi(Lw)\n",
    "  \\end{equation*}  \n",
    "  denn\n",
    "  \\begin{align*}\n",
    "  \\| Lw - Lx\\|_2\n",
    "  &= \\| L(w - x)\\|_2 \\\\\n",
    "  &= \\| w - x\\|_2 \\\\\n",
    "  &= \\min_{\\|y\\|_1\\leq r} \\|w - y\\|_2 \\\\\n",
    "  &= \\min_{\\|y\\|_1\\leq r} \\|Lw - Ly\\|_2 \\\\\n",
    "  &= \\min_{\\|L^{-1}z\\|_1\\leq r} \\|Lw - z\\|_2 \\\\\n",
    "  &= \\min_{\\|z\\|_1\\leq r} \\|Lw - z\\|_2 \\\\\n",
    "  \\end{align*}  "
   ]
  },
  {
   "cell_type": "markdown",
   "metadata": {},
   "source": [
    "- die Abbildung\n",
    "  \\begin{equation*} \n",
    "  Sw = (s_1 w_1,\\ldots,s_d w_d)^T,\n",
    "  \\quad\n",
    "  s_i = \\pm 1\n",
    "  \\end{equation*}\n",
    "  besitzt diese Eigenschaften:\n",
    "  \n",
    "  - für $v\\in\\mathbb{R}^d$,\n",
    "    \\begin{equation*} \n",
    "    s_i = \n",
    "    \\begin{cases}\n",
    "    1  & v_i \\geq 0\\\\\n",
    "    -1 & v_i<0\n",
    "    \\end{cases},\n",
    "    \\end{equation*}\n",
    "    folgt dann\n",
    "    $Sv = (|v_1|,\\ldots,|v_d|)^T=|v|$ (komponentenweise) und\n",
    "    \\begin{equation*} \n",
    "    x = \\Pi(v) = S^{-1}\\Pi(Sv) = S^{-1}\\Pi(|v|),\n",
    "    \\end{equation*}\n",
    "    so dass es genügt, die Projektion für Vektoren $v$ mit $v_i\\geq 0$ zu betrachten"
   ]
  },
  {
   "cell_type": "markdown",
   "metadata": {},
   "source": [
    "- die Abbildung\n",
    "  \\begin{equation*} \n",
    "  Pw = (w_{\\pi(1)},\\ldots,w_{\\pi(d)})^T\n",
    "  \\end{equation*}\n",
    "  wobei $\\pi$ eine beliebige Permutation der Indizes\n",
    "  $1,\\ldots,d$ ist, besitzt ebenfalls die oben beschriebenen Eigenschaften:\n",
    "  \n",
    "  - für $v\\in\\mathbb{R}^d$ betrachten wir jetzt eine Permutation $\\pi$,\n",
    "    die die Komponenten von $v$ absteigend sortiert, also\n",
    "    \\begin{equation*} \n",
    "    v_{\\pi(1)} \\geq v_{\\pi(2)} \\geq \\ldots \\geq v_{\\pi(d)}\n",
    "    \\end{equation*} \n",
    "    und erhalten\n",
    "    \\begin{equation*} \n",
    "    x = \\Pi(v) = P^{-1}\\Pi(Pv),\n",
    "    \\end{equation*}\n",
    "    so dass es genügt, die Projektion für Vektoren $v$ zu betrachten,\n",
    "    deren Komponenten absteigend sortiert sind"
   ]
  },
  {
   "cell_type": "markdown",
   "metadata": {},
   "source": [
    "- wir müssen jetzt also nur noch Vektoren $v\\in \\mathbb{R}^d$ betrachten mit\n",
    "    \\begin{equation*} \n",
    "    \\|v\\|_1 > r,\n",
    "    \\quad\n",
    "    v_1 \\geq v_2 \\geq \\ldots \\geq v_d \\geq 0\n",
    "    \\end{equation*}\n",
    "  und wissen bereits, dass\n",
    "    \\begin{equation*} \n",
    "    \\|\\Pi(v)\\|_1 = r\n",
    "    \\end{equation*}\n",
    "  ist"
   ]
  },
  {
   "cell_type": "markdown",
   "metadata": {},
   "source": [
    "- unter diesen Voraussetzungen gilt für $x = \\Pi(v)$ auch $x_i\\geq 0$:\n",
    "\n",
    "  - Annahme: es existiere ein $x_k<0$\n",
    "  \n",
    "  - mit\n",
    "      \\begin{equation*} \n",
    "      y = (x_1, \\ldots, x_{k-1}, -x_k, x_{k+1},\\ldots, x_d)^T\n",
    "      \\end{equation*}\n",
    "    ist $\\|y\\|_1 = \\|x\\|_1 = r$ und wegen $x_k < 0 \\leq v_k$\n",
    "      \\begin{align*}\n",
    "      \\|v - y\\|_2^2\n",
    "      &= \\sum_{i=1}^d (v_i - y_i)^2 \\\\\n",
    "      &= (v_k + x_k)^2 + \\sum_{i\\neq k} (v_i - x_i)^2 \\\\\n",
    "      &< (v_k - x_k)^2 + \\sum_{i\\neq k} (v_i - x_i)^2 \\\\\n",
    "      &= \\|v - x\\|_2^2\n",
    "      \\end{align*}\n",
    "    was ein Widerspruch zu $x=\\Pi(v)$ ist\n",
    "  \n",
    "  \n",
    "- somit folgt unter diesen Voraussetzungen an $v$\n",
    "  \\begin{align*} \n",
    "  \\Pi(v) \n",
    "  & = \\mathrm{argmin}_{x\\in Y_r}\\|v - x\\|_2,\n",
    "  \\\\\n",
    "  Y_r &= \\Big\\{x \\ \\big| \\ x\\in\\mathbb{R}^d, \\ x_i\\geq 0, \\ i=1,\\ldots,d,\\ \\sum_{i=1}^d x_i = r \\Big\\},\n",
    "  \\end{align*}\n",
    "  wobei $Y_r$ wieder konvex ist"
   ]
  },
  {
   "cell_type": "markdown",
   "metadata": {},
   "source": [
    "- wir zeigen jetzt, dass ein eindeutiger Index $p \\in \\{1,\\ldots,d\\}$ existieren muss\n",
    "  mit $x_i>0$ für $i\\leq p$ und $x_i=0$ für $i>p$:\n",
    "\n",
    "  - $x = \\Pi(v)$ minimiert die konvexe differenzierbare Funktion $f(y) = \\frac{1}{2}\\|y - v\\|_2^2$\n",
    "    über der konvexen Menge $Y_r$, weshalb\n",
    "    \\begin{equation*} \n",
    "    0 \\leq f'(x)(y-x) = (x - v)^T(y-x) \\quad \\forall y\\in Y_r\n",
    "    \\end{equation*}\n",
    "    gelten muss, also\n",
    "    \\begin{equation*} \n",
    "    0 \\leq \\sum_{i=1}^d (x_i - v_i)(y_i-x_i)\\quad \\forall y\\in Y_r\n",
    "    \\end{equation*}\n",
    "    \n",
    "  - nach oben wissen wir, dass $\\|x\\|_1 = r > 0$, $x_i \\geq 0$, $i=1,\\ldots,d$, ist, \n",
    "    d.h. es existiert ein Index $k$ mit $x_k>0$\n",
    "    \n",
    "  - nehmen wir nun an, dass ein Index $j$ existiert mit $x_j=0$ und $x_{j+1} > 0$\n",
    "  \n",
    "  - definieren wir für $\\varepsilon>0$ \n",
    "    \\begin{equation*} \n",
    "    y = (x_1, \\ldots, x_{j-1}, \\varepsilon, x_{j+1} - \\varepsilon, x_{j+2}, \\ldots, x_d)^T\n",
    "    \\end{equation*}\n",
    "    dann ist $y_i \\geq 0$, $i = 1,\\ldots,d$, $\\|y\\|_1 = \\|x\\|_1 = r$, also $y\\in Y_r$, und\n",
    "    \\begin{align*}\n",
    "    \\sum_{i=1}^d (x_i - v_i)(y_i-x_i)\n",
    "    &= (x_j - v_j)(y_j - x_j) + (x_{j+1} - v_{j+1})(y_{j+1} - x_{j+1}) \\\\\n",
    "    &= - v_j\\varepsilon - (x_{j+1} - v_{j+1})\\varepsilon \\\\\n",
    "    &= \\varepsilon (\\underbrace{v_{j+1} - v_j}_{\\leq 0} - \\underbrace{x_{j+1}}_{>0}) \\\\\n",
    "    & < 0\n",
    "    \\end{align*}\n",
    "    was ein Widerspruch zu\n",
    "    \\begin{equation*} \n",
    "    0 \\leq \\sum_{i=1}^d (x_i - v_i)(y_i-x_i)\\quad \\forall y\\in Y_r\n",
    "    \\end{equation*}\n",
    "    ist\n",
    "    \n",
    "  - damit kann der Fall $x_j=0$, $x_{j+1}>0$ nicht auftreten\n",
    "    \n",
    "  - wegen $\\|x\\|_1 = r > 0$ muss $x\\neq 0$ sein, weshalb es einen Index $p$ gibt mit $x_i>0$ für $i\\leq p$ und $x_i = 0$ für $i > p$"
   ]
  },
  {
   "cell_type": "markdown",
   "metadata": {},
   "source": [
    "- für $x = x(p) =\\Pi(v)$ gilt \n",
    "  \\begin{align*} \n",
    "  x_i \n",
    "  & = \n",
    "  \\begin{cases}\n",
    "  v_i - c_p > 0 & i=1,\\ldots,p \\\\\n",
    "  0 & i=p+1,\\ldots,d\n",
    "  \\end{cases},\n",
    "  \\\\\n",
    "  c_p &= \\frac{1}{p}\\big(\\sum_{i=1}^p v_i  - r \\big)\n",
    "  \\end{align*}\n",
    "\n",
    "  - Annahme: es existiere ein Index $j<p$ mit $x_j - v_j \\neq x_{j+1}-v_{j+1}$\n",
    "  \n",
    "    - ohne Einschränkung können wir $x_j - v_j < x_{j+1}-v_{j+1}$ annehmen\n",
    "\n",
    "    - wegen $j<p$ ist $x_j>0$, so dass für $0<\\varepsilon\\leq x_j$ \n",
    "    \\begin{equation*} \n",
    "    y = (x_1, \\ldots, x_{j-1}, x_j - \\varepsilon, \n",
    "         x_{j+1} + \\varepsilon, x_{j+2}, \\ldots, x_d)^T \n",
    "    \\in Y_r\n",
    "    \\end{equation*}\n",
    "\n",
    "    - analog zum letzten Abschnitt erhalten wir\n",
    "    \\begin{align*}\n",
    "    (x - v)^T(y - x)\n",
    "    &= (x_j - v_j)(y_j - x_j) + (x_{j+1} - v_{j+1})(y_{j+1} - x_{j+1}) \\\\\n",
    "    &= (x_j - v_j)\\varepsilon - (x_{j+1} - v_{j+1})\\varepsilon \\\\\n",
    "    & < 0\n",
    "    \\end{align*}\n",
    "    was erneut ein Widerspruch zu\n",
    "    \\begin{equation*} \n",
    "    0 \\leq (x - v)^T(y - x)\\quad \\forall y\\in Y_r\n",
    "    \\end{equation*}\n",
    "    ist\n",
    "    \n",
    "  - damit ist also \n",
    "    \\begin{equation*} \n",
    "    x_i = \n",
    "    \\begin{cases}\n",
    "    v_i - c_p > 0 & i=1,\\ldots,p \\\\\n",
    "    0 & i=p+1,\\ldots,d\n",
    "    \\end{cases}\n",
    "    \\end{equation*}\n",
    "    \n",
    "  - wegen $x\\in Y_r$ gilt \n",
    "   \\begin{align*} \n",
    "   r \n",
    "   &= \\|x\\|_1 \n",
    "   = \\sum_{i=1}^d |x_i| \n",
    "   = \\sum_{i=1}^p x_i\n",
    "   \\\\\n",
    "   &= \\sum_{i=1}^p (v_i - c_p)\n",
    "   \\\\\n",
    "   &= \\big(\\sum_{i=1}^p v_i\\big) - p c_p\n",
    "   \\end{align*}\n",
    "   und somit\n",
    "   \\begin{equation*} \n",
    "   c_p = \\frac{1}{p}\\big(\\sum_{i=1}^p v_i  - r\\big)\n",
    "   \\end{equation*}"
   ]
  },
  {
   "cell_type": "markdown",
   "metadata": {},
   "source": [
    "- zum Schluss muss jetzt noch der Index $p$ bestimmt werden\n",
    "\n",
    "- es gilt $\\Pi(v)=x(p_\\ast)$ für \n",
    "  \\begin{equation*} \n",
    "  p_\\ast = \\mathrm{argmax}_{p\\in\\{1,\\ldots,d\\}}\\{v_p - c_p > 0\\}\n",
    "  \\end{equation*}\n",
    "  \n",
    "  - für jedes $p\\in\\{1,\\ldots,d\\}$ ist\n",
    "    \\begin{align*} \n",
    "    x_i \n",
    "    & = \n",
    "    \\begin{cases}\n",
    "    v_i - c_p > 0 & i=1,\\ldots,p \\\\\n",
    "    0 & i=p+1,\\ldots,d\n",
    "    \\end{cases},\n",
    "    \\\\\n",
    "    c_p \n",
    "    & = \n",
    "    \\frac{1}{p}\\big(\\sum_{i=1}^p v_i  - r \\big)\n",
    "    \\end{align*}\n",
    "    eindeutige Lösung von\n",
    "    \\begin{equation*} \n",
    "    \\mathrm{argmin}_{z\\in Z_p}\\|z - v\\|_2^2\n",
    "    \\end{equation*}\n",
    "    mit\n",
    "    \\begin{equation*} \n",
    "    Z_p = \\big\\{ z \\ \\big | \\ z\\in\\mathbb{R}^d, z_i\\geq 0, \\ z_i = 0 \\ \\forall i>p, \n",
    "                \\ \\|z\\|_1 = \\sum_{i=1}^p z_i = r \\big\\} \\subset Y_r,\n",
    "    \\end{equation*}\n",
    "    denn $Z_p$ ist abgeschlossen und konvex, $f(z) =  \\|z - v\\|_2^2$ ist konvex \n",
    "    und für alle\n",
    "    $z \\in Z_p$ gilt\n",
    "    \\begin{align*} \n",
    "    f'(x)(z - x)\n",
    "    & = (x - v)^T(z - x)\n",
    "    \\\\\n",
    "    & = \\sum_{i=1}^p (x_i - v_i)(z_i - x_i)\n",
    "    \\\\\n",
    "    &= -c_p \\sum_{i=1}^p (z_i - x_i)\n",
    "    \\\\\n",
    "    &= 0\n",
    "    \\end{align*}\n",
    "    \n",
    "  - Annahme: $p < p_\\ast$\n",
    "  \n",
    "    - dann ist\n",
    "     \\begin{align*} \n",
    "     Z_p \\ni x(p) \n",
    "       = \\Pi(v)\n",
    "       & = \\mathrm{argmin}_{y\\in Y_r}\\|y - v\\|_2^2 \n",
    "       \\\\\n",
    "       &= \\mathrm{argmin}_{z\\in Z_p}\\|z - v\\|_2^2\n",
    "     \\end{align*}\n",
    "     bzw.\n",
    "     \\begin{equation*} \n",
    "     Z_{p_\\ast} \\ni x(p_\\ast) \n",
    "       = \\mathrm{argmin}_{z\\in Z_{p_\\ast}}\\|z - v\\|_2^2\n",
    "     \\end{equation*}\n",
    "    - nach Definition ist $Z_p \\subset Z_{p_\\ast} \\subset Y_r$\n",
    "      und alle Mengen sind konvex und abgeschlossen, so dass\n",
    "      alle Minima eindeutig sind\n",
    "      \n",
    "    - somit ist $x(p) = x(p_\\ast)$\n",
    "    \n",
    "    - nach Konstruktion von $x(p), x(p_\\ast)$ gilt wegen $p < p_\\ast$\n",
    "      \\begin{equation*} \n",
    "      x(p)_{p+1} = 0,\n",
    "      \\quad\n",
    "      x(p_\\ast)_{p+1} \\ne 0,\n",
    "      \\end{equation*}\n",
    "      was zu einem Widerspruch führt"
   ]
  },
  {
   "cell_type": "markdown",
   "metadata": {},
   "source": [
    "- zusammengefasst erhalten wir damit folgenden Algorithmus zur Berechnung von $x = \\Pi(v)$:\n",
    "\n",
    "  - $v\\in\\mathbb{R}^d$ gegeben\n",
    "  \n",
    "  - ist $\\|v\\|_1 \\leq r$ dann ist $x = v$\n",
    "  \n",
    "  - $\\|v\\|_1 > r$:\n",
    "  \n",
    "    - setze\n",
    "      \\begin{equation*} \n",
    "      w = PSv,\n",
    "      \\end{equation*}\n",
    "      d.h. $w$ enthält die Beträge der Komponenten von $v$ absteigend sortiert\n",
    "    \n",
    "    - bestimme\n",
    "      \\begin{align*} \n",
    "      p_\\ast = \\mathrm{argmax}_{p\\in\\{1,\\ldots,d\\}}\n",
    "      \\big\\{\n",
    "      w_p - \\frac{1}{p}\\big(\\sum_{i=1}^p w_i  - r\\big) > 0\n",
    "      \\big\\}\n",
    "      \\end{align*}\n",
    "      \n",
    "    - berechne $y$ als\n",
    "      \\begin{align*} \n",
    "      y_i \n",
    "      &= \n",
    "      \\begin{cases}\n",
    "      w_i - c_{p_\\ast} > 0 & i=1,\\ldots,p_\\ast \\\\\n",
    "      0 & i=p_\\ast+1,\\ldots,d\n",
    "      \\end{cases},\n",
    "      \\\\\n",
    "      c_p \n",
    "      &= \\frac{1}{p_\\ast}\\big(\\sum_{i=1}^{p_\\ast} w_i  - r \\big)\n",
    "      \\end{align*}\n",
    "      \n",
    "    - damit folgt\n",
    "      \\begin{equation*} \n",
    "      x = S^{-1}P^{-1}y\n",
    "      \\end{equation*}"
   ]
  },
  {
   "cell_type": "markdown",
   "metadata": {},
   "source": [
    "- eine Anwendung in $\\mathbb{R}^2$ bzw. $\\mathbb{R}^3$ liefert folgende Resultate"
   ]
  },
  {
   "cell_type": "code",
   "execution_count": 1,
   "metadata": {
    "code_folding": [
     6,
     36
    ],
    "execution": {
     "iopub.execute_input": "2021-09-24T09:33:38.987272Z",
     "iopub.status.busy": "2021-09-24T09:33:38.981259Z",
     "iopub.status.idle": "2021-09-24T09:33:39.869435Z",
     "shell.execute_reply": "2021-09-24T09:33:39.869704Z"
    },
    "tags": [
     "hide-input"
    ]
   },
   "outputs": [
    {
     "data": {
      "image/png": "[encoded data removed]",
      "text/plain": [
       "<Figure size 360x360 with 1 Axes>"
      ]
     },
     "metadata": {},
     "output_type": "display_data"
    }
   ],
   "source": [
    "%matplotlib inline\n",
    "\n",
    "import numpy as np\n",
    "import matplotlib.pyplot as plt\n",
    "\n",
    "def l1pro(v, r = 1.0):\n",
    "    # Projektion auf L1-Kugel mit Radius r bzgl. eukl. Skalarpr.\n",
    "    \n",
    "    if np.linalg.norm(v, ord=1) > r:\n",
    "        d = v.shape[0]\n",
    "\n",
    "        # S, Vorzeichen merken fuer S_inv\n",
    "        s = np.ones(v.shape)\n",
    "        s[v < 0] = -1\n",
    "\n",
    "        # PS anwenden\n",
    "        w  = s * v\n",
    "        ii = w.argsort()[::-1]\n",
    "        w  = w[ii]\n",
    "\n",
    "        # Projektion\n",
    "        p  = np.arange(d) + 1\n",
    "        cp = (w.cumsum() - r)/p\n",
    "        u  = w - cp\n",
    "        jj = np.where(u > 0)[0].max()\n",
    "\n",
    "        ps  = p[jj]\n",
    "        cps = cp[jj]\n",
    "\n",
    "        y = np.zeros(v.shape)\n",
    "        y[:ps] = w[:ps] - cps\n",
    "\n",
    "        # P_inv und S_inv anwenden\n",
    "        x = np.zeros(y.shape)\n",
    "        # P_inv\n",
    "        x[ii] = y\n",
    "        # S_inv = S\n",
    "        x = s*x\n",
    "    else:\n",
    "        x = v\n",
    "        \n",
    "    return x\n",
    "\n",
    "\n",
    "np.random.seed(17)\n",
    "plt.figure(figsize=(5,5))\n",
    "\n",
    "d = 2\n",
    "n = 500\n",
    "l = 1.0\n",
    "r = 2.0\n",
    "\n",
    "for k in range(n):\n",
    "    w = np.random.randn(d)\n",
    "    w = w/np.linalg.norm(w)*(l+r)\n",
    "    \n",
    "    x = l1pro(w, r)\n",
    "\n",
    "    plt.plot(*w, 'b.', markersize = 1)\n",
    "    plt.plot(*np.c_[x, w], 'b', alpha = 0.05)\n",
    "    plt.plot(*x, 'r.', markersize = 1)\n",
    "\n",
    "plt.axis('equal')\n",
    "plt.gca().set_xticks([])\n",
    "plt.gca().set_yticks([]);"
   ]
  },
  {
   "cell_type": "code",
   "execution_count": 2,
   "metadata": {
    "execution": {
     "iopub.execute_input": "2021-09-24T09:33:39.882533Z",
     "iopub.status.busy": "2021-09-24T09:33:39.880738Z",
     "iopub.status.idle": "2021-09-24T09:33:44.604865Z",
     "shell.execute_reply": "2021-09-24T09:33:44.605113Z"
    },
    "tags": [
     "hide-input"
    ]
   },
   "outputs": [
    {
     "data": {
      "image/png": "[encoded data removed]",
      "text/plain": [
       "<Figure size 576x576 with 1 Axes>"
      ]
     },
     "metadata": {},
     "output_type": "display_data"
    }
   ],
   "source": [
    "#%matplotlib notebook\n",
    "%matplotlib inline\n",
    "\n",
    "plt.figure(figsize=(8,8))\n",
    "plt.axes(projection='3d')\n",
    "ax = plt.gca()\n",
    "\n",
    "np.random.seed(17)\n",
    "\n",
    "d = 3\n",
    "n = 1000\n",
    "l = 1.0\n",
    "r = 2.0\n",
    "\n",
    "for k in range(n):\n",
    "    w = np.random.randn(d)\n",
    "    w = w/np.linalg.norm(w)*(l + r)\n",
    "    \n",
    "    x = l1pro(w, r)\n",
    "    \n",
    "    ax.plot(*w, 'b.', markersize = 1)\n",
    "    ax.plot(*np.c_[x, w], 'b', alpha = 0.05)\n",
    "    ax.plot(*x, 'r.', markersize = 1)\n",
    "\n",
    "#plt.axis('equal')\n",
    "lr = l + r\n",
    "\n",
    "ax.set_xlim(-lr, lr)\n",
    "ax.set_ylim(-lr, lr)\n",
    "ax.set_zlim(-lr, lr)\n",
    "ax.set_xticks([])\n",
    "ax.set_yticks([])\n",
    "ax.set_zticks([]);"
   ]
  },
  {
   "cell_type": "markdown",
   "metadata": {},
   "source": [
    "## Beispiel Tomographie"
   ]
  },
  {
   "cell_type": "markdown",
   "metadata": {},
   "source": [
    "Bei den Regularisierungsverfahren hatten wir für unser Tomographieproblem unter anderem die Lasso-Methode kennen gelernt.\n",
    "Dort bestimmt man\n",
    "\\begin{equation*} \n",
    "\\mathrm{argmin}_{w\\in\\mathbb{R}^n}\\frac{1}{2m}\\| X w - y\\|_2^2 + \\alpha \\|w\\|_1,\n",
    "\\end{equation*}\n",
    "wobei $\\alpha > 0$ ein vom Benutzer zu wählender Regularisierungsparameter ist.\n",
    "\n",
    "Dieses nicht restringierte Problem kann in das\n",
    "restringierte Problem\n",
    "\\begin{equation*} \n",
    "\\mathrm{argmin}_{\\|w\\|_1 \\leq r}\\frac{1}{2m}\\| X w - y\\|_2^2 \n",
    "\\end{equation*}\n",
    "überführt werden, wobei die Rolle des Regularisierungsparameters\n",
    "$\\alpha$ jetzt von $r$ übernommen wird:\n",
    "\n",
    "- für $r\\to\\infty$ ist $\\|w\\|_1 \\leq r$ immer weniger\n",
    "  einschränkend, man \"regularisiert\" immer weniger,\n",
    "  was $\\alpha\\to 0$ entspricht\n",
    "  \n",
    "- für $r\\to 0$ bleibt nur $w = 0$ als Lösung, d.h.\n",
    "  man \"regularisiert\" maximal,\n",
    "  was $\\alpha\\to \\infty$ entspricht\n",
    "  \n",
    "Auf das restringierte Problem wenden wir Projected-Gradient-Descent\n",
    "an und benutzen dabei die Projektion auf $B_r(0)_{\\|\\cdot\\|_1}$\n",
    "aus dem letzten Abschnitt."
   ]
  },
  {
   "cell_type": "markdown",
   "metadata": {},
   "source": [
    "Zum Vergleich berechnen wir\n",
    "zunächst eine Rekonstruktion ohne Regularisierung."
   ]
  },
  {
   "cell_type": "code",
   "execution_count": 3,
   "metadata": {
    "execution": {
     "iopub.execute_input": "2021-09-24T09:33:44.609834Z",
     "iopub.status.busy": "2021-09-24T09:33:44.609486Z",
     "iopub.status.idle": "2021-09-24T09:33:46.200470Z",
     "shell.execute_reply": "2021-09-24T09:33:46.199943Z"
    },
    "tags": [
     "hide-input"
    ]
   },
   "outputs": [
    {
     "data": {
      "image/png": "[encoded data removed]",
      "text/plain": [
       "<Figure size 432x288 with 1 Axes>"
      ]
     },
     "metadata": {
      "needs_background": "light"
     },
     "output_type": "display_data"
    }
   ],
   "source": [
    "%matplotlib inline\n",
    "\n",
    "np.random.seed(17)\n",
    "\n",
    "from DatenNotebooks.xrtomo12 import *\n",
    "\n",
    "def plotReko(b):\n",
    "    n = int(np.sqrt(b.shape[0]))\n",
    "    \n",
    "    plt.pcolor(b.reshape(n,n))\n",
    "    plt.axis('equal')\n",
    "    plt.axis('off')\n",
    "    \n",
    "    \n",
    "from sklearn import linear_model    \n",
    "X, y, _ = tomo(delta = 0.01)\n",
    "\n",
    "modell = linear_model.LinearRegression(fit_intercept = False)\n",
    "modell.fit(X, y.ravel())\n",
    "\n",
    "w = modell.coef_\n",
    "plotReko(w)"
   ]
  },
  {
   "cell_type": "markdown",
   "metadata": {},
   "source": [
    "Die Lasso-Implementierung aus Scikit-Learn liefert das folgende Ergebnis."
   ]
  },
  {
   "cell_type": "code",
   "execution_count": 4,
   "metadata": {
    "execution": {
     "iopub.execute_input": "2021-09-24T09:33:46.204713Z",
     "iopub.status.busy": "2021-09-24T09:33:46.204327Z",
     "iopub.status.idle": "2021-09-24T09:33:46.292771Z",
     "shell.execute_reply": "2021-09-24T09:33:46.293066Z"
    },
    "tags": [
     "hide-input"
    ]
   },
   "outputs": [
    {
     "name": "stdout",
     "output_type": "stream",
     "text": [
      "alpha = 9.867860e-06,   ||w||_1 = 20.221146\n"
     ]
    },
    {
     "data": {
      "image/png": "[encoded data removed]",
      "text/plain": [
       "<Figure size 432x288 with 1 Axes>"
      ]
     },
     "metadata": {
      "needs_background": "light"
     },
     "output_type": "display_data"
    }
   ],
   "source": [
    "lassocv = linear_model.LassoCV(fit_intercept = False, cv = 5)\n",
    "\n",
    "lassocv.fit(X, y)\n",
    "\n",
    "w = lassocv.coef_\n",
    "plotReko(w)\n",
    "\n",
    "print('alpha = {:e},   ||w||_1 = {:f}'.format(lassocv.alpha_, np.linalg.norm(w, 1)))"
   ]
  },
  {
   "cell_type": "markdown",
   "metadata": {},
   "source": [
    "Mit Projected Gradient erhalten wir ein sehr ähnliches Resultat."
   ]
  },
  {
   "cell_type": "code",
   "execution_count": 5,
   "metadata": {
    "execution": {
     "iopub.execute_input": "2021-09-24T09:33:46.300045Z",
     "iopub.status.busy": "2021-09-24T09:33:46.299688Z",
     "iopub.status.idle": "2021-09-24T09:33:46.841335Z",
     "shell.execute_reply": "2021-09-24T09:33:46.841830Z"
    },
    "tags": [
     "hide-input"
    ]
   },
   "outputs": [
    {
     "name": "stdout",
     "output_type": "stream",
     "text": [
      "r = 20.000000\n"
     ]
    },
    {
     "data": {
      "image/png": "[encoded data removed]",
      "text/plain": [
       "<Figure size 432x288 with 1 Axes>"
      ]
     },
     "metadata": {
      "needs_background": "light"
     },
     "output_type": "display_data"
    },
    {
     "data": {
      "image/png": "[encoded data removed]",
      "text/plain": [
       "<Figure size 432x288 with 1 Axes>"
      ]
     },
     "metadata": {
      "needs_background": "light"
     },
     "output_type": "display_data"
    }
   ],
   "source": [
    "def l(w):\n",
    "    return 0.5*((X.dot(w) - y)**2).sum()\n",
    "    \n",
    "def l1(w):\n",
    "    return X.T.dot(X.dot(w) - y)\n",
    "\n",
    "def GDp(w0, l1, pro, alpha = 1.0, nit = 10):\n",
    "    w  = w0.copy()\n",
    "    w = pro(w)\n",
    "    \n",
    "    ww = [w]\n",
    "    \n",
    "    for k in range(nit):\n",
    "        w = w - alpha * l1(w)\n",
    "        w = pro(w)\n",
    "        ww.append(w)\n",
    "    \n",
    "    return ww\n",
    "\n",
    "\n",
    "w0 = np.zeros(X.shape[1])\n",
    "\n",
    "r = 20\n",
    "pro1 = lambda w : l1pro(w, r)\n",
    "\n",
    "ww = GDp(w0, l1, pro = pro1, alpha = 0.5, nit = 500)\n",
    "\n",
    "plt.figure()\n",
    "plt.semilogy(list(map(l, ww)))\n",
    "plt.xlabel('$k$')\n",
    "plt.ylabel('$||Xw-y||_2^2$', rotation=0)\n",
    "\n",
    "w = ww[-1]\n",
    "plt.figure()\n",
    "plotReko(w)\n",
    "\n",
    "print('r = {:f}'.format(r))"
   ]
  },
  {
   "cell_type": "markdown",
   "metadata": {},
   "source": [
    "## Zusammenfassung"
   ]
  },
  {
   "cell_type": "markdown",
   "metadata": {},
   "source": [
    "Für Projected-Gradient-Descent bei restringierten Optimierungsproblemen mit \n",
    "  $X\\in\\mathbb{R}^d$ abgeschlossen und konvex haben wir das selbe\n",
    "  Konvergenzverhalten wie im nicht restringierten Fall nachgewiesen:\n",
    "\n",
    "- $f$ konvex und Lipschitz-stetig, $\\gamma = \\frac{c}{\\sqrt{T}}$, $c>0$:\n",
    "    \\begin{equation*} \n",
    "    \\min_{t=0,\\ldots,T-1}(f_t - f_\\ast) \\leq \\varepsilon\n",
    "    \\quad \\Rightarrow\\quad\n",
    "    T = \\mathcal{O}\\big(\\frac{1}{\\varepsilon^2}\\big)\n",
    "    \\end{equation*}\n",
    "    \n",
    "- $f$ konvex und $L$-glatt, $0 < \\gamma < \\frac{2}{L}$:\n",
    "    \\begin{equation*} \n",
    "    f_{T}-f_\\ast \\leq \\varepsilon\n",
    "    \\quad \\Rightarrow\\quad\n",
    "    T =\\mathcal{O}\\big( \\frac{1}{\\varepsilon} \\big)\n",
    "    \\end{equation*}  \n",
    "\n",
    "- $f$ $\\mu$-konvex mit $\\mu>0$ und $L$-glatt, $0 < \\gamma \\leq \\frac{1}{L}$:\n",
    "    \\begin{equation*} \n",
    "    f_{T}-f_\\ast \\leq \\varepsilon\n",
    "    \\quad \\Rightarrow\\quad\n",
    "    T = \\mathcal{O}\\Big( \\log\\big(\\frac{1}{\\varepsilon}\\big) \\Big)\n",
    "    \\end{equation*}\n",
    "    \n",
    "Das Berechnen der Projektion $\\Pi_X$ auf $X\\in\\mathbb{R}^d$ abgeschlossen und konvex\n",
    "  kann extrem aufwendig sein.\n",
    "Für einige spezielle Mengen $X$ die in der Praxis häufig auftreten \n",
    "  lässt sich $\\Pi_X$ einfach berechnen."
   ]
  }
 ],
 "metadata": {
  "hide_input": false,
  "kernelspec": {
   "display_name": "Python 3",
   "language": "python",
   "name": "python3"
  },
  "language_info": {
   "codemirror_mode": {
    "name": "ipython",
    "version": 3
   },
   "file_extension": ".py",
   "mimetype": "text/x-python",
   "name": "python",
   "nbconvert_exporter": "python",
   "pygments_lexer": "ipython3",
   "version": "3.9.6"
  },
  "nbTranslate": {
   "displayLangs": [
    "fr",
    "en"
   ],
   "hotkey": "alt-t",
   "langInMainMenu": false,
   "sourceLang": "en",
   "targetLang": "fr",
   "useGoogleTranslate": true
  }
 },
 "nbformat": 4,
 "nbformat_minor": 4
}
